{
 "cells": [
  {
   "cell_type": "code",
   "execution_count": 1,
   "metadata": {},
   "outputs": [],
   "source": [
    "from scipy import stats \n",
    "import numpy as np \n"
   ]
  },
  {
   "cell_type": "code",
   "execution_count": 2,
   "metadata": {},
   "outputs": [],
   "source": [
    "a = np.array([86, 47, 45, 47, 40, 97, 98, 75, 65, 83])"
   ]
  },
  {
   "cell_type": "code",
   "execution_count": 3,
   "metadata": {},
   "outputs": [
    {
     "data": {
      "text/plain": [
       "68.3"
      ]
     },
     "execution_count": 3,
     "metadata": {},
     "output_type": "execute_result"
    }
   ],
   "source": [
    "## mean\n",
    "a.mean()"
   ]
  },
  {
   "cell_type": "code",
   "execution_count": 4,
   "metadata": {},
   "outputs": [
    {
     "data": {
      "text/plain": [
       "70.0"
      ]
     },
     "execution_count": 4,
     "metadata": {},
     "output_type": "execute_result"
    }
   ],
   "source": [
    "## median\n",
    "np.median(a)"
   ]
  },
  {
   "cell_type": "code",
   "execution_count": 5,
   "metadata": {},
   "outputs": [
    {
     "data": {
      "text/plain": [
       "454.21000000000004"
      ]
     },
     "execution_count": 5,
     "metadata": {},
     "output_type": "execute_result"
    }
   ],
   "source": [
    "## variance \n",
    "## average of squared difference of each datapoint from dataset's mean\n",
    "a.var()"
   ]
  },
  {
   "cell_type": "code",
   "execution_count": 6,
   "metadata": {},
   "outputs": [
    {
     "data": {
      "text/plain": [
       "21.312203077110542"
      ]
     },
     "execution_count": 6,
     "metadata": {},
     "output_type": "execute_result"
    }
   ],
   "source": [
    "## standard deviation \n",
    "## sqrt of variance \n",
    "a.std()"
   ]
  },
  {
   "cell_type": "code",
   "execution_count": 7,
   "metadata": {},
   "outputs": [
    {
     "data": {
      "text/plain": [
       "(504.6777777777778, 22.46503455990615)"
      ]
     },
     "execution_count": 7,
     "metadata": {},
     "output_type": "execute_result"
    }
   ],
   "source": [
    "## std and var \n",
    "## for sample of data not entire population\n",
    "a.var(ddof=1) , a.std(ddof=1)"
   ]
  },
  {
   "cell_type": "code",
   "execution_count": 8,
   "metadata": {},
   "outputs": [
    {
     "data": {
      "text/plain": [
       "ModeResult(mode=array([47]), count=array([2]))"
      ]
     },
     "execution_count": 8,
     "metadata": {},
     "output_type": "execute_result"
    }
   ],
   "source": [
    "## mode\n",
    "stats.mode(a)"
   ]
  },
  {
   "cell_type": "code",
   "execution_count": 9,
   "metadata": {},
   "outputs": [
    {
     "data": {
      "text/plain": [
       "58"
      ]
     },
     "execution_count": 9,
     "metadata": {},
     "output_type": "execute_result"
    }
   ],
   "source": [
    "## range (max - min)\n",
    "np.ptp(a)"
   ]
  },
  {
   "cell_type": "code",
   "execution_count": 10,
   "metadata": {},
   "outputs": [
    {
     "data": {
      "text/plain": [
       "98"
      ]
     },
     "execution_count": 10,
     "metadata": {},
     "output_type": "execute_result"
    }
   ],
   "source": [
    "## percentile \n",
    "## a value ,below which lies given the percentage of data points \n",
    "np.percentile(a,100,interpolation='lower')"
   ]
  },
  {
   "cell_type": "code",
   "execution_count": 11,
   "metadata": {},
   "outputs": [
    {
     "data": {
      "text/plain": [
       "array([47, 65, 83])"
      ]
     },
     "execution_count": 11,
     "metadata": {},
     "output_type": "execute_result"
    }
   ],
   "source": [
    "## Quartiles \n",
    "np.percentile(a,[25,50,75],interpolation='lower')"
   ]
  },
  {
   "cell_type": "code",
   "execution_count": 12,
   "metadata": {},
   "outputs": [
    {
     "data": {
      "text/plain": [
       "36"
      ]
     },
     "execution_count": 12,
     "metadata": {},
     "output_type": "execute_result"
    }
   ],
   "source": [
    "## Inter Quartile Range (IQR) \n",
    "## difference between third quartile Q3 and first quartile Q1\n",
    "\n",
    "stats.iqr(a,rng=(25,75),interpolation=\"lower\")"
   ]
  },
  {
   "cell_type": "markdown",
   "metadata": {},
   "source": [
    "#### skewness\n",
    "- majority of the data present on side of the distribution \n",
    "\n",
    "\n",
    "| type1 | type2 | type3 |\n",
    "| ----- | ----- | ----- |\n",
    "| right skewed | left skewed | unskewed |\n",
    "| positive value | negative value | zero |"
   ]
  },
  {
   "cell_type": "code",
   "execution_count": 13,
   "metadata": {},
   "outputs": [
    {
     "data": {
      "text/plain": [
       "0.04321019390325423"
      ]
     },
     "execution_count": 13,
     "metadata": {},
     "output_type": "execute_result"
    }
   ],
   "source": [
    "## skewed \n",
    "stats.skew(a)"
   ]
  },
  {
   "cell_type": "markdown",
   "metadata": {},
   "source": [
    "#### Kurtosis\n",
    "- indicates how much of data is concentrated around mean or shape of the probability distribution.\n",
    "- default Ficsher definition \n",
    "- can be changed to pearson \n"
   ]
  },
  {
   "cell_type": "code",
   "execution_count": 14,
   "metadata": {},
   "outputs": [
    {
     "data": {
      "text/plain": [
       "-1.5694354898634155"
      ]
     },
     "execution_count": 14,
     "metadata": {},
     "output_type": "execute_result"
    }
   ],
   "source": [
    "## kurtosis\n",
    "stats.kurtosis(a)"
   ]
  },
  {
   "cell_type": "markdown",
   "metadata": {},
   "source": [
    "## Random Sampling \n",
    "\n",
    "- Select Items randomly from population, either with or without replacement.\n",
    "- Random choice "
   ]
  },
  {
   "cell_type": "code",
   "execution_count": 18,
   "metadata": {},
   "outputs": [
    {
     "data": {
      "text/plain": [
       "array([12, 11])"
      ]
     },
     "execution_count": 18,
     "metadata": {},
     "output_type": "execute_result"
    }
   ],
   "source": [
    "## 2 items are selected randomly \n",
    "\n",
    "np.random.choice([12,11,56,23],2,replace=False)"
   ]
  },
  {
   "cell_type": "markdown",
   "metadata": {},
   "source": [
    "## Random Seeding \n",
    "\n",
    "- To get random choice generated but has to be generated everytime has to be same for peer checking or to generate same results. Get same randomly generated sequence everytime if seed value is determined.\n",
    "- <b>SEED</b> is a value sets initial state of random number generator.\n"
   ]
  },
  {
   "cell_type": "code",
   "execution_count": 38,
   "metadata": {},
   "outputs": [
    {
     "data": {
      "text/plain": [
       "0.5434049417909654"
      ]
     },
     "execution_count": 38,
     "metadata": {},
     "output_type": "execute_result"
    }
   ],
   "source": [
    "## It will generate same random number everytime \n",
    "np.random.seed(100)\n",
    "np.random.rand()"
   ]
  },
  {
   "cell_type": "markdown",
   "metadata": {},
   "source": [
    "## Random Variable\n",
    "\n",
    "- A set of all possible outcomes of a random experiment is called <b>SAMPLE SPACE</b>\n",
    "- probability of all outcomes : Probability Distribution\n",
    "- Random Variable maps to one of the outcomes of the sample space"
   ]
  },
  {
   "cell_type": "markdown",
   "metadata": {},
   "source": [
    "## Probability Distributions \n",
    "\n",
    "        Discrete Probability Distribution \n",
    "                    |\n",
    "                    v\n",
    "        Probability Mass Function\n",
    "                    |\n",
    "                    v\n",
    "        Continuous form\n",
    "                    |\n",
    "                    v\n",
    "        Probability Density Function \n",
    "\n",
    "\n",
    "| Distribution Type | Examples |\n",
    "| ----------------- | ----------- |\n",
    "| Discrete Distribution | Binomial, Poisson, Hypergeometric, Multinomial, Negative Binomial |\n",
    "| Continuous Distribution | Normal, Uniform, Chi-Sqaure, F, T |\n"
   ]
  },
  {
   "cell_type": "markdown",
   "metadata": {},
   "source": [
    "## Random Distributions\n",
    "scipy.stats module provide a lot of methods for created discrete and continuous random variables.\n",
    "\n",
    "Commonly used methods are described below.\n",
    "\n",
    "- pdf / pmf : Probability distribution function (continuous) or probability mass function (discrete).\n",
    "- cdf : Cumulative distribution function.\n",
    "- sf : Survival function (1 – cdf).\n",
    "- rvs : Creating random samples from a distribution."
   ]
  },
  {
   "cell_type": "markdown",
   "metadata": {},
   "source": [
    "- The following example defines a normal continuous random variable of mean 1.0 and std 2.5.\n",
    "- It also estimates probabilities and cumulative probabilities at -1, 0 and 1.\n",
    "- The example also generates six random numbers from defined normal distribution."
   ]
  },
  {
   "cell_type": "code",
   "execution_count": 40,
   "metadata": {},
   "outputs": [
    {
     "name": "stdout",
     "output_type": "stream",
     "text": [
      "[0.11587662 0.14730806 0.15957691]\n",
      "[0.2118554  0.34457826 0.5       ]\n",
      "[[ 3.33951992  1.44894578 -0.44290376]\n",
      " [-0.33343178  0.4364947   0.21270166]]\n"
     ]
    }
   ],
   "source": [
    "x = stats.norm(loc=1.0, scale=2.5)\n",
    "\n",
    "print(x.pdf([-1, 0, 1]))\n",
    "\n",
    "print(x.cdf([-1, 0, 1]))\n",
    "\n",
    "print(x.rvs((2,3)))"
   ]
  }
 ],
 "metadata": {
  "kernelspec": {
   "display_name": "Python 3.8.3 64-bit ('anaconda3': conda)",
   "language": "python",
   "name": "python38364bitanaconda3conda5a21e7c9305747559a413d7622491a2e"
  },
  "language_info": {
   "codemirror_mode": {
    "name": "ipython",
    "version": 3
   },
   "file_extension": ".py",
   "mimetype": "text/x-python",
   "name": "python",
   "nbconvert_exporter": "python",
   "pygments_lexer": "ipython3",
   "version": "3.8.3"
  }
 },
 "nbformat": 4,
 "nbformat_minor": 4
}
