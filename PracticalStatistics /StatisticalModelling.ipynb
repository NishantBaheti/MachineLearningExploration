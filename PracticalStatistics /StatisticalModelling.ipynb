{
 "cells": [
  {
   "cell_type": "markdown",
   "metadata": {},
   "source": [
    "## Statistical Model \n",
    "- Mathematical equation which explains the relationship between dependent variable (Y) and independent variable(X).\n",
    "          \n",
    "          Y = f(X)\n",
    "          \n",
    "- Due to uncertainy in result and noise the equation is\n",
    "            \n",
    "          Y = f(X) + e\n",
    "          \n",
    "          \n"
   ]
  },
  {
   "cell_type": "markdown",
   "metadata": {},
   "source": [
    "## Linear Models\n",
    "- Y = θ0 + θ1 * X1 + θ2 * X2 + ... + θn * Xn\n",
    "- Y = θ0 + θ1 * X + θ2 * X^2 + ... + θn * X^n\n",
    "- Y = θ0 + θ1 * sin(X1) + θ2 * cos(X2)"
   ]
  },
  {
   "cell_type": "markdown",
   "metadata": {},
   "source": [
    "## Linear Regression\n",
    "\n",
    "    Y = θ0 + θ1 * X + e\n",
    "\n",
    "    θ0, θ1 = Coefficient \n",
    "    e = normally distributed residual error \n",
    "    \n",
    "- Linear Regression model assumes that residuals are independent and normally distributed\n",
    "- Model is fitted to the data using ordinary least squares approach"
   ]
  },
  {
   "cell_type": "markdown",
   "metadata": {},
   "source": [
    "## Non-Linear Models\n",
    "- Most of the cases, the non-linear models are generalized to linear models\n",
    "- Binomial Regresson, Poisson Regression \n"
   ]
  },
  {
   "cell_type": "markdown",
   "metadata": {},
   "source": [
    "## Design Matrices \n",
    "- Once the model is chosen design metrices are constructed.\n",
    "    Y = XB + e\n",
    "\n",
    "| Variable | Description | \n",
    "| -------- | ----------- |\n",
    "| Y | vector/matrix of dependent variable | \n",
    "| X | vector/matrix of independent variable | \n",
    "| B | vector/matrix of coefficient | \n",
    "| e | residual error | \n"
   ]
  },
  {
   "cell_type": "markdown",
   "metadata": {},
   "source": [
    "## Creating a Model \n",
    "\n",
    "### using statsmodel library\n",
    "- OLS\n",
    "- GLM\n",
    "- ols\n",
    "- glm \n",
    "\n",
    "        Uppercase names take design metrices as args \n",
    "        Lowercase names take Patsy formulas and dataframes as args \n",
    "        \n",
    "## Fitting a Model \n",
    "- fitting method returns a model object for futher methods, attributes and coefficient matrix for analysis\n",
    "\n",
    "## View Model Summary\n",
    "- Describe the fit description of the model in text. \n",
    "\n",
    "<hr>"
   ]
  },
  {
   "cell_type": "markdown",
   "metadata": {},
   "source": [
    "\n",
    "## Construct Design Matrices \n",
    "\n",
    "Y = θ0 + θ1 * X1 + θ2 * X2 + θ3 * X1 * X2"
   ]
  },
  {
   "cell_type": "markdown",
   "metadata": {},
   "source": [
    "## Design Matrix with Numpy"
   ]
  },
  {
   "cell_type": "code",
   "execution_count": 26,
   "metadata": {},
   "outputs": [
    {
     "name": "stdout",
     "output_type": "stream",
     "text": [
      "[[1]\n",
      " [2]\n",
      " [3]\n",
      " [4]\n",
      " [5]]\n",
      "[[  1.   6.  11.  66.]\n",
      " [  1.   7.  12.  84.]\n",
      " [  1.   8.  13. 104.]\n",
      " [  1.   9.  14. 126.]\n",
      " [  1.  10.  15. 150.]]\n"
     ]
    }
   ],
   "source": [
    "import numpy as np \n",
    "\n",
    "Y = np.array([1,2,3,4,5]).reshape(-1,1)\n",
    "\n",
    "x1 = np.array([6,7,8,9,10])\n",
    "x2 = np.array([11,12,13,14,15])\n",
    "\n",
    "X = np.vstack([np.ones(5), x1, x2, x1*x2]).T \n",
    "\n",
    "print(Y)\n",
    "print(X)"
   ]
  },
  {
   "cell_type": "markdown",
   "metadata": {},
   "source": [
    "## Design Matrix with patsy \n",
    "\n",
    "- allows defining a model easily \n",
    "- constructs relevant design matrices (patsy.dmatrices)\n",
    "- takes a formula in string form as arg and a dictionary like object with data arrays for resoponse variables \n",
    "\n"
   ]
  },
  {
   "cell_type": "code",
   "execution_count": 25,
   "metadata": {},
   "outputs": [
    {
     "name": "stdout",
     "output_type": "stream",
     "text": [
      "[[1.]\n",
      " [2.]\n",
      " [3.]\n",
      " [4.]\n",
      " [5.]]\n",
      "[[  1.   6.  11.  66.]\n",
      " [  1.   7.  12.  84.]\n",
      " [  1.   8.  13. 104.]\n",
      " [  1.   9.  14. 126.]\n",
      " [  1.  10.  15. 150.]]\n"
     ]
    }
   ],
   "source": [
    "import patsy \n",
    "\n",
    "y = np.array([1, 2, 3, 4, 5])\n",
    "x1 = np.array([6, 7, 8, 9, 10])\n",
    "x2 = np.array([11, 12, 13, 14, 15])\n",
    "data = {\n",
    "    'Y' : Y,\n",
    "    'x1' : x1,\n",
    "    'x2' : x2,\n",
    "}\n",
    "\n",
    "equation = 'Y ~ 1 + x1 + x2 + x1*x2'\n",
    "\n",
    "Y, X = patsy.dmatrices(equation, data)\n",
    "\n",
    "print(Y)\n",
    "print(X)"
   ]
  },
  {
   "cell_type": "code",
   "execution_count": null,
   "metadata": {},
   "outputs": [],
   "source": []
  }
 ],
 "metadata": {
  "kernelspec": {
   "display_name": "Python 3.8.3 64-bit ('anaconda3': conda)",
   "language": "python",
   "name": "python38364bitanaconda3conda5a21e7c9305747559a413d7622491a2e"
  },
  "language_info": {
   "codemirror_mode": {
    "name": "ipython",
    "version": 3
   },
   "file_extension": ".py",
   "mimetype": "text/x-python",
   "name": "python",
   "nbconvert_exporter": "python",
   "pygments_lexer": "ipython3",
   "version": "3.8.3"
  }
 },
 "nbformat": 4,
 "nbformat_minor": 4
}
