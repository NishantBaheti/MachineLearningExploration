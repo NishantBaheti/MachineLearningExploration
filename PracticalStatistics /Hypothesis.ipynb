{
 "cells": [
  {
   "cell_type": "markdown",
   "metadata": {},
   "source": [
    "## Hypothesis Testing \n",
    "\n",
    "### Null Hypothesis (H0)\n",
    "- To check whether claim is applicable or not \n",
    "- States that there is no significant difference between a set of a variable \n",
    "\n",
    "### Alternate Hypothesis (H1 / Ha)\n",
    "- to challenge currently accepted state of knowledge\n",
    "- More precisely states that there is a significant difference between a set of a variable\n",
    "\n",
    "\n",
    "        Null Hypothesis and Alternate Hypothesis are mutually exclusive\n",
    "        \n",
    "###  Steps for Hypothesis Testing \n",
    "                    Start\n",
    "                     |\n",
    "                     v\n",
    "                    State both Hypothesis\n",
    "                     |\n",
    "                     v\n",
    "                    Formulate analysis plan \n",
    "                     |\n",
    "                     v\n",
    "                    Analyze data (mean, population, z=score)\n",
    "                     |\n",
    "                     v\n",
    "                    Interpret Results (apply decision rules)\n",
    "                     |\n",
    "                     V\n",
    "                    End \n",
    "- Define Hypothesis H0,Ha\n",
    "- Select test statistics whose probability distribution function can be found under the Null Hypothesis\n",
    "- Collect data \n",
    "- Compute test statistics and calculate p-value under null hypothesis\n",
    "- Reject Null Hyppthsis if p-value is lower then predetermined significance value\n",
    "\n",
    "### Types of tests\n",
    "\n",
    "- One tailed : Region of rejection is only on one side of sampling distribution\n",
    "- Two tailed : Region of Rejection is on both sides of sampling distribution\n",
    "\n",
    "### Decision rules \n",
    "- p-value\n",
    "- region of acceptance \n",
    "\n",
    "### Decision Errors \n",
    "\n",
    "| Type 1 Error | Type 2 Error | \n",
    "| ------------ | ------------ | \n",
    "| Occurs when a researcher rejects a Null Hypothesis when it is true | Fails to reject an Hypothesis when it is false |\n",
    "| False Positive | False Negative | \n",
    "| Significance Level : probability of commiting a Type 1 error | Power Of Test : probability of not commiting a Type 2 error | \n",
    "| alpha | Beta |\n",
    "\n",
    "\n",
    "\n",
    "\n",
    "       \n"
   ]
  }
 ],
 "metadata": {
  "kernelspec": {
   "display_name": "Python 3.8.3 64-bit ('anaconda3': conda)",
   "language": "python",
   "name": "python38364bitanaconda3conda5a21e7c9305747559a413d7622491a2e"
  },
  "language_info": {
   "codemirror_mode": {
    "name": "ipython",
    "version": 3
   },
   "file_extension": ".py",
   "mimetype": "text/x-python",
   "name": "python",
   "nbconvert_exporter": "python",
   "pygments_lexer": "ipython3",
   "version": "3.8.3"
  }
 },
 "nbformat": 4,
 "nbformat_minor": 4
}
