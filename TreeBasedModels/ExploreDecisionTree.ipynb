{
 "cells": [
  {
   "cell_type": "markdown",
   "metadata": {},
   "source": [
    "# Decision Tree Algorithm\n",
    "Decision trees can be applied to both regression and classification problems.\n",
    "It is one of the predictive modelling approaches used in statistics, data mining and machine learning. It uses a decision tree (as a predictive model) to go from observations about an item (represented in the branches) to conclusions about the item's target value (represented in the leaves). Tree models where the target variable can take a discrete set of values are called classification trees; in these tree structures, leaves represent class labels and branches represent conjunctions of features that lead to those class labels. Decision trees where the target variable can take continuous values (typically real numbers) are called regression trees. Decision trees are among the most popular machine learning algorithms given their intelligibility and simplicity."
   ]
  },
  {
   "cell_type": "code",
   "execution_count": 1,
   "metadata": {},
   "outputs": [],
   "source": [
    "import numpy as np \n",
    "import pandas as pd \n",
    "import matplotlib.pyplot as plt \n",
    "import seaborn as sns\n",
    "\n",
    "%matplotlib inline"
   ]
  },
  {
   "cell_type": "code",
   "execution_count": 2,
   "metadata": {},
   "outputs": [],
   "source": [
    "dummy_train_data = np.array([\n",
    "    ['Green', 3, 'Apple'],\n",
    "    ['Red', 3, 'Apple'],\n",
    "    ['Red', 1, 'Grape'],\n",
    "    ['Red', 1, 'Grape'],\n",
    "    ['Yellow', 3, 'Lemon'],\n",
    "],dtype='O')\n",
    "headers = ['color','diameter','fruit']"
   ]
  },
  {
   "cell_type": "markdown",
   "metadata": {},
   "source": [
    "## CART(Classification and Regression Trees)\n",
    "\n",
    "The representation for the CART model is a binary tree.\n",
    "\n",
    "This is your binary tree from algorithms and data structures, nothing too fancy. Each root node represents a single input variable (x) and a split point on that variable (assuming the variable is numeric).\n",
    "\n",
    "The leaf nodes of the tree contain an output variable (y) which is used to make a prediction.\n",
    "\n",
    "Given a dataset with two inputs (x) of height in centimeters and weight in kilograms the output of sex as male or female, below is a crude example of a binary decision tree (completely fictitious for demonstration purposes only).\n",
    "\n",
    "\n",
    "                                        Is diameter >= 3 ?\n",
    "                                                 |\n",
    "                                    _____________|_____________\n",
    "                               True|                           |False\n",
    "                                   |                           |\n",
    "                          Is color == Yellow ?               Grape\n",
    "                                 |\n",
    "                    _____________|_____________\n",
    "               True|                           |False\n",
    "                   |                           |\n",
    "                  Lemon                      Apple"
   ]
  },
  {
   "cell_type": "markdown",
   "metadata": {},
   "source": [
    "## Question(Partition concept of the dataset)\n",
    "\n",
    "- like a `Threshold`\n",
    "- Question is a concept for splitting the node.\n",
    "- It represents a True or False question.\n",
    "- match to see if it will go to true branch or false branch."
   ]
  },
  {
   "cell_type": "code",
   "execution_count": 3,
   "metadata": {},
   "outputs": [],
   "source": [
    "\n",
    "class Question:\n",
    "    def __init__(self, column_index, value, header):\n",
    "        self.column_index = column_index\n",
    "        self.value = value\n",
    "        self.header = header\n",
    "\n",
    "    def match(self, example):\n",
    "        if isinstance(example, list):\n",
    "            example = np.array(example, dtype=\"O\")\n",
    "        val = example[self.column_index]\n",
    "\n",
    "        # adding numpy int and float data types as well\n",
    "        if isinstance(val, (int, float, np.int64, np.float64)):\n",
    "            # a condition for question to return True or False for numeric value\n",
    "            return float(val) >= float(self.value)\n",
    "        else:\n",
    "            return str(val) == str(self.value)  # categorical data comparison\n",
    "\n",
    "    def __repr__(self):\n",
    "        condition = \"==\"\n",
    "        if isinstance(self.value, (int, float, np.int64, np.float64)):\n",
    "            condition = \">=\"\n",
    "        return f\"Is {self.header} {condition} {self.value} ?\""
   ]
  },
  {
   "cell_type": "code",
   "execution_count": 4,
   "metadata": {},
   "outputs": [
    {
     "data": {
      "text/plain": [
       "Is fruit == apple ?"
      ]
     },
     "execution_count": 4,
     "metadata": {},
     "output_type": "execute_result"
    }
   ],
   "source": [
    "q1 = Question(column_index=0,value='apple',header='fruit')\n",
    "q1"
   ]
  },
  {
   "cell_type": "code",
   "execution_count": 5,
   "metadata": {},
   "outputs": [
    {
     "data": {
      "text/plain": [
       "True"
      ]
     },
     "execution_count": 5,
     "metadata": {},
     "output_type": "execute_result"
    }
   ],
   "source": [
    "q1.match(['apple',10])"
   ]
  },
  {
   "cell_type": "code",
   "execution_count": 6,
   "metadata": {},
   "outputs": [
    {
     "data": {
      "text/plain": [
       "Is weight >= 30 ?"
      ]
     },
     "execution_count": 6,
     "metadata": {},
     "output_type": "execute_result"
    }
   ],
   "source": [
    "q2 = Question(column_index=1,value=30,header='weight')\n",
    "q2"
   ]
  },
  {
   "cell_type": "code",
   "execution_count": 7,
   "metadata": {},
   "outputs": [
    {
     "data": {
      "text/plain": [
       "False"
      ]
     },
     "execution_count": 7,
     "metadata": {},
     "output_type": "execute_result"
    }
   ],
   "source": [
    "q2.match(['apple',10])"
   ]
  },
  {
   "cell_type": "markdown",
   "metadata": {},
   "source": [
    "## Partition rows\n",
    "\n",
    "- partition rows in true side and false side using the Question we have already defined.\n",
    "- here fruit is the target and questions are used to divide the values of target\n",
    "- first question here 'is the color red' \n",
    "\n",
    "\n",
    "                                    ['color','diameter','fruit']\n",
    "                                    \n",
    "                                     [['Green', 3, 'Apple'],\n",
    "                                     ['Red', 3, 'Apple'],\n",
    "                                     ['Red', 1, 'Grape'],\n",
    "                                     ['Red', 1, 'Grape'],\n",
    "                                     ['Yellow', 3, 'Lemon']]\n",
    "                                    \n",
    "                                        Is color == Red ?\n",
    "                                                 |\n",
    "                                    _____________|_____________\n",
    "                               True|                           |False\n",
    "                                   |                           |\n",
    "                          [['Red', 3, 'Apple'],          [['Green', 3, 'Apple'],\n",
    "                          ['Red', 1, 'Grape'],           ['Yellow', 3, 'Lemon']]\n",
    "                          ['Red', 1, 'Grape']]               "
   ]
  },
  {
   "cell_type": "code",
   "execution_count": 8,
   "metadata": {},
   "outputs": [],
   "source": [
    "def partition(rows, question):\n",
    "    true_idx, false_idx = [], []\n",
    "    for idx, row in enumerate(rows):\n",
    "        if question.match(row):\n",
    "            true_idx.append(idx)\n",
    "        else:\n",
    "            false_idx.append(idx)\n",
    "    return true_idx, false_idx"
   ]
  },
  {
   "cell_type": "code",
   "execution_count": 9,
   "metadata": {},
   "outputs": [
    {
     "data": {
      "text/plain": [
       "array([['Green', 3, 'Apple'],\n",
       "       ['Red', 3, 'Apple'],\n",
       "       ['Red', 1, 'Grape'],\n",
       "       ['Red', 1, 'Grape'],\n",
       "       ['Yellow', 3, 'Lemon']], dtype=object)"
      ]
     },
     "execution_count": 9,
     "metadata": {},
     "output_type": "execute_result"
    }
   ],
   "source": [
    "dummy_train_data"
   ]
  },
  {
   "cell_type": "code",
   "execution_count": 10,
   "metadata": {},
   "outputs": [
    {
     "data": {
      "text/plain": [
       "Is color == Red ?"
      ]
     },
     "execution_count": 10,
     "metadata": {},
     "output_type": "execute_result"
    }
   ],
   "source": [
    "Question(column_index=0,value='Red',header=headers[0])"
   ]
  },
  {
   "cell_type": "code",
   "execution_count": 11,
   "metadata": {},
   "outputs": [],
   "source": [
    "left, right = partition(dummy_train_data,Question(column_index=0,value='Red',header=headers[0]))"
   ]
  },
  {
   "cell_type": "code",
   "execution_count": 12,
   "metadata": {},
   "outputs": [
    {
     "data": {
      "text/plain": [
       "array([['Red', 3, 'Apple'],\n",
       "       ['Red', 1, 'Grape'],\n",
       "       ['Red', 1, 'Grape']], dtype=object)"
      ]
     },
     "execution_count": 12,
     "metadata": {},
     "output_type": "execute_result"
    }
   ],
   "source": [
    "dummy_train_data[left,:]"
   ]
  },
  {
   "cell_type": "code",
   "execution_count": 13,
   "metadata": {},
   "outputs": [
    {
     "data": {
      "text/plain": [
       "array([['Green', 3, 'Apple'],\n",
       "       ['Yellow', 3, 'Lemon']], dtype=object)"
      ]
     },
     "execution_count": 13,
     "metadata": {},
     "output_type": "execute_result"
    }
   ],
   "source": [
    "dummy_train_data[right,:]"
   ]
  },
  {
   "cell_type": "markdown",
   "metadata": {},
   "source": [
    "## Tree Node - Leaf node, Decision Node\n",
    "\n",
    "                            Decision Node ->     Is diameter >= 3 ?\n",
    "                                                         \n",
    "                                                         |\n",
    "                                            _____________|_____________\n",
    "                                       True|                           |False\n",
    "                                           |                           |\n",
    "                   \n",
    "                   Decision Node -> Is color == Yellow ?               Grape  <- Leaf Node \n",
    "                                         \n",
    "                                         |\n",
    "                            _____________|_____________\n",
    "                       True|                           |False\n",
    "                           |                           |\n",
    "           \n",
    "           Leaf Node ->  Lemon                      Apple\n",
    "\n",
    "\n",
    "- Decision Node will have\n",
    "    - a question\n",
    "    - a true branch\n",
    "    - a false branch\n",
    "    - uncertainity value\n",
    "\n",
    "- Leaf Node will have \n",
    "    - leaf value"
   ]
  },
  {
   "cell_type": "code",
   "execution_count": 14,
   "metadata": {},
   "outputs": [],
   "source": [
    "class Node:\n",
    "    def __init__(self, question=None, true_branch=None, false_branch=None, uncertainty=None, *, leaf_value=None):\n",
    "        self.question = question\n",
    "        self.true_branch = true_branch\n",
    "        self.false_branch = false_branch\n",
    "        self.uncertainty = uncertainty\n",
    "        self.leaf_value = leaf_value\n",
    "    \n",
    "    @property\n",
    "    def _is_leaf_node(self):\n",
    "        return self.leaf_value is not None\n"
   ]
  },
  {
   "cell_type": "markdown",
   "metadata": {},
   "source": [
    "## Build Tree\n",
    "\n",
    "- start recursion\n",
    "  - find best split for the data (actually the question)\n",
    "  - if gain == 0 then it is already a leaf node\\\n",
    "  - else get paritition based on the question's answer true_rows, false_rows \n",
    "  - build tree from true_rows and false_true and get Decision node with question, left and right branch"
   ]
  },
  {
   "cell_type": "markdown",
   "metadata": {},
   "source": [
    "## Classification Tree\n",
    "### Gini Impurity\n",
    "\n",
    "Used by the CART (classification and regression tree) algorithm for classification trees, Gini impurity is a measure of how often a randomly chosen element from the set would be incorrectly labeled if it was randomly labeled according to the distribution of labels in the subset. The Gini impurity can be computed by summing the probability $p_{i}$ of an item with label i being chosen times the probability \n",
    "\n",
    "$\\sum_{k \\neq i}{p_k} = 1 - {p_i}$\n",
    "\n",
    "of a mistake in categorizing that item. It reaches its minimum (zero) when all cases in the node fall into a single target category.\n",
    "\n",
    "\\begin{align*}\n",
    "    {I_G(p)} =& {\\sum_{i=1}^{J}{(p_i\\sum_{k \\neq i}p_k)}}\\\\\n",
    "             =& {\\sum_{i=1}^{J}p_i(1 - p_i)}\\\\\n",
    "             =& {\\sum_{i=1}^{J}(p_i - p_i^2)}\\\\\n",
    "             =& {\\sum_{i=1}^{J}p_i - \\sum_{i=1}^{J}p_i^2}\\\\\n",
    "    {I_G(p)} =& {1 - \\sum_{i=1}^{J}p_i^2} \n",
    "\\end{align*}\n",
    "\n"
   ]
  },
  {
   "cell_type": "code",
   "execution_count": 20,
   "metadata": {},
   "outputs": [],
   "source": [
    "def gini_impurity(arr):\n",
    "    classes, counts = np.unique(arr, return_counts=True)\n",
    "    gini_score = 1 - np.square(counts / arr.shape[0]).sum(axis=0)\n",
    "    return gini_score"
   ]
  },
  {
   "cell_type": "code",
   "execution_count": 21,
   "metadata": {},
   "outputs": [
    {
     "name": "stdout",
     "output_type": "stream",
     "text": [
      "0.4970414201183432\n"
     ]
    }
   ],
   "source": [
    "print(gini_impurity(np.array([0,0,0,0,0,0,0,1,1,1,1,1,1])))"
   ]
  },
  {
   "cell_type": "code",
   "execution_count": 22,
   "metadata": {},
   "outputs": [
    {
     "name": "stdout",
     "output_type": "stream",
     "text": [
      "0.0\n"
     ]
    }
   ],
   "source": [
    "print(gini_impurity(np.array(['apple','apple','apple','apple'])))"
   ]
  },
  {
   "cell_type": "code",
   "execution_count": 23,
   "metadata": {},
   "outputs": [
    {
     "name": "stdout",
     "output_type": "stream",
     "text": [
      "0.375\n"
     ]
    }
   ],
   "source": [
    "print(gini_impurity(np.array(['apple','apple','apple','orange'])))"
   ]
  },
  {
   "cell_type": "code",
   "execution_count": 24,
   "metadata": {},
   "outputs": [
    {
     "name": "stdout",
     "output_type": "stream",
     "text": [
      "0.5\n"
     ]
    }
   ],
   "source": [
    "print(gini_impurity(np.array(['apple','apple','apple','orange','orange','orange'])))"
   ]
  },
  {
   "cell_type": "markdown",
   "metadata": {},
   "source": [
    "### Entropy\n",
    "\n",
    "- information theory concept to calculate uncertainity in the data\n",
    "\n",
    "$H(T) = I_E(P) = - {\\Sigma_{i=1}^{J}{p_i}log_2{p_i}}$"
   ]
  },
  {
   "cell_type": "code",
   "execution_count": 25,
   "metadata": {},
   "outputs": [],
   "source": [
    "def entropy(arr):\n",
    "    classes, counts = np.unique(arr, return_counts=True)\n",
    "    p = counts / arr.shape[0]\n",
    "    entropy_score = (-p * np.log2(p)).sum(axis=0)\n",
    "    return entropy_score"
   ]
  },
  {
   "cell_type": "code",
   "execution_count": 26,
   "metadata": {},
   "outputs": [
    {
     "name": "stdout",
     "output_type": "stream",
     "text": [
      "0.9957274520849255\n"
     ]
    }
   ],
   "source": [
    "print(entropy(np.array([0,0,0,0,0,0,0,1,1,1,1,1,1])))"
   ]
  },
  {
   "cell_type": "code",
   "execution_count": 27,
   "metadata": {},
   "outputs": [
    {
     "name": "stdout",
     "output_type": "stream",
     "text": [
      "0.0\n"
     ]
    }
   ],
   "source": [
    "print(entropy(np.array(['apple','apple','apple','apple'])))"
   ]
  },
  {
   "cell_type": "code",
   "execution_count": 28,
   "metadata": {},
   "outputs": [
    {
     "name": "stdout",
     "output_type": "stream",
     "text": [
      "0.8112781244591328\n"
     ]
    }
   ],
   "source": [
    "print(entropy(np.array(['apple','apple','apple','orange'])))"
   ]
  },
  {
   "cell_type": "code",
   "execution_count": 29,
   "metadata": {},
   "outputs": [
    {
     "name": "stdout",
     "output_type": "stream",
     "text": [
      "1.0\n"
     ]
    }
   ],
   "source": [
    "print(entropy(np.array(['apple','apple','apple','orange','orange','orange'])))"
   ]
  },
  {
   "cell_type": "markdown",
   "metadata": {},
   "source": [
    "### Information Gain\n",
    "\n",
    "Information gain is the reduction in entropy or surprise by transforming a dataset and is often used in training decision trees. Information gain is calculated by comparing the entropy of the dataset before and after a transformation.\n",
    "\n",
    "Inforgation Gain = H(Before splitting) - H(After splitting)"
   ]
  },
  {
   "cell_type": "code",
   "execution_count": 30,
   "metadata": {},
   "outputs": [],
   "source": [
    "def info_gain(left, right, parent_uncertainty):\n",
    "\n",
    "    pr = left.shape[0] / (left.shape[0] + right.shape[0])\n",
    "\n",
    "    child_uncertainty = pr * \\\n",
    "        gini_impurity(left) - (1 - pr) * gini_impurity(right)\n",
    "\n",
    "    info_gain_value = parent_uncertainty - child_uncertainty\n",
    "    return info_gain_value"
   ]
  },
  {
   "cell_type": "code",
   "execution_count": 31,
   "metadata": {},
   "outputs": [
    {
     "data": {
      "text/plain": [
       "(['color', 'diameter', 'fruit'],\n",
       " array([['Green', 3, 'Apple'],\n",
       "        ['Red', 3, 'Apple'],\n",
       "        ['Red', 1, 'Grape'],\n",
       "        ['Red', 1, 'Grape'],\n",
       "        ['Yellow', 3, 'Lemon']], dtype=object))"
      ]
     },
     "execution_count": 31,
     "metadata": {},
     "output_type": "execute_result"
    }
   ],
   "source": [
    "headers,dummy_train_data"
   ]
  },
  {
   "cell_type": "code",
   "execution_count": 32,
   "metadata": {},
   "outputs": [
    {
     "data": {
      "text/plain": [
       "0.6399999999999999"
      ]
     },
     "execution_count": 32,
     "metadata": {},
     "output_type": "execute_result"
    }
   ],
   "source": [
    "curr_uncert = gini_impurity(dummy_train_data[:,-1])\n",
    "curr_uncert"
   ]
  },
  {
   "cell_type": "code",
   "execution_count": 33,
   "metadata": {},
   "outputs": [],
   "source": [
    "ti , fi = partition(dummy_train_data,Question(0,'Green',headers[0]))"
   ]
  },
  {
   "cell_type": "code",
   "execution_count": 34,
   "metadata": {},
   "outputs": [
    {
     "data": {
      "text/plain": [
       "array([['Green', 3, 'Apple']], dtype=object)"
      ]
     },
     "execution_count": 34,
     "metadata": {},
     "output_type": "execute_result"
    }
   ],
   "source": [
    "ts = dummy_train_data[ti,:]\n",
    "ts"
   ]
  },
  {
   "cell_type": "code",
   "execution_count": 35,
   "metadata": {},
   "outputs": [
    {
     "data": {
      "text/plain": [
       "array([['Red', 3, 'Apple'],\n",
       "       ['Red', 1, 'Grape'],\n",
       "       ['Red', 1, 'Grape'],\n",
       "       ['Yellow', 3, 'Lemon']], dtype=object)"
      ]
     },
     "execution_count": 35,
     "metadata": {},
     "output_type": "execute_result"
    }
   ],
   "source": [
    "fs = dummy_train_data[fi,:]\n",
    "fs"
   ]
  },
  {
   "cell_type": "code",
   "execution_count": 36,
   "metadata": {},
   "outputs": [
    {
     "data": {
      "text/plain": [
       "1.14"
      ]
     },
     "execution_count": 36,
     "metadata": {},
     "output_type": "execute_result"
    }
   ],
   "source": [
    "info_gain(ts[:,-1],fs[:,-1],curr_uncert)"
   ]
  },
  {
   "cell_type": "markdown",
   "metadata": {},
   "source": [
    "### Find best split in all options\n",
    "\n",
    "- based on the max information gain. find the best split \n",
    "- here based on the values of X, y is divided into true and false branch\n",
    "- before the split and after the split wherever we find maximum information gain we will take it as the best split\n",
    "- some artifacts like best question, best gain and parent_uncertainity are kept"
   ]
  },
  {
   "cell_type": "code",
   "execution_count": 37,
   "metadata": {},
   "outputs": [],
   "source": [
    "def find_best_split(X, y):\n",
    "    max_gain = -1\n",
    "    best_split_question = None\n",
    "\n",
    "    parent_uncertainty = gini_impurity(y)\n",
    "\n",
    "    m_samples, n_labels = X.shape\n",
    "\n",
    "    for col_index in range(n_labels):  # iterate over feature columns\n",
    "        # get unique values from the feature\n",
    "        unique_values = np.unique(X[:, col_index])\n",
    "        for val in unique_values:  # check for every value and find maximum info gain\n",
    "\n",
    "            ques = Question(\n",
    "                column_index=col_index,\n",
    "                value=val,\n",
    "                header=headers[col_index]\n",
    "            )\n",
    "\n",
    "            t_idx, f_idx = partition(X, ques)\n",
    "            # if it does not split the data\n",
    "            # skip it\n",
    "            if len(t_idx) == 0 or len(f_idx) == 0:\n",
    "                continue\n",
    "\n",
    "            true_y = y[t_idx, :]\n",
    "            false_y = y[f_idx, :]\n",
    "\n",
    "            gain = info_gain(true_y, false_y, parent_uncertainty)\n",
    "            if gain > max_gain:\n",
    "                max_gain, best_split_question = gain, ques\n",
    "\n",
    "    return max_gain, best_split_question, parent_uncertainty          "
   ]
  },
  {
   "cell_type": "code",
   "execution_count": 38,
   "metadata": {},
   "outputs": [
    {
     "data": {
      "text/plain": [
       "(1.14, Is color == Green ?, 0.6399999999999999)"
      ]
     },
     "execution_count": 38,
     "metadata": {},
     "output_type": "execute_result"
    }
   ],
   "source": [
    "find_best_split(dummy_train_data[:,:-1],dummy_train_data[:,[-1]])"
   ]
  },
  {
   "cell_type": "markdown",
   "metadata": {},
   "source": [
    "### Classification/ Prediction\n",
    "\n",
    "- traverse the tree and use the question to match and classify"
   ]
  },
  {
   "cell_type": "markdown",
   "metadata": {},
   "source": [
    "### Creating a Classification Model\n",
    "\n",
    "\n",
    "https://mightypy.readthedocs.io/en/main/api/mightypy.ml.html"
   ]
  },
  {
   "cell_type": "code",
   "execution_count": 40,
   "metadata": {},
   "outputs": [],
   "source": [
    "from mightypy.ml import DecisionTreeClassifier"
   ]
  },
  {
   "cell_type": "markdown",
   "metadata": {},
   "source": [
    "### Testing with Data"
   ]
  },
  {
   "cell_type": "code",
   "execution_count": 63,
   "metadata": {
    "tags": []
   },
   "outputs": [],
   "source": [
    "from sklearn.datasets import load_iris\n",
    "from sklearn.model_selection import train_test_split\n",
    "from sklearn.metrics import classification_report\n",
    "\n",
    "dataset = load_iris()\n",
    "\n",
    "X = dataset.data\n",
    "y = dataset.target\n",
    "feature_name = dataset.feature_names\n",
    "X_train,X_test,y_train,y_test = train_test_split(X,y,random_state=42,test_size=0.05)"
   ]
  },
  {
   "cell_type": "code",
   "execution_count": 64,
   "metadata": {
    "tags": []
   },
   "outputs": [
    {
     "name": "stdout",
     "output_type": "stream",
     "text": [
      "|-Is sepal length (cm) >= 7.9 ? | gini :0.6665344177742512\n",
      "|---> True:\n",
      "  |--  Predict : {2: 1}\n",
      "|---> False:\n",
      "  |--Is sepal width (cm) >= 4.4 ? | gini :0.6665660681052261\n",
      "  |----> True:\n",
      "    |---  Predict : {0: 1}\n",
      "  |----> False:\n",
      "    |---Is sepal width (cm) >= 4.2 ? | gini :0.6666326530612245\n",
      "    |-----> True:\n",
      "      |----  Predict : {0: 1}\n",
      "    |-----> False:\n",
      "      |----Is sepal width (cm) >= 4.1 ? | gini :0.6666321618963822\n",
      "      |------> True:\n",
      "        |-----  Predict : {0: 1}\n",
      "      |------> False:\n",
      "        |-----Is sepal width (cm) >= 4.0 ? | gini :0.6665616467128754\n",
      "        |-------> True:\n",
      "          |------  Predict : {0: 1}\n",
      "        |-------> False:\n",
      "          |------Is petal length (cm) >= 6.7 ? | gini :0.6664180297298737\n",
      "          |--------> True:\n",
      "            |-------  Predict : {2: 2}\n",
      "          |--------> False:\n",
      "            |-------Is sepal length (cm) >= 7.7 ? | gini :0.666556927297668\n",
      "            |---------> True:\n",
      "              |--------  Predict : {2: 1}\n",
      "            |---------> False:\n",
      "              |--------Is sepal length (cm) >= 7.6 ? | gini :0.6665181554912007\n",
      "              |----------> True:\n",
      "                |---------  Predict : {2: 1}\n",
      "              |----------> False:\n",
      "                |---------Is sepal length (cm) >= 7.4 ? | gini :0.666402849228334\n",
      "                |-----------> True:\n",
      "                  |----------  Predict : {2: 1}\n",
      "                |-----------> False:\n",
      "                  |----------Is sepal length (cm) >= 7.3 ? | gini :0.6662075298438934\n",
      "                  |------------> True:\n",
      "                    |-----------  Predict : {2: 1}\n",
      "                  |------------> False:\n",
      "                    |-----------Is petal length (cm) >= 6.1 ? | gini :0.6659285589417866\n",
      "                    |-------------> True:\n",
      "                      |------------  Predict : {2: 1}\n",
      "                    |-------------> False:\n",
      "                      |------------  Predict : {0: 44, 1: 46, 2: 40}\n"
     ]
    }
   ],
   "source": [
    "dt = DecisionTreeClassifier(max_depth=10, min_samples_split=10)\n",
    "dt.train(X=X_train,y=y_train,feature_name=feature_name)\n",
    "dt.print_tree()"
   ]
  },
  {
   "cell_type": "code",
   "execution_count": 66,
   "metadata": {},
   "outputs": [
    {
     "data": {
      "text/html": [
       "<div>\n",
       "<style scoped>\n",
       "    .dataframe tbody tr th:only-of-type {\n",
       "        vertical-align: middle;\n",
       "    }\n",
       "\n",
       "    .dataframe tbody tr th {\n",
       "        vertical-align: top;\n",
       "    }\n",
       "\n",
       "    .dataframe thead th {\n",
       "        text-align: right;\n",
       "    }\n",
       "</style>\n",
       "<table border=\"1\" class=\"dataframe\">\n",
       "  <thead>\n",
       "    <tr style=\"text-align: right;\">\n",
       "      <th></th>\n",
       "      <th>original</th>\n",
       "      <th>predicted</th>\n",
       "    </tr>\n",
       "  </thead>\n",
       "  <tbody>\n",
       "    <tr>\n",
       "      <th>0</th>\n",
       "      <td>1</td>\n",
       "      <td>1</td>\n",
       "    </tr>\n",
       "    <tr>\n",
       "      <th>1</th>\n",
       "      <td>0</td>\n",
       "      <td>0</td>\n",
       "    </tr>\n",
       "    <tr>\n",
       "      <th>2</th>\n",
       "      <td>2</td>\n",
       "      <td>2</td>\n",
       "    </tr>\n",
       "    <tr>\n",
       "      <th>3</th>\n",
       "      <td>1</td>\n",
       "      <td>1</td>\n",
       "    </tr>\n",
       "    <tr>\n",
       "      <th>4</th>\n",
       "      <td>1</td>\n",
       "      <td>2</td>\n",
       "    </tr>\n",
       "    <tr>\n",
       "      <th>5</th>\n",
       "      <td>0</td>\n",
       "      <td>0</td>\n",
       "    </tr>\n",
       "    <tr>\n",
       "      <th>6</th>\n",
       "      <td>1</td>\n",
       "      <td>1</td>\n",
       "    </tr>\n",
       "    <tr>\n",
       "      <th>7</th>\n",
       "      <td>2</td>\n",
       "      <td>2</td>\n",
       "    </tr>\n",
       "  </tbody>\n",
       "</table>\n",
       "</div>"
      ],
      "text/plain": [
       "  original predicted\n",
       "0        1         1\n",
       "1        0         0\n",
       "2        2         2\n",
       "3        1         1\n",
       "4        1         2\n",
       "5        0         0\n",
       "6        1         1\n",
       "7        2         2"
      ]
     },
     "execution_count": 66,
     "metadata": {},
     "output_type": "execute_result"
    }
   ],
   "source": [
    "dt = DecisionTreeClassifier(min_samples_split=10)\n",
    "dt.train(X=X_train,y=y_train,feature_name=feature_name)\n",
    "\n",
    "y_pred = dt.predict(X_test)\n",
    "\n",
    "pd.DataFrame(np.c_[y_test.reshape(-1,1),y_pred], columns=['original','predicted'])"
   ]
  },
  {
   "cell_type": "code",
   "execution_count": 67,
   "metadata": {},
   "outputs": [
    {
     "data": {
      "text/html": [
       "<div>\n",
       "<style scoped>\n",
       "    .dataframe tbody tr th:only-of-type {\n",
       "        vertical-align: middle;\n",
       "    }\n",
       "\n",
       "    .dataframe tbody tr th {\n",
       "        vertical-align: top;\n",
       "    }\n",
       "\n",
       "    .dataframe thead th {\n",
       "        text-align: right;\n",
       "    }\n",
       "</style>\n",
       "<table border=\"1\" class=\"dataframe\">\n",
       "  <thead>\n",
       "    <tr style=\"text-align: right;\">\n",
       "      <th></th>\n",
       "      <th>original</th>\n",
       "      <th>predicted</th>\n",
       "    </tr>\n",
       "  </thead>\n",
       "  <tbody>\n",
       "    <tr>\n",
       "      <th>0</th>\n",
       "      <td>1</td>\n",
       "      <td>{1: 100.0}</td>\n",
       "    </tr>\n",
       "    <tr>\n",
       "      <th>1</th>\n",
       "      <td>0</td>\n",
       "      <td>{0: 100.0}</td>\n",
       "    </tr>\n",
       "    <tr>\n",
       "      <th>2</th>\n",
       "      <td>2</td>\n",
       "      <td>{2: 100.0}</td>\n",
       "    </tr>\n",
       "    <tr>\n",
       "      <th>3</th>\n",
       "      <td>1</td>\n",
       "      <td>{1: 100.0}</td>\n",
       "    </tr>\n",
       "    <tr>\n",
       "      <th>4</th>\n",
       "      <td>1</td>\n",
       "      <td>{2: 100.0}</td>\n",
       "    </tr>\n",
       "    <tr>\n",
       "      <th>5</th>\n",
       "      <td>0</td>\n",
       "      <td>{0: 100.0}</td>\n",
       "    </tr>\n",
       "    <tr>\n",
       "      <th>6</th>\n",
       "      <td>1</td>\n",
       "      <td>{1: 100.0}</td>\n",
       "    </tr>\n",
       "    <tr>\n",
       "      <th>7</th>\n",
       "      <td>2</td>\n",
       "      <td>{1: 50.0, 2: 50.0}</td>\n",
       "    </tr>\n",
       "  </tbody>\n",
       "</table>\n",
       "</div>"
      ],
      "text/plain": [
       "  original           predicted\n",
       "0        1          {1: 100.0}\n",
       "1        0          {0: 100.0}\n",
       "2        2          {2: 100.0}\n",
       "3        1          {1: 100.0}\n",
       "4        1          {2: 100.0}\n",
       "5        0          {0: 100.0}\n",
       "6        1          {1: 100.0}\n",
       "7        2  {1: 50.0, 2: 50.0}"
      ]
     },
     "execution_count": 67,
     "metadata": {},
     "output_type": "execute_result"
    }
   ],
   "source": [
    "y_pred = dt.predict_probability(X_test)\n",
    "pd.DataFrame(np.c_[y_test.reshape(-1,1),y_pred], columns=['original','predicted'])"
   ]
  },
  {
   "cell_type": "markdown",
   "metadata": {},
   "source": [
    "## Regression Tree"
   ]
  },
  {
   "cell_type": "markdown",
   "metadata": {},
   "source": [
    "### Variance Reduction\n",
    "\n",
    "- similar to classification we need an information gain medium before and after splitting node.\n",
    "- here variance of parent is subtracted from variance of child components(pr(percentage weight) * var).\n",
    "\n",
    "### Find best split in all options\n",
    "\n",
    "- based on the max information gain. find the best split \n",
    "- here based on the values of X, y is divided into true and false branch\n",
    "- before the split and after the split wherever we find maximum information gain we will take it as the best split\n",
    "- some artifacts like best question, best gain and parent_uncertainity are kept"
   ]
  },
  {
   "cell_type": "markdown",
   "metadata": {},
   "source": [
    "### Creating a Regression Model\n",
    "\n",
    "\n",
    "https://mightypy.readthedocs.io/en/main/api/mightypy.ml.html"
   ]
  },
  {
   "cell_type": "code",
   "execution_count": 53,
   "metadata": {},
   "outputs": [],
   "source": [
    "from mightypy.ml import DecisionTreeRegressor"
   ]
  },
  {
   "cell_type": "markdown",
   "metadata": {},
   "source": [
    "### Testing with Data"
   ]
  },
  {
   "cell_type": "code",
   "execution_count": 68,
   "metadata": {},
   "outputs": [],
   "source": [
    "from sklearn.datasets import make_regression\n",
    "from sklearn.model_selection import train_test_split\n",
    "from sklearn.metrics import mean_squared_error"
   ]
  },
  {
   "cell_type": "code",
   "execution_count": 93,
   "metadata": {},
   "outputs": [],
   "source": [
    "X, y = make_regression(n_samples=500, n_features=4, random_state=2222)\n",
    "\n",
    "X_train,X_test,y_train,y_test = train_test_split(X, y, random_state=2222, test_size=0.10)\n",
    "\n",
    "dt = DecisionTreeRegressor(max_depth=300, min_samples_split=3)\n",
    "dt.train(X=X_train,y=y_train)\n",
    "\n",
    "y_pred = dt.predict(X_test)\n",
    "df = pd.DataFrame(np.c_[y_test.reshape(-1,1),y_pred],columns=['original','predicted'])"
   ]
  },
  {
   "cell_type": "code",
   "execution_count": 94,
   "metadata": {},
   "outputs": [
    {
     "name": "stdout",
     "output_type": "stream",
     "text": [
      "Mean Squared Error : 8162.831645444925\n"
     ]
    },
    {
     "data": {
      "image/png": "[encoded data removed]",
      "text/plain": [
       "<Figure size 432x288 with 1 Axes>"
      ]
     },
     "metadata": {
      "needs_background": "light"
     },
     "output_type": "display_data"
    }
   ],
   "source": [
    "print(\"Mean Squared Error :\", mean_squared_error(df['original'],df['predicted']))\n",
    "plt.plot(df['original'], '.-', label='original')\n",
    "plt.plot(df['predicted'], '.-',label='predicted')\n",
    "plt.legend()\n",
    "plt.show()"
   ]
  }
 ],
 "metadata": {
  "kernelspec": {
   "display_name": "py39",
   "language": "python",
   "name": "py39"
  },
  "language_info": {
   "codemirror_mode": {
    "name": "ipython",
    "version": 3
   },
   "file_extension": ".py",
   "mimetype": "text/x-python",
   "name": "python",
   "nbconvert_exporter": "python",
   "pygments_lexer": "ipython3",
   "version": "3.9.1"
  }
 },
 "nbformat": 4,
 "nbformat_minor": 4
}
