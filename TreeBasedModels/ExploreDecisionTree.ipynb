{
 "cells": [
  {
   "cell_type": "markdown",
   "metadata": {},
   "source": [
    "# Decision Tree Algorithm\n",
    "Decision trees can be applied to both regression and classification problems.\n",
    "It is one of the predictive modelling approaches used in statistics, data mining and machine learning. It uses a decision tree (as a predictive model) to go from observations about an item (represented in the branches) to conclusions about the item's target value (represented in the leaves). Tree models where the target variable can take a discrete set of values are called classification trees; in these tree structures, leaves represent class labels and branches represent conjunctions of features that lead to those class labels. Decision trees where the target variable can take continuous values (typically real numbers) are called regression trees. Decision trees are among the most popular machine learning algorithms given their intelligibility and simplicity."
   ]
  },
  {
   "cell_type": "code",
   "execution_count": 1,
   "metadata": {},
   "outputs": [],
   "source": [
    "import numpy as np \n",
    "import pandas as pd \n",
    "import matplotlib.pyplot as plt \n",
    "import seaborn as sns\n",
    "\n",
    "%matplotlib inline"
   ]
  },
  {
   "cell_type": "code",
   "execution_count": 2,
   "metadata": {},
   "outputs": [],
   "source": [
    "dummy_train_data = np.array([\n",
    "    ['Green', 3, 'Apple'],\n",
    "    ['Red', 3, 'Apple'],\n",
    "    ['Red', 1, 'Grape'],\n",
    "    ['Red', 1, 'Grape'],\n",
    "    ['Yellow', 3, 'Lemon'],\n",
    "],dtype='O')\n",
    "headers = ['color','diameter','fruit']"
   ]
  },
  {
   "cell_type": "markdown",
   "metadata": {},
   "source": [
    "## CART(Classification and Regression Trees)\n",
    "\n",
    "The representation for the CART model is a binary tree.\n",
    "\n",
    "This is your binary tree from algorithms and data structures, nothing too fancy. Each root node represents a single input variable (x) and a split point on that variable (assuming the variable is numeric).\n",
    "\n",
    "The leaf nodes of the tree contain an output variable (y) which is used to make a prediction.\n",
    "\n",
    "Given a dataset with two inputs (x) of height in centimeters and weight in kilograms the output of sex as male or female, below is a crude example of a binary decision tree (completely fictitious for demonstration purposes only).\n",
    "\n",
    "\n",
    "                                        Is diameter >= 3 ?\n",
    "                                                 |\n",
    "                                    _____________|_____________\n",
    "                               True|                           |False\n",
    "                                   |                           |\n",
    "                          Is color == Yellow ?               Grape\n",
    "                                 |\n",
    "                    _____________|_____________\n",
    "               True|                           |False\n",
    "                   |                           |\n",
    "                  Lemon                      Apple"
   ]
  },
  {
   "cell_type": "markdown",
   "metadata": {},
   "source": [
    "## Question(Parition concept of the dataset)\n",
    "\n",
    "- like a `Threshold`\n",
    "- Question is a concept for split the node.\n",
    "- It represents a True or False question. \n",
    "- match to see if it will go to true branch or false branch"
   ]
  },
  {
   "cell_type": "code",
   "execution_count": 3,
   "metadata": {},
   "outputs": [],
   "source": [
    "\n",
    "class Question:\n",
    "    def __init__(self, column_index, value, header):\n",
    "        self.column_index = column_index\n",
    "        self.value = value\n",
    "        self.header = header\n",
    "\n",
    "    def match(self, example):\n",
    "        if isinstance(example, list):\n",
    "            example = np.array(example, dtype=\"O\")\n",
    "        val = example[self.column_index]\n",
    "\n",
    "        # adding numpy int and float data types as well\n",
    "        if isinstance(val, (int, float, np.int64, np.float64)):\n",
    "            # a condition for question to return True or False for numeric value\n",
    "            return float(val) >= float(self.value)\n",
    "        else:\n",
    "            return str(val) == str(self.value)  # categorical data comparison\n",
    "\n",
    "    def __repr__(self):\n",
    "        condition = \"==\"\n",
    "        if isinstance(self.value, (int, float, np.int64, np.float64)):\n",
    "            condition = \">=\"\n",
    "        return f\"Is {self.header} {condition} {self.value} ?\""
   ]
  },
  {
   "cell_type": "code",
   "execution_count": 4,
   "metadata": {},
   "outputs": [
    {
     "data": {
      "text/plain": [
       "Is fruit == apple ?"
      ]
     },
     "execution_count": 4,
     "metadata": {},
     "output_type": "execute_result"
    }
   ],
   "source": [
    "q1 = Question(column_index=0,value='apple',header='fruit')\n",
    "q1"
   ]
  },
  {
   "cell_type": "code",
   "execution_count": 5,
   "metadata": {},
   "outputs": [
    {
     "data": {
      "text/plain": [
       "True"
      ]
     },
     "execution_count": 5,
     "metadata": {},
     "output_type": "execute_result"
    }
   ],
   "source": [
    "q1.match(['apple',10])"
   ]
  },
  {
   "cell_type": "code",
   "execution_count": 6,
   "metadata": {},
   "outputs": [
    {
     "data": {
      "text/plain": [
       "Is weight >= 30 ?"
      ]
     },
     "execution_count": 6,
     "metadata": {},
     "output_type": "execute_result"
    }
   ],
   "source": [
    "q2 = Question(column_index=1,value=30,header='weight')\n",
    "q2"
   ]
  },
  {
   "cell_type": "code",
   "execution_count": 7,
   "metadata": {},
   "outputs": [
    {
     "data": {
      "text/plain": [
       "False"
      ]
     },
     "execution_count": 7,
     "metadata": {},
     "output_type": "execute_result"
    }
   ],
   "source": [
    "q2.match(['apple',10])"
   ]
  },
  {
   "cell_type": "markdown",
   "metadata": {},
   "source": [
    "## Partition rows\n",
    "\n",
    "- partition rows in true side and false side using the Question we have already defined.\n",
    "- here fruit is the target and questions are used to divide the values of target\n",
    "- first question here 'is the color red' \n",
    "\n",
    "\n",
    "                                    ['color','diameter','fruit']\n",
    "                                    \n",
    "                                     [['Green', 3, 'Apple'],\n",
    "                                     ['Red', 3, 'Apple'],\n",
    "                                     ['Red', 1, 'Grape'],\n",
    "                                     ['Red', 1, 'Grape'],\n",
    "                                     ['Yellow', 3, 'Lemon']]\n",
    "                                    \n",
    "                                        Is color == Red ?\n",
    "                                                 |\n",
    "                                    _____________|_____________\n",
    "                               True|                           |False\n",
    "                                   |                           |\n",
    "                          [['Red', 3, 'Apple'],          [['Green', 3, 'Apple'],\n",
    "                          ['Red', 1, 'Grape'],           ['Yellow', 3, 'Lemon']]\n",
    "                          ['Red', 1, 'Grape']]               "
   ]
  },
  {
   "cell_type": "code",
   "execution_count": 8,
   "metadata": {},
   "outputs": [],
   "source": [
    "def partition(rows, question):\n",
    "    true_idx, false_idx = [], []\n",
    "    for idx, row in enumerate(rows):\n",
    "        if question.match(row):\n",
    "            true_idx.append(idx)\n",
    "        else:\n",
    "            false_idx.append(idx)\n",
    "    return true_idx, false_idx"
   ]
  },
  {
   "cell_type": "code",
   "execution_count": 9,
   "metadata": {},
   "outputs": [
    {
     "data": {
      "text/plain": [
       "array([['Green', 3, 'Apple'],\n",
       "       ['Red', 3, 'Apple'],\n",
       "       ['Red', 1, 'Grape'],\n",
       "       ['Red', 1, 'Grape'],\n",
       "       ['Yellow', 3, 'Lemon']], dtype=object)"
      ]
     },
     "execution_count": 9,
     "metadata": {},
     "output_type": "execute_result"
    }
   ],
   "source": [
    "dummy_train_data"
   ]
  },
  {
   "cell_type": "code",
   "execution_count": 10,
   "metadata": {},
   "outputs": [
    {
     "data": {
      "text/plain": [
       "Is color == Red ?"
      ]
     },
     "execution_count": 10,
     "metadata": {},
     "output_type": "execute_result"
    }
   ],
   "source": [
    "Question(column_index=0,value='Red',header=headers[0])"
   ]
  },
  {
   "cell_type": "code",
   "execution_count": 11,
   "metadata": {},
   "outputs": [],
   "source": [
    "left, right = partition(dummy_train_data,Question(column_index=0,value='Red',header=headers[0]))"
   ]
  },
  {
   "cell_type": "code",
   "execution_count": 12,
   "metadata": {},
   "outputs": [
    {
     "data": {
      "text/plain": [
       "array([['Red', 3, 'Apple'],\n",
       "       ['Red', 1, 'Grape'],\n",
       "       ['Red', 1, 'Grape']], dtype=object)"
      ]
     },
     "execution_count": 12,
     "metadata": {},
     "output_type": "execute_result"
    }
   ],
   "source": [
    "dummy_train_data[left,:]"
   ]
  },
  {
   "cell_type": "code",
   "execution_count": 13,
   "metadata": {},
   "outputs": [
    {
     "data": {
      "text/plain": [
       "array([['Green', 3, 'Apple'],\n",
       "       ['Yellow', 3, 'Lemon']], dtype=object)"
      ]
     },
     "execution_count": 13,
     "metadata": {},
     "output_type": "execute_result"
    }
   ],
   "source": [
    "dummy_train_data[right,:]"
   ]
  },
  {
   "cell_type": "markdown",
   "metadata": {},
   "source": [
    "## Tree Node - Leaf node, Decision Node\n",
    "\n",
    "                            Decision Node ->     Is diameter >= 3 ?\n",
    "                                                         \n",
    "                                                         |\n",
    "                                            _____________|_____________\n",
    "                                       True|                           |False\n",
    "                                           |                           |\n",
    "                   \n",
    "                   Decision Node -> Is color == Yellow ?               Grape  <- Leaf Node \n",
    "                                         \n",
    "                                         |\n",
    "                            _____________|_____________\n",
    "                       True|                           |False\n",
    "                           |                           |\n",
    "           \n",
    "           Leaf Node ->  Lemon                      Apple\n",
    "\n",
    "\n",
    "- Decision Node will have\n",
    "    - a question\n",
    "    - a true branch\n",
    "    - a false branch\n",
    "    - uncertainity value\n",
    "\n",
    "- Leaf Node will have \n",
    "    - leaf value"
   ]
  },
  {
   "cell_type": "code",
   "execution_count": 14,
   "metadata": {},
   "outputs": [],
   "source": [
    "class Node:\n",
    "    def __init__(self, question=None, true_branch=None, false_branch=None, uncertainty=None, *, leaf_value=None):\n",
    "        self.question = question\n",
    "        self.true_branch = true_branch\n",
    "        self.false_branch = false_branch\n",
    "        self.uncertainty = uncertainty\n",
    "        self.leaf_value = leaf_value\n",
    "    \n",
    "    @property\n",
    "    def _is_leaf_node(self):\n",
    "        return self.leaf_value is not None\n"
   ]
  },
  {
   "cell_type": "markdown",
   "metadata": {},
   "source": [
    "## Build Tree\n",
    "\n",
    "- start recursion\n",
    "  - find best split for the data (actually the question)\n",
    "  - if gain == 0 then it is already a leaf node\\\n",
    "  - else get paritition based on the question's answer true_rows, false_rows \n",
    "  - build tree from true_rows and false_true and get Decision node with question, left and right branch"
   ]
  },
  {
   "cell_type": "markdown",
   "metadata": {},
   "source": [
    "## Classification Tree\n",
    "### Gini Impurity\n",
    "\n",
    "Used by the CART (classification and regression tree) algorithm for classification trees, Gini impurity is a measure of how often a randomly chosen element from the set would be incorrectly labeled if it was randomly labeled according to the distribution of labels in the subset. The Gini impurity can be computed by summing the probability $p_{i}$ of an item with label i being chosen times the probability \n",
    "\n",
    "$\\sum_{k \\neq i}{p_k} = 1 - {p_i}$\n",
    "\n",
    "of a mistake in categorizing that item. It reaches its minimum (zero) when all cases in the node fall into a single target category.\n",
    "\n",
    "$$\n",
    "{I_G(p)} = {\\sum_{i=1}^{J}{(p_i\\sum_{k \\neq i}p_k)}} = {\\sum_{i=1}^{J}p_i(1 - p_i)} = {\\sum_{i=1}^{J}(p_i - p_i^2)} = {\\sum_{i=1}^{J}p_i - \\sum_{i=1}^{J}p_i^2} = { 1 - \\sum_{i=1}^{J}p_i^2} \n",
    "$$\n",
    "\n"
   ]
  },
  {
   "cell_type": "code",
   "execution_count": 15,
   "metadata": {},
   "outputs": [],
   "source": [
    "def gini_impurity(arr):\n",
    "    classes, counts = np.unique(arr, return_counts=True)\n",
    "    gini_score = 1 - np.square(counts / arr.shape[0]).sum(axis=0)\n",
    "    return gini_score"
   ]
  },
  {
   "cell_type": "code",
   "execution_count": 16,
   "metadata": {},
   "outputs": [
    {
     "name": "stdout",
     "output_type": "stream",
     "text": [
      "0.4970414201183432\n"
     ]
    }
   ],
   "source": [
    "print(gini_impurity(np.array([0,0,0,0,0,0,0,1,1,1,1,1,1])))"
   ]
  },
  {
   "cell_type": "code",
   "execution_count": 17,
   "metadata": {},
   "outputs": [
    {
     "name": "stdout",
     "output_type": "stream",
     "text": [
      "0.0\n"
     ]
    }
   ],
   "source": [
    "print(gini_impurity(np.array(['apple','apple','apple','apple'])))"
   ]
  },
  {
   "cell_type": "code",
   "execution_count": 18,
   "metadata": {},
   "outputs": [
    {
     "name": "stdout",
     "output_type": "stream",
     "text": [
      "0.375\n"
     ]
    }
   ],
   "source": [
    "print(gini_impurity(np.array(['apple','apple','apple','orange'])))"
   ]
  },
  {
   "cell_type": "code",
   "execution_count": 19,
   "metadata": {},
   "outputs": [
    {
     "name": "stdout",
     "output_type": "stream",
     "text": [
      "0.5\n"
     ]
    }
   ],
   "source": [
    "print(gini_impurity(np.array(['apple','apple','apple','orange','orange','orange'])))"
   ]
  },
  {
   "cell_type": "markdown",
   "metadata": {},
   "source": [
    "### Entropy\n",
    "\n",
    "- information theory concept to calculate uncertainity in the data\n",
    "\n",
    "$H(T) = I_E(P) = - {\\Sigma_{i=1}^{J}{p_i}log_2{p_i}}$"
   ]
  },
  {
   "cell_type": "code",
   "execution_count": 20,
   "metadata": {},
   "outputs": [],
   "source": [
    "def entropy(arr):\n",
    "    classes, counts = np.unique(arr, return_counts=True)\n",
    "    p = counts / arr.shape[0]\n",
    "    entropy_score = (-p * np.log2(p)).sum(axis=0)\n",
    "    return entropy_score"
   ]
  },
  {
   "cell_type": "code",
   "execution_count": 21,
   "metadata": {},
   "outputs": [
    {
     "name": "stdout",
     "output_type": "stream",
     "text": [
      "0.9957274520849255\n"
     ]
    }
   ],
   "source": [
    "print(entropy(np.array([0,0,0,0,0,0,0,1,1,1,1,1,1])))"
   ]
  },
  {
   "cell_type": "code",
   "execution_count": 22,
   "metadata": {},
   "outputs": [
    {
     "name": "stdout",
     "output_type": "stream",
     "text": [
      "0.0\n"
     ]
    }
   ],
   "source": [
    "print(entropy(np.array(['apple','apple','apple','apple'])))"
   ]
  },
  {
   "cell_type": "code",
   "execution_count": 23,
   "metadata": {},
   "outputs": [
    {
     "name": "stdout",
     "output_type": "stream",
     "text": [
      "0.8112781244591328\n"
     ]
    }
   ],
   "source": [
    "print(entropy(np.array(['apple','apple','apple','orange'])))"
   ]
  },
  {
   "cell_type": "code",
   "execution_count": 24,
   "metadata": {},
   "outputs": [
    {
     "name": "stdout",
     "output_type": "stream",
     "text": [
      "1.0\n"
     ]
    }
   ],
   "source": [
    "print(entropy(np.array(['apple','apple','apple','orange','orange','orange'])))"
   ]
  },
  {
   "cell_type": "markdown",
   "metadata": {},
   "source": [
    "### Information Gain\n",
    "\n",
    "Information gain is the reduction in entropy or surprise by transforming a dataset and is often used in training decision trees. Information gain is calculated by comparing the entropy of the dataset before and after a transformation.\n",
    "\n",
    "Inforgation Gain = H(Before splitting) - H(After splitting)"
   ]
  },
  {
   "cell_type": "code",
   "execution_count": 25,
   "metadata": {},
   "outputs": [],
   "source": [
    "def info_gain(left, right, parent_uncertainty):\n",
    "\n",
    "    pr = left.shape[0] / (left.shape[0] + right.shape[0])\n",
    "\n",
    "    child_uncertainty = pr * \\\n",
    "        gini_impurity(left) - (1 - pr) * gini_impurity(right)\n",
    "\n",
    "    info_gain_value = parent_uncertainty - child_uncertainty\n",
    "    return info_gain_value"
   ]
  },
  {
   "cell_type": "code",
   "execution_count": 26,
   "metadata": {},
   "outputs": [
    {
     "data": {
      "text/plain": [
       "(['color', 'diameter', 'fruit'],\n",
       " array([['Green', 3, 'Apple'],\n",
       "        ['Red', 3, 'Apple'],\n",
       "        ['Red', 1, 'Grape'],\n",
       "        ['Red', 1, 'Grape'],\n",
       "        ['Yellow', 3, 'Lemon']], dtype=object))"
      ]
     },
     "execution_count": 26,
     "metadata": {},
     "output_type": "execute_result"
    }
   ],
   "source": [
    "headers,dummy_train_data"
   ]
  },
  {
   "cell_type": "code",
   "execution_count": 27,
   "metadata": {},
   "outputs": [
    {
     "data": {
      "text/plain": [
       "0.6399999999999999"
      ]
     },
     "execution_count": 27,
     "metadata": {},
     "output_type": "execute_result"
    }
   ],
   "source": [
    "curr_uncert = gini_impurity(dummy_train_data[:,-1])\n",
    "curr_uncert"
   ]
  },
  {
   "cell_type": "code",
   "execution_count": 28,
   "metadata": {},
   "outputs": [],
   "source": [
    "ti , fi = partition(dummy_train_data,Question(0,'Green',headers[0]))"
   ]
  },
  {
   "cell_type": "code",
   "execution_count": 29,
   "metadata": {},
   "outputs": [
    {
     "data": {
      "text/plain": [
       "array([['Green', 3, 'Apple']], dtype=object)"
      ]
     },
     "execution_count": 29,
     "metadata": {},
     "output_type": "execute_result"
    }
   ],
   "source": [
    "ts = dummy_train_data[ti,:]\n",
    "ts"
   ]
  },
  {
   "cell_type": "code",
   "execution_count": 30,
   "metadata": {},
   "outputs": [
    {
     "data": {
      "text/plain": [
       "array([['Red', 3, 'Apple'],\n",
       "       ['Red', 1, 'Grape'],\n",
       "       ['Red', 1, 'Grape'],\n",
       "       ['Yellow', 3, 'Lemon']], dtype=object)"
      ]
     },
     "execution_count": 30,
     "metadata": {},
     "output_type": "execute_result"
    }
   ],
   "source": [
    "fs = dummy_train_data[fi,:]\n",
    "fs"
   ]
  },
  {
   "cell_type": "code",
   "execution_count": 31,
   "metadata": {},
   "outputs": [
    {
     "data": {
      "text/plain": [
       "1.14"
      ]
     },
     "execution_count": 31,
     "metadata": {},
     "output_type": "execute_result"
    }
   ],
   "source": [
    "info_gain(ts[:,-1],fs[:,-1],curr_uncert)"
   ]
  },
  {
   "cell_type": "markdown",
   "metadata": {},
   "source": [
    "### Find best split in all options\n",
    "\n",
    "- based on the max information gain. find the best split \n",
    "- here based on the values of X, y is divided into true and false branch\n",
    "- before the split and after the split wherever we find maximum information gain we will take it as the best split\n",
    "- some artifacts like best question, best gain and parent_uncertainity are kept"
   ]
  },
  {
   "cell_type": "code",
   "execution_count": 32,
   "metadata": {},
   "outputs": [],
   "source": [
    "def find_best_split(X, y):\n",
    "    max_gain = -1\n",
    "    best_split_question = None\n",
    "\n",
    "    parent_uncertainty = gini_impurity(y)\n",
    "\n",
    "    m_samples, n_labels = X.shape\n",
    "\n",
    "    for col_index in range(n_labels):  # iterate over feature columns\n",
    "        # get unique values from the feature\n",
    "        unique_values = np.unique(X[:, col_index])\n",
    "        for val in unique_values:  # check for every value and find maximum info gain\n",
    "\n",
    "            ques = Question(\n",
    "                column_index=col_index,\n",
    "                value=val,\n",
    "                header=headers[col_index]\n",
    "            )\n",
    "\n",
    "            t_idx, f_idx = partition(X, ques)\n",
    "            # if it does not split the data\n",
    "            # skip it\n",
    "            if len(t_idx) == 0 or len(f_idx) == 0:\n",
    "                continue\n",
    "\n",
    "            true_y = y[t_idx, :]\n",
    "            false_y = y[f_idx, :]\n",
    "\n",
    "            gain = info_gain(true_y, false_y, parent_uncertainty)\n",
    "            if gain > max_gain:\n",
    "                max_gain, best_split_question = gain, ques\n",
    "\n",
    "    return max_gain, best_split_question, parent_uncertainty          "
   ]
  },
  {
   "cell_type": "code",
   "execution_count": 33,
   "metadata": {},
   "outputs": [
    {
     "data": {
      "text/plain": [
       "(1.14, Is color == Green ?, 0.6399999999999999)"
      ]
     },
     "execution_count": 33,
     "metadata": {},
     "output_type": "execute_result"
    }
   ],
   "source": [
    "find_best_split(dummy_train_data[:,:-1],dummy_train_data[:,[-1]])"
   ]
  },
  {
   "cell_type": "markdown",
   "metadata": {},
   "source": [
    "### Classification/ Prediction\n",
    "\n",
    "- traverse the tree and use the question to match and classify"
   ]
  },
  {
   "cell_type": "markdown",
   "metadata": {},
   "source": [
    "### Creating a Classification Model"
   ]
  },
  {
   "cell_type": "code",
   "execution_count": 34,
   "metadata": {},
   "outputs": [],
   "source": [
    "import numpy as np\n",
    "\n",
    "\n",
    "class Node:\n",
    "    def __init__(self, question=None, true_branch=None, false_branch=None, uncertainty=None, *, leaf_value=None):\n",
    "        self.question = question\n",
    "        self.true_branch = true_branch\n",
    "        self.false_branch = false_branch\n",
    "        self.uncertainty = uncertainty\n",
    "        self.leaf_value = leaf_value\n",
    "\n",
    "    @property\n",
    "    def _is_leaf_node(self):\n",
    "        return self.leaf_value is not None\n",
    "\n",
    "\n",
    "class Question:\n",
    "    def __init__(self, column_index, value, header):\n",
    "        self.column_index = column_index\n",
    "        self.value = value\n",
    "        self.header = header\n",
    "\n",
    "    def match(self, example):\n",
    "        if isinstance(example, list):\n",
    "            example = np.array(example, dtype=\"O\")\n",
    "        val = example[self.column_index]\n",
    "\n",
    "        # adding numpy int and float data types as well\n",
    "        if isinstance(val, (int, float, np.int64, np.float64)):\n",
    "            # a condition for question to return True or False for numeric value\n",
    "            return float(val) >= float(self.value)\n",
    "        else:\n",
    "            return str(val) == str(self.value)  # categorical data comparison\n",
    "\n",
    "    def __repr__(self):\n",
    "        condition = \"==\"\n",
    "        if isinstance(self.value, (int, float, np.int64, np.float64)):\n",
    "            condition = \">=\"\n",
    "        return f\"Is {self.header} {condition} {self.value} ?\"\n",
    "\n",
    "\n",
    "class DecisionTreeClassifier:\n",
    "    def __init__(self, max_depth=100, min_samples_split=2, criteria='gini'):\n",
    "        self._X = None\n",
    "        self._y = None\n",
    "        self._feature_names = None\n",
    "        self._target_name = None\n",
    "        self._tree = None\n",
    "        self.max_depth = max_depth\n",
    "        self.min_samples_split = min_samples_split\n",
    "        self.criteria = criteria\n",
    "\n",
    "    def _count_dict(self, a):\n",
    "        unique_values = np.unique(a, return_counts=True)\n",
    "        zipped = zip(*unique_values)\n",
    "        return dict(zipped)\n",
    "\n",
    "    def _gini_impurity(self, arr):\n",
    "        classes, counts = np.unique(arr, return_counts=True)\n",
    "        gini_score = 1 - np.square(counts / arr.shape[0]).sum(axis=0)\n",
    "        return gini_score\n",
    "\n",
    "    def _entropy(self, arr):\n",
    "        classes, counts = np.unique(arr, return_counts=True)\n",
    "        p = counts / arr.shape[0]\n",
    "        entropy_score = (-p * np.log2(p)).sum(axis=0)\n",
    "        return entropy_score\n",
    "\n",
    "    def _partition(self, rows, question):\n",
    "        true_idx, false_idx = [], []\n",
    "        for idx, row in enumerate(rows):\n",
    "            if question.match(row):\n",
    "                true_idx.append(idx)\n",
    "            else:\n",
    "                false_idx.append(idx)\n",
    "        return true_idx, false_idx\n",
    "\n",
    "    def _info_gain(self, left, right, parent_uncertainty):\n",
    "\n",
    "        pr = left.shape[0] / (left.shape[0] + right.shape[0])\n",
    "\n",
    "        if self.criteria == \"entropy\":\n",
    "            child_uncertainty = pr * \\\n",
    "                self._entropy(left) - (1 - pr) * self._entropy(right)\n",
    "        else:\n",
    "            child_uncertainty = pr * \\\n",
    "                self._gini_impurity(left) - (1 - pr) * self._gini_impurity(right)\n",
    "\n",
    "        info_gain_value = parent_uncertainty - child_uncertainty\n",
    "        return info_gain_value\n",
    "\n",
    "    def _find_best_split(self, X, y):\n",
    "\n",
    "        max_gain = -1\n",
    "        best_split_question = None\n",
    "\n",
    "        if self.criteria == \"entropy\":\n",
    "            parent_uncertainty = self._entropy(y)\n",
    "        else:\n",
    "            parent_uncertainty = self._gini_impurity(y)\n",
    "\n",
    "        m_samples, n_labels = X.shape\n",
    "\n",
    "        for col_index in range(n_labels):  # iterate over feature columns\n",
    "            # get unique values from the feature\n",
    "            unique_values = np.unique(X[:, col_index])\n",
    "            for val in unique_values:  # check for every value and find maximum info gain\n",
    "\n",
    "                ques = Question(\n",
    "                    column_index=col_index,\n",
    "                    value=val,\n",
    "                    header=self._feature_names[col_index]\n",
    "                )\n",
    "\n",
    "                t_idx, f_idx = self._partition(X, ques)\n",
    "                # if it does not split the data\n",
    "                # skip it\n",
    "                if len(t_idx) == 0 or len(f_idx) == 0:\n",
    "                    continue\n",
    "\n",
    "                true_y = y[t_idx, :]\n",
    "                false_y = y[f_idx, :]\n",
    "\n",
    "                gain = self._info_gain(true_y, false_y, parent_uncertainty)\n",
    "                if gain > max_gain:\n",
    "                    max_gain, best_split_question = gain, ques\n",
    "\n",
    "        return max_gain, best_split_question, parent_uncertainty\n",
    "\n",
    "    def _build_tree(self, X, y, depth=0):\n",
    "        m_samples, n_labels = X.shape\n",
    "        if (depth > self.max_depth or n_labels == 1 or m_samples < self.min_samples_split):\n",
    "            return Node(leaf_value=self._count_dict(y))\n",
    "\n",
    "        gain, ques, uncertainty = self._find_best_split(X, y)\n",
    "\n",
    "        if gain == 0:\n",
    "            return Node(leaf_value=self._count_dict(y))\n",
    "\n",
    "        t_idx, f_idx = self._partition(X, ques)\n",
    "        true_branch = self._build_tree(X[t_idx, :], y[t_idx, :], depth + 1)\n",
    "        false_branch = self._build_tree(X[f_idx, :], y[f_idx, :], depth + 1)\n",
    "        return Node(\n",
    "            question=ques,\n",
    "            true_branch=true_branch,\n",
    "            false_branch=false_branch,\n",
    "            uncertainty=uncertainty\n",
    "        )\n",
    "\n",
    "    def train(self, X, y, feature_name=None, target_name=None):\n",
    "\n",
    "        X = np.array(X, dtype='O') if not isinstance(X, (np.ndarray)) else X\n",
    "        y = np.array(y, dtype='O') if not isinstance(y, (np.ndarray)) else y\n",
    "\n",
    "        self._X = X.reshape(-1, 1) if len(X.shape) == 1 else X\n",
    "        self._y = y.reshape(-1, 1) if len(y.shape) == 1 else y\n",
    "\n",
    "        self._feature_names = feature_name or [f\"C_{i}\" for i in range(self._X.shape[1])]\n",
    "        self._target_name = target_name or ['target']\n",
    "\n",
    "        self._tree = self._build_tree(\n",
    "            X=self._X,\n",
    "            y=self._y\n",
    "        )\n",
    "\n",
    "    def print_tree(self, node=None, spacing=\"|-\"):\n",
    "\n",
    "        node = node or self._tree\n",
    "\n",
    "        if node._is_leaf_node:\n",
    "            print(spacing, \" Predict :\", node.leaf_value)\n",
    "            return\n",
    "\n",
    "        # Print the question at this node\n",
    "        print(spacing + str(node.question) +\n",
    "              \" | \"+ self.criteria +\" :\" + str(node.uncertainty))\n",
    "\n",
    "        # Call this function recursively on the true branch\n",
    "        print(spacing + '--> True:')\n",
    "        self.print_tree(node.true_branch, \"  \" + spacing + \"-\")\n",
    "\n",
    "        # Call this function recursively on the false branch\n",
    "        print(spacing + '--> False:')\n",
    "        self.print_tree(node.false_branch, \"  \" + spacing + \"-\")\n",
    "\n",
    "    def _classification(self, row, node):\n",
    "\n",
    "        if node._is_leaf_node:\n",
    "            return node.leaf_value\n",
    "\n",
    "        if node.question.match(row):\n",
    "            return self._classification(row, node.true_branch)\n",
    "        else:\n",
    "            return self._classification(row, node.false_branch)\n",
    "\n",
    "    def _print_leaf_probability(self, results):\n",
    "        total = sum(results.values())\n",
    "        probs = {}\n",
    "        for key in results:\n",
    "            probs[key] = (results[key] / total) * 100\n",
    "        return probs\n",
    "\n",
    "    def predict(self, X):\n",
    "        if isinstance(X, (np.ndarray, list)):\n",
    "            X = np.array(X, dtype='O') if not isinstance(X, (np.ndarray)) else X\n",
    "\n",
    "            if len(X.shape) == 1:\n",
    "                return self._classification(row=X, node=self._tree)\n",
    "            else:\n",
    "                leaf_value = []\n",
    "                for row in X:\n",
    "                    max_result = 0\n",
    "                    result_dict = self._classification(row=row, node=self._tree)\n",
    "                    result = None\n",
    "                    for key in result_dict:\n",
    "                        if result_dict[key] > max_result:\n",
    "                            result = key                           \n",
    "                    leaf_value.append([result])\n",
    "                return np.array(leaf_value, dtype='O')\n",
    "        else:\n",
    "            raise ValueError(\"X should be list or numpy array\")\n",
    "\n",
    "    def predict_probability(self, X):\n",
    "\n",
    "        if isinstance(X, (np.ndarray, list)):\n",
    "            X = np.array(X, dtype='O') if not isinstance(X, (np.ndarray)) else X\n",
    "\n",
    "            if len(X.shape) == 1:\n",
    "                return self._print_leaf_probability(self._classification(row=X, node=self._tree))\n",
    "            else:\n",
    "                leaf_value = []\n",
    "                for row in X:\n",
    "                    leaf_value.append([self._print_leaf_probability(\n",
    "                        self._classification(row=row, node=self._tree))])\n",
    "                return np.array(leaf_value, dtype='O')\n",
    "        else:\n",
    "            raise ValueError(\"X should be list or numpy array\")\n"
   ]
  },
  {
   "cell_type": "markdown",
   "metadata": {},
   "source": [
    "### Testing with Data"
   ]
  },
  {
   "cell_type": "code",
   "execution_count": 35,
   "metadata": {
    "tags": []
   },
   "outputs": [
    {
     "name": "stdout",
     "output_type": "stream",
     "text": [
      "|-Is sepal length (cm) >= 7.9 ? | gini :0.6663374485596707\n",
      "|---> True:\n",
      "  |--  Predict : {2: 1}\n",
      "|---> False:\n",
      "  |--Is sepal width (cm) >= 4.4 ? | gini :0.6665181554912007\n",
      "  |----> True:\n",
      "    |---  Predict : {0: 1}\n",
      "  |----> False:\n",
      "    |---Is sepal width (cm) >= 4.2 ? | gini :0.666402849228334\n",
      "    |-----> True:\n",
      "      |----  Predict : {0: 1}\n",
      "    |-----> False:\n",
      "      |----Is sepal width (cm) >= 4.1 ? | gini :0.6662075298438934\n",
      "      |------> True:\n",
      "        |-----  Predict : {0: 1}\n",
      "      |------> False:\n",
      "        |-----Is sepal width (cm) >= 4.0 ? | gini :0.6659285589417866\n",
      "        |-------> True:\n",
      "          |------  Predict : {0: 1}\n",
      "        |-------> False:\n",
      "          |------Is petal length (cm) >= 6.7 ? | gini :0.6655621301775148\n",
      "          |--------> True:\n",
      "            |-------  Predict : {2: 2}\n",
      "          |--------> False:\n",
      "            |-------Is sepal length (cm) >= 7.7 ? | gini :0.666015625\n",
      "            |---------> True:\n",
      "              |--------  Predict : {2: 1}\n",
      "            |---------> False:\n",
      "              |--------Is sepal length (cm) >= 7.6 ? | gini :0.6661293322586646\n",
      "              |----------> True:\n",
      "                |---------  Predict : {2: 1}\n",
      "              |----------> False:\n",
      "                |---------Is sepal length (cm) >= 7.4 ? | gini :0.6661627614008567\n",
      "                |-----------> True:\n",
      "                  |----------  Predict : {2: 1}\n",
      "                |-----------> False:\n",
      "                  |----------Is sepal length (cm) >= 7.3 ? | gini :0.666112\n",
      "                  |------------> True:\n",
      "                    |-----------  Predict : {2: 1}\n",
      "                  |------------> False:\n",
      "                    |-----------Is petal length (cm) >= 6.1 ? | gini :0.6659729448491154\n",
      "                    |-------------> True:\n",
      "                      |------------  Predict : {2: 1}\n",
      "                    |-------------> False:\n",
      "                      |------------Is sepal width (cm) >= 3.9 ? | gini :0.6657412915592571\n",
      "                      |--------------> True:\n",
      "                        |-------------  Predict : {0: 2}\n",
      "                      |--------------> False:\n",
      "                        |-------------Is sepal length (cm) >= 7.2 ? | gini :0.6652551055255789\n",
      "                        |---------------> True:\n",
      "                          |--------------  Predict : {2: 2}\n",
      "                        |---------------> False:\n",
      "                          |--------------Is sepal length (cm) >= 7.1 ? | gini :0.664642327519243\n",
      "                          |----------------> True:\n",
      "                            |---------------  Predict : {2: 1}\n",
      "                          |----------------> False:\n",
      "                            |---------------Is sepal length (cm) >= 7.0 ? | gini :0.6641769606434933\n",
      "                            |-----------------> True:\n",
      "                              |----------------  Predict : {1: 1}\n",
      "                            |-----------------> False:\n",
      "                              |----------------Is petal length (cm) >= 6.0 ? | gini :0.664767331433998\n",
      "                              |------------------> True:\n",
      "                                |-----------------  Predict : {2: 1}\n",
      "                              |------------------> False:\n",
      "                                |-----------------Is petal length (cm) >= 5.9 ? | gini :0.6642390011890607\n",
      "                                |-------------------> True:\n",
      "                                  |------------------  Predict : {2: 1}\n",
      "                                |-------------------> False:\n",
      "                                  |------------------Is petal width (cm) >= 2.5 ? | gini :0.6635916824196597\n",
      "                                  |--------------------> True:\n",
      "                                    |-------------------  Predict : {2: 1}\n",
      "                                  |--------------------> False:\n",
      "                                    |-------------------Is sepal width (cm) >= 3.8 ? | gini :0.6628193290243152\n",
      "                                    |---------------------> True:\n",
      "                                      |--------------------  Predict : {0: 2}\n",
      "                                    |---------------------> False:\n",
      "                                      |--------------------Is petal length (cm) >= 5.8 ? | gini :0.6624681122448979\n",
      "                                      |----------------------> True:\n",
      "                                        |---------------------  Predict : {2: 2}\n",
      "                                      |----------------------> False:\n",
      "                                        |---------------------Is petal length (cm) >= 5.7 ? | gini :0.6606611570247933\n",
      "                                        |-----------------------> True:\n",
      "                                          |----------------------  Predict : {2: 2}\n",
      "                                        |-----------------------> False:\n",
      "                                          |----------------------Is sepal width (cm) >= 3.7 ? | gini :0.6582647462277091\n",
      "                                          |------------------------> True:\n",
      "                                            |-----------------------  Predict : {0: 3}\n",
      "                                          |------------------------> False:\n",
      "                                            |-----------------------Is sepal width (cm) >= 3.6 ? | gini :0.657233560090703\n",
      "                                            |-------------------------> True:\n",
      "                                              |------------------------  Predict : {0: 3}\n",
      "                                            |-------------------------> False:\n",
      "                                              |------------------------Is sepal length (cm) >= 6.9 ? | gini :0.6549404075355633\n",
      "                                              |--------------------------> True:\n",
      "                                                |-------------------------  Predict : {1: 1, 2: 1}\n",
      "                                              |--------------------------> False:\n",
      "                                                |-------------------------Is sepal length (cm) >= 6.8 ? | gini :0.6552\n",
      "                                                |---------------------------> True:\n",
      "                                                  |--------------------------  Predict : {2: 1}\n",
      "                                                |---------------------------> False:\n",
      "                                                  |--------------------------Is petal width (cm) >= 2.4 ? | gini :0.6538108356290174\n",
      "                                                  |----------------------------> True:\n",
      "                                                    |---------------------------  Predict : {2: 3}\n",
      "                                                  |----------------------------> False:\n",
      "                                                    |---------------------------Is petal width (cm) >= 2.3 ? | gini :0.6484375\n",
      "                                                    |-----------------------------> True:\n",
      "                                                      |----------------------------  Predict : {2: 3}\n",
      "                                                    |-----------------------------> False:\n",
      "                                                      |----------------------------Is petal width (cm) >= 2.2 ? | gini :0.6409989594172737\n",
      "                                                      |------------------------------> True:\n",
      "                                                        |-----------------------------  Predict : {2: 1}\n",
      "                                                      |------------------------------> False:\n",
      "                                                        |-----------------------------Is petal width (cm) >= 2.1 ? | gini :0.6379962192816635\n",
      "                                                        |-------------------------------> True:\n",
      "                                                          |------------------------------  Predict : {2: 1}\n",
      "                                                        |-------------------------------> False:\n",
      "                                                          |------------------------------Is sepal length (cm) >= 6.7 ? | gini :0.6347059533872721\n",
      "                                                          |--------------------------------> True:\n",
      "                                                            |-------------------------------  Predict : {1: 3}\n",
      "                                                          |--------------------------------> False:\n",
      "                                                            |-------------------------------Is sepal length (cm) >= 6.6 ? | gini :0.640754132231405\n",
      "                                                            |---------------------------------> True:\n",
      "                                                              |--------------------------------  Predict : {1: 2}\n",
      "                                                            |---------------------------------> False:\n",
      "                                                              |--------------------------------Is petal length (cm) >= 5.6 ? | gini :0.6444023796646836\n",
      "                                                              |----------------------------------> True:\n",
      "                                                                |---------------------------------  Predict : {2: 2}\n",
      "                                                              |----------------------------------> False:\n",
      "                                                                |---------------------------------Is petal length (cm) >= 5.5 ? | gini :0.6374716553287982\n",
      "                                                                |-----------------------------------> True:\n",
      "                                                                  |----------------------------------  Predict : {2: 2}\n",
      "                                                                |-----------------------------------> False:\n",
      "                                                                  |----------------------------------Is petal length (cm) >= 5.3 ? | gini :0.6290898274836407\n",
      "                                                                  |------------------------------------> True:\n",
      "                                                                    |-----------------------------------  Predict : {2: 1}\n",
      "                                                                  |------------------------------------> False:\n",
      "                                                                    |-----------------------------------Is petal length (cm) >= 5.2 ? | gini :0.6242950769699742\n",
      "                                                                    |-------------------------------------> True:\n",
      "                                                                      |------------------------------------  Predict : {2: 1}\n",
      "                                                                    |-------------------------------------> False:\n",
      "                                                                      |------------------------------------Is sepal length (cm) >= 6.5 ? | gini :0.6190625\n",
      "                                                                      |--------------------------------------> True:\n",
      "                                                                        |-------------------------------------  Predict : {1: 1}\n",
      "                                                                      |--------------------------------------> False:\n",
      "                                                                        |-------------------------------------Is sepal length (cm) >= 6.4 ? | gini :0.6210543182182342\n",
      "                                                                        |---------------------------------------> True:\n",
      "                                                                          |--------------------------------------  Predict : {1: 2}\n",
      "                                                                        |---------------------------------------> False:\n",
      "                                                                          |--------------------------------------Is petal width (cm) >= 2.0 ? | gini :0.6247259234272221\n",
      "                                                                          |----------------------------------------> True:\n",
      "                                                                            |---------------------------------------  Predict : {2: 2}\n",
      "                                                                          |----------------------------------------> False:\n",
      "                                                                            |---------------------------------------Is sepal width (cm) >= 3.5 ? | gini :0.6129777777777778\n",
      "                                                                            |-----------------------------------------> True:\n",
      "                                                                              |----------------------------------------  Predict : {0: 5}\n",
      "                                                                            |-----------------------------------------> False:\n",
      "                                                                              |----------------------------------------Is petal width (cm) >= 1.9 ? | gini :0.6118367346938776\n",
      "                                                                              |------------------------------------------> True:\n",
      "                                                                                |-----------------------------------------  Predict : {2: 3}\n",
      "                                                                              |------------------------------------------> False:\n",
      "                                                                                |-----------------------------------------Is petal length (cm) >= 5.1 ? | gini :0.5889953218979729\n",
      "                                                                                |-------------------------------------------> True:\n",
      "                                                                                  |------------------------------------------  Predict : {1: 1, 2: 2}\n",
      "                                                                                |-------------------------------------------> False:\n",
      "                                                                                  |------------------------------------------Is petal length (cm) >= 5.0 ? | gini :0.57275390625\n",
      "                                                                                  |--------------------------------------------> True:\n",
      "                                                                                    |-------------------------------------------  Predict : {2: 1}\n",
      "                                                                                  |--------------------------------------------> False:\n",
      "                                                                                    |-------------------------------------------Is sepal length (cm) >= 6.3 ? | gini :0.561854371378181\n",
      "                                                                                    |---------------------------------------------> True:\n",
      "                                                                                      |--------------------------------------------  Predict : {1: 3, 2: 1}\n",
      "                                                                                    |---------------------------------------------> False:\n",
      "                                                                                      |--------------------------------------------Is petal length (cm) >= 4.9 ? | gini :0.5573111174949728\n",
      "                                                                                      |----------------------------------------------> True:\n",
      "                                                                                        |---------------------------------------------  Predict : {2: 1}\n",
      "                                                                                      |----------------------------------------------> False:\n",
      "                                                                                        |---------------------------------------------Is sepal length (cm) >= 6.2 ? | gini :0.5439952437574316\n",
      "                                                                                        |-----------------------------------------------> True:\n",
      "                                                                                          |----------------------------------------------  Predict : {1: 1, 2: 1}\n",
      "                                                                                        |-----------------------------------------------> False:\n",
      "                                                                                          |----------------------------------------------Is sepal length (cm) >= 6.1 ? | gini :0.53125\n",
      "                                                                                          |------------------------------------------------> True:\n",
      "                                                                                            |-----------------------------------------------  Predict : {1: 3}\n",
      "                                                                                          |------------------------------------------------> False:\n",
      "                                                                                            |-----------------------------------------------Is petal length (cm) >= 4.8 ? | gini :0.5354218583125667\n",
      "                                                                                            |-------------------------------------------------> True:\n",
      "                                                                                              |------------------------------------------------  Predict : {1: 1, 2: 1}\n",
      "                                                                                            |-------------------------------------------------> False:\n",
      "                                                                                              |------------------------------------------------Is sepal length (cm) >= 6.0 ? | gini :0.5190311418685121\n",
      "                                                                                              |--------------------------------------------------> True:\n",
      "                                                                                                |-------------------------------------------------  Predict : {1: 2}\n",
      "                                                                                              |--------------------------------------------------> False:\n",
      "                                                                                                |-------------------------------------------------Is sepal length (cm) >= 5.9 ? | gini :0.5189504373177842\n",
      "                                                                                                |---------------------------------------------------> True:\n",
      "                                                                                                  |--------------------------------------------------  Predict : {1: 1}\n",
      "                                                                                                |---------------------------------------------------> False:\n",
      "                                                                                                  |--------------------------------------------------Is sepal length (cm) >= 5.8 ? | gini :0.5182291666666666\n",
      "                                                                                                  |----------------------------------------------------> True:\n",
      "                                                                                                    |---------------------------------------------------  Predict : {1: 2}\n",
      "                                                                                                  |----------------------------------------------------> False:\n",
      "                                                                                                    |---------------------------------------------------Is petal width (cm) >= 1.7 ? | gini :0.5151228733459357\n",
      "                                                                                                    |-----------------------------------------------------> True:\n",
      "                                                                                                      |----------------------------------------------------  Predict : {2: 1}\n",
      "                                                                                                    |-----------------------------------------------------> False:\n",
      "                                                                                                      |----------------------------------------------------Is petal width (cm) >= 1.5 ? | gini :0.49382716049382713\n",
      "                                                                                                      |------------------------------------------------------> True:\n",
      "                                                                                                        |-----------------------------------------------------  Predict : {1: 2}\n",
      "                                                                                                      |------------------------------------------------------> False:\n",
      "                                                                                                        |-----------------------------------------------------Is petal length (cm) >= 4.5 ? | gini :0.48674959437533794\n",
      "                                                                                                        |-------------------------------------------------------> True:\n",
      "                                                                                                          |------------------------------------------------------  Predict : {1: 1}\n",
      "                                                                                                        |-------------------------------------------------------> False:\n",
      "                                                                                                          |------------------------------------------------------Is petal length (cm) >= 4.4 ? | gini :0.481859410430839\n",
      "                                                                                                          |--------------------------------------------------------> True:\n",
      "                                                                                                            |-------------------------------------------------------  Predict : {1: 1}\n",
      "                                                                                                          |--------------------------------------------------------> False:\n",
      "                                                                                                            |-------------------------------------------------------Is petal width (cm) >= 1.4 ? | gini :0.47590719809637116\n",
      "                                                                                                            |---------------------------------------------------------> True:\n",
      "                                                                                                              |--------------------------------------------------------  Predict : {1: 1}\n",
      "                                                                                                            |---------------------------------------------------------> False:\n",
      "                                                                                                              |--------------------------------------------------------Is petal length (cm) >= 4.2 ? | gini :0.46875\n",
      "                                                                                                              |----------------------------------------------------------> True:\n",
      "                                                                                                                |---------------------------------------------------------  Predict : {1: 3}\n",
      "                                                                                                              |----------------------------------------------------------> False:\n",
      "                                                                                                                |---------------------------------------------------------Is sepal length (cm) >= 5.7 ? | gini :0.43827611395178967\n",
      "                                                                                                                |-----------------------------------------------------------> True:\n",
      "                                                                                                                  |----------------------------------------------------------  Predict : {1: 2}\n",
      "                                                                                                                |-----------------------------------------------------------> False:\n",
      "                                                                                                                  |----------------------------------------------------------Is petal length (cm) >= 4.1 ? | gini :0.40816326530612246\n",
      "                                                                                                                  |------------------------------------------------------------> True:\n",
      "                                                                                                                    |-----------------------------------------------------------  Predict : {1: 1}\n",
      "                                                                                                                  |------------------------------------------------------------> False:\n",
      "                                                                                                                    |-----------------------------------------------------------Is sepal length (cm) >= 5.6 ? | gini :0.38927335640138394\n",
      "                                                                                                                    |-------------------------------------------------------------> True:\n",
      "                                                                                                                      |------------------------------------------------------------  Predict : {1: 1}\n",
      "                                                                                                                    |-------------------------------------------------------------> False:\n",
      "                                                                                                                      |------------------------------------------------------------Is sepal width (cm) >= 3.4 ? | gini :0.3673094582185492\n",
      "                                                                                                                      |--------------------------------------------------------------> True:\n",
      "                                                                                                                        |-------------------------------------------------------------  Predict : {0: 8}\n",
      "                                                                                                                      |--------------------------------------------------------------> False:\n",
      "                                                                                                                        |-------------------------------------------------------------Is sepal width (cm) >= 3.3 ? | gini :0.4351999999999999\n",
      "                                                                                                                        |---------------------------------------------------------------> True:\n",
      "                                                                                                                          |--------------------------------------------------------------  Predict : {0: 2}\n",
      "                                                                                                                        |---------------------------------------------------------------> False:\n",
      "                                                                                                                          |--------------------------------------------------------------Is sepal width (cm) >= 3.2 ? | gini :0.45368620037807184\n",
      "                                                                                                                          |----------------------------------------------------------------> True:\n",
      "                                                                                                                            |---------------------------------------------------------------  Predict : {0: 5}\n",
      "                                                                                                                          |----------------------------------------------------------------> False:\n",
      "                                                                                                                            |---------------------------------------------------------------Is petal length (cm) >= 4.0 ? | gini :0.49382716049382713\n",
      "                                                                                                                            |-----------------------------------------------------------------> True:\n",
      "                                                                                                                              |----------------------------------------------------------------  Predict : {1: 2}\n",
      "                                                                                                                            |-----------------------------------------------------------------> False:\n",
      "                                                                                                                              |----------------------------------------------------------------Is petal length (cm) >= 3.8 ? | gini :0.46875\n",
      "                                                                                                                              |------------------------------------------------------------------> True:\n",
      "                                                                                                                                |-----------------------------------------------------------------  Predict : {1: 1}\n",
      "                                                                                                                              |------------------------------------------------------------------> False:\n",
      "                                                                                                                                |-----------------------------------------------------------------Is sepal width (cm) >= 3.1 ? | gini :0.4444444444444444\n",
      "                                                                                                                                |-------------------------------------------------------------------> True:\n",
      "                                                                                                                                  |------------------------------------------------------------------  Predict : {0: 3}\n",
      "                                                                                                                                |-------------------------------------------------------------------> False:\n",
      "                                                                                                                                  |------------------------------------------------------------------Is sepal length (cm) >= 5.5 ? | gini :0.48611111111111105\n",
      "                                                                                                                                  |--------------------------------------------------------------------> True:\n",
      "                                                                                                                                    |-------------------------------------------------------------------  Predict : {1: 1}\n",
      "                                                                                                                                  |--------------------------------------------------------------------> False:\n",
      "                                                                                                                                    |-------------------------------------------------------------------Is sepal length (cm) >= 5.1 ? | gini :0.4628099173553719\n",
      "                                                                                                                                    |---------------------------------------------------------------------> True:\n",
      "                                                                                                                                      |--------------------------------------------------------------------  Predict : {1: 1}\n",
      "                                                                                                                                    |---------------------------------------------------------------------> False:\n",
      "                                                                                                                                      |--------------------------------------------------------------------Is petal length (cm) >= 3.5 ? | gini :0.42000000000000004\n",
      "                                                                                                                                      |----------------------------------------------------------------------> True:\n",
      "                                                                                                                                        |---------------------------------------------------------------------  Predict : {1: 1}\n",
      "                                                                                                                                      |----------------------------------------------------------------------> False:\n",
      "                                                                                                                                        |---------------------------------------------------------------------  Predict : {0: 7, 1: 2}\n"
     ]
    }
   ],
   "source": [
    "from sklearn.datasets import load_iris\n",
    "from sklearn.model_selection import train_test_split\n",
    "import pandas as pd\n",
    "\n",
    "dataset = load_iris()\n",
    "\n",
    "X = dataset.data\n",
    "y = dataset.target\n",
    "feature_name = dataset.feature_names\n",
    "X_train,X_test,y_train,y_test = train_test_split(X,y,random_state=42,test_size=0.10)\n",
    "\n",
    "dt = DecisionTreeClassifier(min_samples_split=10)\n",
    "dt.train(X=X_train,y=y_train,feature_name=feature_name)\n",
    "\n",
    "dt.print_tree()"
   ]
  },
  {
   "cell_type": "code",
   "execution_count": 36,
   "metadata": {},
   "outputs": [
    {
     "data": {
      "text/html": [
       "<div>\n",
       "<style scoped>\n",
       "    .dataframe tbody tr th:only-of-type {\n",
       "        vertical-align: middle;\n",
       "    }\n",
       "\n",
       "    .dataframe tbody tr th {\n",
       "        vertical-align: top;\n",
       "    }\n",
       "\n",
       "    .dataframe thead th {\n",
       "        text-align: right;\n",
       "    }\n",
       "</style>\n",
       "<table border=\"1\" class=\"dataframe\">\n",
       "  <thead>\n",
       "    <tr style=\"text-align: right;\">\n",
       "      <th></th>\n",
       "      <th>original</th>\n",
       "      <th>predicted</th>\n",
       "    </tr>\n",
       "  </thead>\n",
       "  <tbody>\n",
       "    <tr>\n",
       "      <th>0</th>\n",
       "      <td>1</td>\n",
       "      <td>1</td>\n",
       "    </tr>\n",
       "    <tr>\n",
       "      <th>1</th>\n",
       "      <td>0</td>\n",
       "      <td>0</td>\n",
       "    </tr>\n",
       "    <tr>\n",
       "      <th>2</th>\n",
       "      <td>2</td>\n",
       "      <td>2</td>\n",
       "    </tr>\n",
       "    <tr>\n",
       "      <th>3</th>\n",
       "      <td>1</td>\n",
       "      <td>1</td>\n",
       "    </tr>\n",
       "    <tr>\n",
       "      <th>4</th>\n",
       "      <td>1</td>\n",
       "      <td>2</td>\n",
       "    </tr>\n",
       "    <tr>\n",
       "      <th>5</th>\n",
       "      <td>0</td>\n",
       "      <td>0</td>\n",
       "    </tr>\n",
       "    <tr>\n",
       "      <th>6</th>\n",
       "      <td>1</td>\n",
       "      <td>1</td>\n",
       "    </tr>\n",
       "    <tr>\n",
       "      <th>7</th>\n",
       "      <td>2</td>\n",
       "      <td>2</td>\n",
       "    </tr>\n",
       "    <tr>\n",
       "      <th>8</th>\n",
       "      <td>1</td>\n",
       "      <td>2</td>\n",
       "    </tr>\n",
       "    <tr>\n",
       "      <th>9</th>\n",
       "      <td>1</td>\n",
       "      <td>1</td>\n",
       "    </tr>\n",
       "    <tr>\n",
       "      <th>10</th>\n",
       "      <td>2</td>\n",
       "      <td>1</td>\n",
       "    </tr>\n",
       "    <tr>\n",
       "      <th>11</th>\n",
       "      <td>0</td>\n",
       "      <td>1</td>\n",
       "    </tr>\n",
       "    <tr>\n",
       "      <th>12</th>\n",
       "      <td>0</td>\n",
       "      <td>0</td>\n",
       "    </tr>\n",
       "    <tr>\n",
       "      <th>13</th>\n",
       "      <td>0</td>\n",
       "      <td>0</td>\n",
       "    </tr>\n",
       "    <tr>\n",
       "      <th>14</th>\n",
       "      <td>0</td>\n",
       "      <td>0</td>\n",
       "    </tr>\n",
       "  </tbody>\n",
       "</table>\n",
       "</div>"
      ],
      "text/plain": [
       "   original predicted\n",
       "0         1         1\n",
       "1         0         0\n",
       "2         2         2\n",
       "3         1         1\n",
       "4         1         2\n",
       "5         0         0\n",
       "6         1         1\n",
       "7         2         2\n",
       "8         1         2\n",
       "9         1         1\n",
       "10        2         1\n",
       "11        0         1\n",
       "12        0         0\n",
       "13        0         0\n",
       "14        0         0"
      ]
     },
     "execution_count": 36,
     "metadata": {},
     "output_type": "execute_result"
    }
   ],
   "source": [
    "y_pred = dt.predict(X_test)\n",
    "\n",
    "\n",
    "pd.DataFrame(np.concatenate((y_test.reshape(-1,1),y_pred),axis=1),columns=['original','predicted'])"
   ]
  },
  {
   "cell_type": "code",
   "execution_count": 37,
   "metadata": {},
   "outputs": [
    {
     "data": {
      "text/html": [
       "<div>\n",
       "<style scoped>\n",
       "    .dataframe tbody tr th:only-of-type {\n",
       "        vertical-align: middle;\n",
       "    }\n",
       "\n",
       "    .dataframe tbody tr th {\n",
       "        vertical-align: top;\n",
       "    }\n",
       "\n",
       "    .dataframe thead th {\n",
       "        text-align: right;\n",
       "    }\n",
       "</style>\n",
       "<table border=\"1\" class=\"dataframe\">\n",
       "  <thead>\n",
       "    <tr style=\"text-align: right;\">\n",
       "      <th></th>\n",
       "      <th>original</th>\n",
       "      <th>predicted</th>\n",
       "    </tr>\n",
       "  </thead>\n",
       "  <tbody>\n",
       "    <tr>\n",
       "      <th>0</th>\n",
       "      <td>1</td>\n",
       "      <td>{1: 100.0}</td>\n",
       "    </tr>\n",
       "    <tr>\n",
       "      <th>1</th>\n",
       "      <td>0</td>\n",
       "      <td>{0: 100.0}</td>\n",
       "    </tr>\n",
       "    <tr>\n",
       "      <th>2</th>\n",
       "      <td>2</td>\n",
       "      <td>{2: 100.0}</td>\n",
       "    </tr>\n",
       "    <tr>\n",
       "      <th>3</th>\n",
       "      <td>1</td>\n",
       "      <td>{1: 100.0}</td>\n",
       "    </tr>\n",
       "    <tr>\n",
       "      <th>4</th>\n",
       "      <td>1</td>\n",
       "      <td>{2: 100.0}</td>\n",
       "    </tr>\n",
       "    <tr>\n",
       "      <th>5</th>\n",
       "      <td>0</td>\n",
       "      <td>{0: 100.0}</td>\n",
       "    </tr>\n",
       "    <tr>\n",
       "      <th>6</th>\n",
       "      <td>1</td>\n",
       "      <td>{1: 100.0}</td>\n",
       "    </tr>\n",
       "    <tr>\n",
       "      <th>7</th>\n",
       "      <td>2</td>\n",
       "      <td>{1: 50.0, 2: 50.0}</td>\n",
       "    </tr>\n",
       "    <tr>\n",
       "      <th>8</th>\n",
       "      <td>1</td>\n",
       "      <td>{1: 50.0, 2: 50.0}</td>\n",
       "    </tr>\n",
       "    <tr>\n",
       "      <th>9</th>\n",
       "      <td>1</td>\n",
       "      <td>{1: 100.0}</td>\n",
       "    </tr>\n",
       "    <tr>\n",
       "      <th>10</th>\n",
       "      <td>2</td>\n",
       "      <td>{1: 100.0}</td>\n",
       "    </tr>\n",
       "    <tr>\n",
       "      <th>11</th>\n",
       "      <td>0</td>\n",
       "      <td>{0: 77.77777777777779, 1: 22.22222222222222}</td>\n",
       "    </tr>\n",
       "    <tr>\n",
       "      <th>12</th>\n",
       "      <td>0</td>\n",
       "      <td>{0: 100.0}</td>\n",
       "    </tr>\n",
       "    <tr>\n",
       "      <th>13</th>\n",
       "      <td>0</td>\n",
       "      <td>{0: 100.0}</td>\n",
       "    </tr>\n",
       "    <tr>\n",
       "      <th>14</th>\n",
       "      <td>0</td>\n",
       "      <td>{0: 100.0}</td>\n",
       "    </tr>\n",
       "  </tbody>\n",
       "</table>\n",
       "</div>"
      ],
      "text/plain": [
       "   original                                     predicted\n",
       "0         1                                    {1: 100.0}\n",
       "1         0                                    {0: 100.0}\n",
       "2         2                                    {2: 100.0}\n",
       "3         1                                    {1: 100.0}\n",
       "4         1                                    {2: 100.0}\n",
       "5         0                                    {0: 100.0}\n",
       "6         1                                    {1: 100.0}\n",
       "7         2                            {1: 50.0, 2: 50.0}\n",
       "8         1                            {1: 50.0, 2: 50.0}\n",
       "9         1                                    {1: 100.0}\n",
       "10        2                                    {1: 100.0}\n",
       "11        0  {0: 77.77777777777779, 1: 22.22222222222222}\n",
       "12        0                                    {0: 100.0}\n",
       "13        0                                    {0: 100.0}\n",
       "14        0                                    {0: 100.0}"
      ]
     },
     "execution_count": 37,
     "metadata": {},
     "output_type": "execute_result"
    }
   ],
   "source": [
    "y_pred = dt.predict_probability(X_test)\n",
    "pd.DataFrame(np.concatenate((y_test.reshape(-1,1),y_pred),axis=1),columns=['original','predicted'])"
   ]
  },
  {
   "cell_type": "code",
   "execution_count": 38,
   "metadata": {},
   "outputs": [
    {
     "data": {
      "text/html": [
       "<div>\n",
       "<style scoped>\n",
       "    .dataframe tbody tr th:only-of-type {\n",
       "        vertical-align: middle;\n",
       "    }\n",
       "\n",
       "    .dataframe tbody tr th {\n",
       "        vertical-align: top;\n",
       "    }\n",
       "\n",
       "    .dataframe thead th {\n",
       "        text-align: right;\n",
       "    }\n",
       "</style>\n",
       "<table border=\"1\" class=\"dataframe\">\n",
       "  <thead>\n",
       "    <tr style=\"text-align: right;\">\n",
       "      <th></th>\n",
       "      <th>original</th>\n",
       "      <th>predicted</th>\n",
       "    </tr>\n",
       "  </thead>\n",
       "  <tbody>\n",
       "    <tr>\n",
       "      <th>0</th>\n",
       "      <td>1</td>\n",
       "      <td>{1: 100.0}</td>\n",
       "    </tr>\n",
       "    <tr>\n",
       "      <th>1</th>\n",
       "      <td>0</td>\n",
       "      <td>{0: 100.0}</td>\n",
       "    </tr>\n",
       "    <tr>\n",
       "      <th>2</th>\n",
       "      <td>2</td>\n",
       "      <td>{2: 100.0}</td>\n",
       "    </tr>\n",
       "    <tr>\n",
       "      <th>3</th>\n",
       "      <td>1</td>\n",
       "      <td>{1: 100.0}</td>\n",
       "    </tr>\n",
       "    <tr>\n",
       "      <th>4</th>\n",
       "      <td>1</td>\n",
       "      <td>{2: 100.0}</td>\n",
       "    </tr>\n",
       "    <tr>\n",
       "      <th>5</th>\n",
       "      <td>0</td>\n",
       "      <td>{0: 100.0}</td>\n",
       "    </tr>\n",
       "    <tr>\n",
       "      <th>6</th>\n",
       "      <td>1</td>\n",
       "      <td>{1: 100.0}</td>\n",
       "    </tr>\n",
       "    <tr>\n",
       "      <th>7</th>\n",
       "      <td>2</td>\n",
       "      <td>{1: 100.0}</td>\n",
       "    </tr>\n",
       "    <tr>\n",
       "      <th>8</th>\n",
       "      <td>1</td>\n",
       "      <td>{2: 100.0}</td>\n",
       "    </tr>\n",
       "    <tr>\n",
       "      <th>9</th>\n",
       "      <td>1</td>\n",
       "      <td>{1: 100.0}</td>\n",
       "    </tr>\n",
       "    <tr>\n",
       "      <th>10</th>\n",
       "      <td>2</td>\n",
       "      <td>{1: 100.0}</td>\n",
       "    </tr>\n",
       "    <tr>\n",
       "      <th>11</th>\n",
       "      <td>0</td>\n",
       "      <td>{0: 100.0}</td>\n",
       "    </tr>\n",
       "    <tr>\n",
       "      <th>12</th>\n",
       "      <td>0</td>\n",
       "      <td>{0: 100.0}</td>\n",
       "    </tr>\n",
       "    <tr>\n",
       "      <th>13</th>\n",
       "      <td>0</td>\n",
       "      <td>{0: 100.0}</td>\n",
       "    </tr>\n",
       "    <tr>\n",
       "      <th>14</th>\n",
       "      <td>0</td>\n",
       "      <td>{0: 100.0}</td>\n",
       "    </tr>\n",
       "  </tbody>\n",
       "</table>\n",
       "</div>"
      ],
      "text/plain": [
       "   original   predicted\n",
       "0         1  {1: 100.0}\n",
       "1         0  {0: 100.0}\n",
       "2         2  {2: 100.0}\n",
       "3         1  {1: 100.0}\n",
       "4         1  {2: 100.0}\n",
       "5         0  {0: 100.0}\n",
       "6         1  {1: 100.0}\n",
       "7         2  {1: 100.0}\n",
       "8         1  {2: 100.0}\n",
       "9         1  {1: 100.0}\n",
       "10        2  {1: 100.0}\n",
       "11        0  {0: 100.0}\n",
       "12        0  {0: 100.0}\n",
       "13        0  {0: 100.0}\n",
       "14        0  {0: 100.0}"
      ]
     },
     "execution_count": 38,
     "metadata": {},
     "output_type": "execute_result"
    }
   ],
   "source": [
    "from sklearn.datasets import load_iris\n",
    "from sklearn.model_selection import train_test_split\n",
    "import pandas as pd\n",
    "\n",
    "dataset = load_iris()\n",
    "\n",
    "X = dataset.data\n",
    "y = dataset.target\n",
    "feature_name = dataset.feature_names\n",
    "X_train,X_test,y_train,y_test = train_test_split(X,y,random_state=42,test_size=0.10)\n",
    "\n",
    "dt = DecisionTreeClassifier(criteria='entropy')\n",
    "dt.train(X=X_train,y=y_train,feature_name=feature_name)\n",
    "y_pred = dt.predict_probability(X_test)\n",
    "pd.DataFrame(np.concatenate((y_test.reshape(-1,1),y_pred),axis=1),columns=['original','predicted'])"
   ]
  },
  {
   "cell_type": "markdown",
   "metadata": {},
   "source": [
    "## Regression Tree"
   ]
  },
  {
   "cell_type": "markdown",
   "metadata": {},
   "source": [
    "### Variance Reduction\n",
    "\n",
    "- similar to classification we need an information gain medium before and after splitting node.\n",
    "- here variance of parent is subtracted from variance of child components(pr(percentage weight) * var).\n",
    "\n",
    "### Find best split in all options\n",
    "\n",
    "- based on the max information gain. find the best split \n",
    "- here based on the values of X, y is divided into true and false branch\n",
    "- before the split and after the split wherever we find maximum information gain we will take it as the best split\n",
    "- some artifacts like best question, best gain and parent_uncertainity are kept"
   ]
  },
  {
   "cell_type": "markdown",
   "metadata": {},
   "source": [
    "### Creating a Regression Model"
   ]
  },
  {
   "cell_type": "code",
   "execution_count": 7,
   "metadata": {},
   "outputs": [],
   "source": [
    "import numpy as np\n",
    "\n",
    "\n",
    "class Node:\n",
    "    def __init__(self, question=None, true_branch=None, false_branch=None, uncertainty=None, *, leaf_value=None):\n",
    "        self.question = question\n",
    "        self.true_branch = true_branch\n",
    "        self.false_branch = false_branch\n",
    "        self.uncertainty = uncertainty\n",
    "        self.leaf_value = leaf_value\n",
    "\n",
    "    @property\n",
    "    def _is_leaf_node(self):\n",
    "        return self.leaf_value is not None\n",
    "\n",
    "\n",
    "class Question:\n",
    "    def __init__(self, column_index, value, header):\n",
    "        self.column_index = column_index\n",
    "        self.value = value\n",
    "        self.header = header\n",
    "\n",
    "    def match(self, example):\n",
    "        if isinstance(example, list):\n",
    "            example = np.array(example, dtype=\"O\")\n",
    "        val = example[self.column_index]\n",
    "\n",
    "        # adding numpy int and float data types as well\n",
    "        if isinstance(val, (int, float, np.int64, np.float64)):\n",
    "            # a condition for question to return True or False for numeric value\n",
    "            return float(val) >= float(self.value)\n",
    "        else:\n",
    "            return str(val) == str(self.value)  # categorical data comparison\n",
    "\n",
    "    def __repr__(self):\n",
    "        condition = \"==\"\n",
    "        if isinstance(self.value, (int, float, np.int64, np.float64)):\n",
    "            condition = \">=\"\n",
    "        return f\"Is {self.header} {condition} {self.value} ?\"\n",
    "\n",
    "\n",
    "class DecisionTreeRegressor:\n",
    "    def __init__(self, max_depth=10, min_samples_split=3, criteria='variance'):\n",
    "        self._X = None\n",
    "        self._y = None\n",
    "        self._feature_names = None\n",
    "        self._target_name = None\n",
    "        self._tree = None\n",
    "        self.max_depth = max_depth\n",
    "        self.min_samples_split = min_samples_split\n",
    "        self.criteria = criteria\n",
    "\n",
    "    def _mean_leaf_value(self, a):\n",
    "        return np.mean(a)\n",
    "\n",
    "    def _partition(self, rows, question):\n",
    "        true_idx, false_idx = [], []\n",
    "        for idx, row in enumerate(rows):\n",
    "            if question.match(row):\n",
    "                true_idx.append(idx)\n",
    "            else:\n",
    "                false_idx.append(idx)\n",
    "        return true_idx, false_idx\n",
    "\n",
    "    def _info_gain(self, left, right, parent_uncertainty):\n",
    "\n",
    "        pr = left.shape[0] / (left.shape[0] + right.shape[0])\n",
    "        \n",
    "        if self.criteria == \"variance\":\n",
    "            child_uncertainty = pr * np.var(left) - (1 - pr) * np.var(right)\n",
    "        else:\n",
    "            raise ValueError(f\"{self.criteria} is not available. Try variance.\")\n",
    "        \n",
    "        info_gain_value = parent_uncertainty - child_uncertainty\n",
    "        return info_gain_value\n",
    "\n",
    "    def _find_best_split(self, X, y):\n",
    "\n",
    "        max_gain = -1\n",
    "        best_split_question = None\n",
    "        \n",
    "        if self.criteria == \"variance\":\n",
    "            parent_uncertainty = np.var(y)\n",
    "        else:\n",
    "            raise ValueError(f\"{self.criteria} is not available. Try variance.\")\n",
    "            \n",
    "\n",
    "        m_samples, n_labels = X.shape\n",
    "\n",
    "        for col_index in range(n_labels):  # iterate over feature columns\n",
    "            # get unique values from the feature\n",
    "            unique_values = np.unique(X[:, col_index])\n",
    "            for val in unique_values:  # check for every value and find maximum info gain\n",
    "\n",
    "                ques = Question(\n",
    "                    column_index=col_index,\n",
    "                    value=val,\n",
    "                    header=self._feature_names[col_index]\n",
    "                )\n",
    "\n",
    "                t_idx, f_idx = self._partition(X, ques)\n",
    "                # if it does not split the data\n",
    "                # skip it\n",
    "                if len(t_idx) == 0 or len(f_idx) == 0:\n",
    "                    continue\n",
    "\n",
    "                true_y = y[t_idx, :]\n",
    "                false_y = y[f_idx, :]\n",
    "\n",
    "                gain = self._info_gain(true_y, false_y, parent_uncertainty)\n",
    "                if gain > max_gain:\n",
    "                    max_gain, best_split_question = gain, ques\n",
    "\n",
    "        return max_gain, best_split_question, parent_uncertainty\n",
    "\n",
    "    def _build_tree(self, X, y, depth=0):\n",
    "        m_samples, n_labels = X.shape\n",
    "        if (depth > self.max_depth or n_labels == 1 or m_samples < self.min_samples_split):\n",
    "            return Node(leaf_value=y)\n",
    "\n",
    "        gain, ques, uncertainty = self._find_best_split(X, y)\n",
    "\n",
    "        if gain == 0:\n",
    "            return Node(leaf_value=y)\n",
    "\n",
    "        t_idx, f_idx = self._partition(X, ques)\n",
    "        true_branch = self._build_tree(X[t_idx, :], y[t_idx, :], depth + 1)\n",
    "        false_branch = self._build_tree(X[f_idx, :], y[f_idx, :], depth + 1)\n",
    "        return Node(\n",
    "            question=ques,\n",
    "            true_branch=true_branch,\n",
    "            false_branch=false_branch,\n",
    "            uncertainty=uncertainty\n",
    "        )\n",
    "\n",
    "    def train(self, X, y, feature_name=None, target_name=None):\n",
    "\n",
    "        X = np.array(X, dtype='O') if not isinstance(X, (np.ndarray)) else X\n",
    "        y = np.array(y, dtype='O') if not isinstance(y, (np.ndarray)) else y\n",
    "\n",
    "        self._X = X.reshape(-1, 1) if len(X.shape) == 1 else X\n",
    "        self._y = y.reshape(-1, 1) if len(y.shape) == 1 else y\n",
    "\n",
    "        self._feature_names = feature_name or [f\"C_{i}\" for i in range(self._X.shape[1])]\n",
    "        self._target_name = target_name or ['target']\n",
    "\n",
    "        self._tree = self._build_tree(\n",
    "            X=self._X,\n",
    "            y=self._y\n",
    "        )\n",
    "\n",
    "    def print_tree(self, node=None, spacing=\"|-\", mean_predictions = True):\n",
    "\n",
    "        node = node or self._tree\n",
    "\n",
    "        if node._is_leaf_node:\n",
    "            if mean_predictions:\n",
    "                print(spacing, \" Predict :\", self._mean_leaf_value(node.leaf_value))\n",
    "            else:\n",
    "                print(spacing, \" Predict :\", node.leaf_value)             \n",
    "            return\n",
    "\n",
    "        # Print the question at this node\n",
    "        print(spacing + str(node.question) +\n",
    "              \" | \"+ self.criteria +\" :\" + str(node.uncertainty))\n",
    "\n",
    "        # Call this function recursively on the true branch\n",
    "        print(spacing + '--> True:')\n",
    "        self.print_tree(node.true_branch, \"  \" + spacing + \"-\")\n",
    "\n",
    "        # Call this function recursively on the false branch\n",
    "        print(spacing + '--> False:')\n",
    "        self.print_tree(node.false_branch, \"  \" + spacing + \"-\")\n",
    "\n",
    "    def _regression(self, row, node, mean_predictions):\n",
    "\n",
    "        if node._is_leaf_node:\n",
    "            if mean_predictions:\n",
    "                return self._mean_leaf_value(node.leaf_value)\n",
    "            else:\n",
    "                return node.leaf_value\n",
    "                \n",
    "\n",
    "        if node.question.match(row):\n",
    "            return self._regression(row, node.true_branch, mean_predictions)\n",
    "        else:\n",
    "            return self._regression(row, node.false_branch, mean_predictions)\n",
    "\n",
    "\n",
    "    def predict(self, X, mean_predictions = True):\n",
    "        if isinstance(X, (np.ndarray, list)):\n",
    "            X = np.array(X, dtype='O') if not isinstance(X, (np.ndarray)) else X\n",
    "\n",
    "            if len(X.shape) == 1:\n",
    "                return self._regression(row=X, node=self._tree, mean_predictions=mean_predictions)\n",
    "            else:\n",
    "                leaf_value = []\n",
    "                for row in X:\n",
    "                    result = self._regression(row=row, node=self._tree, mean_predictions=mean_predictions)              \n",
    "                    leaf_value.append([result])\n",
    "                return np.array(leaf_value, dtype='O')\n",
    "        else:\n",
    "            raise ValueError(\"X should be list or numpy array\")\n"
   ]
  },
  {
   "cell_type": "markdown",
   "metadata": {},
   "source": [
    "### Testing with Data"
   ]
  },
  {
   "cell_type": "code",
   "execution_count": 10,
   "metadata": {},
   "outputs": [
    {
     "data": {
      "image/png": "[encoded data removed]",
      "text/plain": [
       "<Figure size 432x288 with 1 Axes>"
      ]
     },
     "metadata": {
      "needs_background": "light"
     },
     "output_type": "display_data"
    },
    {
     "data": {
      "text/plain": [
       "53.45240385196718"
      ]
     },
     "execution_count": 10,
     "metadata": {},
     "output_type": "execute_result"
    }
   ],
   "source": [
    "from sklearn.datasets import load_boston\n",
    "from sklearn.model_selection import train_test_split\n",
    "import pandas as pd\n",
    "\n",
    "boston_dataset = load_boston()\n",
    "\n",
    "dataset = pd.DataFrame(data=boston_dataset['data'],columns=boston_dataset.feature_names)\n",
    "dataset['target'] = boston_dataset[\"target\"]\n",
    "\n",
    "X = dataset[[\"RM\",\"AGE\",\"DIS\",\"LSTAT\"]].values\n",
    "y = boston_dataset.target.reshape(-1,1)\n",
    "\n",
    "feature_name = [\"RM\",\"AGE\",\"DIS\",\"LSTAT\"]\n",
    "X_train,X_test,y_train,y_test = train_test_split(X,y,random_state=42,test_size=0.10)\n",
    "\n",
    "dt = DecisionTreeRegressor(max_depth=100,min_samples_split=3)\n",
    "dt.train(X=X_train,y=y_train,feature_name=list(feature_name))\n",
    "y_pred = dt.predict(X_test)\n",
    "df = pd.DataFrame(np.concatenate((y_test.reshape(-1,1),y_pred),axis=1),columns=['original','predicted'])\n",
    "\n",
    "plt.plot(df['original'])\n",
    "plt.plot(df['predicted'])\n",
    "plt.show()\n",
    "\n",
    "from sklearn.metrics import mean_squared_error\n",
    "\n",
    "mean_squared_error(df['original'],df['predicted'])"
   ]
  },
  {
   "cell_type": "code",
   "execution_count": 41,
   "metadata": {},
   "outputs": [
    {
     "data": {
      "image/png": "[encoded data removed]",
      "text/plain": [
       "<Figure size 432x288 with 1 Axes>"
      ]
     },
     "metadata": {
      "needs_background": "light"
     },
     "output_type": "display_data"
    },
    {
     "data": {
      "text/plain": [
       "60.54931460672911"
      ]
     },
     "execution_count": 41,
     "metadata": {},
     "output_type": "execute_result"
    }
   ],
   "source": [
    "from sklearn.datasets import load_boston\n",
    "from sklearn.model_selection import train_test_split\n",
    "import pandas as pd\n",
    "\n",
    "boston_dataset = load_boston()\n",
    "\n",
    "dataset = pd.DataFrame(data=boston_dataset['data'],columns=boston_dataset.feature_names)\n",
    "dataset['target'] = boston_dataset[\"target\"]\n",
    "\n",
    "X = dataset[[\"RM\",\"AGE\",\"DIS\",\"LSTAT\"]].values\n",
    "y = boston_dataset.target.reshape(-1,1)\n",
    "\n",
    "feature_name = [\"RM\",\"AGE\",\"DIS\",\"LSTAT\"]\n",
    "X_train,X_test,y_train,y_test = train_test_split(X,y,random_state=42,test_size=0.10)\n",
    "\n",
    "dt = DecisionTreeRegressor(max_depth=50,min_samples_split=3)\n",
    "dt.train(X=X_train,y=y_train,feature_name=list(feature_name))\n",
    "y_pred = dt.predict(X_test)\n",
    "df = pd.DataFrame(np.concatenate((y_test.reshape(-1,1),y_pred),axis=1),columns=['original','predicted'])\n",
    "\n",
    "plt.plot(df['original'])\n",
    "plt.plot(df['predicted'])\n",
    "plt.show()\n",
    "\n",
    "from sklearn.metrics import mean_squared_error\n",
    "\n",
    "mean_squared_error(df['original'],df['predicted'])"
   ]
  },
  {
   "cell_type": "code",
   "execution_count": 42,
   "metadata": {},
   "outputs": [
    {
     "data": {
      "image/png": "[encoded data removed]",
      "text/plain": [
       "<Figure size 432x288 with 1 Axes>"
      ]
     },
     "metadata": {
      "needs_background": "light"
     },
     "output_type": "display_data"
    },
    {
     "data": {
      "text/plain": [
       "60.61012478090961"
      ]
     },
     "execution_count": 42,
     "metadata": {},
     "output_type": "execute_result"
    }
   ],
   "source": [
    "from sklearn.datasets import load_boston\n",
    "from sklearn.model_selection import train_test_split\n",
    "import pandas as pd\n",
    "\n",
    "boston_dataset = load_boston()\n",
    "\n",
    "dataset = pd.DataFrame(data=boston_dataset['data'],columns=boston_dataset.feature_names)\n",
    "dataset['target'] = boston_dataset[\"target\"]\n",
    "\n",
    "X = dataset[[\"RM\",\"AGE\",\"DIS\",\"LSTAT\"]].values\n",
    "y = boston_dataset.target.reshape(-1,1)\n",
    "\n",
    "feature_name = [\"RM\",\"AGE\",\"DIS\",\"LSTAT\"]\n",
    "X_train,X_test,y_train,y_test = train_test_split(X,y,random_state=42,test_size=0.10)\n",
    "\n",
    "dt = DecisionTreeRegressor(max_depth=35,min_samples_split=10)\n",
    "dt.train(X=X_train,y=y_train,feature_name=list(feature_name))\n",
    "y_pred = dt.predict(X_test)\n",
    "df = pd.DataFrame(np.concatenate((y_test.reshape(-1,1),y_pred),axis=1),columns=['original','predicted'])\n",
    "\n",
    "plt.plot(df['original'])\n",
    "plt.plot(df['predicted'])\n",
    "plt.show()\n",
    "\n",
    "from sklearn.metrics import mean_squared_error\n",
    "\n",
    "mean_squared_error(df['original'],df['predicted'])"
   ]
  }
 ],
 "metadata": {
  "kernelspec": {
   "display_name": "Python 3",
   "language": "python",
   "name": "python3"
  },
  "language_info": {
   "codemirror_mode": {
    "name": "ipython",
    "version": 3
   },
   "file_extension": ".py",
   "mimetype": "text/x-python",
   "name": "python",
   "nbconvert_exporter": "python",
   "pygments_lexer": "ipython3",
   "version": "3.8.3"
  }
 },
 "nbformat": 4,
 "nbformat_minor": 4
}
