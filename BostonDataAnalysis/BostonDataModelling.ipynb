{
 "metadata": {
  "language_info": {
   "codemirror_mode": {
    "name": "ipython",
    "version": 3
   },
   "file_extension": ".py",
   "mimetype": "text/x-python",
   "name": "python",
   "nbconvert_exporter": "python",
   "pygments_lexer": "ipython3",
   "version": "3.8.3-final"
  },
  "orig_nbformat": 2,
  "kernelspec": {
   "name": "python38364bitanaconda3conda5a21e7c9305747559a413d7622491a2e",
   "display_name": "Python 3.8.3 64-bit ('anaconda3': conda)"
  }
 },
 "nbformat": 4,
 "nbformat_minor": 2,
 "cells": [
  {
   "cell_type": "code",
   "execution_count": 36,
   "metadata": {
    "tags": []
   },
   "outputs": [
    {
     "output_type": "stream",
     "name": "stdout",
     "text": "(379, 13)\n(127, 13)\n1.0 0.8098834820264638\n"
    }
   ],
   "source": [
    "from sklearn.datasets import load_boston\n",
    "from sklearn.tree import DecisionTreeRegressor\n",
    "from sklearn.model_selection import train_test_split\n",
    "import numpy as np \n",
    "\n",
    "np.random.seed(100)\n",
    "\n",
    "dataset = load_boston()\n",
    "\n",
    "xTrain, xTest, yTrain, yTest = train_test_split(dataset.data,dataset.target.reshape(-1,1),random_state = 30)\n",
    "\n",
    "print(xTrain.shape)\n",
    "print(xTest.shape)\n",
    "dtReg = DecisionTreeRegressor()\n",
    "dtModel = dtReg.fit(xTrain,yTrain)\n",
    "\n",
    "print(dtModel.score(xTrain,yTrain),dtModel.score(xTest,yTest))\n"
   ]
  }
 ]
}