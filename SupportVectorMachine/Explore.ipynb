{
 "cells": [
  {
   "cell_type": "markdown",
   "metadata": {},
   "source": [
    "\n",
    "# Support Vector Machine"
   ]
  },
  {
   "cell_type": "markdown",
   "metadata": {},
   "source": [
    "## References \n",
    "\n",
    "* https://en.wikipedia.org/wiki/Dot_product\n",
    "* https://www.cs.cornell.edu/courses/cs4780/2022fa/lectures/lecturenote09.html\n",
    "* https://mlguidebook.com/en/latest/perceptron/explore.html\n",
    "* https://en.wikipedia.org/wiki/Support_vector_machine\n",
    "* convex optimization docs http://cvxopt.org/, https://web.stanford.edu/~boyd/cvxbook/bv_cvxbook.pdf"
   ]
  },
  {
   "cell_type": "code",
   "execution_count": 2,
   "metadata": {},
   "outputs": [],
   "source": [
    "import numpy as np\n",
    "import pandas as pd\n",
    "import matplotlib.pyplot as plt \n",
    "import seaborn as sns \n",
    "from matplotlib import style\n",
    "\n",
    "plt.style.use(\"fivethirtyeight\")\n",
    "\n",
    "%matplotlib inline"
   ]
  },
  {
   "cell_type": "markdown",
   "metadata": {},
   "source": [
    "## Assumptions\n",
    "\n",
    "* Binary Classification y = {-1, 1}\n",
    "* Data is linearly Separable\n"
   ]
  },
  {
   "cell_type": "markdown",
   "metadata": {},
   "source": [
    "## Concept\n",
    "\n",
    "![hyperplane](./hyperplane.drawio.svg)"
   ]
  },
  {
   "cell_type": "markdown",
   "metadata": {},
   "source": [
    "* Defining a linear classifier \\begin{align*}\n",
    "    h(x) = sign(w^T x + b)\n",
    "\\end{align*}\n",
    "\n",
    "* binary classification with labels -1 and +1\n",
    "* Typically data is linearly separable and there exist a plane with dimension n - 1 (where n is dimenstion of column space). This plane is defined by `Maximum Margin Hyperplane`\n",
    "* As perceptron also creates a hyperplane between the classes to linearly separate them. but it is needed to create a hyperplane that is optimum.\n",
    "* In above diagram we can see 3 hyperplanes. hyperplane 2 and 3 also separates the classes, but the test data point is wrongly classified with hyperplane 2's scenario. In essence, explaining that plane 2 and 3 are not generalized or optimum solutions.\n",
    "<!-- * only one vs rest -->\n",
    "\n",
    "\n",
    "### Maximum Margin Hyperplane\n",
    "\n",
    "* The plane maximizing the distance to the closest point from both classes\n",
    "* Hyperplane is good if it maximizes the margin (which is minimum distance from both classes)"
   ]
  },
  {
   "cell_type": "markdown",
   "metadata": {},
   "source": [
    "## Margin\n",
    "\n",
    "Hyperplane is defined by $\\vec{w}$ as\n",
    "\n",
    "\\begin{align}\n",
    "    \\mathcal{H} &= \\{x | w^T x + b = 0\\}\n",
    "\\end{align}"
   ]
  },
  {
   "cell_type": "markdown",
   "metadata": {},
   "source": [
    "![margin](./margin.drawio.svg)"
   ]
  },
  {
   "cell_type": "markdown",
   "metadata": {},
   "source": [
    "Let $\\gamma$ be the minimum distance from the hyperplane and closest point from both classes\n",
    "\n",
    "\\begin{align}\n",
    "    \\vec{x_p} &= \\vec{x} - \\vec{d} \\\\\n",
    "    w^T x_p + b &= 0 \\text{ point on the hyperplane }\\\\\n",
    "    w^T ( \\vec{x} - \\vec{d} ) + b &= 0\\\\ \\\\\n",
    "    \\vec{d} &= \\alpha \\vec{x}  && \\because \\text{ d is rescaled vector of w} \\\\ \\\\\n",
    "    w^T ( \\vec{x} - \\alpha \\vec{w} ) + b &= 0\\\\\n",
    "    \\Rightarrow \\alpha &= \\frac{w^T x + b}{w^T w}\\\\ \\\\\n",
    "    \\vec{d} &= \\frac{w^T x + b}{w^T x} . \\vec{x}\\\\\n",
    "    ||d||_2 &= \\sqrt{d^T d} = \\sqrt{\\alpha^2 w^T w}\\\\\n",
    "    &= \\alpha \\sqrt{w^T w} = \\frac{w^T x + b}{w^T x} \\sqrt{w^T w}\\\\\n",
    "    ||d||_2 &= \\frac{w^T x + b}{\\sqrt{w^T w}}\\\\\n",
    "    ||d||_2 &= \\frac{w^T x + b}{||w||_2}\\\\ \\\\\n",
    "    \\text{margin } \\gamma(w, b) &= {min\\atop{x \\in D}} \\frac{w^T x + b}{||w||_2}\n",
    "\\end{align}"
   ]
  },
  {
   "cell_type": "markdown",
   "metadata": {},
   "source": [
    "## Algorithm\n",
    "Now according to the definition of maximum margin classifier \n",
    "\n",
    "\\begin{align}\n",
    "    {max\\atop{w, b}}  \\gamma(w, b)\\\\\n",
    "\\end{align}\n",
    "\n",
    "But there is a problem with this definition as if we just want to increase the margin it can be anywhere (like $\\infty$ )\n",
    "\n",
    "This means we need to constraint the hyperplane to be between the classes or the plane of data (necessarily)\n",
    "\n",
    "Now\n",
    "\n",
    "\\begin{align}\n",
    "    {max\\atop{w, b}} \\gamma(w,b) && \\forall i : y_i (w^T x_i + b) \\geq 0\n",
    "\\end{align}\n",
    "\n",
    "we added constraint to  make sure the hyperplane is between the classes\n",
    "\n",
    "as we know $y \\in \\{-1, 1\\}$\n",
    "\n",
    "if $w^T x + b = -1$ and correctly classified then $-1 \\times -1 = 1$ and for label 1 as well.\n",
    "\n",
    "if we move forward with this, then\n",
    "\n",
    "\\begin{align}\n",
    "    {max\\atop{w, b}} \\big[ {min\\atop{x \\in D}} \\frac{|w^T x + b|}{w^ T w} \\big] && \\forall i : y_i (w^T x_i + b) \\geq 0 \\\\ \\\\\n",
    "    {max\\atop{w, b}} \\frac{1}{w^T w} \\big[ {min\\atop{x \\in D}} |w^T x + b| \\big] && \\forall i : y_i (w^T x_i + b) \\geq 0\n",
    "\\end{align}\n",
    "\n"
   ]
  },
  {
   "cell_type": "markdown",
   "metadata": {},
   "source": [
    "![margin2](./margin2.drawio.svg)\n",
    "\n",
    "\n",
    "\\begin{align}\n",
    "    H &= \\{ x : w^T x + b = 0\\}\n",
    "\\end{align}\n",
    "\n",
    "`Special Trick`\n",
    "If we rescale the value of w and b to any positive value then the result is going to be the same (means there is no unique solution)"
   ]
  },
  {
   "cell_type": "markdown",
   "metadata": {},
   "source": [
    "\n",
    "\n",
    "\\begin{align}\n",
    "    {max\\atop{w, b}} \\frac{1}{w^T w} \\big[ {min\\atop{x \\in D}} |w^T x + b| \\big] \n",
    "    \\\\ \\\\ \\forall i : y_i (w^T x_i + b) \\geq 0 \\\\ \\\\ {\\min\\atop{x \\in D}} | w^T x + b | = 1\n",
    "\\end{align}\n",
    "\n",
    "Minimum margin value is 1. There exist a solution possible where minimum  arging is 1.\n",
    "\n",
    "\\begin{align}\n",
    "    {min\\atop{w, b}} w^T w && \\forall i: y_i(w^T x_i + b) \\geq 0 \\\\ && {min\\atop{x \\in D}} | w^T x + b | = 1 \\\\ \\\\\n",
    "    & \\Updownarrow \\\\ \\\\\n",
    "     {min\\atop{w, b}} w^T w && \\forall i: y_i(w^T x_i + b) \\geq 1\n",
    "\\end{align}"
   ]
  },
  {
   "cell_type": "markdown",
   "metadata": {},
   "source": [
    "<!-- from sklearn.datasets import make_classification\n",
    "\n",
    "X, y = make_classification(n_samples=50, n_features=2, n_redundant=0, n_classes=2, class_sep=2,\n",
    "                           n_clusters_per_class=1, random_state=666)\n",
    "\n",
    "y = np.where(y == 0, 1, -1) # to change classes from 0,1 to -1,1\n",
    "\n",
    "fig = plt.figure()\n",
    "ax = fig.add_subplot(1,1,1)\n",
    "sns.scatterplot(x=X[:,0], y=X[:,1], hue=y, style=y, ax=ax, palette='deep')\n",
    "plt.show()\n",
    "\n",
    "n_samples, n_features = X.shape\n",
    "w = np.zeros((n_features))\n",
    "b = 0\n",
    "\n",
    "while True:\n",
    "    m = 0\n",
    "    for i in range(n_samples):\n",
    "        if (y[i] * (w.T @ X[i]) + b) >= 1: # misclassification\n",
    "            w = w + (y[i] * X[i])\n",
    "            m = m + 1\n",
    "\n",
    "    ## if this loop was while(infinite) then when the classifier perfectly fits\n",
    "    ## 0 misclassifications\n",
    "    ## then m = 0 and it will break the loop\n",
    "    if m == 0:\n",
    "        break\n",
    "\n",
    "y_pred = np.int32(np.sign(w @ X.T))\n",
    "\n",
    "fig = plt.figure(figsize=(10,5))\n",
    "ax = fig.add_subplot(1,2,1)\n",
    "sns.scatterplot(x=X[:,0], y=X[:,1], hue=y, style=y, ax=ax, palette='deep')\n",
    "ax.set_title(\"y true\")\n",
    "\n",
    "ax = fig.add_subplot(1,2,2)\n",
    "sns.scatterplot(x=X[:,0], y=X[:,1], hue=y_pred, style=y_pred, ax=ax, palette='deep')\n",
    "ax.set_title(\"y pred\")\n",
    "\n",
    "plt.show() -->"
   ]
  }
 ],
 "metadata": {
  "kernelspec": {
   "display_name": "py39",
   "language": "python",
   "name": "py39"
  },
  "language_info": {
   "codemirror_mode": {
    "name": "ipython",
    "version": 3
   },
   "file_extension": ".py",
   "mimetype": "text/x-python",
   "name": "python",
   "nbconvert_exporter": "python",
   "pygments_lexer": "ipython3",
   "version": "3.9.1"
  },
  "toc-autonumbering": false,
  "toc-showcode": false,
  "toc-showmarkdowntxt": false
 },
 "nbformat": 4,
 "nbformat_minor": 4
}
