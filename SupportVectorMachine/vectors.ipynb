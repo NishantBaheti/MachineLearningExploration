{
 "cells": [
  {
   "cell_type": "markdown",
   "id": "3b2c1654-a9d5-4a4f-ba24-7547a7cd6d3b",
   "metadata": {},
   "source": [
    "# Vectors"
   ]
  },
  {
   "cell_type": "code",
   "execution_count": 1,
   "id": "c2253ecf-866b-4f28-8f31-520300ba42a6",
   "metadata": {},
   "outputs": [],
   "source": [
    "import numpy as np\n",
    "import pandas as pd\n",
    "import matplotlib.pyplot as plt \n",
    "import seaborn as sns \n",
    "from matplotlib import style\n",
    "\n",
    "plt.style.use(\"fivethirtyeight\")\n",
    "\n",
    "%matplotlib inline"
   ]
  },
  {
   "cell_type": "code",
   "execution_count": 2,
   "id": "510f0bf4-3484-4f0d-b015-949d2dc87b52",
   "metadata": {},
   "outputs": [],
   "source": [
    "dataset = np.array([\n",
    "    [1,2,1],\n",
    "    [8,9,-1],\n",
    "    [1.5,2.2,1],\n",
    "    [10,11,-1],\n",
    "    [0.5,1.23,1],\n",
    "    [8.5,9.5,-1],\n",
    "    [0.83,4.33,1],\n",
    "    [10.32,11,-1]\n",
    "])\n",
    "columns = ['f1', 'f2', 'target']\n",
    "X = dataset[:,[0,1]]\n",
    "y = dataset[:,[-1]]\n"
   ]
  },
  {
   "cell_type": "code",
   "execution_count": 3,
   "id": "25d64aed-2694-4e0e-b9ad-e892190e98e5",
   "metadata": {},
   "outputs": [
    {
     "data": {
      "image/png": "[encoded data removed]",
      "text/plain": [
       "<Figure size 720x360 with 2 Axes>"
      ]
     },
     "metadata": {
      "needs_background": "light"
     },
     "output_type": "display_data"
    }
   ],
   "source": [
    "fig = plt.figure(figsize=(10, 5))\n",
    "ax = fig.add_subplot(1,2,1)\n",
    "ax.scatter(X[:,0], X[:,1], c=y, s=10)\n",
    "\n",
    "ax = fig.add_subplot(1,2,2)\n",
    "ax.scatter(X[:, 0], X[:, 1], c=y, s=100)\n",
    "\n",
    "for i in dataset[:,[0,1]]:\n",
    "    ax.plot([0,i[0]],[0,i[1]] ,'k-.', alpha=0.3)\n",
    "\n",
    "plt.show()"
   ]
  },
  {
   "cell_type": "markdown",
   "id": "b027b8fb-b928-427f-a4eb-5ee8347b9378",
   "metadata": {},
   "source": [
    "## dot product"
   ]
  },
  {
   "cell_type": "code",
   "execution_count": 4,
   "id": "290fa495-0013-4c68-b716-112ee7fb9525",
   "metadata": {},
   "outputs": [
    {
     "data": {
      "text/plain": [
       "((2, 1), (2, 1))"
      ]
     },
     "execution_count": 4,
     "metadata": {},
     "output_type": "execute_result"
    }
   ],
   "source": [
    "x = np.array([[1],[2]])\n",
    "y = np.array([[2],[3]])\n",
    "\n",
    "(\n",
    "    x.shape , \n",
    "    y.shape\n",
    ")"
   ]
  },
  {
   "cell_type": "code",
   "execution_count": 5,
   "id": "bccc33d1-6de1-4fef-bab9-408bfd9e3e84",
   "metadata": {},
   "outputs": [
    {
     "data": {
      "text/plain": [
       "array([[2],\n",
       "       [6]])"
      ]
     },
     "execution_count": 5,
     "metadata": {},
     "output_type": "execute_result"
    }
   ],
   "source": [
    "x * y"
   ]
  },
  {
   "cell_type": "markdown",
   "id": "ba1d4873-9e56-4bbe-9eab-14c8e396239a",
   "metadata": {},
   "source": [
    "## cross product"
   ]
  },
  {
   "cell_type": "code",
   "execution_count": 6,
   "id": "48dc33db-951e-43e4-9167-089163c49ef9",
   "metadata": {},
   "outputs": [
    {
     "data": {
      "text/plain": [
       "(array([[1],\n",
       "        [2]]),\n",
       " array([[2, 3]]),\n",
       " array([[2, 3],\n",
       "        [4, 6]]))"
      ]
     },
     "execution_count": 6,
     "metadata": {},
     "output_type": "execute_result"
    }
   ],
   "source": [
    "(\n",
    "    x , \n",
    "    y.T , \n",
    "    x @ y.T\n",
    ")"
   ]
  },
  {
   "cell_type": "markdown",
   "id": "5fb3bb1a-7beb-4009-a4f4-ae8cc59d4ece",
   "metadata": {},
   "source": [
    "## magnitude $||\\vec{A}||$ "
   ]
  },
  {
   "cell_type": "code",
   "execution_count": 7,
   "id": "2cf52080-e8fb-493e-b8d6-31d89f6cafb9",
   "metadata": {},
   "outputs": [
    {
     "data": {
      "text/plain": [
       "(array([[1],\n",
       "        [2]]),\n",
       " 2.23606797749979,\n",
       " 2.23606797749979)"
      ]
     },
     "execution_count": 7,
     "metadata": {},
     "output_type": "execute_result"
    }
   ],
   "source": [
    "(\n",
    "    x, \n",
    "    np.sqrt(np.sum(x**2)), \n",
    "    np.linalg.norm(x)\n",
    ")"
   ]
  },
  {
   "cell_type": "markdown",
   "id": "4b220210-41fb-45a6-ae7b-8d45368aa44e",
   "metadata": {
    "tags": []
   },
   "source": [
    "## project $\\vec{A}$ to $\\vec{B}$\n",
    "\n",
    "$$\n",
    "proj_\\vec{A}(\\vec{B}) = (\\vec{A}.\\vec{B}).\\frac{\\vec{B}}{||\\vec{B}||^2}\n",
    "$$\n",
    "\n",
    "### dot product\n",
    "$\\vec{A}.\\vec{B} \\sim A^T.B \\sim B @ A.T$\n",
    "\n",
    "B @ $A.T  \\sim A @ $B.T$ (only difference in shape)"
   ]
  },
  {
   "cell_type": "code",
   "execution_count": 8,
   "id": "368cfb7f-bd3b-41cc-a622-71ce05eea652",
   "metadata": {},
   "outputs": [
    {
     "data": {
      "text/plain": [
       "((1, 2), (3, 2))"
      ]
     },
     "execution_count": 8,
     "metadata": {},
     "output_type": "execute_result"
    }
   ],
   "source": [
    "W = np.array([[1,3]])\n",
    "X = np.array([[4,5],[6,7],[1,8]])\n",
    "\n",
    "W.shape, X.shape"
   ]
  },
  {
   "cell_type": "code",
   "execution_count": 9,
   "id": "e2deddab-ed65-434e-b124-b3eb135b6306",
   "metadata": {},
   "outputs": [
    {
     "data": {
      "text/plain": [
       "array([[19, 27, 25]])"
      ]
     },
     "execution_count": 9,
     "metadata": {},
     "output_type": "execute_result"
    }
   ],
   "source": [
    "W @ X.T"
   ]
  },
  {
   "cell_type": "code",
   "execution_count": 10,
   "id": "7fef8b5a-276e-47f8-a8d6-bc570c16b17d",
   "metadata": {},
   "outputs": [
    {
     "data": {
      "text/plain": [
       "array([[19],\n",
       "       [27],\n",
       "       [25]])"
      ]
     },
     "execution_count": 10,
     "metadata": {},
     "output_type": "execute_result"
    }
   ],
   "source": [
    "X @ W.T"
   ]
  },
  {
   "cell_type": "markdown",
   "id": "2d17491a-bc62-4397-8593-6ec56640996f",
   "metadata": {},
   "source": [
    "## Projection"
   ]
  },
  {
   "cell_type": "code",
   "execution_count": 11,
   "id": "ba718e1b-63f7-4f87-b934-592a6038799e",
   "metadata": {},
   "outputs": [],
   "source": [
    "def projection(A, B):\n",
    "    return (B @ A.T) * (B / np.linalg.norm(B)**2)"
   ]
  },
  {
   "cell_type": "code",
   "execution_count": 12,
   "id": "5b570c31-314b-40b1-b155-00dc1d31c433",
   "metadata": {},
   "outputs": [
    {
     "data": {
      "image/png": "[encoded data removed]",
      "text/plain": [
       "<Figure size 720x720 with 2 Axes>"
      ]
     },
     "metadata": {
      "needs_background": "light"
     },
     "output_type": "display_data"
    }
   ],
   "source": [
    "A = np.array([[1,10]]) \n",
    "B = np.array([[-4,2]])\n",
    "\n",
    "fig = plt.figure(figsize=(10,10))\n",
    "ax = fig.add_subplot(2,2,(1,2))\n",
    "\n",
    "ax.scatter(A[:,[0]],A[:,[1]],s=70,label=\"A\")\n",
    "ax.scatter(B[:,[0]],B[:,[1]],s=70,label=\"B\")\n",
    "\n",
    "\n",
    "for i in A:\n",
    "    ax.plot([0,i[0]],[0,i[1]],alpha=0.7,label='A')\n",
    "for i in B:\n",
    "    ax.plot([0,i[0]],[0,i[1]],alpha=0.7,label='B')\n",
    "\n",
    "ax.legend(loc='best')\n",
    "\n",
    "\n",
    "ax = fig.add_subplot(2,2,(3,4))\n",
    "\n",
    "ax.scatter(A[:,[0]],A[:,[1]],s=70,label='A')\n",
    "ax.scatter(B[:,[0]],B[:,[1]],s=70,label='B')\n",
    "\n",
    "for i in A:\n",
    "    ax.plot([0,i[0]],[0,i[1]],alpha=0.7,label='A')\n",
    "for i in B:\n",
    "    ax.plot([0,i[0]],[0,i[1]],alpha=0.7,label='B')\n",
    "    \n",
    "proj = projection(A,B)\n",
    "\n",
    "ax.scatter(proj[:,[0]],proj[:,[1]],s=70,label=\"projection\",c='black')\n",
    "for i in proj:\n",
    "    ax.plot([0,i[0]],[0,i[1]],c='black',alpha=0.7,label=\"projection\",ls='--')\n",
    "\n",
    "ax.legend(loc='best')\n",
    "plt.show()"
   ]
  }
 ],
 "metadata": {
  "kernelspec": {
   "display_name": "Python 3 (ipykernel)",
   "language": "python",
   "name": "python3"
  },
  "language_info": {
   "codemirror_mode": {
    "name": "ipython",
    "version": 3
   },
   "file_extension": ".py",
   "mimetype": "text/x-python",
   "name": "python",
   "nbconvert_exporter": "python",
   "pygments_lexer": "ipython3",
   "version": "3.9.1"
  }
 },
 "nbformat": 4,
 "nbformat_minor": 5
}
