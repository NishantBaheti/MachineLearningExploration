{
 "cells": [
  {
   "cell_type": "markdown",
   "id": "d3e10ad8-1ece-49d7-a933-8f9595cf57af",
   "metadata": {},
   "source": [
    "# Bias-Variance Tradeoff"
   ]
  },
  {
   "cell_type": "markdown",
   "id": "edf418fb-de1d-4292-b04e-bcf1539e4075",
   "metadata": {},
   "source": [
    "## Reference\n",
    " \n",
    " - https://www.youtube.com/watch?v=pvcEQfcO3pk (stanford youtube)\n",
    " - ISLR"
   ]
  },
  {
   "cell_type": "markdown",
   "id": "907d5a07-4b95-4a66-aa2a-2fc638873a5c",
   "metadata": {},
   "source": [
    "## Concept\n",
    "\n",
    "* Bias-Variance Tradeoff is a fundamental concept of Machine Learning to address challenges of model performance and generalization.\n",
    " \n",
    " There are 2 concepts in Bias-Variance Tradeoff "
   ]
  },
  {
   "cell_type": "markdown",
   "id": "2adcf706-7629-4fa1-ae6f-28337dae94cc",
   "metadata": {},
   "source": [
    "## Bias Error\n",
    " \n",
    " * Bias is explained by inabilty to capture the true relationship between dependent and independent variable.\n",
    " \n",
    " * It means approximation of real world problem with a generalized/simple model\n",
    " \n",
    " * High bias means model made significant assumptions about data that it doesn't actually learn the underlying pattern or complexity of real world data.\n",
    " \n",
    " * In essence model was `too simple` that it couldn't learn the pattern and resulted in `underfitting`. This model will perform poorly on both training data as well as testing data"
   ]
  },
  {
   "cell_type": "markdown",
   "id": "31c977d8-41e8-4733-b559-5868085012b8",
   "metadata": {},
   "source": [
    "## Variance Error\n",
    " \n",
    " * differene in model fit and actual values of the dataset. \n",
    " \n",
    " * High Variance means that the model is flexible(complex) and fits training data closely (`even captures random fluctuations`)\n",
    " \n",
    " * The amount at which model fit will change it we change the training data, If a method has high variance then a small change in training data can result in large change in model fit.\n",
    " \n",
    " * In essence model was `too complex` that it learnt every possible pattern and resulted in `overfitting`. This model will perform well on training data but can perform poorly on testing or on real world data."
   ]
  },
  {
   "cell_type": "code",
   "execution_count": null,
   "id": "30a1510a-0598-45cf-86e4-9a8ab25cbcac",
   "metadata": {},
   "outputs": [],
   "source": []
  }
 ],
 "metadata": {
  "kernelspec": {
   "display_name": "Python 3 (ipykernel)",
   "language": "python",
   "name": "python3"
  },
  "language_info": {
   "codemirror_mode": {
    "name": "ipython",
    "version": 3
   },
   "file_extension": ".py",
   "mimetype": "text/x-python",
   "name": "python",
   "nbconvert_exporter": "python",
   "pygments_lexer": "ipython3",
   "version": "3.9.1"
  }
 },
 "nbformat": 4,
 "nbformat_minor": 5
}
