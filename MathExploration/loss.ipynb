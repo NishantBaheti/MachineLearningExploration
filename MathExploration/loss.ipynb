{
 "cells": [
  {
   "cell_type": "markdown",
   "id": "80fa3cb6-68d4-491e-8ba0-8c7a46c330ba",
   "metadata": {},
   "source": [
    "# Classification Loss\n",
    "\n",
    "## References \n",
    "\n",
    "- https://en.wikipedia.org/wiki/Hinge_loss\n",
    "- https://www.cs.cornell.edu/courses/cs4780/2018fa/lectures/lecturenote10.html"
   ]
  },
  {
   "cell_type": "code",
   "execution_count": 2,
   "id": "aec0ca3f-2df7-4f6d-8a6c-54eda050e2d9",
   "metadata": {},
   "outputs": [],
   "source": [
    "import numpy as np"
   ]
  },
  {
   "cell_type": "code",
   "execution_count": 62,
   "id": "fc059a87-2ff7-4d87-ab64-56a5eb579e23",
   "metadata": {},
   "outputs": [],
   "source": [
    "from sklearn import metrics"
   ]
  },
  {
   "cell_type": "code",
   "execution_count": 108,
   "id": "4f47a790-3159-4b0a-8684-d990b90ef2ca",
   "metadata": {},
   "outputs": [],
   "source": [
    "y_true = np.array([1, 1, 1, 1, 1, 1, 1, 1, 1])\n",
    "y_pred = np.array([-1, 1, 1, 1, 1, 1, 1, 1, 1])"
   ]
  },
  {
   "cell_type": "markdown",
   "id": "5042cf75-493d-44da-b234-6b90df675685",
   "metadata": {},
   "source": [
    "## Hinge Loss\n",
    "\n",
    "\\begin{align}\n",
    "    L(h_w(x_i, y_i)) = \\max(1 - h_w(x_i) y_i, 0)^p\n",
    "\\end{align}\n",
    "\n",
    "| p | Usecase | \n",
    "|-|-|\n",
    "| p = 1 | SVM |\n",
    "| p = 2 | Squared Loss SVM |"
   ]
  },
  {
   "cell_type": "code",
   "execution_count": 109,
   "id": "6bc6a438-431b-46d9-8276-790423ab0d53",
   "metadata": {},
   "outputs": [],
   "source": [
    "def hinge_loss(y_true, y_pred, p):\n",
    "    return np.power(np.max(np.c_[1 - (y_true * y_pred), np.zeros_like(y_true)], axis=1), p).mean()"
   ]
  },
  {
   "cell_type": "code",
   "execution_count": 110,
   "id": "8c4b5e2c-d68e-44f4-8402-b73f6d3b2484",
   "metadata": {},
   "outputs": [
    {
     "data": {
      "text/plain": [
       "0.2222222222222222"
      ]
     },
     "execution_count": 110,
     "metadata": {},
     "output_type": "execute_result"
    }
   ],
   "source": [
    "hinge_loss(y_true, y_pred, 1)"
   ]
  },
  {
   "cell_type": "markdown",
   "id": "bfbce6d9-b637-4145-b22c-94a6f452a714",
   "metadata": {},
   "source": [
    "## Log Loss\n",
    "\n",
    "\\begin{align}\n",
    "    L(h_w(x_i, y_i)) = \\log(1 + e^{- y_i  h_w(x_i)})\n",
    "\\end{align}\n",
    "\n",
    "* Used for Logistic Regression"
   ]
  },
  {
   "cell_type": "code",
   "execution_count": 111,
   "id": "22f1cf73-b79a-4aa5-89bc-8f5c26767fdb",
   "metadata": {},
   "outputs": [],
   "source": [
    "def log_loss(y_true, y_pred):\n",
    "    return np.log(1 + np.exp(-(y_true * y_pred))).mean()"
   ]
  },
  {
   "cell_type": "code",
   "execution_count": 112,
   "id": "14b5ba1b-a9c2-4594-8508-15bfedeed70c",
   "metadata": {},
   "outputs": [
    {
     "data": {
      "text/plain": [
       "0.42437279862933397"
      ]
     },
     "execution_count": 112,
     "metadata": {},
     "output_type": "execute_result"
    }
   ],
   "source": [
    "log_loss(y_true, y_pred)"
   ]
  },
  {
   "cell_type": "markdown",
   "id": "61211c60-9a89-4782-b6eb-0cafa2df2f4a",
   "metadata": {},
   "source": [
    "## Exponential Loss\n",
    "\n",
    "\\begin{align}\n",
    "    L(h_w(x_i, y_i)) = e^{-h_w(x_i) y_i} \n",
    "\\end{align}\n",
    "\n",
    "* Adaboost"
   ]
  },
  {
   "cell_type": "code",
   "execution_count": 73,
   "id": "7d1a12d6-3fea-4c62-9f9c-561477b3ec2a",
   "metadata": {},
   "outputs": [],
   "source": [
    "def exp_loss(y_true, y_pred):\n",
    "    return np.exp(-(y_pred * y_true))"
   ]
  },
  {
   "cell_type": "code",
   "execution_count": 74,
   "id": "3c1c451e-131b-466d-b474-2c43b743f8fc",
   "metadata": {},
   "outputs": [
    {
     "data": {
      "text/plain": [
       "array([0.36787944, 2.71828183, 0.36787944, 0.36787944, 2.71828183,\n",
       "       2.71828183, 2.71828183, 2.71828183, 0.36787944])"
      ]
     },
     "execution_count": 74,
     "metadata": {},
     "output_type": "execute_result"
    }
   ],
   "source": [
    "exp_loss(y_true, y_pred)"
   ]
  },
  {
   "cell_type": "markdown",
   "id": "ab10b622-6814-4d4a-a4ab-ffdabf8d27ec",
   "metadata": {},
   "source": [
    "## Zero-One Loss\n",
    "\n",
    "\\begin{align}\n",
    "    L(h_w(x_i, y_i)) = \\delta_{h_w(x_i) \\ne y_i}\n",
    "\\end{align}"
   ]
  }
 ],
 "metadata": {
  "kernelspec": {
   "display_name": "Python 3 (ipykernel)",
   "language": "python",
   "name": "python3"
  },
  "language_info": {
   "codemirror_mode": {
    "name": "ipython",
    "version": 3
   },
   "file_extension": ".py",
   "mimetype": "text/x-python",
   "name": "python",
   "nbconvert_exporter": "python",
   "pygments_lexer": "ipython3",
   "version": "3.9.1"
  }
 },
 "nbformat": 4,
 "nbformat_minor": 5
}
