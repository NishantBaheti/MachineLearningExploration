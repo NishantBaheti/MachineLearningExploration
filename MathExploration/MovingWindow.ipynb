{
 "cells": [
  {
   "cell_type": "markdown",
   "metadata": {},
   "source": [
    "# Moving Window Frame\n",
    "\n",
    "Lets take this array\n",
    "\n",
    "\\begin{bmatrix}\n",
    "     1 & 2 & 3 & 4 & 5 & 6 & 7 & 8 & 9 & 10\n",
    "\\end{bmatrix}\n",
    "\n",
    "\n",
    "`length of the array = 10`\n",
    "\n",
    "lets take a `moving window = 4` \n",
    "\n",
    "now there are two ways to create a frame."
   ]
  },
  {
   "cell_type": "markdown",
   "metadata": {},
   "source": [
    "### Iteration By Row\n",
    "\n",
    "Iterate by window length and append data in new frame.\n",
    "\n",
    "like for given example window is 4\n",
    "\n",
    "index 0 to 3\n",
    "\\begin{bmatrix}\n",
    "    1 & 2 & 3 & 4 & 5 & 6 & 7 & 8 & 9 & 10\\\\\n",
    "    \\uparrow & & & \\uparrow\n",
    "\\end{bmatrix}\n",
    "\n",
    "index 1 to 4\n",
    "\\begin{bmatrix}\n",
    "    1 & 2 & 3 & 4 & 5 & 6 & 7 & 8 & 9 & 10\\\\\n",
    "    & \\uparrow & & & \\uparrow\n",
    "\\end{bmatrix}\n",
    "\n",
    "index 2 to 5\n",
    "\\begin{bmatrix}\n",
    "    1 & 2 & 3 & 4 & 5 & 6 & 7 & 8 & 9 & 10\\\\\n",
    "    & & \\uparrow & & & \\uparrow\n",
    "\\end{bmatrix}\n",
    "\n",
    "index 3 to 6\n",
    "\\begin{bmatrix}\n",
    "    1 & 2 & 3 & 4 & 5 & 6 & 7 & 8 & 9 & 10\\\\\n",
    "    & & & \\uparrow & & & \\uparrow\n",
    "\\end{bmatrix}\n",
    "\n",
    "and so on ...\n",
    "\n",
    "\\begin{bmatrix}\n",
    "    1 & 2 & 3 & 4\\\\\n",
    "    2 & 3 & 4 & 5\\\\\n",
    "    3 & 4 & 5 & 6\\\\\n",
    "    4 & 5 & 6 & 7\\\\\n",
    "    5 & 6 & 7 & 8\\\\\n",
    "    6 & 7 & 8 & 9\\\\\n",
    "    7 & 8 & 9 & 10\n",
    "\\end{bmatrix}\n",
    "\n",
    "\n",
    "but here the iteration is going to happen for length - window + 1 (10 - 4 + 1 = 7) times. If we have one million rows then this\n",
    "is too big/ long operation."
   ]
  },
  {
   "cell_type": "code",
   "execution_count": 2,
   "metadata": {},
   "outputs": [],
   "source": [
    "import numpy as np"
   ]
  },
  {
   "cell_type": "code",
   "execution_count": 3,
   "metadata": {},
   "outputs": [
    {
     "name": "stdout",
     "output_type": "stream",
     "text": [
      "4 0 10 7\n",
      "0\n",
      "1\n",
      "2\n",
      "3\n",
      "4\n",
      "5\n",
      "6\n"
     ]
    },
    {
     "data": {
      "text/plain": [
       "array([[ 1,  2,  3,  4],\n",
       "       [ 2,  3,  4,  5],\n",
       "       [ 3,  4,  5,  6],\n",
       "       [ 4,  5,  6,  7],\n",
       "       [ 5,  6,  7,  8],\n",
       "       [ 6,  7,  8,  9],\n",
       "       [ 7,  8,  9, 10]])"
      ]
     },
     "execution_count": 3,
     "metadata": {},
     "output_type": "execute_result"
    }
   ],
   "source": [
    "a = np.array([1,2,3,4,5,6,7,8,9,10])\n",
    "\n",
    "window = 4\n",
    "start = 0\n",
    "end = a.shape[0]\n",
    "frame_length = end - window + 1\n",
    "\n",
    "print(window, start, end, frame_length)\n",
    "\n",
    "new_frame = []\n",
    "for i in range(0,frame_length):\n",
    "    print(i)\n",
    "    new_frame.append(a[i:i+window])\n",
    "    \n",
    "np.array(new_frame)"
   ]
  },
  {
   "cell_type": "markdown",
   "metadata": {},
   "source": [
    "### Iteration By Column\n",
    "\n",
    "Iterate by Columns first approach and start with length (length - window + 1 ) (10 - 4 + 1 = 7 till 6th index)  \n",
    "\n",
    "\\begin{bmatrix}\n",
    "    1 & 2 & 3 & 4 & 5 & 6 & 7 & 8 & 9 & 10\\\\\n",
    "    \\uparrow & & & & & & \\uparrow\n",
    "\\end{bmatrix}\n",
    "\n",
    "\\begin{bmatrix}\n",
    "    1 & 2 & 3 & 4 & 5 & 6 & 7 & 8 & 9 & 10\\\\\n",
    "    & \\uparrow & & & & & & \\uparrow\n",
    "\\end{bmatrix}\n",
    "\n",
    "\\begin{bmatrix}\n",
    "    1 & 2 & 3 & 4 & 5 & 6 & 7 & 8 & 9 & 10\\\\\n",
    "    & & \\uparrow & & & & & & \\uparrow\n",
    "\\end{bmatrix}\n",
    "\n",
    "\\begin{bmatrix}\n",
    "    1 & 2 & 3 & 4 & 5 & 6 & 7 & 8 & 9 & 10\\\\\n",
    "    & & & \\uparrow & & & & & & \\uparrow\n",
    "\\end{bmatrix}\n",
    "\n",
    "\n",
    "\\begin{bmatrix}\n",
    "    1 & 2 & 3 & 4 & 5 & 6 & 7\\\\\n",
    "    2 & 3 & 4 & 5 & 6 & 7 & 8\\\\\n",
    "    3 & 4 & 5 & 6 & 7 & 8 & 9\\\\\n",
    "    4 & 5 & 6 & 7 & 8 & 9 & 10\n",
    "\\end{bmatrix}\n",
    "\n",
    "transpose it \n",
    "\\begin{bmatrix}\n",
    "    1 & 2 & 3 & 4\\\\\n",
    "    2 & 3 & 4 & 5\\\\\n",
    "    3 & 4 & 5 & 6\\\\\n",
    "    4 & 5 & 6 & 7\\\\\n",
    "    5 & 6 & 7 & 8\\\\\n",
    "    6 & 7 & 8 & 9\\\\\n",
    "    7 & 8 & 9 & 10\n",
    "\\end{bmatrix}"
   ]
  },
  {
   "cell_type": "code",
   "execution_count": 4,
   "metadata": {},
   "outputs": [
    {
     "name": "stdout",
     "output_type": "stream",
     "text": [
      "4 0 10 7\n",
      "0\n",
      "1\n",
      "2\n",
      "3\n"
     ]
    },
    {
     "data": {
      "text/plain": [
       "array([[ 1,  2,  3,  4],\n",
       "       [ 2,  3,  4,  5],\n",
       "       [ 3,  4,  5,  6],\n",
       "       [ 4,  5,  6,  7],\n",
       "       [ 5,  6,  7,  8],\n",
       "       [ 6,  7,  8,  9],\n",
       "       [ 7,  8,  9, 10]])"
      ]
     },
     "execution_count": 4,
     "metadata": {},
     "output_type": "execute_result"
    }
   ],
   "source": [
    "a = np.array([1,2,3,4,5,6,7,8,9,10])\n",
    "\n",
    "window = 4\n",
    "start = 0\n",
    "end = a.shape[0]\n",
    "frame_width = end - window + 1 \n",
    "\n",
    "print(window, start, end, frame_width)\n",
    "\n",
    "\n",
    "new_frame = []\n",
    "for i in range(0, window):\n",
    "    print(i)\n",
    "    new_frame.append(a[i:i+frame_width])\n",
    "    \n",
    "np.array(new_frame).T"
   ]
  }
 ],
 "metadata": {
  "kernelspec": {
   "display_name": "Python 3.8.3 64-bit ('base': conda)",
   "language": "python",
   "name": "python383jvsc74a57bd01da5964c5502736b4e0a0c4398fb3b913682175f516e99bd48540f11726a612c"
  },
  "language_info": {
   "codemirror_mode": {
    "name": "ipython",
    "version": 3
   },
   "file_extension": ".py",
   "mimetype": "text/x-python",
   "name": "python",
   "nbconvert_exporter": "python",
   "pygments_lexer": "ipython3",
   "version": "3.8.3"
  }
 },
 "nbformat": 4,
 "nbformat_minor": 4
}
