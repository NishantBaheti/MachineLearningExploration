{
 "cells": [
  {
   "cell_type": "markdown",
   "metadata": {},
   "source": [
    "# Principal Component Analysis"
   ]
  },
  {
   "cell_type": "markdown",
   "metadata": {
    "toc-hr-collapsed": true
   },
   "source": [
    "## Statistical interpretation of SVD"
   ]
  },
  {
   "cell_type": "markdown",
   "metadata": {},
   "source": [
    "- Principal components analysis (PCA) is a popular approach for deriving a low-dimensional set of features from a large set of variables.\n",
    "- PCA is a technique for reducing the dimension of a n × p data matrix X. The first principal component direction of the data is that along which the observations vary the most\n",
    "- When faced with a large set of correlated variables, principal components allow us to summarize this set with a smaller number of representative variables that collectively explain most of the variability in the original set.\n",
    "- hierarchical co-ordinate systems "
   ]
  },
  {
   "cell_type": "markdown",
   "metadata": {},
   "source": [
    "each row vector x is measurement from a single experiment\n",
    "\n",
    "$X = \\begin{bmatrix}\n",
    "    -- && x_1 && --\\\\\n",
    "    -- && x_2 && --\\\\\n",
    "       &&  .\\\\\n",
    "       &&  .\n",
    "\\end{bmatrix}$"
   ]
  },
  {
   "cell_type": "markdown",
   "metadata": {},
   "source": [
    "- Compute mean row $\\bar{x} = \\frac{1}{n}{\\sum_{j=0}^{n}{x_j}}$\n",
    "\n",
    "    $\\bar{X}$ average matrix\n",
    "\n",
    "    $\\begin{bmatrix}\n",
    "        1\\\\\n",
    "        1\\\\\n",
    "        ...\\\\\n",
    "        1\n",
    "    \\end{bmatrix}\n",
    "    \\begin{bmatrix}\n",
    "        - && \\bar{x} && -\n",
    "    \\end{bmatrix}$"
   ]
  },
  {
   "cell_type": "markdown",
   "metadata": {},
   "source": [
    "- Subtract mean from data matrix $B = X - \\bar{X}$ \n",
    "    - mean centered data\n",
    "    - 0 mean gaussian"
   ]
  },
  {
   "cell_type": "markdown",
   "metadata": {},
   "source": [
    "- Covariance matrix $C = \\frac{1}{n-1}{B^T B}$\n",
    "\n",
    "C is a Hermitian matrix.\n",
    "square matrix where \n",
    "$a_{ij}=\\bar{a_{ji}}$ "
   ]
  },
  {
   "cell_type": "code",
   "execution_count": 2,
   "metadata": {},
   "outputs": [],
   "source": [
    "import numpy as np\n",
    "import matplotlib.pyplot as plt"
   ]
  },
  {
   "cell_type": "code",
   "execution_count": 3,
   "metadata": {},
   "outputs": [],
   "source": [
    "X = np.array([\n",
    "    [1, 2, 3, 4, 5],\n",
    "    [6, 7, 8, 9, 10],\n",
    "    [11, 12, 13, 14, 15],\n",
    "    [16, 17, 18, 19, 20],\n",
    "    [21, 22, 23, 24, 25],\n",
    "])"
   ]
  },
  {
   "cell_type": "code",
   "execution_count": 6,
   "metadata": {},
   "outputs": [
    {
     "data": {
      "text/plain": [
       "array([[ 855,  910,  965, 1020, 1075],\n",
       "       [ 910,  970, 1030, 1090, 1150],\n",
       "       [ 965, 1030, 1095, 1160, 1225],\n",
       "       [1020, 1090, 1160, 1230, 1300],\n",
       "       [1075, 1150, 1225, 1300, 1375]])"
      ]
     },
     "execution_count": 6,
     "metadata": {},
     "output_type": "execute_result"
    }
   ],
   "source": [
    "X.T @ X"
   ]
  },
  {
   "cell_type": "markdown",
   "metadata": {},
   "source": [
    "- First principal component $u_1 where ... {argmin\\atop{||u_1|| = 1}} {u_1^T B^T B u_1}$\\\n",
    "    and it is eigen vector and eigen value.\n",
    "   "
   ]
  },
  {
   "cell_type": "markdown",
   "metadata": {},
   "source": [
    "- $C V = V D$\n",
    "\n",
    "V = Eigen Vectors\\\n",
    "D = Eigen Values"
   ]
  },
  {
   "cell_type": "markdown",
   "metadata": {},
   "source": [
    "* T = BV\n",
    "\n",
    "Decompose B = $U\\Sigma V^T$\n",
    "\n",
    "* T = $U\\Sigma V^T.V$\n",
    "* T = $U\\Sigma$"
   ]
  },
  {
   "cell_type": "markdown",
   "metadata": {},
   "source": [
    "> $B^*$ is complex conjugate of $B$. When $B$ is complex then complex conjugate is used for $B^T$"
   ]
  }
 ],
 "metadata": {
  "kernelspec": {
   "display_name": "Python 3.8.3 64-bit ('base': conda)",
   "language": "python",
   "name": "python383jvsc74a57bd01da5964c5502736b4e0a0c4398fb3b913682175f516e99bd48540f11726a612c"
  },
  "language_info": {
   "codemirror_mode": {
    "name": "ipython",
    "version": 3
   },
   "file_extension": ".py",
   "mimetype": "text/x-python",
   "name": "python",
   "nbconvert_exporter": "python",
   "pygments_lexer": "ipython3",
   "version": "3.8.3"
  }
 },
 "nbformat": 4,
 "nbformat_minor": 4
}
