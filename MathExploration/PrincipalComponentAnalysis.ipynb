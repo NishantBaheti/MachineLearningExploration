{
 "cells": [
  {
   "cell_type": "markdown",
   "metadata": {},
   "source": [
    "# Principal Component Analysis"
   ]
  },
  {
   "cell_type": "markdown",
   "metadata": {},
   "source": [
    "## Statistical interpretation of SVD"
   ]
  },
  {
   "cell_type": "markdown",
   "metadata": {},
   "source": [
    "- Principal components analysis (PCA) is a popular approach for deriving a low-dimensional set of features from a large set of variables.\n",
    "- PCA is a technique for reducing the dimension of a n × p data matrix X. The first principal component direction of the data is that along which the observations vary the most\n",
    "- When faced with a large set of correlated variables, principal components allow us to summarize this set with a smaller number of representative variables that collectively explain most of the variability in the original set.\n",
    "- hierarchical co-ordinate systems "
   ]
  },
  {
   "cell_type": "markdown",
   "metadata": {},
   "source": [
    "each row vector x is measurement from a single experiment\n",
    "\n",
    "$X = \\begin{bmatrix}\n",
    "    -- && x_1 && --\\\\\n",
    "    -- && x_2 && --\\\\\n",
    "       &&  .\\\\\n",
    "       &&  .\n",
    "\\end{bmatrix}$"
   ]
  },
  {
   "cell_type": "markdown",
   "metadata": {},
   "source": [
    "- Compute mean row $\\bar{x} = \\frac{1}{n}{\\sum_{j=0}^{n}{x_j}}$\n",
    "\n",
    "    $\\bar{X}$ average matrix\n",
    "\n",
    "    $\\begin{bmatrix}\n",
    "        1\\\\\n",
    "        1\\\\\n",
    "        ...\\\\\n",
    "        1\n",
    "    \\end{bmatrix}\n",
    "    \\begin{bmatrix}\n",
    "        - && \\bar{x} && -\n",
    "    \\end{bmatrix}$"
   ]
  },
  {
   "cell_type": "markdown",
   "metadata": {},
   "source": [
    "- Subtract mean from data matrix $B = X - \\bar{X}$ \n",
    "    - mean centered data\n",
    "    - 0 mean gaussian"
   ]
  },
  {
   "cell_type": "markdown",
   "metadata": {},
   "source": [
    "- Covariance matrix $C = \\frac{1}{n-1}{B^T B}$"
   ]
  },
  {
   "cell_type": "markdown",
   "metadata": {},
   "source": [
    "- First principal component $u_1 where ... {argmin\\atop{||u_1|| = 1}} {u_1^T B^T B u_1}$\\\n",
    "    and it is eigen vector and eigen value.\n",
    "   "
   ]
  },
  {
   "cell_type": "markdown",
   "metadata": {},
   "source": [
    "- $C V = V D$"
   ]
  },
  {
   "cell_type": "markdown",
   "metadata": {},
   "source": [
    "NOTE : $B^*$ is complex conjugate of $B$. When $B$ is complex then complex conjugate is used for $B^T$."
   ]
  },
  {
   "cell_type": "code",
   "execution_count": 77,
   "metadata": {},
   "outputs": [],
   "source": [
    "import numpy as np\n",
    "import matplotlib.pyplot as plt"
   ]
  },
  {
   "cell_type": "code",
   "execution_count": null,
   "metadata": {},
   "outputs": [],
   "source": []
  }
 ],
 "metadata": {
  "kernelspec": {
   "display_name": "Python 3.8.3 64-bit ('base': conda)",
   "language": "python",
   "name": "python383jvsc74a57bd01da5964c5502736b4e0a0c4398fb3b913682175f516e99bd48540f11726a612c"
  },
  "language_info": {
   "codemirror_mode": {
    "name": "ipython",
    "version": 3
   },
   "file_extension": ".py",
   "mimetype": "text/x-python",
   "name": "python",
   "nbconvert_exporter": "python",
   "pygments_lexer": "ipython3",
   "version": "3.8.3"
  }
 },
 "nbformat": 4,
 "nbformat_minor": 4
}
