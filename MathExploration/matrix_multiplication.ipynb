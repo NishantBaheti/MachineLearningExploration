{
 "cells": [
  {
   "cell_type": "markdown",
   "id": "255fde1d-e095-4204-90cc-e17fcd314b94",
   "metadata": {},
   "source": [
    "# Matrix Multiplication"
   ]
  },
  {
   "cell_type": "markdown",
   "id": "f636e73b-6c2e-4f82-afd6-1e789c1fe5e5",
   "metadata": {},
   "source": [
    "## References\n",
    "\n",
    "- https://www.mathsisfun.com/algebra/matrix-multiplying.html"
   ]
  },
  {
   "cell_type": "markdown",
   "id": "59cd8a42-c654-4e49-b9eb-f6d1088f7332",
   "metadata": {},
   "source": [
    "## How it happens\n",
    "\n",
    "1st row for matrix a is multiplied by 1st column of matrix b and resulted values are added, and this will go on for all the rows of matrix a multiplying with all the columns values of matrix b."
   ]
  },
  {
   "cell_type": "markdown",
   "id": "93eba651-4019-4812-8524-36adb214de0d",
   "metadata": {},
   "source": [
    "\n",
    "```sql\n",
    "             n                          k                            k\n",
    "         +---------------+          +---------------+           +---------------+\n",
    "         |               |          |               |           |               |\n",
    "   m     |               |      n   |               |        m  |               |\n",
    "         |       a       |  X       |      b        |  =        |               |\n",
    "         |               |          |               |           |               |\n",
    "         |               |          |               |           |               |\n",
    "         +---------------+          +---------------+           +---------------+\n",
    "         \n",
    "             (m, n)                      (n, k)                      (m, k)\n",
    "\n",
    "\n",
    "```"
   ]
  },
  {
   "cell_type": "markdown",
   "id": "88c395fb-1b84-42ef-9406-e1c344040489",
   "metadata": {},
   "source": [
    "\\begin{align*}\n",
    "    \\begin{bmatrix}\n",
    "        a_{1,1} & a_{1,2} & \\dots & a_{1,n}\\\\\n",
    "        a_{2,1} & a_{2,2} & \\dots & a_{2,n}\\\\\n",
    "        & & .\\\\\n",
    "        & & .\\\\\n",
    "        a_{m,1} & a_{m,2} & \\dots & a_{m,n}\n",
    "    \\end{bmatrix} \\times\n",
    "    \\begin{bmatrix}\n",
    "        b_{1,1} & b_{1,2} & \\dots & b_{1,k}\\\\\n",
    "        b_{2,1} & b_{2,2} & \\dots & b_{2,k}\\\\\n",
    "        & & .\\\\\n",
    "        & & .\\\\\n",
    "        b_{n,1} & b_{n,2} & \\dots & b_{n,k}𝑏\n",
    "    \\end{bmatrix} = \\\\\n",
    "    \\\\\n",
    "    \\begin{bmatrix}\n",
    "        (a_{1,1} \\times b_{1,1}) + (a_{1,2} \\times b_{2,1}) + \\dots + (a_{1,n} \\times b_{n,1}) & \\dots & \\\\\n",
    "        . & \\\\\n",
    "        . & \\\\\n",
    "    \\end{bmatrix}\n",
    "\\end{align*}"
   ]
  },
  {
   "cell_type": "markdown",
   "id": "9e9ca542-8fbe-47e6-a1c7-bed69d305428",
   "metadata": {},
   "source": [
    "# Why it happens\n",
    "\n",
    "- consider that we have a customer who buys certain items \n",
    "\n",
    "| customer | apple | banana | egg |\n",
    "| - | - | - | - |\n",
    "| customer1 | 3 | 4 | 2 |\n",
    "\n",
    "- these items have different rates on different days of the week.\n",
    "\n",
    "| item | Mon | Tue | Wed | Thu | Fri | Sat | Sun | \n",
    "| - | - | - | - | - | - | - | - |\n",
    "| apple | 13 | 9 | 10 | 12 | 11 | 10 | 8 |\n",
    "| banana | 8 | 7 | 5 | 6 | 8 | 4 | 7 |\n",
    "| egg | 6 | 4 | 2 | 3 | 5 | 6 | 7 |\n",
    "\n",
    "- now actually how much money the customer had spent on each day can be calculated by multiplying, for example on Monday 3 apples of 13 Rs., 4 bananas of 8 Rs., 2 eggs of 6 Rs. In total (3 * 13) + (4 * 8) + (2 * 6) = 83"
   ]
  },
  {
   "cell_type": "code",
   "execution_count": 13,
   "id": "9b6d4f30-7ae5-43bb-a47a-1a639bff6a91",
   "metadata": {},
   "outputs": [
    {
     "data": {
      "text/plain": [
       "array([[83, 63, 54, 66, 75, 58, 66]])"
      ]
     },
     "execution_count": 13,
     "metadata": {},
     "output_type": "execute_result"
    }
   ],
   "source": [
    "A = np.array([\n",
    "    [ 3, 4, 2 ],\n",
    "])\n",
    "\n",
    "B = np.array([\n",
    "    [ 13, 9, 10, 12, 11, 10, 8 ],\n",
    "    [ 8 , 7, 5 , 6 , 8 , 4 , 7 ],\n",
    "    [ 6 , 4, 2 , 3 , 5 , 6 , 7 ]\n",
    "])\n",
    "\n",
    "A @ B"
   ]
  }
 ],
 "metadata": {
  "kernelspec": {
   "display_name": "Python 3",
   "language": "python",
   "name": "python3"
  },
  "language_info": {
   "codemirror_mode": {
    "name": "ipython",
    "version": 3
   },
   "file_extension": ".py",
   "mimetype": "text/x-python",
   "name": "python",
   "nbconvert_exporter": "python",
   "pygments_lexer": "ipython3",
   "version": "3.8.3"
  }
 },
 "nbformat": 4,
 "nbformat_minor": 5
}
