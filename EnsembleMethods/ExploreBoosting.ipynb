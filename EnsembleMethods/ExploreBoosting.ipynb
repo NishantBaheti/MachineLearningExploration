{
 "cells": [
  {
   "cell_type": "markdown",
   "metadata": {},
   "source": [
    "# Boosting Methods\n",
    "\n",
    "Creating a strong classifier from a bunch(ensemble) of weak classifiers.\n",
    "\n",
    "**Basic concept is to build a second model correcting the errors made by the first model.**"
   ]
  },
  {
   "cell_type": "code",
   "execution_count": 1,
   "metadata": {},
   "outputs": [],
   "source": [
    "import numpy as np\n",
    "import matplotlib.pyplot as plt\n",
    "from sklearn.datasets import make_classification,make_regression"
   ]
  },
  {
   "cell_type": "markdown",
   "metadata": {},
   "source": [
    "## Adaboost Classfication\n",
    "\n",
    "References \n",
    "- [StatQuest with Josh Starmer ](https://www.youtube.com/channel/UCtYLUTtgS3k1Fg4y5tAhLbw)"
   ]
  },
  {
   "cell_type": "markdown",
   "metadata": {},
   "source": [
    "As compared to Random Forest\n",
    "- In random forest a bunch of decision trees are selected and these trees are full sized trees but of different sizes with no predetermined depths.\n",
    "- In random forest each tree has equal weight/vote on final classification.\n",
    "- In random forest each decision tree is independent to the other trees."
   ]
  },
  {
   "cell_type": "markdown",
   "metadata": {},
   "source": [
    "**Adaptive Boosting**\n",
    "\n",
    "- In Adaboost forest of trees used, are trees with just one node and two leaves, called `stump`.(we can say that it is a forest of stumps)\n",
    "\n",
    "                                  ________\n",
    "                                 |Question|\n",
    "                                 |________|\n",
    "                                /          \\\n",
    "                       ________/            \\________\n",
    "                      |___Yes__|            |___No___| \n",
    "\n",
    "- Stumps is basically a weak learners, bad classifiers as they have only one feature to learn upon and the results are inconclusive mostly.\n",
    "- But Adaboost needs bad learners only.\n",
    "- In Adaboost some stumps get `more say` in the classification that others.\n",
    "- In Adaboost stumps are dependent. How? Error made by first stump determines how the second stump will be made, and second will influence the third one and so on.\n"
   ]
  },
  {
   "cell_type": "markdown",
   "metadata": {},
   "source": [
    "installing mightypy, package developed by me to have more control over the doc."
   ]
  },
  {
   "cell_type": "code",
   "execution_count": 2,
   "metadata": {},
   "outputs": [
    {
     "name": "stdout",
     "output_type": "stream",
     "text": [
      "Collecting git+https://github.com/nishantbaheti/mightypy\n",
      "  Cloning https://github.com/nishantbaheti/mightypy to /tmp/pip-req-build-lsp2ffdj\n",
      "  Running command git clone -q https://github.com/nishantbaheti/mightypy /tmp/pip-req-build-lsp2ffdj\n",
      "  Installing build dependencies ... \u001b[?25ldone\n",
      "\u001b[?25h  Getting requirements to build wheel ... \u001b[?25ldone\n",
      "\u001b[?25h    Preparing wheel metadata ... \u001b[?25ldone\n",
      "\u001b[?25hRequirement already satisfied: numpy in /home/nishant/.local/lib/python3.8/site-packages (from mightypy==0.0.1.post1.dev2+gef79f1e) (1.19.5)\n",
      "\u001b[33mWARNING: You are using pip version 21.1.2; however, version 21.2.4 is available.\n",
      "You should consider upgrading via the '/home/nishant/anaconda3/bin/python -m pip install --upgrade pip' command.\u001b[0m\n"
     ]
    }
   ],
   "source": [
    "!pip install git+https://github.com/nishantbaheti/mightypy"
   ]
  },
  {
   "cell_type": "code",
   "execution_count": 3,
   "metadata": {},
   "outputs": [],
   "source": [
    "from mightypy.ml.tree_models import DecisionTreeClassifier"
   ]
  },
  {
   "cell_type": "code",
   "execution_count": 4,
   "metadata": {},
   "outputs": [],
   "source": [
    "sample_data = np.array([\n",
    "    ['yes', 'yes', 205, 'yes'],\n",
    "    ['no', 'yes', 180, 'yes'],\n",
    "    ['yes', 'no', 210, 'yes'],\n",
    "    ['yes', 'yes', 167, 'yes'],\n",
    "    ['no', 'yes', 156, 'no'],\n",
    "    ['no', 'yes', 125, 'yes'],\n",
    "    ['yes', 'no', 168, 'no'],\n",
    "    ['yes', 'yes', 172, 'no']\n",
    "],dtype='O')\n",
    "headers = ['Chest Pain', 'Blocked Arteries', 'Patient Weight', 'Heart Disease']"
   ]
  },
  {
   "cell_type": "code",
   "execution_count": 124,
   "metadata": {},
   "outputs": [
    {
     "name": "stdout",
     "output_type": "stream",
     "text": [
      "|-Is Patient Weight >= 210 ? | gini :0.46875\n",
      "|---> True:\n",
      "  |--  Predict : {'yes': 1}\n",
      "|---> False:\n",
      "  |--  Predict : {'no': 3, 'yes': 4}\n"
     ]
    }
   ],
   "source": [
    "X = sample_data[...,[0,1,2]]\n",
    "y = sample_data[...,[-1]]\n",
    "feature_name =headers[:-1]\n",
    "target_name = headers[-1]\n",
    "\n",
    "stump = DecisionTreeClassifier(max_depth=0)\n",
    "stump.train(\n",
    "    X=X,\n",
    "    y=y,\n",
    "    feature_name=feature_name,\n",
    "    target_name=target_name\n",
    ")\n",
    "\n",
    "stump.print_tree()"
   ]
  },
  {
   "cell_type": "markdown",
   "metadata": {},
   "source": [
    "### Sample weight\n",
    "\n",
    "At start all samples get the same weight.\n",
    "\n",
    "sample weight = $\\frac{1}{n_{samples}}$"
   ]
  },
  {
   "cell_type": "code",
   "execution_count": 8,
   "metadata": {},
   "outputs": [
    {
     "data": {
      "text/plain": [
       "(8, 0.125)"
      ]
     },
     "execution_count": 8,
     "metadata": {},
     "output_type": "execute_result"
    }
   ],
   "source": [
    "sample_weight = 1 / X.shape[0]\n",
    "\n",
    "X.shape[0], sample_weight"
   ]
  },
  {
   "cell_type": "code",
   "execution_count": 9,
   "metadata": {},
   "outputs": [
    {
     "data": {
      "text/plain": [
       "array([[0.125],\n",
       "       [0.125],\n",
       "       [0.125],\n",
       "       [0.125],\n",
       "       [0.125],\n",
       "       [0.125],\n",
       "       [0.125],\n",
       "       [0.125]])"
      ]
     },
     "execution_count": 9,
     "metadata": {},
     "output_type": "execute_result"
    }
   ],
   "source": [
    "sample_weights = np.ones((X.shape[0],1)) * sample_weight\n",
    "\n",
    "sample_weights"
   ]
  },
  {
   "cell_type": "code",
   "execution_count": 10,
   "metadata": {},
   "outputs": [
    {
     "name": "stdout",
     "output_type": "stream",
     "text": [
      "['Chest Pain', 'Blocked Arteries', 'Patient Weight', 'Heart Disease']\n"
     ]
    },
    {
     "data": {
      "text/plain": [
       "array([['yes', 'yes', 205, 'yes', 0.125],\n",
       "       ['no', 'yes', 180, 'yes', 0.125],\n",
       "       ['yes', 'no', 210, 'yes', 0.125],\n",
       "       ['yes', 'yes', 167, 'yes', 0.125],\n",
       "       ['no', 'yes', 156, 'no', 0.125],\n",
       "       ['no', 'yes', 125, 'yes', 0.125],\n",
       "       ['yes', 'no', 168, 'no', 0.125],\n",
       "       ['yes', 'yes', 172, 'no', 0.125]], dtype=object)"
      ]
     },
     "execution_count": 10,
     "metadata": {},
     "output_type": "execute_result"
    }
   ],
   "source": [
    "print(headers)\n",
    "np.hstack((sample_data,sample_weights))"
   ]
  },
  {
   "cell_type": "markdown",
   "metadata": {},
   "source": [
    "### Total error(TE)\n",
    "\n",
    "sum of sample weights for wrongly classified samples gives Total Error of the stump."
   ]
  },
  {
   "cell_type": "code",
   "execution_count": 11,
   "metadata": {},
   "outputs": [
    {
     "data": {
      "text/plain": [
       "array([['yes'],\n",
       "       ['yes'],\n",
       "       ['yes'],\n",
       "       ['yes'],\n",
       "       ['yes'],\n",
       "       ['yes'],\n",
       "       ['yes'],\n",
       "       ['yes']], dtype=object)"
      ]
     },
     "execution_count": 11,
     "metadata": {},
     "output_type": "execute_result"
    }
   ],
   "source": [
    "predicted = stump.predict(X)\n",
    "predicted"
   ]
  },
  {
   "cell_type": "markdown",
   "metadata": {},
   "source": [
    "get all the results where classification is not equal to original results(not classified correctly)"
   ]
  },
  {
   "cell_type": "code",
   "execution_count": 12,
   "metadata": {},
   "outputs": [
    {
     "name": "stdout",
     "output_type": "stream",
     "text": [
      "['Chest Pain', 'Blocked Arteries', 'Patient Weight', 'Heart Disease'] predicted\n"
     ]
    },
    {
     "data": {
      "text/plain": [
       "array([['yes', 'yes', 205, 'yes', 'yes'],\n",
       "       ['no', 'yes', 180, 'yes', 'yes'],\n",
       "       ['yes', 'no', 210, 'yes', 'yes'],\n",
       "       ['yes', 'yes', 167, 'yes', 'yes'],\n",
       "       ['no', 'yes', 156, 'no', 'yes'],\n",
       "       ['no', 'yes', 125, 'yes', 'yes'],\n",
       "       ['yes', 'no', 168, 'no', 'yes'],\n",
       "       ['yes', 'yes', 172, 'no', 'yes']], dtype=object)"
      ]
     },
     "execution_count": 12,
     "metadata": {},
     "output_type": "execute_result"
    }
   ],
   "source": [
    "print(headers,\"predicted\")\n",
    "np.hstack((X,y,predicted))"
   ]
  },
  {
   "cell_type": "code",
   "execution_count": 13,
   "metadata": {},
   "outputs": [
    {
     "data": {
      "text/plain": [
       "array([[False],\n",
       "       [False],\n",
       "       [False],\n",
       "       [False],\n",
       "       [ True],\n",
       "       [False],\n",
       "       [ True],\n",
       "       [ True]])"
      ]
     },
     "execution_count": 13,
     "metadata": {},
     "output_type": "execute_result"
    }
   ],
   "source": [
    "predicted != y"
   ]
  },
  {
   "cell_type": "markdown",
   "metadata": {},
   "source": [
    "now get sum of the weights of wrongly classified results"
   ]
  },
  {
   "cell_type": "code",
   "execution_count": 14,
   "metadata": {},
   "outputs": [
    {
     "data": {
      "text/plain": [
       "array([[0.   ],\n",
       "       [0.   ],\n",
       "       [0.   ],\n",
       "       [0.   ],\n",
       "       [0.125],\n",
       "       [0.   ],\n",
       "       [0.125],\n",
       "       [0.125]])"
      ]
     },
     "execution_count": 14,
     "metadata": {},
     "output_type": "execute_result"
    }
   ],
   "source": [
    "(predicted != y) * sample_weights"
   ]
  },
  {
   "cell_type": "code",
   "execution_count": 15,
   "metadata": {},
   "outputs": [
    {
     "data": {
      "text/plain": [
       "0.375"
      ]
     },
     "execution_count": 15,
     "metadata": {},
     "output_type": "execute_result"
    }
   ],
   "source": [
    "total_error = ((predicted != y) * sample_weights).sum()\n",
    "total_error"
   ]
  },
  {
   "cell_type": "markdown",
   "metadata": {},
   "source": [
    "### Amount of say\n",
    "\n",
    "\n",
    "Amount of Say = $\\frac{1}{2} \\log(\\frac{1 - TE}{TE})$\n",
    "\n",
    "As the name suggests what is the amount of say that a stump has, with Total Error(TE)."
   ]
  },
  {
   "cell_type": "code",
   "execution_count": 17,
   "metadata": {},
   "outputs": [],
   "source": [
    "def amount_of_say(total_error):   \n",
    "    return np.log((1 - total_error)/total_error)/2"
   ]
  },
  {
   "cell_type": "markdown",
   "metadata": {},
   "source": [
    "plotting amount of say vs total error graph"
   ]
  },
  {
   "cell_type": "code",
   "execution_count": 18,
   "metadata": {},
   "outputs": [
    {
     "data": {
      "image/png": "[encoded data removed]",
      "text/plain": [
       "<Figure size 432x288 with 1 Axes>"
      ]
     },
     "metadata": {
      "needs_background": "light"
     },
     "output_type": "display_data"
    }
   ],
   "source": [
    "%matplotlib inline\n",
    "te = np.linspace(0.01,0.99,num=50)\n",
    "aos = amount_of_say(te)\n",
    "\n",
    "ax = plt.subplot(111)\n",
    "ax.plot(te,aos,'.-')\n",
    "\n",
    "ax.set_xlabel(\"Total Error\")\n",
    "ax.set_ylabel(\"Amount of Say\")\n",
    "\n",
    "plt.grid()\n",
    "plt.show()"
   ]
  },
  {
   "cell_type": "markdown",
   "metadata": {},
   "source": [
    "It is visible from the graph that when total error is less, amount of say is high and when total error is high amount of say decreases.\n",
    "\n",
    "lets say if the total error is 0.5(50-50), then amount of say is 0. that means this stump doesn't matter to the final results."
   ]
  },
  {
   "cell_type": "markdown",
   "metadata": {},
   "source": [
    "Amount of say of the stump"
   ]
  },
  {
   "cell_type": "code",
   "execution_count": 19,
   "metadata": {},
   "outputs": [
    {
     "data": {
      "text/plain": [
       "(0.375, 0.25541281188299536)"
      ]
     },
     "execution_count": 19,
     "metadata": {},
     "output_type": "execute_result"
    }
   ],
   "source": [
    "stump_aos = amount_of_say(total_error)\n",
    "total_error, stump_aos"
   ]
  },
  {
   "cell_type": "markdown",
   "metadata": {},
   "source": [
    "### Updating Sample weight"
   ]
  },
  {
   "cell_type": "markdown",
   "metadata": {},
   "source": [
    "#### Increase sample weight for incorrectly classified samples\n",
    "\n",
    "New Sample Weight = Sample Weight x $e^{\\text{amount of say}}$"
   ]
  },
  {
   "cell_type": "code",
   "execution_count": 20,
   "metadata": {},
   "outputs": [
    {
     "data": {
      "image/png": "[encoded data removed]",
      "text/plain": [
       "<Figure size 432x288 with 1 Axes>"
      ]
     },
     "metadata": {
      "needs_background": "light"
     },
     "output_type": "display_data"
    }
   ],
   "source": [
    "\n",
    "plt.plot(np.linspace(0,5,50),np.exp(np.linspace(0,5,50)), label=\"increase\")\n",
    "plt.xlabel(\"Amount of say\")\n",
    "plt.ylabel(\"New sample weight\")\n",
    "plt.legend()\n",
    "plt.grid()"
   ]
  },
  {
   "cell_type": "markdown",
   "metadata": {},
   "source": [
    "So the new sample weight will be little larger than the sample weight for the positive amount of say."
   ]
  },
  {
   "cell_type": "markdown",
   "metadata": {},
   "source": [
    "#### Decrease sample weight for correctly classified samples\n",
    "\n",
    "New Sample Weight = Sample Weight x $e^{-\\text{amount of say}}$"
   ]
  },
  {
   "cell_type": "code",
   "execution_count": 21,
   "metadata": {},
   "outputs": [
    {
     "data": {
      "image/png": "[encoded data removed]",
      "text/plain": [
       "<Figure size 432x288 with 1 Axes>"
      ]
     },
     "metadata": {
      "needs_background": "light"
     },
     "output_type": "display_data"
    }
   ],
   "source": [
    "plt.plot(np.linspace(0,5,50),np.exp(-np.linspace(0,5,50)), label=\"decrease\")\n",
    "plt.xlabel(\"Amount of say\")\n",
    "plt.ylabel(\"New sample weight\")\n",
    "plt.legend()\n",
    "plt.grid()"
   ]
  },
  {
   "cell_type": "markdown",
   "metadata": {},
   "source": [
    "If amount of say of last stump was high then new sample weight will be close to zero or if amount of say of last stump was low then new sample weight will be close to 1."
   ]
  },
  {
   "cell_type": "code",
   "execution_count": 22,
   "metadata": {},
   "outputs": [],
   "source": [
    "def update_sample_weight(sample_weight, amount_of_say, increase=True):\n",
    "    \n",
    "    if increase:\n",
    "        return sample_weight * np.exp(amount_of_say)\n",
    "    else:\n",
    "        return sample_weight * np.exp(-amount_of_say)"
   ]
  },
  {
   "cell_type": "code",
   "execution_count": 23,
   "metadata": {},
   "outputs": [
    {
     "data": {
      "text/plain": [
       "array([[0.   ],\n",
       "       [0.   ],\n",
       "       [0.   ],\n",
       "       [0.   ],\n",
       "       [0.125],\n",
       "       [0.   ],\n",
       "       [0.125],\n",
       "       [0.125]])"
      ]
     },
     "execution_count": 23,
     "metadata": {},
     "output_type": "execute_result"
    }
   ],
   "source": [
    "inc_class_weights = (predicted != y) * sample_weights\n",
    "inc_class_weights"
   ]
  },
  {
   "cell_type": "code",
   "execution_count": 24,
   "metadata": {},
   "outputs": [
    {
     "data": {
      "text/plain": [
       "array([[0.125],\n",
       "       [0.125],\n",
       "       [0.125],\n",
       "       [0.125],\n",
       "       [0.   ],\n",
       "       [0.125],\n",
       "       [0.   ],\n",
       "       [0.   ]])"
      ]
     },
     "execution_count": 24,
     "metadata": {},
     "output_type": "execute_result"
    }
   ],
   "source": [
    "corr_class_weights = (predicted == y) * sample_weights\n",
    "corr_class_weights"
   ]
  },
  {
   "cell_type": "code",
   "execution_count": 25,
   "metadata": {},
   "outputs": [
    {
     "data": {
      "text/plain": [
       "array([[0.        ],\n",
       "       [0.        ],\n",
       "       [0.        ],\n",
       "       [0.        ],\n",
       "       [0.16137431],\n",
       "       [0.        ],\n",
       "       [0.16137431],\n",
       "       [0.16137431]])"
      ]
     },
     "execution_count": 25,
     "metadata": {},
     "output_type": "execute_result"
    }
   ],
   "source": [
    "new_inc_class_weights = update_sample_weight(inc_class_weights,stump_aos,increase=True)\n",
    "new_inc_class_weights"
   ]
  },
  {
   "cell_type": "code",
   "execution_count": 26,
   "metadata": {},
   "outputs": [
    {
     "data": {
      "text/plain": [
       "array([[0.09682458],\n",
       "       [0.09682458],\n",
       "       [0.09682458],\n",
       "       [0.09682458],\n",
       "       [0.        ],\n",
       "       [0.09682458],\n",
       "       [0.        ],\n",
       "       [0.        ]])"
      ]
     },
     "execution_count": 26,
     "metadata": {},
     "output_type": "execute_result"
    }
   ],
   "source": [
    "new_corr_class_weights = update_sample_weight(corr_class_weights,stump_aos,increase=False)\n",
    "new_corr_class_weights"
   ]
  },
  {
   "cell_type": "code",
   "execution_count": 27,
   "metadata": {},
   "outputs": [
    {
     "data": {
      "text/plain": [
       "array([[0.09682458],\n",
       "       [0.09682458],\n",
       "       [0.09682458],\n",
       "       [0.09682458],\n",
       "       [0.16137431],\n",
       "       [0.09682458],\n",
       "       [0.16137431],\n",
       "       [0.16137431]])"
      ]
     },
     "execution_count": 27,
     "metadata": {},
     "output_type": "execute_result"
    }
   ],
   "source": [
    "new_sample_weights = new_inc_class_weights + new_corr_class_weights\n",
    "\n",
    "new_sample_weights"
   ]
  },
  {
   "cell_type": "markdown",
   "metadata": {},
   "source": [
    "### Normalizing Sample Weights\n",
    "\n",
    "After updating with new sample weights, these new sample weights need to be normalized so that when the are added up, sum will be 1(approx).\n",
    "Now use these sample weights to create new stump."
   ]
  },
  {
   "cell_type": "code",
   "execution_count": 28,
   "metadata": {},
   "outputs": [
    {
     "data": {
      "text/plain": [
       "0.9682458365518543"
      ]
     },
     "execution_count": 28,
     "metadata": {},
     "output_type": "execute_result"
    }
   ],
   "source": [
    "new_sample_weights.sum()"
   ]
  },
  {
   "cell_type": "markdown",
   "metadata": {},
   "source": [
    "sum is not 1. lets make it(normalize)"
   ]
  },
  {
   "cell_type": "code",
   "execution_count": 29,
   "metadata": {},
   "outputs": [
    {
     "data": {
      "text/plain": [
       "array([[0.1       ],\n",
       "       [0.1       ],\n",
       "       [0.1       ],\n",
       "       [0.1       ],\n",
       "       [0.16666667],\n",
       "       [0.1       ],\n",
       "       [0.16666667],\n",
       "       [0.16666667]])"
      ]
     },
     "execution_count": 29,
     "metadata": {},
     "output_type": "execute_result"
    }
   ],
   "source": [
    "new_sample_weights = new_sample_weights/ new_sample_weights.sum()\n",
    "\n",
    "new_sample_weights"
   ]
  },
  {
   "cell_type": "code",
   "execution_count": 30,
   "metadata": {},
   "outputs": [
    {
     "data": {
      "text/plain": [
       "1.0"
      ]
     },
     "execution_count": 30,
     "metadata": {},
     "output_type": "execute_result"
    }
   ],
   "source": [
    "new_sample_weights.sum()"
   ]
  },
  {
   "cell_type": "markdown",
   "metadata": {},
   "source": [
    "\n",
    "### Generating new samples\n",
    "\n",
    "normally these new samples should be resampled and get mostly incorrected classified results from the previous sample"
   ]
  },
  {
   "cell_type": "markdown",
   "metadata": {},
   "source": [
    "Generate empty matrix for new samples"
   ]
  },
  {
   "cell_type": "code",
   "execution_count": 32,
   "metadata": {},
   "outputs": [
    {
     "data": {
      "text/plain": [
       "array([[0, 0, 0, 0],\n",
       "       [0, 0, 0, 0],\n",
       "       [0, 0, 0, 0],\n",
       "       [0, 0, 0, 0],\n",
       "       [0, 0, 0, 0],\n",
       "       [0, 0, 0, 0],\n",
       "       [0, 0, 0, 0],\n",
       "       [0, 0, 0, 0]], dtype=object)"
      ]
     },
     "execution_count": 32,
     "metadata": {},
     "output_type": "execute_result"
    }
   ],
   "source": [
    "new_sample_data = np.zeros_like(sample_data)\n",
    "new_sample_data"
   ]
  },
  {
   "cell_type": "markdown",
   "metadata": {},
   "source": [
    "pickup samples from last samples\n",
    "\n",
    "for this example we need mostly 4,6 and 7."
   ]
  },
  {
   "cell_type": "markdown",
   "metadata": {},
   "source": [
    "Numpy random choice with p(probabilities) gives us the random choice of indexes from the range."
   ]
  },
  {
   "cell_type": "code",
   "execution_count": 120,
   "metadata": {},
   "outputs": [
    {
     "data": {
      "text/plain": [
       "array([7, 3, 3, 6, 4, 4, 2, 0])"
      ]
     },
     "execution_count": 120,
     "metadata": {},
     "output_type": "execute_result"
    }
   ],
   "source": [
    "idxs = np.random.choice(range(sample_data.shape[0]),size=(sample_data.shape[0],),p=new_sample_weights[...,-1])\n",
    "\n",
    "idxs"
   ]
  },
  {
   "cell_type": "code",
   "execution_count": 123,
   "metadata": {},
   "outputs": [
    {
     "data": {
      "text/plain": [
       "array([['yes', 'yes', 172, 'no'],\n",
       "       ['yes', 'yes', 167, 'yes'],\n",
       "       ['yes', 'yes', 167, 'yes'],\n",
       "       ['yes', 'no', 168, 'no'],\n",
       "       ['no', 'yes', 156, 'no'],\n",
       "       ['no', 'yes', 156, 'no'],\n",
       "       ['yes', 'no', 210, 'yes'],\n",
       "       ['yes', 'yes', 205, 'yes']], dtype=object)"
      ]
     },
     "execution_count": 123,
     "metadata": {},
     "output_type": "execute_result"
    }
   ],
   "source": [
    "new_sample_data = sample_data[idxs]\n",
    "new_sample_data"
   ]
  },
  {
   "cell_type": "code",
   "execution_count": 125,
   "metadata": {},
   "outputs": [
    {
     "name": "stdout",
     "output_type": "stream",
     "text": [
      "|-Is Patient Weight >= 210 ? | gini :0.5\n",
      "|---> True:\n",
      "  |--  Predict : {'yes': 1}\n",
      "|---> False:\n",
      "  |--  Predict : {'no': 4, 'yes': 3}\n"
     ]
    }
   ],
   "source": [
    "X = new_sample_data[...,[0,1,2]]\n",
    "y = new_sample_data[...,[-1]]\n",
    "feature_name =headers[:-1]\n",
    "target_name = headers[-1]\n",
    "\n",
    "stump = DecisionTreeClassifier(max_depth=0)\n",
    "stump.train(\n",
    "    X=X,\n",
    "    y=y,\n",
    "    feature_name=feature_name,\n",
    "    target_name=target_name\n",
    ")\n",
    "\n",
    "stump.print_tree()"
   ]
  },
  {
   "cell_type": "markdown",
   "metadata": {},
   "source": [
    "## Gradient Boosting Regression"
   ]
  },
  {
   "cell_type": "code",
   "execution_count": null,
   "metadata": {},
   "outputs": [],
   "source": []
  }
 ],
 "metadata": {
  "kernelspec": {
   "display_name": "Python 3.8.3 64-bit ('base': conda)",
   "language": "python",
   "name": "python383jvsc74a57bd01da5964c5502736b4e0a0c4398fb3b913682175f516e99bd48540f11726a612c"
  },
  "language_info": {
   "codemirror_mode": {
    "name": "ipython",
    "version": 3
   },
   "file_extension": ".py",
   "mimetype": "text/x-python",
   "name": "python",
   "nbconvert_exporter": "python",
   "pygments_lexer": "ipython3",
   "version": "3.8.3"
  }
 },
 "nbformat": 4,
 "nbformat_minor": 4
}
