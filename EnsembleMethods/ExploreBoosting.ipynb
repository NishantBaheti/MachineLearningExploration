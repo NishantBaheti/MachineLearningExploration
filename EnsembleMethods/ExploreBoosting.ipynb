{
 "cells": [
  {
   "cell_type": "markdown",
   "metadata": {},
   "source": [
    "# Boosting Methods\n",
    "\n",
    "Creating a strong classifier from a bunch(ensemble) of weak classifiers.\n",
    "\n",
    "**Basic concept is to build a second model correcting the errors made by the first model.**"
   ]
  },
  {
   "cell_type": "markdown",
   "metadata": {},
   "source": [
    "## Adaboost\n",
    "\n",
    "References \n",
    "- [StatQuest with Josh Starmer ](https://www.youtube.com/channel/UCtYLUTtgS3k1Fg4y5tAhLbw)"
   ]
  },
  {
   "cell_type": "markdown",
   "metadata": {},
   "source": [
    "As compared to Random Forest\n",
    "- In random forest a bunch of decision trees are selected and these trees are full sized trees but of different sizes with no predetermined depths.\n",
    "- In random forest each tree has equal weight/vote on final classification.\n",
    "- In random forest each decision tree is independent to the other trees."
   ]
  },
  {
   "cell_type": "markdown",
   "metadata": {},
   "source": [
    "**Adaptive Boosting**\n",
    "\n",
    "- In Adaboost forest of trees used, are trees with just one node and two leaves, called `stump`.(we can say that it is a forest of stumps)\n",
    "```\n",
    "              ________\n",
    "             |Question|\n",
    "             |________|\n",
    "            /          \\\n",
    "   ________/            \\________\n",
    "  |___Yes__|            |___No___| \n",
    "```\n",
    "- Stumps is basically a weak learners, bad classifiers as they have only one feature to learn upon and the results are inconclusive mostly.\n",
    "- But Adaboost needs bad learners only.\n",
    "- In Adaboost some stumps get `more say` in the classification that others.\n",
    "- In Adaboost stumps are dependent. How? Error made by first stump determines how the second stump will be made, and second will influence the third one and so on.\n"
   ]
  },
  {
   "cell_type": "code",
   "execution_count": 4,
   "metadata": {},
   "outputs": [],
   "source": [
    "import numpy as np\n",
    "import matplotlib.pyplot as plt\n",
    "from sklearn.datasets import make_classification"
   ]
  },
  {
   "cell_type": "code",
   "execution_count": 15,
   "metadata": {},
   "outputs": [
    {
     "data": {
      "text/plain": [
       "((10, 4), (10,))"
      ]
     },
     "execution_count": 15,
     "metadata": {},
     "output_type": "execute_result"
    }
   ],
   "source": [
    "n_samples = 10\n",
    "n_features = 4\n",
    "X,y = make_classification(n_samples=n_samples,n_features=n_features)\n",
    "\n",
    "X.shape, y.shape"
   ]
  },
  {
   "cell_type": "markdown",
   "metadata": {},
   "source": [
    "### Sample weight\n",
    "\n",
    "At start all samples get the same weight.\n",
    "\n",
    "sample weight = $\\frac{1}{n_{samples}}$"
   ]
  },
  {
   "cell_type": "markdown",
   "metadata": {},
   "source": [
    "### Total error(TE)\n",
    "\n",
    "sum of sample weights for wrongly classified samples gives Total Error of the stump."
   ]
  },
  {
   "cell_type": "markdown",
   "metadata": {},
   "source": [
    "### Amount of say\n",
    "\n",
    "\n",
    "Amount of Say = $\\frac{1}{2} \\log(\\frac{1 - TE}{TE})$\n",
    "\n",
    "As the name suggests what is the amount of say that a stump has, with Total Error(TE)."
   ]
  },
  {
   "cell_type": "code",
   "execution_count": 17,
   "metadata": {},
   "outputs": [],
   "source": [
    "def amount_of_say(total_error):   \n",
    "    return np.log((1 - total_error)/total_error)/2"
   ]
  },
  {
   "cell_type": "markdown",
   "metadata": {},
   "source": [
    "plotting amount of say vs total error graph"
   ]
  },
  {
   "cell_type": "code",
   "execution_count": 36,
   "metadata": {},
   "outputs": [
    {
     "data": {
      "image/png": "[encoded data removed]",
      "text/plain": [
       "<Figure size 432x288 with 1 Axes>"
      ]
     },
     "metadata": {
      "needs_background": "light"
     },
     "output_type": "display_data"
    }
   ],
   "source": [
    "%matplotlib inline\n",
    "te = np.linspace(0.01,0.99,num=50)\n",
    "aos = amount_of_say(te)\n",
    "\n",
    "ax = plt.subplot(111)\n",
    "ax.plot(te,aos,'.-')\n",
    "\n",
    "ax.set_xlabel(\"Total Error\")\n",
    "ax.set_ylabel(\"Amount of Say\")\n",
    "\n",
    "plt.grid()\n",
    "plt.show()"
   ]
  },
  {
   "cell_type": "markdown",
   "metadata": {},
   "source": [
    "It is visible from the graph that when total error is less, amount of say is high and when total error is high amount of say decreases.\n",
    "\n",
    "lets say if the total error is 0.5(50-50), then amount of say is 0. that means this stump doesn't matter to the final results."
   ]
  },
  {
   "cell_type": "markdown",
   "metadata": {},
   "source": [
    "### Updating Sample weight\n",
    "\n",
    "New Sample Weight = Sample Weight x $e^{\\text{amount of say}}$"
   ]
  },
  {
   "cell_type": "code",
   "execution_count": 37,
   "metadata": {},
   "outputs": [],
   "source": [
    "def update_sample_weight(sample_weight, amount_of_say):\n",
    "    return sample_weight * np.exp(amount_of_say)"
   ]
  },
  {
   "cell_type": "code",
   "execution_count": 42,
   "metadata": {},
   "outputs": [
    {
     "data": {
      "image/png": "[encoded data removed]",
      "text/plain": [
       "<Figure size 432x288 with 1 Axes>"
      ]
     },
     "metadata": {
      "needs_background": "light"
     },
     "output_type": "display_data"
    }
   ],
   "source": [
    "\n",
    "plt.plot(np.linspace(0,5,50),np.exp(np.linspace(0,5,50)))\n",
    "plt.xlabel(\"Amount of say\")\n",
    "plt.ylabel(\"New sample weight\")\n",
    "plt.grid()"
   ]
  },
  {
   "cell_type": "markdown",
   "metadata": {},
   "source": [
    "So the new sample weight will be little larger than the sample weight for the positive amount of say."
   ]
  }
 ],
 "metadata": {
  "kernelspec": {
   "display_name": "Python 3.8.3 64-bit ('base': conda)",
   "language": "python",
   "name": "python383jvsc74a57bd01da5964c5502736b4e0a0c4398fb3b913682175f516e99bd48540f11726a612c"
  },
  "language_info": {
   "codemirror_mode": {
    "name": "ipython",
    "version": 3
   },
   "file_extension": ".py",
   "mimetype": "text/x-python",
   "name": "python",
   "nbconvert_exporter": "python",
   "pygments_lexer": "ipython3",
   "version": "3.8.3"
  }
 },
 "nbformat": 4,
 "nbformat_minor": 4
}
