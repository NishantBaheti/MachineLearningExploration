{
 "cells": [
  {
   "cell_type": "markdown",
   "metadata": {},
   "source": [
    "# Boosting Methods\n",
    "\n",
    "Creating a strong classifier from a bunch(ensemble) of weak classifiers.\n",
    "\n",
    "**Basic concept is to build a second model correcting the errors made by the first model.**"
   ]
  },
  {
   "cell_type": "markdown",
   "metadata": {},
   "source": [
    "## References\n",
    "\n",
    "- https://www.youtube.com/channel/UCtYLUTtgS3k1Fg4y5tAhLbw\n",
    "- https://web.stanford.edu/~hastie/ElemStatLearn/\n",
    "- https://statweb.stanford.edu/~jhf/ftp/stobst.pdf\n",
    "- https://en.wikipedia.org/wiki/Gradient_boosting"
   ]
  },
  {
   "cell_type": "code",
   "execution_count": 1,
   "metadata": {},
   "outputs": [],
   "source": [
    "import numpy as np\n",
    "import matplotlib.pyplot as plt\n",
    "import pandas as pd\n",
    "from mightypy.ml import DecisionTreeClassifier"
   ]
  },
  {
   "cell_type": "markdown",
   "metadata": {},
   "source": [
    "## Adaboost Classfication"
   ]
  },
  {
   "cell_type": "markdown",
   "metadata": {},
   "source": [
    "As compared to Random Forest\n",
    "- In random forest a bunch of decision trees are selected and these trees are full sized trees but of different sizes with no predetermined depths.\n",
    "- In random forest each tree has equal weight/vote on final classification.\n",
    "- In random forest each decision tree is independent to the other trees."
   ]
  },
  {
   "cell_type": "markdown",
   "metadata": {},
   "source": [
    "**Adaptive Boosting**\n",
    "\n",
    "- In Adaboost forest of trees used, are trees with just one node and two leaves, called `stump`.(we can say that it is a forest of stumps)\n",
    "   ```js\n",
    "                  ________\n",
    "                | Question |\n",
    "                | ________ |\n",
    "                /          \\\n",
    "       ________/            \\________\n",
    "      |  Yes   |            |   No   |\n",
    "      |________|            |________| \n",
    "   ```\n",
    "\n",
    "- Stumps is basically a weak learners, bad classifiers as they have only one feature to learn upon and the results are inconclusive mostly.\n",
    "- But Adaboost needs bad learners only.\n",
    "- In Adaboost some stumps get `more say` in the classification that others.\n",
    "- In Adaboost stumps are dependent. How? Error made by first stump determines how the second stump will be made, and second will influence the third one and so on.\n"
   ]
  },
  {
   "cell_type": "markdown",
   "metadata": {},
   "source": [
    "### Algorithm AdaBoost.M1\n",
    "\n",
    "> 1. Initialize the observation weights $w_i = \\frac{1}{N}$, i = 1, 2, . . . , N.\n",
    ">\n",
    "> 2. For m = 1 to M:\n",
    ">\n",
    ">>> 1. Fit a classifier $G_m(x)$ (stump) to the training data using weights $w_i$\n",
    ">>>\n",
    ">>> 2. Compute $err_m = \\frac{\\sum_{i=0}^{N} w_i I(y_i \\ne G_m(x_i))}{\\sum_{i=1}^{N} w_i}$, where observations misclassified = $I(y_i \\ne G_m(x_i))$\n",
    ">>>\n",
    ">>> 3. Compute $\\alpha_m = log(\\frac{1 − err_m}{err_m})$, where $\\alpha_m$ is Amount of say\n",
    ">>>\n",
    ">>> 4. Update weight $w_i \\leftarrow w_i · exp[\\alpha_m · I(y_i \\ne G_m(x_i))]$, i = 1, 2, . . . , N\n",
    "> \n",
    "> 3. Output $G(x) = sign[\\sum_{m=1}^{M} \\alpha_m G_m(x) ]$\n",
    "> \n",
    "> 4. training observations = $(x_i, y_i)$ i = 1,2,3,...,N \n",
    ">"
   ]
  },
  {
   "cell_type": "code",
   "execution_count": 2,
   "metadata": {},
   "outputs": [
    {
     "data": {
      "text/html": [
       "<div>\n",
       "<style scoped>\n",
       "    .dataframe tbody tr th:only-of-type {\n",
       "        vertical-align: middle;\n",
       "    }\n",
       "\n",
       "    .dataframe tbody tr th {\n",
       "        vertical-align: top;\n",
       "    }\n",
       "\n",
       "    .dataframe thead th {\n",
       "        text-align: right;\n",
       "    }\n",
       "</style>\n",
       "<table border=\"1\" class=\"dataframe\">\n",
       "  <thead>\n",
       "    <tr style=\"text-align: right;\">\n",
       "      <th></th>\n",
       "      <th>Chest_Pain</th>\n",
       "      <th>Blocked_Arteries</th>\n",
       "      <th>Patient_Weight</th>\n",
       "      <th>Heart_Disease</th>\n",
       "    </tr>\n",
       "  </thead>\n",
       "  <tbody>\n",
       "    <tr>\n",
       "      <th>0</th>\n",
       "      <td>yes</td>\n",
       "      <td>yes</td>\n",
       "      <td>205</td>\n",
       "      <td>yes</td>\n",
       "    </tr>\n",
       "    <tr>\n",
       "      <th>1</th>\n",
       "      <td>no</td>\n",
       "      <td>yes</td>\n",
       "      <td>180</td>\n",
       "      <td>yes</td>\n",
       "    </tr>\n",
       "    <tr>\n",
       "      <th>2</th>\n",
       "      <td>yes</td>\n",
       "      <td>no</td>\n",
       "      <td>210</td>\n",
       "      <td>yes</td>\n",
       "    </tr>\n",
       "    <tr>\n",
       "      <th>3</th>\n",
       "      <td>yes</td>\n",
       "      <td>yes</td>\n",
       "      <td>167</td>\n",
       "      <td>yes</td>\n",
       "    </tr>\n",
       "    <tr>\n",
       "      <th>4</th>\n",
       "      <td>no</td>\n",
       "      <td>yes</td>\n",
       "      <td>156</td>\n",
       "      <td>no</td>\n",
       "    </tr>\n",
       "    <tr>\n",
       "      <th>5</th>\n",
       "      <td>no</td>\n",
       "      <td>yes</td>\n",
       "      <td>125</td>\n",
       "      <td>yes</td>\n",
       "    </tr>\n",
       "    <tr>\n",
       "      <th>6</th>\n",
       "      <td>yes</td>\n",
       "      <td>no</td>\n",
       "      <td>168</td>\n",
       "      <td>no</td>\n",
       "    </tr>\n",
       "    <tr>\n",
       "      <th>7</th>\n",
       "      <td>yes</td>\n",
       "      <td>yes</td>\n",
       "      <td>172</td>\n",
       "      <td>no</td>\n",
       "    </tr>\n",
       "  </tbody>\n",
       "</table>\n",
       "</div>"
      ],
      "text/plain": [
       "  Chest_Pain Blocked_Arteries Patient_Weight Heart_Disease\n",
       "0        yes              yes            205           yes\n",
       "1         no              yes            180           yes\n",
       "2        yes               no            210           yes\n",
       "3        yes              yes            167           yes\n",
       "4         no              yes            156            no\n",
       "5         no              yes            125           yes\n",
       "6        yes               no            168            no\n",
       "7        yes              yes            172            no"
      ]
     },
     "execution_count": 2,
     "metadata": {},
     "output_type": "execute_result"
    }
   ],
   "source": [
    "headers = [\"Chest_Pain\", \"Blocked_Arteries\", \"Patient_Weight\", \"Heart_Disease\"]\n",
    "\n",
    "sample_data = pd.DataFrame(np.array(\n",
    "    [\n",
    "        [\"yes\", \"yes\", 205, \"yes\"],\n",
    "        [\"no\", \"yes\", 180, \"yes\"],\n",
    "        [\"yes\", \"no\", 210, \"yes\"],\n",
    "        [\"yes\", \"yes\", 167, \"yes\"],\n",
    "        [\"no\", \"yes\", 156, \"no\"],\n",
    "        [\"no\", \"yes\", 125, \"yes\"],\n",
    "        [\"yes\", \"no\", 168, \"no\"],\n",
    "        [\"yes\", \"yes\", 172, \"no\"],\n",
    "    ],\n",
    "    dtype=\"O\",\n",
    "), columns=headers)\n",
    "sample_data"
   ]
  },
  {
   "cell_type": "code",
   "execution_count": 3,
   "metadata": {},
   "outputs": [],
   "source": [
    "\n",
    "df = sample_data.copy()"
   ]
  },
  {
   "cell_type": "code",
   "execution_count": 4,
   "metadata": {},
   "outputs": [
    {
     "name": "stdout",
     "output_type": "stream",
     "text": [
      "|-Is Patient_Weight >= 210 ? | gini :0.46875\n",
      "|---> True:\n",
      "  |--  Predict : {'yes': 1}\n",
      "|---> False:\n",
      "  |--  Predict : {'no': 3, 'yes': 4}\n"
     ]
    }
   ],
   "source": [
    "feature_name = [\"Chest_Pain\", \"Blocked_Arteries\", \"Patient_Weight\"]\n",
    "target_name = [\"Heart_Disease\"]\n",
    "\n",
    "X = df[feature_name].values\n",
    "y = df[target_name].values[:, 0]\n",
    "\n",
    "\n",
    "stump = DecisionTreeClassifier(max_depth=0)\n",
    "stump.train(X=X, y=y, feature_name=feature_name, target_name=target_name)\n",
    "\n",
    "stump.print_tree()"
   ]
  },
  {
   "cell_type": "markdown",
   "metadata": {},
   "source": [
    "### Sample weight\n",
    "\n",
    "At start all samples get the same weight.\n",
    "\n",
    "\\begin{align*}\n",
    "\\text{sample weight } w_i = \\frac{1}{n_{samples}}\n",
    "\\end{align*}"
   ]
  },
  {
   "cell_type": "code",
   "execution_count": 139,
   "metadata": {},
   "outputs": [
    {
     "data": {
      "text/plain": [
       "0.125"
      ]
     },
     "execution_count": 139,
     "metadata": {},
     "output_type": "execute_result"
    }
   ],
   "source": [
    "n_samples = len(X)\n",
    "sample_weight = 1 / n_samples\n",
    "sample_weight"
   ]
  },
  {
   "cell_type": "code",
   "execution_count": 140,
   "metadata": {},
   "outputs": [
    {
     "data": {
      "text/html": [
       "<div>\n",
       "<style scoped>\n",
       "    .dataframe tbody tr th:only-of-type {\n",
       "        vertical-align: middle;\n",
       "    }\n",
       "\n",
       "    .dataframe tbody tr th {\n",
       "        vertical-align: top;\n",
       "    }\n",
       "\n",
       "    .dataframe thead th {\n",
       "        text-align: right;\n",
       "    }\n",
       "</style>\n",
       "<table border=\"1\" class=\"dataframe\">\n",
       "  <thead>\n",
       "    <tr style=\"text-align: right;\">\n",
       "      <th></th>\n",
       "      <th>Chest_Pain</th>\n",
       "      <th>Blocked_Arteries</th>\n",
       "      <th>Patient_Weight</th>\n",
       "      <th>Heart_Disease</th>\n",
       "      <th>sample_weights</th>\n",
       "    </tr>\n",
       "  </thead>\n",
       "  <tbody>\n",
       "    <tr>\n",
       "      <th>0</th>\n",
       "      <td>yes</td>\n",
       "      <td>yes</td>\n",
       "      <td>205</td>\n",
       "      <td>yes</td>\n",
       "      <td>0.125</td>\n",
       "    </tr>\n",
       "    <tr>\n",
       "      <th>1</th>\n",
       "      <td>no</td>\n",
       "      <td>yes</td>\n",
       "      <td>180</td>\n",
       "      <td>yes</td>\n",
       "      <td>0.125</td>\n",
       "    </tr>\n",
       "    <tr>\n",
       "      <th>2</th>\n",
       "      <td>yes</td>\n",
       "      <td>no</td>\n",
       "      <td>210</td>\n",
       "      <td>yes</td>\n",
       "      <td>0.125</td>\n",
       "    </tr>\n",
       "    <tr>\n",
       "      <th>3</th>\n",
       "      <td>yes</td>\n",
       "      <td>yes</td>\n",
       "      <td>167</td>\n",
       "      <td>yes</td>\n",
       "      <td>0.125</td>\n",
       "    </tr>\n",
       "    <tr>\n",
       "      <th>4</th>\n",
       "      <td>no</td>\n",
       "      <td>yes</td>\n",
       "      <td>156</td>\n",
       "      <td>no</td>\n",
       "      <td>0.125</td>\n",
       "    </tr>\n",
       "    <tr>\n",
       "      <th>5</th>\n",
       "      <td>no</td>\n",
       "      <td>yes</td>\n",
       "      <td>125</td>\n",
       "      <td>yes</td>\n",
       "      <td>0.125</td>\n",
       "    </tr>\n",
       "    <tr>\n",
       "      <th>6</th>\n",
       "      <td>yes</td>\n",
       "      <td>no</td>\n",
       "      <td>168</td>\n",
       "      <td>no</td>\n",
       "      <td>0.125</td>\n",
       "    </tr>\n",
       "    <tr>\n",
       "      <th>7</th>\n",
       "      <td>yes</td>\n",
       "      <td>yes</td>\n",
       "      <td>172</td>\n",
       "      <td>no</td>\n",
       "      <td>0.125</td>\n",
       "    </tr>\n",
       "  </tbody>\n",
       "</table>\n",
       "</div>"
      ],
      "text/plain": [
       "  Chest_Pain Blocked_Arteries Patient_Weight Heart_Disease  sample_weights\n",
       "0        yes              yes            205           yes           0.125\n",
       "1         no              yes            180           yes           0.125\n",
       "2        yes               no            210           yes           0.125\n",
       "3        yes              yes            167           yes           0.125\n",
       "4         no              yes            156            no           0.125\n",
       "5         no              yes            125           yes           0.125\n",
       "6        yes               no            168            no           0.125\n",
       "7        yes              yes            172            no           0.125"
      ]
     },
     "execution_count": 140,
     "metadata": {},
     "output_type": "execute_result"
    }
   ],
   "source": [
    "df.insert(loc=df.shape[1], column=\"sample_weights\", value=sample_weight)\n",
    "df"
   ]
  },
  {
   "cell_type": "markdown",
   "metadata": {},
   "source": [
    "### Total error($err_m$)/ Misclassified Results\n",
    "\n",
    "\n",
    "- $I(y_i \\ne G_m(x_i))$ get all the results where classification is not equal to original results(not classified correctly)\n",
    "- sum of sample weights for wrongly classified samples gives Total Error of the stump.\n",
    "\\begin{align*}\n",
    "err_m = \\frac{\\sum_{i=0}^{N} w_i \\times I(y_i \\ne G_m(x_i))}{\\sum_{i=1}^{N} w_i}\n",
    "\\end{align*}"
   ]
  },
  {
   "cell_type": "code",
   "execution_count": 141,
   "metadata": {},
   "outputs": [],
   "source": [
    "predicted = stump.predict(X)[:, 0]\n",
    "df.insert(loc=df.shape[1], column=\"predicted\", value=predicted)"
   ]
  },
  {
   "cell_type": "code",
   "execution_count": 142,
   "metadata": {},
   "outputs": [
    {
     "data": {
      "text/plain": [
       "0.375"
      ]
     },
     "execution_count": 142,
     "metadata": {},
     "output_type": "execute_result"
    }
   ],
   "source": [
    "total_error = ((predicted != y) * sample_weight).sum()\n",
    "total_error"
   ]
  },
  {
   "cell_type": "markdown",
   "metadata": {},
   "source": [
    "### Amount of say $\\alpha_m$\n",
    "\n",
    "\n",
    "\\begin{align*}\n",
    "\\text{Amount of Say } \\alpha_m = \\log(\\frac{1 - err_m}{err_m})\n",
    "\\end{align*}\n",
    "\n",
    "As the name suggests what is the amount of say that a stump has, with Total Error(TE)."
   ]
  },
  {
   "cell_type": "code",
   "execution_count": 6,
   "metadata": {},
   "outputs": [],
   "source": [
    "def amount_of_say(total_error):\n",
    "    return np.log((1 - total_error) / total_error)"
   ]
  },
  {
   "cell_type": "markdown",
   "metadata": {},
   "source": [
    "plotting amount of say vs total error graph"
   ]
  },
  {
   "cell_type": "code",
   "execution_count": 144,
   "metadata": {},
   "outputs": [
    {
     "data": {
      "image/png": "[encoded data removed]",
      "text/plain": [
       "<Figure size 640x480 with 1 Axes>"
      ]
     },
     "metadata": {},
     "output_type": "display_data"
    }
   ],
   "source": [
    "te = np.linspace(0.01, 0.99, num=50)\n",
    "aos = amount_of_say(te)\n",
    "\n",
    "ax = plt.subplot(111)\n",
    "ax.plot(te, aos, \".-\")\n",
    "\n",
    "ax.set_xlabel(\"Total Error\")\n",
    "ax.set_ylabel(\"Amount of Say\")\n",
    "\n",
    "plt.grid()\n",
    "plt.show()"
   ]
  },
  {
   "cell_type": "markdown",
   "metadata": {},
   "source": [
    "It is visible from the graph that when total error is less, amount of say is high and when total error is high amount of say decreases.\n",
    "\n",
    "lets say if the total error is 0.5(50-50), then amount of say is 0. that means this stump doesn't matter to the final results."
   ]
  },
  {
   "cell_type": "markdown",
   "metadata": {},
   "source": [
    "Amount of say of the stump"
   ]
  },
  {
   "cell_type": "code",
   "execution_count": 145,
   "metadata": {},
   "outputs": [
    {
     "data": {
      "text/plain": [
       "(0.375, 0.25541281188299536)"
      ]
     },
     "execution_count": 145,
     "metadata": {},
     "output_type": "execute_result"
    }
   ],
   "source": [
    "stump_aos = amount_of_say(total_error)\n",
    "total_error, stump_aos"
   ]
  },
  {
   "cell_type": "markdown",
   "metadata": {},
   "source": [
    "### Updating Sample weight\n",
    "\n",
    "\n",
    "\\begin{align*}\n",
    "w_i \\leftarrow w_i · e^{[\\alpha_m · I(y_i \\ne G_m(x_i))]}\n",
    "\\end{align*}"
   ]
  },
  {
   "cell_type": "markdown",
   "metadata": {},
   "source": [
    "#### Increase sample weight for incorrectly classified samples\n",
    "\n",
    "New Sample Weight = Sample Weight x $e^{\\text{amount of say}}$"
   ]
  },
  {
   "cell_type": "code",
   "execution_count": 146,
   "metadata": {},
   "outputs": [
    {
     "data": {
      "image/png": "[encoded data removed]",
      "text/plain": [
       "<Figure size 640x480 with 1 Axes>"
      ]
     },
     "metadata": {},
     "output_type": "display_data"
    }
   ],
   "source": [
    "plt.plot(np.linspace(0, 5, 50), np.exp(np.linspace(0, 5, 50)), label=\"increase\")\n",
    "plt.xlabel(\"Amount of say\")\n",
    "plt.ylabel(\"New sample weight\")\n",
    "plt.legend()\n",
    "plt.grid()"
   ]
  },
  {
   "cell_type": "markdown",
   "metadata": {},
   "source": [
    "So the new sample weight will be little larger than the sample weight for the positive amount of say."
   ]
  },
  {
   "cell_type": "markdown",
   "metadata": {},
   "source": [
    "#### Decrease sample weight for correctly classified samples\n",
    "\n",
    "New Sample Weight = Sample Weight x $e^{-\\text{amount of say}}$"
   ]
  },
  {
   "cell_type": "code",
   "execution_count": 147,
   "metadata": {},
   "outputs": [
    {
     "data": {
      "image/png": "[encoded data removed]",
      "text/plain": [
       "<Figure size 640x480 with 1 Axes>"
      ]
     },
     "metadata": {},
     "output_type": "display_data"
    }
   ],
   "source": [
    "plt.plot(np.linspace(0, 5, 50), np.exp(-np.linspace(0, 5, 50)), label=\"decrease\")\n",
    "plt.xlabel(\"Amount of say\")\n",
    "plt.ylabel(\"New sample weight\")\n",
    "plt.legend()\n",
    "plt.grid()"
   ]
  },
  {
   "cell_type": "markdown",
   "metadata": {},
   "source": [
    "If amount of say of last stump was high then new sample weight will be close to zero or if amount of say of last stump was low then new sample weight will be close to 1."
   ]
  },
  {
   "cell_type": "code",
   "execution_count": 148,
   "metadata": {},
   "outputs": [],
   "source": [
    "def update_sample_weight(sample_weight, amount_of_say, increase=True):\n",
    "    if increase:\n",
    "        return sample_weight * np.exp(amount_of_say)\n",
    "    else:\n",
    "        return sample_weight * np.exp(-amount_of_say)"
   ]
  },
  {
   "cell_type": "code",
   "execution_count": 149,
   "metadata": {},
   "outputs": [
    {
     "data": {
      "text/plain": [
       "array([0.   , 0.   , 0.   , 0.   , 0.125, 0.   , 0.125, 0.125])"
      ]
     },
     "execution_count": 149,
     "metadata": {},
     "output_type": "execute_result"
    }
   ],
   "source": [
    "inc_class_weights = (predicted != y) * sample_weight\n",
    "inc_class_weights"
   ]
  },
  {
   "cell_type": "code",
   "execution_count": 150,
   "metadata": {},
   "outputs": [
    {
     "data": {
      "text/plain": [
       "array([0.125, 0.125, 0.125, 0.125, 0.   , 0.125, 0.   , 0.   ])"
      ]
     },
     "execution_count": 150,
     "metadata": {},
     "output_type": "execute_result"
    }
   ],
   "source": [
    "corr_class_weights = (predicted == y) * sample_weight\n",
    "corr_class_weights"
   ]
  },
  {
   "cell_type": "code",
   "execution_count": 151,
   "metadata": {},
   "outputs": [
    {
     "data": {
      "text/plain": [
       "array([0.        , 0.        , 0.        , 0.        , 0.16137431,\n",
       "       0.        , 0.16137431, 0.16137431])"
      ]
     },
     "execution_count": 151,
     "metadata": {},
     "output_type": "execute_result"
    }
   ],
   "source": [
    "new_inc_class_weights = update_sample_weight(\n",
    "    inc_class_weights, stump_aos, increase=True\n",
    ")\n",
    "new_inc_class_weights"
   ]
  },
  {
   "cell_type": "code",
   "execution_count": 152,
   "metadata": {},
   "outputs": [
    {
     "data": {
      "text/plain": [
       "array([0.09682458, 0.09682458, 0.09682458, 0.09682458, 0.        ,\n",
       "       0.09682458, 0.        , 0.        ])"
      ]
     },
     "execution_count": 152,
     "metadata": {},
     "output_type": "execute_result"
    }
   ],
   "source": [
    "new_corr_class_weights = update_sample_weight(\n",
    "    corr_class_weights, stump_aos, increase=False\n",
    ")\n",
    "new_corr_class_weights"
   ]
  },
  {
   "cell_type": "code",
   "execution_count": 153,
   "metadata": {},
   "outputs": [
    {
     "data": {
      "text/html": [
       "<div>\n",
       "<style scoped>\n",
       "    .dataframe tbody tr th:only-of-type {\n",
       "        vertical-align: middle;\n",
       "    }\n",
       "\n",
       "    .dataframe tbody tr th {\n",
       "        vertical-align: top;\n",
       "    }\n",
       "\n",
       "    .dataframe thead th {\n",
       "        text-align: right;\n",
       "    }\n",
       "</style>\n",
       "<table border=\"1\" class=\"dataframe\">\n",
       "  <thead>\n",
       "    <tr style=\"text-align: right;\">\n",
       "      <th></th>\n",
       "      <th>Chest_Pain</th>\n",
       "      <th>Blocked_Arteries</th>\n",
       "      <th>Patient_Weight</th>\n",
       "      <th>Heart_Disease</th>\n",
       "      <th>sample_weights</th>\n",
       "      <th>predicted</th>\n",
       "      <th>new_sample_weights</th>\n",
       "    </tr>\n",
       "  </thead>\n",
       "  <tbody>\n",
       "    <tr>\n",
       "      <th>0</th>\n",
       "      <td>yes</td>\n",
       "      <td>yes</td>\n",
       "      <td>205</td>\n",
       "      <td>yes</td>\n",
       "      <td>0.125</td>\n",
       "      <td>yes</td>\n",
       "      <td>0.096825</td>\n",
       "    </tr>\n",
       "    <tr>\n",
       "      <th>1</th>\n",
       "      <td>no</td>\n",
       "      <td>yes</td>\n",
       "      <td>180</td>\n",
       "      <td>yes</td>\n",
       "      <td>0.125</td>\n",
       "      <td>yes</td>\n",
       "      <td>0.096825</td>\n",
       "    </tr>\n",
       "    <tr>\n",
       "      <th>2</th>\n",
       "      <td>yes</td>\n",
       "      <td>no</td>\n",
       "      <td>210</td>\n",
       "      <td>yes</td>\n",
       "      <td>0.125</td>\n",
       "      <td>yes</td>\n",
       "      <td>0.096825</td>\n",
       "    </tr>\n",
       "    <tr>\n",
       "      <th>3</th>\n",
       "      <td>yes</td>\n",
       "      <td>yes</td>\n",
       "      <td>167</td>\n",
       "      <td>yes</td>\n",
       "      <td>0.125</td>\n",
       "      <td>yes</td>\n",
       "      <td>0.096825</td>\n",
       "    </tr>\n",
       "    <tr>\n",
       "      <th>4</th>\n",
       "      <td>no</td>\n",
       "      <td>yes</td>\n",
       "      <td>156</td>\n",
       "      <td>no</td>\n",
       "      <td>0.125</td>\n",
       "      <td>yes</td>\n",
       "      <td>0.161374</td>\n",
       "    </tr>\n",
       "    <tr>\n",
       "      <th>5</th>\n",
       "      <td>no</td>\n",
       "      <td>yes</td>\n",
       "      <td>125</td>\n",
       "      <td>yes</td>\n",
       "      <td>0.125</td>\n",
       "      <td>yes</td>\n",
       "      <td>0.096825</td>\n",
       "    </tr>\n",
       "    <tr>\n",
       "      <th>6</th>\n",
       "      <td>yes</td>\n",
       "      <td>no</td>\n",
       "      <td>168</td>\n",
       "      <td>no</td>\n",
       "      <td>0.125</td>\n",
       "      <td>yes</td>\n",
       "      <td>0.161374</td>\n",
       "    </tr>\n",
       "    <tr>\n",
       "      <th>7</th>\n",
       "      <td>yes</td>\n",
       "      <td>yes</td>\n",
       "      <td>172</td>\n",
       "      <td>no</td>\n",
       "      <td>0.125</td>\n",
       "      <td>yes</td>\n",
       "      <td>0.161374</td>\n",
       "    </tr>\n",
       "  </tbody>\n",
       "</table>\n",
       "</div>"
      ],
      "text/plain": [
       "  Chest_Pain Blocked_Arteries Patient_Weight Heart_Disease  sample_weights  \\\n",
       "0        yes              yes            205           yes           0.125   \n",
       "1         no              yes            180           yes           0.125   \n",
       "2        yes               no            210           yes           0.125   \n",
       "3        yes              yes            167           yes           0.125   \n",
       "4         no              yes            156            no           0.125   \n",
       "5         no              yes            125           yes           0.125   \n",
       "6        yes               no            168            no           0.125   \n",
       "7        yes              yes            172            no           0.125   \n",
       "\n",
       "  predicted  new_sample_weights  \n",
       "0       yes            0.096825  \n",
       "1       yes            0.096825  \n",
       "2       yes            0.096825  \n",
       "3       yes            0.096825  \n",
       "4       yes            0.161374  \n",
       "5       yes            0.096825  \n",
       "6       yes            0.161374  \n",
       "7       yes            0.161374  "
      ]
     },
     "execution_count": 153,
     "metadata": {},
     "output_type": "execute_result"
    }
   ],
   "source": [
    "new_sample_weights = new_inc_class_weights + new_corr_class_weights\n",
    "\n",
    "df[\"new_sample_weights\"] = new_sample_weights\n",
    "\n",
    "df"
   ]
  },
  {
   "cell_type": "markdown",
   "metadata": {},
   "source": [
    "### Normalizing Sample Weights\n",
    "\n",
    "After updating with new sample weights, these new sample weights need to be normalized so that when the are added up, sum will be 1(approx).\n",
    "Now use these sample weights to create new stump."
   ]
  },
  {
   "cell_type": "code",
   "execution_count": 154,
   "metadata": {},
   "outputs": [
    {
     "data": {
      "text/plain": [
       "0.9682458365518543"
      ]
     },
     "execution_count": 154,
     "metadata": {},
     "output_type": "execute_result"
    }
   ],
   "source": [
    "new_sample_weights.sum()"
   ]
  },
  {
   "cell_type": "markdown",
   "metadata": {},
   "source": [
    "sum is not 1. lets make it(normalize)"
   ]
  },
  {
   "cell_type": "code",
   "execution_count": 155,
   "metadata": {},
   "outputs": [
    {
     "data": {
      "text/html": [
       "<div>\n",
       "<style scoped>\n",
       "    .dataframe tbody tr th:only-of-type {\n",
       "        vertical-align: middle;\n",
       "    }\n",
       "\n",
       "    .dataframe tbody tr th {\n",
       "        vertical-align: top;\n",
       "    }\n",
       "\n",
       "    .dataframe thead th {\n",
       "        text-align: right;\n",
       "    }\n",
       "</style>\n",
       "<table border=\"1\" class=\"dataframe\">\n",
       "  <thead>\n",
       "    <tr style=\"text-align: right;\">\n",
       "      <th></th>\n",
       "      <th>Chest_Pain</th>\n",
       "      <th>Blocked_Arteries</th>\n",
       "      <th>Patient_Weight</th>\n",
       "      <th>Heart_Disease</th>\n",
       "      <th>sample_weights</th>\n",
       "      <th>predicted</th>\n",
       "      <th>new_sample_weights</th>\n",
       "    </tr>\n",
       "  </thead>\n",
       "  <tbody>\n",
       "    <tr>\n",
       "      <th>0</th>\n",
       "      <td>yes</td>\n",
       "      <td>yes</td>\n",
       "      <td>205</td>\n",
       "      <td>yes</td>\n",
       "      <td>0.125</td>\n",
       "      <td>yes</td>\n",
       "      <td>0.100000</td>\n",
       "    </tr>\n",
       "    <tr>\n",
       "      <th>1</th>\n",
       "      <td>no</td>\n",
       "      <td>yes</td>\n",
       "      <td>180</td>\n",
       "      <td>yes</td>\n",
       "      <td>0.125</td>\n",
       "      <td>yes</td>\n",
       "      <td>0.100000</td>\n",
       "    </tr>\n",
       "    <tr>\n",
       "      <th>2</th>\n",
       "      <td>yes</td>\n",
       "      <td>no</td>\n",
       "      <td>210</td>\n",
       "      <td>yes</td>\n",
       "      <td>0.125</td>\n",
       "      <td>yes</td>\n",
       "      <td>0.100000</td>\n",
       "    </tr>\n",
       "    <tr>\n",
       "      <th>3</th>\n",
       "      <td>yes</td>\n",
       "      <td>yes</td>\n",
       "      <td>167</td>\n",
       "      <td>yes</td>\n",
       "      <td>0.125</td>\n",
       "      <td>yes</td>\n",
       "      <td>0.100000</td>\n",
       "    </tr>\n",
       "    <tr>\n",
       "      <th>4</th>\n",
       "      <td>no</td>\n",
       "      <td>yes</td>\n",
       "      <td>156</td>\n",
       "      <td>no</td>\n",
       "      <td>0.125</td>\n",
       "      <td>yes</td>\n",
       "      <td>0.166667</td>\n",
       "    </tr>\n",
       "    <tr>\n",
       "      <th>5</th>\n",
       "      <td>no</td>\n",
       "      <td>yes</td>\n",
       "      <td>125</td>\n",
       "      <td>yes</td>\n",
       "      <td>0.125</td>\n",
       "      <td>yes</td>\n",
       "      <td>0.100000</td>\n",
       "    </tr>\n",
       "    <tr>\n",
       "      <th>6</th>\n",
       "      <td>yes</td>\n",
       "      <td>no</td>\n",
       "      <td>168</td>\n",
       "      <td>no</td>\n",
       "      <td>0.125</td>\n",
       "      <td>yes</td>\n",
       "      <td>0.166667</td>\n",
       "    </tr>\n",
       "    <tr>\n",
       "      <th>7</th>\n",
       "      <td>yes</td>\n",
       "      <td>yes</td>\n",
       "      <td>172</td>\n",
       "      <td>no</td>\n",
       "      <td>0.125</td>\n",
       "      <td>yes</td>\n",
       "      <td>0.166667</td>\n",
       "    </tr>\n",
       "  </tbody>\n",
       "</table>\n",
       "</div>"
      ],
      "text/plain": [
       "  Chest_Pain Blocked_Arteries Patient_Weight Heart_Disease  sample_weights  \\\n",
       "0        yes              yes            205           yes           0.125   \n",
       "1         no              yes            180           yes           0.125   \n",
       "2        yes               no            210           yes           0.125   \n",
       "3        yes              yes            167           yes           0.125   \n",
       "4         no              yes            156            no           0.125   \n",
       "5         no              yes            125           yes           0.125   \n",
       "6        yes               no            168            no           0.125   \n",
       "7        yes              yes            172            no           0.125   \n",
       "\n",
       "  predicted  new_sample_weights  \n",
       "0       yes            0.100000  \n",
       "1       yes            0.100000  \n",
       "2       yes            0.100000  \n",
       "3       yes            0.100000  \n",
       "4       yes            0.166667  \n",
       "5       yes            0.100000  \n",
       "6       yes            0.166667  \n",
       "7       yes            0.166667  "
      ]
     },
     "execution_count": 155,
     "metadata": {},
     "output_type": "execute_result"
    }
   ],
   "source": [
    "new_sample_weights = new_sample_weights / new_sample_weights.sum()\n",
    "\n",
    "df[\"new_sample_weights\"] = new_sample_weights\n",
    "df"
   ]
  },
  {
   "cell_type": "code",
   "execution_count": 156,
   "metadata": {},
   "outputs": [
    {
     "data": {
      "text/plain": [
       "1.0"
      ]
     },
     "execution_count": 156,
     "metadata": {},
     "output_type": "execute_result"
    }
   ],
   "source": [
    "new_sample_weights.sum()"
   ]
  },
  {
   "cell_type": "markdown",
   "metadata": {},
   "source": [
    "\n",
    "### Generating new samples\n",
    "\n",
    "Normally these new samples should be resampled and get mostly incorrected classified results from the previous sample"
   ]
  },
  {
   "cell_type": "markdown",
   "metadata": {},
   "source": [
    "Generate empty matrix for new samples"
   ]
  },
  {
   "cell_type": "code",
   "execution_count": 158,
   "metadata": {},
   "outputs": [
    {
     "data": {
      "text/plain": [
       "array([[0, 0, 0, 0],\n",
       "       [0, 0, 0, 0],\n",
       "       [0, 0, 0, 0],\n",
       "       [0, 0, 0, 0],\n",
       "       [0, 0, 0, 0],\n",
       "       [0, 0, 0, 0],\n",
       "       [0, 0, 0, 0],\n",
       "       [0, 0, 0, 0]], dtype=object)"
      ]
     },
     "execution_count": 158,
     "metadata": {},
     "output_type": "execute_result"
    }
   ],
   "source": [
    "new_sample_data = np.zeros_like(sample_data)\n",
    "new_sample_data"
   ]
  },
  {
   "cell_type": "markdown",
   "metadata": {},
   "source": [
    "pickup samples from last samples\n",
    "\n",
    "for this example we need mostly 4,6 and 7."
   ]
  },
  {
   "cell_type": "markdown",
   "metadata": {},
   "source": [
    "Numpy random choice with p(probabilities) gives us the random choice of indexes from the range."
   ]
  },
  {
   "cell_type": "code",
   "execution_count": 163,
   "metadata": {},
   "outputs": [
    {
     "data": {
      "text/plain": [
       "array([6, 4, 6, 2, 6, 0, 6, 7])"
      ]
     },
     "execution_count": 163,
     "metadata": {},
     "output_type": "execute_result"
    }
   ],
   "source": [
    "N = sample_data.shape[0]\n",
    "idxs = np.random.choice(\n",
    "    np.arange(N),\n",
    "    size=N,\n",
    "    p=new_sample_weights,\n",
    ")\n",
    "\n",
    "new_sample_data = sample_data.iloc[idxs]\n",
    "idxs"
   ]
  },
  {
   "cell_type": "code",
   "execution_count": 164,
   "metadata": {},
   "outputs": [
    {
     "data": {
      "text/html": [
       "<div>\n",
       "<style scoped>\n",
       "    .dataframe tbody tr th:only-of-type {\n",
       "        vertical-align: middle;\n",
       "    }\n",
       "\n",
       "    .dataframe tbody tr th {\n",
       "        vertical-align: top;\n",
       "    }\n",
       "\n",
       "    .dataframe thead th {\n",
       "        text-align: right;\n",
       "    }\n",
       "</style>\n",
       "<table border=\"1\" class=\"dataframe\">\n",
       "  <thead>\n",
       "    <tr style=\"text-align: right;\">\n",
       "      <th></th>\n",
       "      <th>Chest_Pain</th>\n",
       "      <th>Blocked_Arteries</th>\n",
       "      <th>Patient_Weight</th>\n",
       "      <th>Heart_Disease</th>\n",
       "    </tr>\n",
       "  </thead>\n",
       "  <tbody>\n",
       "    <tr>\n",
       "      <th>6</th>\n",
       "      <td>yes</td>\n",
       "      <td>no</td>\n",
       "      <td>168</td>\n",
       "      <td>no</td>\n",
       "    </tr>\n",
       "    <tr>\n",
       "      <th>4</th>\n",
       "      <td>no</td>\n",
       "      <td>yes</td>\n",
       "      <td>156</td>\n",
       "      <td>no</td>\n",
       "    </tr>\n",
       "    <tr>\n",
       "      <th>6</th>\n",
       "      <td>yes</td>\n",
       "      <td>no</td>\n",
       "      <td>168</td>\n",
       "      <td>no</td>\n",
       "    </tr>\n",
       "    <tr>\n",
       "      <th>2</th>\n",
       "      <td>yes</td>\n",
       "      <td>no</td>\n",
       "      <td>210</td>\n",
       "      <td>yes</td>\n",
       "    </tr>\n",
       "    <tr>\n",
       "      <th>6</th>\n",
       "      <td>yes</td>\n",
       "      <td>no</td>\n",
       "      <td>168</td>\n",
       "      <td>no</td>\n",
       "    </tr>\n",
       "    <tr>\n",
       "      <th>0</th>\n",
       "      <td>yes</td>\n",
       "      <td>yes</td>\n",
       "      <td>205</td>\n",
       "      <td>yes</td>\n",
       "    </tr>\n",
       "    <tr>\n",
       "      <th>6</th>\n",
       "      <td>yes</td>\n",
       "      <td>no</td>\n",
       "      <td>168</td>\n",
       "      <td>no</td>\n",
       "    </tr>\n",
       "    <tr>\n",
       "      <th>7</th>\n",
       "      <td>yes</td>\n",
       "      <td>yes</td>\n",
       "      <td>172</td>\n",
       "      <td>no</td>\n",
       "    </tr>\n",
       "  </tbody>\n",
       "</table>\n",
       "</div>"
      ],
      "text/plain": [
       "  Chest_Pain Blocked_Arteries Patient_Weight Heart_Disease\n",
       "6        yes               no            168            no\n",
       "4         no              yes            156            no\n",
       "6        yes               no            168            no\n",
       "2        yes               no            210           yes\n",
       "6        yes               no            168            no\n",
       "0        yes              yes            205           yes\n",
       "6        yes               no            168            no\n",
       "7        yes              yes            172            no"
      ]
     },
     "execution_count": 164,
     "metadata": {},
     "output_type": "execute_result"
    }
   ],
   "source": [
    "new_sample_data"
   ]
  },
  {
   "cell_type": "code",
   "execution_count": 167,
   "metadata": {},
   "outputs": [
    {
     "name": "stdout",
     "output_type": "stream",
     "text": [
      "|-Is Chest_Pain == no ? | gini :0.375\n",
      "|---> True:\n",
      "  |--  Predict : {'no': 1}\n",
      "|---> False:\n",
      "  |--  Predict : {'no': 5, 'yes': 2}\n"
     ]
    }
   ],
   "source": [
    "X = new_sample_data[feature_name].values\n",
    "y = new_sample_data[target_name].values[:,0]\n",
    "\n",
    "stump = DecisionTreeClassifier(max_depth=0)\n",
    "stump.train(X=X, y=y, feature_name=feature_name, target_name=target_name)\n",
    "\n",
    "stump.print_tree()"
   ]
  },
  {
   "cell_type": "markdown",
   "metadata": {},
   "source": [
    "## Gradient Boosting Regression"
   ]
  },
  {
   "cell_type": "markdown",
   "metadata": {},
   "source": [
    "So how it is different from Adaboost. \n",
    "(we already know regression is where we try to predict continuous values)\n",
    "\n",
    "- instead of starting with a stump, in gradient boosting we start with a single leaf. This single leaf can be average of target data.\n",
    "- then instead of using stumps for upcoming iterations we use a tree with leaves no more than 4.(in practice it can be 8-32). So like adaboost we are using fixed sized trees but here tree size is bigger than adaboost.\n",
    "- Gradient boosting scale all the trees with the same amount."
   ]
  },
  {
   "cell_type": "markdown",
   "metadata": {
    "tags": []
   },
   "source": [
    "### Algorithm\n",
    "\n",
    "Input: \n",
    "Data $\\{(x_i, y_i)\\}_{i=1}^{n}$\\\n",
    "A differenciable **Loss Function** $L(y_i, F(x)) = \\frac{1}{2}{(Observed - Predicted)}^2$.\n",
    "\n",
    "> 1. Initial model with a constant value $F_0(x) = {\\text{arg min}\\atop{\\gamma}} {\\sum_{i=1}^{n} L(y_i, \\gamma)}$.\n",
    "> \n",
    "> 2. For m=1 to M:\n",
    ">    \n",
    ">>> 1. Compute so-called pseudo-residuals: $r_{i,m} = -[ \\frac{\\partial L(y_i, F(x_i))}{\\partial F(x_i)} ]_{F(x) = F_{m-1}(x)}$, for i = 1,...,n.\n",
    ">>>  \n",
    ">>> 2. Fit a regression tree to the $r_{i,m}$ values and create terminal regions $R_{jm}$ for $j = 1,...,J_m$.\n",
    ">>>  \n",
    ">>> 3. For $j = 1,...,J_m$ compute $\\gamma_{jm} = {\\text{arg min}\\atop{\\gamma}} \\sum_{i=1}^{n} L(y_i, F_{m-1}(x_i) + \\gamma )$.\n",
    ">>>  \n",
    ">>> 4. Update the model $F_m(x) = F_{m-1}(x) + \\nu \\sum_{j=1}^{J_m} {\\gamma_m}(I(x \\in R_{jm}))$.\n",
    "> \n",
    "> 3. Output $F_M(x)$.\n",
    "\n",
    "\n",
    "\n",
    "Here we have different multiplier for every tree. Need to update the code according to it."
   ]
  },
  {
   "cell_type": "markdown",
   "metadata": {
    "tags": []
   },
   "source": [
    "### loss function calculations\n",
    "\n",
    "\\begin{align}\n",
    "L(y_i, F(x)) &= \\frac{1}{2}{(Observed - Predicted)} ^2\\\\\n",
    "\\frac{\\partial L(y_i, F(x_i))}{\\partial F(x_i)} &=  -(Observed - Predicted)\n",
    "\\end{align}"
   ]
  },
  {
   "cell_type": "markdown",
   "metadata": {},
   "source": [
    "### Sample data"
   ]
  },
  {
   "cell_type": "code",
   "execution_count": 2,
   "metadata": {},
   "outputs": [
    {
     "data": {
      "text/html": [
       "<div>\n",
       "<style scoped>\n",
       "    .dataframe tbody tr th:only-of-type {\n",
       "        vertical-align: middle;\n",
       "    }\n",
       "\n",
       "    .dataframe tbody tr th {\n",
       "        vertical-align: top;\n",
       "    }\n",
       "\n",
       "    .dataframe thead th {\n",
       "        text-align: right;\n",
       "    }\n",
       "</style>\n",
       "<table border=\"1\" class=\"dataframe\">\n",
       "  <thead>\n",
       "    <tr style=\"text-align: right;\">\n",
       "      <th></th>\n",
       "      <th>Height</th>\n",
       "      <th>FavColor</th>\n",
       "      <th>Gender</th>\n",
       "      <th>Weight</th>\n",
       "    </tr>\n",
       "  </thead>\n",
       "  <tbody>\n",
       "    <tr>\n",
       "      <th>0</th>\n",
       "      <td>1.6</td>\n",
       "      <td>Blue</td>\n",
       "      <td>Male</td>\n",
       "      <td>88</td>\n",
       "    </tr>\n",
       "    <tr>\n",
       "      <th>1</th>\n",
       "      <td>1.6</td>\n",
       "      <td>Green</td>\n",
       "      <td>Female</td>\n",
       "      <td>76</td>\n",
       "    </tr>\n",
       "    <tr>\n",
       "      <th>2</th>\n",
       "      <td>1.5</td>\n",
       "      <td>Blue</td>\n",
       "      <td>Female</td>\n",
       "      <td>56</td>\n",
       "    </tr>\n",
       "    <tr>\n",
       "      <th>3</th>\n",
       "      <td>1.8</td>\n",
       "      <td>Red</td>\n",
       "      <td>Male</td>\n",
       "      <td>73</td>\n",
       "    </tr>\n",
       "    <tr>\n",
       "      <th>4</th>\n",
       "      <td>1.5</td>\n",
       "      <td>Green</td>\n",
       "      <td>Male</td>\n",
       "      <td>77</td>\n",
       "    </tr>\n",
       "    <tr>\n",
       "      <th>5</th>\n",
       "      <td>1.4</td>\n",
       "      <td>Blue</td>\n",
       "      <td>Female</td>\n",
       "      <td>57</td>\n",
       "    </tr>\n",
       "  </tbody>\n",
       "</table>\n",
       "</div>"
      ],
      "text/plain": [
       "  Height FavColor  Gender Weight\n",
       "0    1.6     Blue    Male     88\n",
       "1    1.6    Green  Female     76\n",
       "2    1.5     Blue  Female     56\n",
       "3    1.8      Red    Male     73\n",
       "4    1.5    Green    Male     77\n",
       "5    1.4     Blue  Female     57"
      ]
     },
     "execution_count": 2,
     "metadata": {},
     "output_type": "execute_result"
    }
   ],
   "source": [
    "sample_data = np.array(\n",
    "    [\n",
    "        [1.6, \"Blue\", \"Male\", 88],\n",
    "        [1.6, \"Green\", \"Female\", 76],\n",
    "        [1.5, \"Blue\", \"Female\", 56],\n",
    "        [1.8, \"Red\", \"Male\", 73],\n",
    "        [1.5, \"Green\", \"Male\", 77],\n",
    "        [1.4, \"Blue\", \"Female\", 57],\n",
    "    ],\n",
    "    dtype=\"O\",\n",
    ")\n",
    "headers = [\"Height\", \"FavColor\", \"Gender\", \"Weight\"]\n",
    "\n",
    "df = pd.DataFrame(sample_data, columns=headers)\n",
    "df"
   ]
  },
  {
   "cell_type": "code",
   "execution_count": 3,
   "metadata": {},
   "outputs": [],
   "source": [
    "X = sample_data[..., [0, 1, 2]]\n",
    "y = sample_data[..., [-1]]"
   ]
  },
  {
   "cell_type": "markdown",
   "metadata": {
    "tags": []
   },
   "source": [
    "### Initial model/ leaf $F_0(x)$\n",
    "Calculating initial leaf value. Usually we need a constant value that we can increase or decrease to reach to expected value.\n",
    "\n",
    "\\begin{align}\n",
    "F_0(x) &= {\\text{arg min}\\atop{\\gamma}} {\\sum_{i=1}^{n} L(y_i, \\gamma)}\\\\\n",
    "\\frac{\\partial L(y_i, \\gamma)}{\\partial \\gamma} &=  -(Observed - Predicted)\\\\\n",
    "\\end{align}\n",
    "\n",
    "differenciation is used to minimize values. so minimizing loss with derivative\n",
    "where we need predicted($\\gamma$) such that it minimizes the loss.\n",
    "\n",
    "\n",
    "\\begin{align}\n",
    "& \\sum_{i=1}^{n} \\frac{\\partial L(y_i, \\gamma)}{\\partial \\gamma} = 0\\\\\n",
    "& -\\frac{1}{2}{(O_1 - \\gamma_1)} - \\frac{1}{2}{(O_2 - \\gamma_2)} - ... - \\frac{1}{2}{(O_n - \\gamma_n)} = 0\\\\\n",
    "\\because & \\text{ we need a constant initial value for the predicted}\\\\ \n",
    "\\therefore & \\gamma = \\gamma_1 = \\gamma_2 = ... = \\gamma_n\\\\\n",
    "& (O_1 - \\gamma) + (O_2 - \\gamma) + ... + (O_n - \\gamma) = 0\\\\\n",
    "& n \\gamma = O_1 + O_2 + ... + O_n\\\\\n",
    "& \\gamma = \\frac{(O_1 + O_2 + ... + O_n)}{n}\n",
    "\\end{align}\n",
    "\n",
    "SO initial predicted value is mean of observed values"
   ]
  },
  {
   "cell_type": "code",
   "execution_count": 4,
   "metadata": {},
   "outputs": [
    {
     "name": "stdout",
     "output_type": "stream",
     "text": [
      "71.16666666666667\n"
     ]
    }
   ],
   "source": [
    "initial_const = y.mean()\n",
    "\n",
    "print(initial_const)"
   ]
  },
  {
   "cell_type": "markdown",
   "metadata": {},
   "source": [
    "the leaf value means that all the predicted weights are 71.1666..."
   ]
  },
  {
   "cell_type": "markdown",
   "metadata": {},
   "source": [
    "### Pseudo residual ($r_{i,m}$)"
   ]
  },
  {
   "cell_type": "markdown",
   "metadata": {},
   "source": [
    "$r_{im} = -[ \\frac{\\partial L(y_i, F(x_i))}{\\partial F(x_i)} ]_{F(x) = F_{m-1}(x)}$ for i = 1, 2, ... , n"
   ]
  },
  {
   "cell_type": "markdown",
   "metadata": {},
   "source": [
    "so for 1st iteration(number of tree that we are trying to build) m = 1 \n",
    "- $F(x) = F_0(x) = \\gamma$\n",
    "- $r_{i1} = -(-(y_i - \\gamma))$\n",
    "\n",
    "pseudo residual = observed value - predicted value from last tree/leaf"
   ]
  },
  {
   "cell_type": "code",
   "execution_count": 5,
   "metadata": {},
   "outputs": [
    {
     "data": {
      "text/plain": [
       "71.16666666666667"
      ]
     },
     "execution_count": 5,
     "metadata": {},
     "output_type": "execute_result"
    }
   ],
   "source": [
    "initial_const"
   ]
  },
  {
   "cell_type": "code",
   "execution_count": 6,
   "metadata": {},
   "outputs": [
    {
     "data": {
      "text/html": [
       "<div>\n",
       "<style scoped>\n",
       "    .dataframe tbody tr th:only-of-type {\n",
       "        vertical-align: middle;\n",
       "    }\n",
       "\n",
       "    .dataframe tbody tr th {\n",
       "        vertical-align: top;\n",
       "    }\n",
       "\n",
       "    .dataframe thead th {\n",
       "        text-align: right;\n",
       "    }\n",
       "</style>\n",
       "<table border=\"1\" class=\"dataframe\">\n",
       "  <thead>\n",
       "    <tr style=\"text-align: right;\">\n",
       "      <th></th>\n",
       "      <th>Height</th>\n",
       "      <th>FavColor</th>\n",
       "      <th>Gender</th>\n",
       "      <th>Weight</th>\n",
       "      <th>pseudo_residual1</th>\n",
       "    </tr>\n",
       "  </thead>\n",
       "  <tbody>\n",
       "    <tr>\n",
       "      <th>0</th>\n",
       "      <td>1.6</td>\n",
       "      <td>Blue</td>\n",
       "      <td>Male</td>\n",
       "      <td>88</td>\n",
       "      <td>16.8333</td>\n",
       "    </tr>\n",
       "    <tr>\n",
       "      <th>1</th>\n",
       "      <td>1.6</td>\n",
       "      <td>Green</td>\n",
       "      <td>Female</td>\n",
       "      <td>76</td>\n",
       "      <td>4.83333</td>\n",
       "    </tr>\n",
       "    <tr>\n",
       "      <th>2</th>\n",
       "      <td>1.5</td>\n",
       "      <td>Blue</td>\n",
       "      <td>Female</td>\n",
       "      <td>56</td>\n",
       "      <td>-15.1667</td>\n",
       "    </tr>\n",
       "    <tr>\n",
       "      <th>3</th>\n",
       "      <td>1.8</td>\n",
       "      <td>Red</td>\n",
       "      <td>Male</td>\n",
       "      <td>73</td>\n",
       "      <td>1.83333</td>\n",
       "    </tr>\n",
       "    <tr>\n",
       "      <th>4</th>\n",
       "      <td>1.5</td>\n",
       "      <td>Green</td>\n",
       "      <td>Male</td>\n",
       "      <td>77</td>\n",
       "      <td>5.83333</td>\n",
       "    </tr>\n",
       "    <tr>\n",
       "      <th>5</th>\n",
       "      <td>1.4</td>\n",
       "      <td>Blue</td>\n",
       "      <td>Female</td>\n",
       "      <td>57</td>\n",
       "      <td>-14.1667</td>\n",
       "    </tr>\n",
       "  </tbody>\n",
       "</table>\n",
       "</div>"
      ],
      "text/plain": [
       "  Height FavColor  Gender Weight pseudo_residual1\n",
       "0    1.6     Blue    Male     88          16.8333\n",
       "1    1.6    Green  Female     76          4.83333\n",
       "2    1.5     Blue  Female     56         -15.1667\n",
       "3    1.8      Red    Male     73          1.83333\n",
       "4    1.5    Green    Male     77          5.83333\n",
       "5    1.4     Blue  Female     57         -14.1667"
      ]
     },
     "execution_count": 6,
     "metadata": {},
     "output_type": "execute_result"
    }
   ],
   "source": [
    "pseudo_residual = y - initial_const\n",
    "\n",
    "df[\"pseudo_residual1\"] = pseudo_residual\n",
    "df"
   ]
  },
  {
   "cell_type": "markdown",
   "metadata": {},
   "source": [
    "### Building regression tree to predict residuals"
   ]
  },
  {
   "cell_type": "markdown",
   "metadata": {},
   "source": [
    "Yes, so this is different from other algorithms that we are building the regression tree to predict residuals and not the target values."
   ]
  },
  {
   "cell_type": "code",
   "execution_count": 7,
   "metadata": {},
   "outputs": [],
   "source": [
    "from mightypy.ml.tree_models import DecisionTreeRegressor"
   ]
  },
  {
   "cell_type": "code",
   "execution_count": 8,
   "metadata": {},
   "outputs": [
    {
     "name": "stdout",
     "output_type": "stream",
     "text": [
      "|-Is Height >= 1.8 ? | variance :129.13888888888889\n",
      "|---> True:\n",
      "  |--  Predict : 1.8333333333333286\n",
      "|---> False:\n",
      "  |--Is FavColor == Green ? | variance :154.16000000000003\n",
      "  |----> True:\n",
      "    |---  Predict : 5.333333333333329\n",
      "  |----> False:\n",
      "    |---Is Height >= 1.6 ? | variance :220.66666666666666\n",
      "    |-----> True:\n",
      "      |----  Predict : 16.83333333333333\n",
      "    |-----> False:\n",
      "      |----  Predict : -14.666666666666671\n"
     ]
    }
   ],
   "source": [
    "model_tree = DecisionTreeRegressor(max_depth=2)\n",
    "\n",
    "model_tree.train(\n",
    "    X=X, y=pseudo_residual, feature_name=headers[:-1], target_name=headers[-1]\n",
    ")\n",
    "\n",
    "model_tree.print_tree()"
   ]
  },
  {
   "cell_type": "code",
   "execution_count": 9,
   "metadata": {},
   "outputs": [
    {
     "data": {
      "text/html": [
       "<div>\n",
       "<style scoped>\n",
       "    .dataframe tbody tr th:only-of-type {\n",
       "        vertical-align: middle;\n",
       "    }\n",
       "\n",
       "    .dataframe tbody tr th {\n",
       "        vertical-align: top;\n",
       "    }\n",
       "\n",
       "    .dataframe thead th {\n",
       "        text-align: right;\n",
       "    }\n",
       "</style>\n",
       "<table border=\"1\" class=\"dataframe\">\n",
       "  <thead>\n",
       "    <tr style=\"text-align: right;\">\n",
       "      <th></th>\n",
       "      <th>Height</th>\n",
       "      <th>FavColor</th>\n",
       "      <th>Gender</th>\n",
       "      <th>Weight</th>\n",
       "      <th>pseudo_residual1</th>\n",
       "      <th>predicted_residual1</th>\n",
       "    </tr>\n",
       "  </thead>\n",
       "  <tbody>\n",
       "    <tr>\n",
       "      <th>0</th>\n",
       "      <td>1.6</td>\n",
       "      <td>Blue</td>\n",
       "      <td>Male</td>\n",
       "      <td>88</td>\n",
       "      <td>16.8333</td>\n",
       "      <td>16.8333</td>\n",
       "    </tr>\n",
       "    <tr>\n",
       "      <th>1</th>\n",
       "      <td>1.6</td>\n",
       "      <td>Green</td>\n",
       "      <td>Female</td>\n",
       "      <td>76</td>\n",
       "      <td>4.83333</td>\n",
       "      <td>5.33333</td>\n",
       "    </tr>\n",
       "    <tr>\n",
       "      <th>2</th>\n",
       "      <td>1.5</td>\n",
       "      <td>Blue</td>\n",
       "      <td>Female</td>\n",
       "      <td>56</td>\n",
       "      <td>-15.1667</td>\n",
       "      <td>-14.6667</td>\n",
       "    </tr>\n",
       "    <tr>\n",
       "      <th>3</th>\n",
       "      <td>1.8</td>\n",
       "      <td>Red</td>\n",
       "      <td>Male</td>\n",
       "      <td>73</td>\n",
       "      <td>1.83333</td>\n",
       "      <td>1.83333</td>\n",
       "    </tr>\n",
       "    <tr>\n",
       "      <th>4</th>\n",
       "      <td>1.5</td>\n",
       "      <td>Green</td>\n",
       "      <td>Male</td>\n",
       "      <td>77</td>\n",
       "      <td>5.83333</td>\n",
       "      <td>5.33333</td>\n",
       "    </tr>\n",
       "    <tr>\n",
       "      <th>5</th>\n",
       "      <td>1.4</td>\n",
       "      <td>Blue</td>\n",
       "      <td>Female</td>\n",
       "      <td>57</td>\n",
       "      <td>-14.1667</td>\n",
       "      <td>-14.6667</td>\n",
       "    </tr>\n",
       "  </tbody>\n",
       "</table>\n",
       "</div>"
      ],
      "text/plain": [
       "  Height FavColor  Gender Weight pseudo_residual1 predicted_residual1\n",
       "0    1.6     Blue    Male     88          16.8333             16.8333\n",
       "1    1.6    Green  Female     76          4.83333             5.33333\n",
       "2    1.5     Blue  Female     56         -15.1667            -14.6667\n",
       "3    1.8      Red    Male     73          1.83333             1.83333\n",
       "4    1.5    Green    Male     77          5.83333             5.33333\n",
       "5    1.4     Blue  Female     57         -14.1667            -14.6667"
      ]
     },
     "execution_count": 9,
     "metadata": {},
     "output_type": "execute_result"
    }
   ],
   "source": [
    "predicted_residual = model_tree.predict(X)\n",
    "df[\"predicted_residual1\"] = predicted_residual\n",
    "df"
   ]
  },
  {
   "cell_type": "markdown",
   "metadata": {},
   "source": [
    "### Chaining predicted results with earlier results"
   ]
  },
  {
   "cell_type": "markdown",
   "metadata": {},
   "source": [
    "Lets add predicted residual with average of target"
   ]
  },
  {
   "cell_type": "code",
   "execution_count": 10,
   "metadata": {},
   "outputs": [],
   "source": [
    "df[\"tree_prediction1\"] = initial_const + predicted_residual"
   ]
  },
  {
   "cell_type": "code",
   "execution_count": 11,
   "metadata": {},
   "outputs": [
    {
     "data": {
      "text/html": [
       "<div>\n",
       "<style scoped>\n",
       "    .dataframe tbody tr th:only-of-type {\n",
       "        vertical-align: middle;\n",
       "    }\n",
       "\n",
       "    .dataframe tbody tr th {\n",
       "        vertical-align: top;\n",
       "    }\n",
       "\n",
       "    .dataframe thead th {\n",
       "        text-align: right;\n",
       "    }\n",
       "</style>\n",
       "<table border=\"1\" class=\"dataframe\">\n",
       "  <thead>\n",
       "    <tr style=\"text-align: right;\">\n",
       "      <th></th>\n",
       "      <th>Height</th>\n",
       "      <th>FavColor</th>\n",
       "      <th>Gender</th>\n",
       "      <th>Weight</th>\n",
       "      <th>pseudo_residual1</th>\n",
       "      <th>predicted_residual1</th>\n",
       "      <th>tree_prediction1</th>\n",
       "    </tr>\n",
       "  </thead>\n",
       "  <tbody>\n",
       "    <tr>\n",
       "      <th>0</th>\n",
       "      <td>1.6</td>\n",
       "      <td>Blue</td>\n",
       "      <td>Male</td>\n",
       "      <td>88</td>\n",
       "      <td>16.8333</td>\n",
       "      <td>16.8333</td>\n",
       "      <td>88</td>\n",
       "    </tr>\n",
       "    <tr>\n",
       "      <th>1</th>\n",
       "      <td>1.6</td>\n",
       "      <td>Green</td>\n",
       "      <td>Female</td>\n",
       "      <td>76</td>\n",
       "      <td>4.83333</td>\n",
       "      <td>5.33333</td>\n",
       "      <td>76.5</td>\n",
       "    </tr>\n",
       "    <tr>\n",
       "      <th>2</th>\n",
       "      <td>1.5</td>\n",
       "      <td>Blue</td>\n",
       "      <td>Female</td>\n",
       "      <td>56</td>\n",
       "      <td>-15.1667</td>\n",
       "      <td>-14.6667</td>\n",
       "      <td>56.5</td>\n",
       "    </tr>\n",
       "    <tr>\n",
       "      <th>3</th>\n",
       "      <td>1.8</td>\n",
       "      <td>Red</td>\n",
       "      <td>Male</td>\n",
       "      <td>73</td>\n",
       "      <td>1.83333</td>\n",
       "      <td>1.83333</td>\n",
       "      <td>73</td>\n",
       "    </tr>\n",
       "    <tr>\n",
       "      <th>4</th>\n",
       "      <td>1.5</td>\n",
       "      <td>Green</td>\n",
       "      <td>Male</td>\n",
       "      <td>77</td>\n",
       "      <td>5.83333</td>\n",
       "      <td>5.33333</td>\n",
       "      <td>76.5</td>\n",
       "    </tr>\n",
       "    <tr>\n",
       "      <th>5</th>\n",
       "      <td>1.4</td>\n",
       "      <td>Blue</td>\n",
       "      <td>Female</td>\n",
       "      <td>57</td>\n",
       "      <td>-14.1667</td>\n",
       "      <td>-14.6667</td>\n",
       "      <td>56.5</td>\n",
       "    </tr>\n",
       "  </tbody>\n",
       "</table>\n",
       "</div>"
      ],
      "text/plain": [
       "  Height FavColor  Gender Weight pseudo_residual1 predicted_residual1  \\\n",
       "0    1.6     Blue    Male     88          16.8333             16.8333   \n",
       "1    1.6    Green  Female     76          4.83333             5.33333   \n",
       "2    1.5     Blue  Female     56         -15.1667            -14.6667   \n",
       "3    1.8      Red    Male     73          1.83333             1.83333   \n",
       "4    1.5    Green    Male     77          5.83333             5.33333   \n",
       "5    1.4     Blue  Female     57         -14.1667            -14.6667   \n",
       "\n",
       "  tree_prediction1  \n",
       "0               88  \n",
       "1             76.5  \n",
       "2             56.5  \n",
       "3               73  \n",
       "4             76.5  \n",
       "5             56.5  "
      ]
     },
     "execution_count": 11,
     "metadata": {},
     "output_type": "execute_result"
    }
   ],
   "source": [
    "df"
   ]
  },
  {
   "cell_type": "markdown",
   "metadata": {},
   "source": [
    "> problem here is if we directly add new residuals to previous tree's predictions we are getting too close results to original observations. And this will cause overfitting. **We need one parameter that slows down the learning. called learning rate**"
   ]
  },
  {
   "cell_type": "markdown",
   "metadata": {},
   "source": [
    "#### Introducing learning rate ($\\nu$)"
   ]
  },
  {
   "cell_type": "markdown",
   "metadata": {},
   "source": [
    "so in last two cells, values are really close , seems overfitting."
   ]
  },
  {
   "cell_type": "markdown",
   "metadata": {},
   "source": [
    "lets introduce a learning rate, so gradually we'll reach to a proper result"
   ]
  },
  {
   "cell_type": "markdown",
   "metadata": {},
   "source": [
    "multiplying learning rate($\\nu$) with predicted residuals of the tree, and adding it up with last tree's output(predictions)\n",
    "\n",
    "\n",
    "- for first tree ,last tree output is actually the leaf value(mean of observations). "
   ]
  },
  {
   "cell_type": "code",
   "execution_count": 12,
   "metadata": {},
   "outputs": [
    {
     "data": {
      "text/html": [
       "<div>\n",
       "<style scoped>\n",
       "    .dataframe tbody tr th:only-of-type {\n",
       "        vertical-align: middle;\n",
       "    }\n",
       "\n",
       "    .dataframe tbody tr th {\n",
       "        vertical-align: top;\n",
       "    }\n",
       "\n",
       "    .dataframe thead th {\n",
       "        text-align: right;\n",
       "    }\n",
       "</style>\n",
       "<table border=\"1\" class=\"dataframe\">\n",
       "  <thead>\n",
       "    <tr style=\"text-align: right;\">\n",
       "      <th></th>\n",
       "      <th>Height</th>\n",
       "      <th>FavColor</th>\n",
       "      <th>Gender</th>\n",
       "      <th>Weight</th>\n",
       "      <th>pseudo_residual1</th>\n",
       "      <th>predicted_residual1</th>\n",
       "      <th>tree_prediction1</th>\n",
       "    </tr>\n",
       "  </thead>\n",
       "  <tbody>\n",
       "    <tr>\n",
       "      <th>0</th>\n",
       "      <td>1.6</td>\n",
       "      <td>Blue</td>\n",
       "      <td>Male</td>\n",
       "      <td>88</td>\n",
       "      <td>16.8333</td>\n",
       "      <td>16.8333</td>\n",
       "      <td>76.2167</td>\n",
       "    </tr>\n",
       "    <tr>\n",
       "      <th>1</th>\n",
       "      <td>1.6</td>\n",
       "      <td>Green</td>\n",
       "      <td>Female</td>\n",
       "      <td>76</td>\n",
       "      <td>4.83333</td>\n",
       "      <td>5.33333</td>\n",
       "      <td>72.7667</td>\n",
       "    </tr>\n",
       "    <tr>\n",
       "      <th>2</th>\n",
       "      <td>1.5</td>\n",
       "      <td>Blue</td>\n",
       "      <td>Female</td>\n",
       "      <td>56</td>\n",
       "      <td>-15.1667</td>\n",
       "      <td>-14.6667</td>\n",
       "      <td>66.7667</td>\n",
       "    </tr>\n",
       "    <tr>\n",
       "      <th>3</th>\n",
       "      <td>1.8</td>\n",
       "      <td>Red</td>\n",
       "      <td>Male</td>\n",
       "      <td>73</td>\n",
       "      <td>1.83333</td>\n",
       "      <td>1.83333</td>\n",
       "      <td>71.7167</td>\n",
       "    </tr>\n",
       "    <tr>\n",
       "      <th>4</th>\n",
       "      <td>1.5</td>\n",
       "      <td>Green</td>\n",
       "      <td>Male</td>\n",
       "      <td>77</td>\n",
       "      <td>5.83333</td>\n",
       "      <td>5.33333</td>\n",
       "      <td>72.7667</td>\n",
       "    </tr>\n",
       "    <tr>\n",
       "      <th>5</th>\n",
       "      <td>1.4</td>\n",
       "      <td>Blue</td>\n",
       "      <td>Female</td>\n",
       "      <td>57</td>\n",
       "      <td>-14.1667</td>\n",
       "      <td>-14.6667</td>\n",
       "      <td>66.7667</td>\n",
       "    </tr>\n",
       "  </tbody>\n",
       "</table>\n",
       "</div>"
      ],
      "text/plain": [
       "  Height FavColor  Gender Weight pseudo_residual1 predicted_residual1  \\\n",
       "0    1.6     Blue    Male     88          16.8333             16.8333   \n",
       "1    1.6    Green  Female     76          4.83333             5.33333   \n",
       "2    1.5     Blue  Female     56         -15.1667            -14.6667   \n",
       "3    1.8      Red    Male     73          1.83333             1.83333   \n",
       "4    1.5    Green    Male     77          5.83333             5.33333   \n",
       "5    1.4     Blue  Female     57         -14.1667            -14.6667   \n",
       "\n",
       "  tree_prediction1  \n",
       "0          76.2167  \n",
       "1          72.7667  \n",
       "2          66.7667  \n",
       "3          71.7167  \n",
       "4          72.7667  \n",
       "5          66.7667  "
      ]
     },
     "execution_count": 12,
     "metadata": {},
     "output_type": "execute_result"
    }
   ],
   "source": [
    "learning_rate = 0.3\n",
    "last_tree_output = initial_const + (learning_rate * predicted_residual)\n",
    "df[\"tree_prediction1\"] = last_tree_output\n",
    "df"
   ]
  },
  {
   "cell_type": "markdown",
   "metadata": {},
   "source": [
    "Now these value are not exactly equal to the target data, but it is getting closer. Slow and steadily we can reach to the target values.\n",
    "now use this output to create a new tree."
   ]
  },
  {
   "cell_type": "markdown",
   "metadata": {},
   "source": [
    "### Repeating for next tree\n",
    "Again calulate residuals"
   ]
  },
  {
   "cell_type": "code",
   "execution_count": 13,
   "metadata": {},
   "outputs": [
    {
     "data": {
      "text/html": [
       "<div>\n",
       "<style scoped>\n",
       "    .dataframe tbody tr th:only-of-type {\n",
       "        vertical-align: middle;\n",
       "    }\n",
       "\n",
       "    .dataframe tbody tr th {\n",
       "        vertical-align: top;\n",
       "    }\n",
       "\n",
       "    .dataframe thead th {\n",
       "        text-align: right;\n",
       "    }\n",
       "</style>\n",
       "<table border=\"1\" class=\"dataframe\">\n",
       "  <thead>\n",
       "    <tr style=\"text-align: right;\">\n",
       "      <th></th>\n",
       "      <th>Height</th>\n",
       "      <th>FavColor</th>\n",
       "      <th>Gender</th>\n",
       "      <th>Weight</th>\n",
       "      <th>pseudo_residual1</th>\n",
       "      <th>predicted_residual1</th>\n",
       "      <th>tree_prediction1</th>\n",
       "      <th>pseudo_residual2</th>\n",
       "    </tr>\n",
       "  </thead>\n",
       "  <tbody>\n",
       "    <tr>\n",
       "      <th>0</th>\n",
       "      <td>1.6</td>\n",
       "      <td>Blue</td>\n",
       "      <td>Male</td>\n",
       "      <td>88</td>\n",
       "      <td>16.8333</td>\n",
       "      <td>16.8333</td>\n",
       "      <td>76.2167</td>\n",
       "      <td>11.7833</td>\n",
       "    </tr>\n",
       "    <tr>\n",
       "      <th>1</th>\n",
       "      <td>1.6</td>\n",
       "      <td>Green</td>\n",
       "      <td>Female</td>\n",
       "      <td>76</td>\n",
       "      <td>4.83333</td>\n",
       "      <td>5.33333</td>\n",
       "      <td>72.7667</td>\n",
       "      <td>3.23333</td>\n",
       "    </tr>\n",
       "    <tr>\n",
       "      <th>2</th>\n",
       "      <td>1.5</td>\n",
       "      <td>Blue</td>\n",
       "      <td>Female</td>\n",
       "      <td>56</td>\n",
       "      <td>-15.1667</td>\n",
       "      <td>-14.6667</td>\n",
       "      <td>66.7667</td>\n",
       "      <td>-10.7667</td>\n",
       "    </tr>\n",
       "    <tr>\n",
       "      <th>3</th>\n",
       "      <td>1.8</td>\n",
       "      <td>Red</td>\n",
       "      <td>Male</td>\n",
       "      <td>73</td>\n",
       "      <td>1.83333</td>\n",
       "      <td>1.83333</td>\n",
       "      <td>71.7167</td>\n",
       "      <td>1.28333</td>\n",
       "    </tr>\n",
       "    <tr>\n",
       "      <th>4</th>\n",
       "      <td>1.5</td>\n",
       "      <td>Green</td>\n",
       "      <td>Male</td>\n",
       "      <td>77</td>\n",
       "      <td>5.83333</td>\n",
       "      <td>5.33333</td>\n",
       "      <td>72.7667</td>\n",
       "      <td>4.23333</td>\n",
       "    </tr>\n",
       "    <tr>\n",
       "      <th>5</th>\n",
       "      <td>1.4</td>\n",
       "      <td>Blue</td>\n",
       "      <td>Female</td>\n",
       "      <td>57</td>\n",
       "      <td>-14.1667</td>\n",
       "      <td>-14.6667</td>\n",
       "      <td>66.7667</td>\n",
       "      <td>-9.76667</td>\n",
       "    </tr>\n",
       "  </tbody>\n",
       "</table>\n",
       "</div>"
      ],
      "text/plain": [
       "  Height FavColor  Gender Weight pseudo_residual1 predicted_residual1  \\\n",
       "0    1.6     Blue    Male     88          16.8333             16.8333   \n",
       "1    1.6    Green  Female     76          4.83333             5.33333   \n",
       "2    1.5     Blue  Female     56         -15.1667            -14.6667   \n",
       "3    1.8      Red    Male     73          1.83333             1.83333   \n",
       "4    1.5    Green    Male     77          5.83333             5.33333   \n",
       "5    1.4     Blue  Female     57         -14.1667            -14.6667   \n",
       "\n",
       "  tree_prediction1 pseudo_residual2  \n",
       "0          76.2167          11.7833  \n",
       "1          72.7667          3.23333  \n",
       "2          66.7667         -10.7667  \n",
       "3          71.7167          1.28333  \n",
       "4          72.7667          4.23333  \n",
       "5          66.7667         -9.76667  "
      ]
     },
     "execution_count": 13,
     "metadata": {},
     "output_type": "execute_result"
    }
   ],
   "source": [
    "pseudo_residual = y - last_tree_output\n",
    "df[\"pseudo_residual2\"] = pseudo_residual\n",
    "df"
   ]
  },
  {
   "cell_type": "code",
   "execution_count": 15,
   "metadata": {},
   "outputs": [
    {
     "name": "stdout",
     "output_type": "stream",
     "text": [
      "|-Is Height >= 1.8 ? | variance :63.36305555555555\n",
      "|---> True:\n",
      "  |--  Predict : 1.2833333333333314\n",
      "|---> False:\n",
      "  |--Is FavColor == Green ? | variance :75.6404\n",
      "  |----> True:\n",
      "    |---  Predict : 3.7333333333333343\n",
      "  |----> False:\n",
      "    |---Is Height >= 1.6 ? | variance :108.21166666666664\n",
      "    |-----> True:\n",
      "      |----  Predict : 11.783333333333331\n",
      "    |-----> False:\n",
      "      |----  Predict : -10.266666666666666\n"
     ]
    }
   ],
   "source": [
    "model_tree = DecisionTreeRegressor(max_depth=2)\n",
    "\n",
    "model_tree.train(\n",
    "    X=X, y=pseudo_residual, feature_name=headers[:-1], target_name=headers[-1]\n",
    ")\n",
    "\n",
    "model_tree.print_tree()\n",
    "\n",
    "predicted_residual = model_tree.predict(X)\n",
    "df[\"predicted_residual2\"] = predicted_residual\n",
    "\n",
    "learning_rate = 0.3\n",
    "last_tree_output = last_tree_output + (learning_rate * predicted_residual)\n",
    "df[\"tree_prediction2\"] = last_tree_output"
   ]
  },
  {
   "cell_type": "markdown",
   "metadata": {},
   "source": [
    "### Conclusion from the process"
   ]
  },
  {
   "cell_type": "code",
   "execution_count": 16,
   "metadata": {},
   "outputs": [
    {
     "data": {
      "text/html": [
       "<div>\n",
       "<style scoped>\n",
       "    .dataframe tbody tr th:only-of-type {\n",
       "        vertical-align: middle;\n",
       "    }\n",
       "\n",
       "    .dataframe tbody tr th {\n",
       "        vertical-align: top;\n",
       "    }\n",
       "\n",
       "    .dataframe thead th {\n",
       "        text-align: right;\n",
       "    }\n",
       "</style>\n",
       "<table border=\"1\" class=\"dataframe\">\n",
       "  <thead>\n",
       "    <tr style=\"text-align: right;\">\n",
       "      <th></th>\n",
       "      <th>Height</th>\n",
       "      <th>FavColor</th>\n",
       "      <th>Gender</th>\n",
       "      <th>Weight</th>\n",
       "      <th>pseudo_residual1</th>\n",
       "      <th>predicted_residual1</th>\n",
       "      <th>tree_prediction1</th>\n",
       "      <th>pseudo_residual2</th>\n",
       "      <th>predicted_residual2</th>\n",
       "      <th>tree_prediction2</th>\n",
       "    </tr>\n",
       "  </thead>\n",
       "  <tbody>\n",
       "    <tr>\n",
       "      <th>0</th>\n",
       "      <td>1.6</td>\n",
       "      <td>Blue</td>\n",
       "      <td>Male</td>\n",
       "      <td>88</td>\n",
       "      <td>16.8333</td>\n",
       "      <td>16.8333</td>\n",
       "      <td>76.2167</td>\n",
       "      <td>11.7833</td>\n",
       "      <td>11.7833</td>\n",
       "      <td>80.93</td>\n",
       "    </tr>\n",
       "    <tr>\n",
       "      <th>1</th>\n",
       "      <td>1.6</td>\n",
       "      <td>Green</td>\n",
       "      <td>Female</td>\n",
       "      <td>76</td>\n",
       "      <td>4.83333</td>\n",
       "      <td>5.33333</td>\n",
       "      <td>72.7667</td>\n",
       "      <td>3.23333</td>\n",
       "      <td>3.73333</td>\n",
       "      <td>74.26</td>\n",
       "    </tr>\n",
       "    <tr>\n",
       "      <th>2</th>\n",
       "      <td>1.5</td>\n",
       "      <td>Blue</td>\n",
       "      <td>Female</td>\n",
       "      <td>56</td>\n",
       "      <td>-15.1667</td>\n",
       "      <td>-14.6667</td>\n",
       "      <td>66.7667</td>\n",
       "      <td>-10.7667</td>\n",
       "      <td>-10.2667</td>\n",
       "      <td>62.66</td>\n",
       "    </tr>\n",
       "    <tr>\n",
       "      <th>3</th>\n",
       "      <td>1.8</td>\n",
       "      <td>Red</td>\n",
       "      <td>Male</td>\n",
       "      <td>73</td>\n",
       "      <td>1.83333</td>\n",
       "      <td>1.83333</td>\n",
       "      <td>71.7167</td>\n",
       "      <td>1.28333</td>\n",
       "      <td>1.28333</td>\n",
       "      <td>72.23</td>\n",
       "    </tr>\n",
       "    <tr>\n",
       "      <th>4</th>\n",
       "      <td>1.5</td>\n",
       "      <td>Green</td>\n",
       "      <td>Male</td>\n",
       "      <td>77</td>\n",
       "      <td>5.83333</td>\n",
       "      <td>5.33333</td>\n",
       "      <td>72.7667</td>\n",
       "      <td>4.23333</td>\n",
       "      <td>3.73333</td>\n",
       "      <td>74.26</td>\n",
       "    </tr>\n",
       "    <tr>\n",
       "      <th>5</th>\n",
       "      <td>1.4</td>\n",
       "      <td>Blue</td>\n",
       "      <td>Female</td>\n",
       "      <td>57</td>\n",
       "      <td>-14.1667</td>\n",
       "      <td>-14.6667</td>\n",
       "      <td>66.7667</td>\n",
       "      <td>-9.76667</td>\n",
       "      <td>-10.2667</td>\n",
       "      <td>62.66</td>\n",
       "    </tr>\n",
       "  </tbody>\n",
       "</table>\n",
       "</div>"
      ],
      "text/plain": [
       "  Height FavColor  Gender Weight pseudo_residual1 predicted_residual1  \\\n",
       "0    1.6     Blue    Male     88          16.8333             16.8333   \n",
       "1    1.6    Green  Female     76          4.83333             5.33333   \n",
       "2    1.5     Blue  Female     56         -15.1667            -14.6667   \n",
       "3    1.8      Red    Male     73          1.83333             1.83333   \n",
       "4    1.5    Green    Male     77          5.83333             5.33333   \n",
       "5    1.4     Blue  Female     57         -14.1667            -14.6667   \n",
       "\n",
       "  tree_prediction1 pseudo_residual2 predicted_residual2 tree_prediction2  \n",
       "0          76.2167          11.7833             11.7833            80.93  \n",
       "1          72.7667          3.23333             3.73333            74.26  \n",
       "2          66.7667         -10.7667            -10.2667            62.66  \n",
       "3          71.7167          1.28333             1.28333            72.23  \n",
       "4          72.7667          4.23333             3.73333            74.26  \n",
       "5          66.7667         -9.76667            -10.2667            62.66  "
      ]
     },
     "execution_count": 16,
     "metadata": {},
     "output_type": "execute_result"
    }
   ],
   "source": [
    "df"
   ]
  },
  {
   "cell_type": "code",
   "execution_count": 51,
   "metadata": {},
   "outputs": [
    {
     "data": {
      "image/png": "[encoded data removed]",
      "text/plain": [
       "<Figure size 1080x504 with 2 Axes>"
      ]
     },
     "metadata": {
      "needs_background": "light"
     },
     "output_type": "display_data"
    }
   ],
   "source": [
    "fig, ax = plt.subplots(1, 2, figsize=(15, 7))\n",
    "\n",
    "ax[0].axhline(0, color=\"k\", label=\"minimum residual = 0\")\n",
    "ax[0].plot(df[\"pseudo_residual1\"], \"o-\", label=\"Pseudo Residual 1\")\n",
    "ax[0].vlines(\n",
    "    df.index, ymin=0, ymax=df[\"pseudo_residual1\"], color=\"grey\", lw=5, alpha=0.6\n",
    ")\n",
    "\n",
    "ax[0].plot(df[\"pseudo_residual2\"], \"o-\", label=\"Pseudo Residual 2\")\n",
    "ax[0].vlines(\n",
    "    df.index, ymin=0, ymax=df[\"pseudo_residual2\"], color=\"orange\", lw=3, alpha=1\n",
    ")\n",
    "ax[0].set_title(\"Pseudo Residual\")\n",
    "ax[0].legend()\n",
    "\n",
    "ax[1].plot(df[\"Weight\"], \"o-\", color=\"k\", label=\"Observations\")\n",
    "ax[1].plot(df[\"tree_prediction1\"], \"o-\", label=\"Tree predictions 1\")\n",
    "ax[1].plot(df[\"tree_prediction2\"], \"o-\", label=\"Tree predictions 2\")\n",
    "ax[1].set_title(\"Predictions\")\n",
    "ax[1].legend()\n",
    "\n",
    "plt.show()"
   ]
  },
  {
   "cell_type": "markdown",
   "metadata": {},
   "source": [
    "It is clearly visible that after each iteration pseudo residual is decreasing, and tree prediction is reaching closer to original observations."
   ]
  },
  {
   "cell_type": "markdown",
   "metadata": {},
   "source": [
    "### Understand chaining/adding trees"
   ]
  },
  {
   "cell_type": "markdown",
   "metadata": {},
   "source": [
    "\n",
    "\n",
    "leaf value + (lr) * tree 1 predictions + (lr) * tree 2 predictions + ...\n",
    "\n",
    "so actually here we are addding trees based on residuals from last tree(errors made from last tree). and chain/add them while including learning rate.\n",
    "\n",
    "\n",
    "we keep adding trees until predefined number of trees are not reached or adding new trees are not significantly reducing the size of residuals."
   ]
  },
  {
   "cell_type": "markdown",
   "metadata": {
    "tags": []
   },
   "source": [
    "## Gradient Boosting Classification"
   ]
  },
  {
   "cell_type": "markdown",
   "metadata": {},
   "source": [
    "### Algorithm\n",
    "\n",
    "Input: \n",
    "Data $\\{(x_i, y_i)\\}_{i=1}^{n}$\\\n",
    "A differenciable **Loss Function** $L(y_i, F(x))$.\\\n",
    "In this case $\\gamma$ is log(odds).\n",
    "\n",
    "1. Initial model with a constant value $F_0(x) = {\\text{arg min}\\atop{\\gamma}} {\\sum_{i=1}^{n} L(y_i, \\gamma)}$.\n",
    "\n",
    "1. For m=1 to M:\n",
    "   \n",
    "    1. Compute so-called pseudo-residuals: $r_{i,m} = -[ \\frac{\\partial L(y_i, F(x_i))}{\\partial F(x_i)} ]_{F(x) = F_{m-1}(x)}$, for i = 1,...,n.\n",
    "   \n",
    "    1. Fit a regression tree to the $r_{i,m}$ values and create terminal regions $R_{jm}$ for $j = 1,...,J_m$\n",
    "    \n",
    "    1. For $j = 1,...,J_m$ compute $\\gamma_{jm} = {\\text{arg min}\\atop{\\gamma}} \\sum_{i=1}^{n} L(y_i, F_{m-1}(x_i) + \\gamma)$.\n",
    "    \n",
    "    1. Update the model $F_m(x) = F_{m-1}(x) + \\nu \\sum_{j=1}^{J_m} {\\gamma_m I(x \\in R_{jm})}$.\n",
    "\n",
    "1. Output $F_M(x)$."
   ]
  },
  {
   "cell_type": "markdown",
   "metadata": {},
   "source": [
    "### Loss function calculations"
   ]
  },
  {
   "cell_type": "markdown",
   "metadata": {},
   "source": [
    "\\begin{align}\n",
    "L(y, p) &= -\\sum_{i=1}^{n} y_i \\times log(p_i) + (1 - y_i) \\times log(1 - p_i)\\\\\n",
    "L(y, p) &= -\\sum_{i=1}^{n} y_i log(p_i) + log(1 - p_i) - y_i  log(1 - p_i)\\\\\n",
    "L(y, p) &= -\\sum_{i=1}^{n} y_i log(p_i) - y_i  log(1 - p_i) + log(1 - p_i)\\\\\n",
    "L(y, p) &= -\\sum_{i=1}^{n} y_i log(\\frac{p_i}{1 - p_i}) + log(1 - p_i)\\\\\n",
    "\\because \\text{odds} &= \\frac{p}{1 - p}\\\\\n",
    "\\therefore L(y, p) &= -\\sum_{i=1}^{n} y_i log(odds) + log(1 - p_i)\n",
    "\\end{align}\n",
    "\n",
    "\n",
    "\\begin{align}\n",
    "log(1 - p_i) &= log(1 - \\frac{e^{log(odds)}}{1 + e^{log(odds)}})\\\\\n",
    "&= log(\\frac{1 + e^{log(odds)} - e^{log(odds)}}{1 + e^{log(odds)}})\\\\\n",
    "&= log(\\frac{1}{1 + e^{log(odds)}})\\\\\n",
    "&= log(1) - log(1 + e^{log(odds)})\\\\\n",
    "&= 0 - log(1 + e^{log(odds)})\n",
    "\\end{align}\n",
    "\n",
    "\n",
    "---\n",
    "\n",
    "\\begin{align}\n",
    "L(y, p) &= -\\sum_{i=1}^{n} y_i log(odds) - log(1 + e^{log(odds)})\n",
    "\\end{align}\n",
    "\n",
    "---"
   ]
  },
  {
   "cell_type": "markdown",
   "metadata": {},
   "source": [
    "\\begin{align}\n",
    "\\frac{\\partial L}{\\partial log(odds)} &= - \\sum y_i - \\frac{e^{log(odds)}}{1 + e^{log(odds)}}\\\\\n",
    "\\because \\frac{e^{log(odds)}}{1 + e^{log(odds)}} &= p_i \\text{ predicted probability from the tree}\\\\\n",
    "\\therefore \\frac{\\partial L}{\\partial log(odds)} &= - \\sum y_i - p_i\n",
    "\\end{align}"
   ]
  },
  {
   "cell_type": "markdown",
   "metadata": {},
   "source": [
    "\\begin{align}\n",
    "L(y, p) &= -\\sum_{i=1}^{n} y_i \\times log(p_i) + (1 - y_i) \\times log(1 - p_i)\\\\\n",
    "\\gamma_{j,m} = \\frac{\\partial L(y, p)}{\\partial p} &=  -\\sum \\frac{y_i}{p_i} + \\frac{1-y_i}{1-p_i} {(-1)}\\\\\n",
    "\\frac{\\partial L(y, p)}{\\partial p} &=  -\\sum \\frac{y_i}{p_i} - \\frac{1-y_i}{1-p_i}\\\\\n",
    "\\frac{\\partial L(y, p)}{\\partial p} &=  -\\sum \\frac{y_i -p_i y_i - p_i + p_i y_i}{p_i (1-p_i)}\\\\\n",
    "\\frac{\\partial L(y, p)}{\\partial p} &=  -\\sum \\frac{y_i - p_i}{p_i (1-p_i)}\n",
    "\\end{align}"
   ]
  },
  {
   "cell_type": "markdown",
   "metadata": {},
   "source": [
    "### Sample data"
   ]
  },
  {
   "cell_type": "code",
   "execution_count": 2,
   "metadata": {},
   "outputs": [
    {
     "data": {
      "text/html": [
       "<div>\n",
       "<style scoped>\n",
       "    .dataframe tbody tr th:only-of-type {\n",
       "        vertical-align: middle;\n",
       "    }\n",
       "\n",
       "    .dataframe tbody tr th {\n",
       "        vertical-align: top;\n",
       "    }\n",
       "\n",
       "    .dataframe thead th {\n",
       "        text-align: right;\n",
       "    }\n",
       "</style>\n",
       "<table border=\"1\" class=\"dataframe\">\n",
       "  <thead>\n",
       "    <tr style=\"text-align: right;\">\n",
       "      <th></th>\n",
       "      <th>LikesPopcorn</th>\n",
       "      <th>Age</th>\n",
       "      <th>FavColor</th>\n",
       "      <th>LovesTroll2</th>\n",
       "    </tr>\n",
       "  </thead>\n",
       "  <tbody>\n",
       "    <tr>\n",
       "      <th>0</th>\n",
       "      <td>yes</td>\n",
       "      <td>12</td>\n",
       "      <td>Blue</td>\n",
       "      <td>1</td>\n",
       "    </tr>\n",
       "    <tr>\n",
       "      <th>1</th>\n",
       "      <td>yes</td>\n",
       "      <td>19</td>\n",
       "      <td>Green</td>\n",
       "      <td>1</td>\n",
       "    </tr>\n",
       "    <tr>\n",
       "      <th>2</th>\n",
       "      <td>no</td>\n",
       "      <td>44</td>\n",
       "      <td>Blue</td>\n",
       "      <td>0</td>\n",
       "    </tr>\n",
       "    <tr>\n",
       "      <th>3</th>\n",
       "      <td>yes</td>\n",
       "      <td>87</td>\n",
       "      <td>Red</td>\n",
       "      <td>0</td>\n",
       "    </tr>\n",
       "    <tr>\n",
       "      <th>4</th>\n",
       "      <td>no</td>\n",
       "      <td>32</td>\n",
       "      <td>Green</td>\n",
       "      <td>1</td>\n",
       "    </tr>\n",
       "    <tr>\n",
       "      <th>5</th>\n",
       "      <td>no</td>\n",
       "      <td>14</td>\n",
       "      <td>Blue</td>\n",
       "      <td>1</td>\n",
       "    </tr>\n",
       "  </tbody>\n",
       "</table>\n",
       "</div>"
      ],
      "text/plain": [
       "  LikesPopcorn Age FavColor LovesTroll2\n",
       "0          yes  12     Blue           1\n",
       "1          yes  19    Green           1\n",
       "2           no  44     Blue           0\n",
       "3          yes  87      Red           0\n",
       "4           no  32    Green           1\n",
       "5           no  14     Blue           1"
      ]
     },
     "execution_count": 2,
     "metadata": {},
     "output_type": "execute_result"
    }
   ],
   "source": [
    "sample_data = np.array(\n",
    "    [\n",
    "        [\"yes\", 12, \"Blue\", 1],\n",
    "        [\"yes\", 19, \"Green\", 1],\n",
    "        [\"no\", 44, \"Blue\", 0],\n",
    "        [\"yes\", 87, \"Red\", 0],\n",
    "        [\"no\", 32, \"Green\", 1],\n",
    "        [\"no\", 14, \"Blue\", 1],\n",
    "    ],\n",
    "    dtype=\"O\",\n",
    ")\n",
    "headers = [\"LikesPopcorn\", \"Age\", \"FavColor\", \"LovesTroll2\"]\n",
    "\n",
    "df = pd.DataFrame(sample_data, columns=headers)\n",
    "df"
   ]
  },
  {
   "cell_type": "code",
   "execution_count": 3,
   "metadata": {},
   "outputs": [],
   "source": [
    "X = sample_data[..., [0, 1, 2]]\n",
    "y = sample_data[..., [-1]]"
   ]
  },
  {
   "cell_type": "markdown",
   "metadata": {},
   "source": [
    "### Initial model/ leaf $F_0(x)$"
   ]
  },
  {
   "cell_type": "markdown",
   "metadata": {},
   "source": [
    "#### Concept of log odds\n",
    "\n",
    "log odds is equivalent to averaging in terms of logistic regression.\n",
    "\n",
    "$odds = \\frac{P}{1 - P}$"
   ]
  },
  {
   "cell_type": "markdown",
   "metadata": {},
   "source": [
    "I am considering there are two classes 1 and 0.\n",
    "\n",
    "\n",
    "\\begin{align}\n",
    "odds &= \\frac{\\frac{count_{1}}{count_T}}{1 - \\frac{count_{1}}{count_T}}= \\frac{\\frac{count_{1}}{count_T}}{\\frac{count_T - count_{1}}{count_T}} = \\frac{\\frac{count_{1}}{count_T}}{\\frac{count_0}{count_T}}\\\\\n",
    "odds &= \\frac{count_{1}}{count_{0}}\n",
    "\\end{align}\n"
   ]
  },
  {
   "cell_type": "code",
   "execution_count": 4,
   "metadata": {},
   "outputs": [
    {
     "data": {
      "text/plain": [
       "{0: 2, 1: 4}"
      ]
     },
     "execution_count": 4,
     "metadata": {},
     "output_type": "execute_result"
    }
   ],
   "source": [
    "total_count = y.shape[0]\n",
    "\n",
    "class_counts = np.unique(y, return_counts=True)\n",
    "class_counts_dict = dict(zip(class_counts[0], class_counts[1]))\n",
    "\n",
    "class_counts_dict"
   ]
  },
  {
   "cell_type": "code",
   "execution_count": 5,
   "metadata": {},
   "outputs": [
    {
     "data": {
      "text/html": [
       "<div>\n",
       "<style scoped>\n",
       "    .dataframe tbody tr th:only-of-type {\n",
       "        vertical-align: middle;\n",
       "    }\n",
       "\n",
       "    .dataframe tbody tr th {\n",
       "        vertical-align: top;\n",
       "    }\n",
       "\n",
       "    .dataframe thead th {\n",
       "        text-align: right;\n",
       "    }\n",
       "</style>\n",
       "<table border=\"1\" class=\"dataframe\">\n",
       "  <thead>\n",
       "    <tr style=\"text-align: right;\">\n",
       "      <th></th>\n",
       "      <th>LikesPopcorn</th>\n",
       "      <th>Age</th>\n",
       "      <th>FavColor</th>\n",
       "      <th>LovesTroll2</th>\n",
       "      <th>ini_leaf_val</th>\n",
       "    </tr>\n",
       "  </thead>\n",
       "  <tbody>\n",
       "    <tr>\n",
       "      <th>0</th>\n",
       "      <td>yes</td>\n",
       "      <td>12</td>\n",
       "      <td>Blue</td>\n",
       "      <td>1</td>\n",
       "      <td>0.693147</td>\n",
       "    </tr>\n",
       "    <tr>\n",
       "      <th>1</th>\n",
       "      <td>yes</td>\n",
       "      <td>19</td>\n",
       "      <td>Green</td>\n",
       "      <td>1</td>\n",
       "      <td>0.693147</td>\n",
       "    </tr>\n",
       "    <tr>\n",
       "      <th>2</th>\n",
       "      <td>no</td>\n",
       "      <td>44</td>\n",
       "      <td>Blue</td>\n",
       "      <td>0</td>\n",
       "      <td>0.693147</td>\n",
       "    </tr>\n",
       "    <tr>\n",
       "      <th>3</th>\n",
       "      <td>yes</td>\n",
       "      <td>87</td>\n",
       "      <td>Red</td>\n",
       "      <td>0</td>\n",
       "      <td>0.693147</td>\n",
       "    </tr>\n",
       "    <tr>\n",
       "      <th>4</th>\n",
       "      <td>no</td>\n",
       "      <td>32</td>\n",
       "      <td>Green</td>\n",
       "      <td>1</td>\n",
       "      <td>0.693147</td>\n",
       "    </tr>\n",
       "    <tr>\n",
       "      <th>5</th>\n",
       "      <td>no</td>\n",
       "      <td>14</td>\n",
       "      <td>Blue</td>\n",
       "      <td>1</td>\n",
       "      <td>0.693147</td>\n",
       "    </tr>\n",
       "  </tbody>\n",
       "</table>\n",
       "</div>"
      ],
      "text/plain": [
       "  LikesPopcorn Age FavColor LovesTroll2  ini_leaf_val\n",
       "0          yes  12     Blue           1      0.693147\n",
       "1          yes  19    Green           1      0.693147\n",
       "2           no  44     Blue           0      0.693147\n",
       "3          yes  87      Red           0      0.693147\n",
       "4           no  32    Green           1      0.693147\n",
       "5           no  14     Blue           1      0.693147"
      ]
     },
     "execution_count": 5,
     "metadata": {},
     "output_type": "execute_result"
    }
   ],
   "source": [
    "odds = class_counts_dict[1] / class_counts_dict[0]\n",
    "log_odds = np.log(odds)\n",
    "\n",
    "df[\"ini_leaf_val\"] = log_odds\n",
    "\n",
    "df"
   ]
  },
  {
   "cell_type": "markdown",
   "metadata": {},
   "source": [
    "#### Applying logistic(sigmoid) function for classification limit\n",
    "\n",
    "Sigmoid $f(x) = \\frac{1}{1 + e^{-x}}$\n",
    "\n",
    "\n",
    "$f(x) = \\frac{e^{x}}{1 + e^{x}}$"
   ]
  },
  {
   "cell_type": "code",
   "execution_count": 6,
   "metadata": {},
   "outputs": [
    {
     "data": {
      "text/html": [
       "<div>\n",
       "<style scoped>\n",
       "    .dataframe tbody tr th:only-of-type {\n",
       "        vertical-align: middle;\n",
       "    }\n",
       "\n",
       "    .dataframe tbody tr th {\n",
       "        vertical-align: top;\n",
       "    }\n",
       "\n",
       "    .dataframe thead th {\n",
       "        text-align: right;\n",
       "    }\n",
       "</style>\n",
       "<table border=\"1\" class=\"dataframe\">\n",
       "  <thead>\n",
       "    <tr style=\"text-align: right;\">\n",
       "      <th></th>\n",
       "      <th>LikesPopcorn</th>\n",
       "      <th>Age</th>\n",
       "      <th>FavColor</th>\n",
       "      <th>LovesTroll2</th>\n",
       "      <th>ini_leaf_val</th>\n",
       "      <th>initial_probs</th>\n",
       "    </tr>\n",
       "  </thead>\n",
       "  <tbody>\n",
       "    <tr>\n",
       "      <th>0</th>\n",
       "      <td>yes</td>\n",
       "      <td>12</td>\n",
       "      <td>Blue</td>\n",
       "      <td>1</td>\n",
       "      <td>0.693147</td>\n",
       "      <td>0.666667</td>\n",
       "    </tr>\n",
       "    <tr>\n",
       "      <th>1</th>\n",
       "      <td>yes</td>\n",
       "      <td>19</td>\n",
       "      <td>Green</td>\n",
       "      <td>1</td>\n",
       "      <td>0.693147</td>\n",
       "      <td>0.666667</td>\n",
       "    </tr>\n",
       "    <tr>\n",
       "      <th>2</th>\n",
       "      <td>no</td>\n",
       "      <td>44</td>\n",
       "      <td>Blue</td>\n",
       "      <td>0</td>\n",
       "      <td>0.693147</td>\n",
       "      <td>0.666667</td>\n",
       "    </tr>\n",
       "    <tr>\n",
       "      <th>3</th>\n",
       "      <td>yes</td>\n",
       "      <td>87</td>\n",
       "      <td>Red</td>\n",
       "      <td>0</td>\n",
       "      <td>0.693147</td>\n",
       "      <td>0.666667</td>\n",
       "    </tr>\n",
       "    <tr>\n",
       "      <th>4</th>\n",
       "      <td>no</td>\n",
       "      <td>32</td>\n",
       "      <td>Green</td>\n",
       "      <td>1</td>\n",
       "      <td>0.693147</td>\n",
       "      <td>0.666667</td>\n",
       "    </tr>\n",
       "    <tr>\n",
       "      <th>5</th>\n",
       "      <td>no</td>\n",
       "      <td>14</td>\n",
       "      <td>Blue</td>\n",
       "      <td>1</td>\n",
       "      <td>0.693147</td>\n",
       "      <td>0.666667</td>\n",
       "    </tr>\n",
       "  </tbody>\n",
       "</table>\n",
       "</div>"
      ],
      "text/plain": [
       "  LikesPopcorn Age FavColor LovesTroll2  ini_leaf_val  initial_probs\n",
       "0          yes  12     Blue           1      0.693147       0.666667\n",
       "1          yes  19    Green           1      0.693147       0.666667\n",
       "2           no  44     Blue           0      0.693147       0.666667\n",
       "3          yes  87      Red           0      0.693147       0.666667\n",
       "4           no  32    Green           1      0.693147       0.666667\n",
       "5           no  14     Blue           1      0.693147       0.666667"
      ]
     },
     "execution_count": 6,
     "metadata": {},
     "output_type": "execute_result"
    }
   ],
   "source": [
    "probs = np.exp(log_odds) / (1 + np.exp(log_odds))\n",
    "\n",
    "df[\"initial_probs\"] = probs\n",
    "df"
   ]
  },
  {
   "cell_type": "markdown",
   "metadata": {},
   "source": [
    "So we are starting all observations from same initial probability and this probability will move in sigmoid fashion to either 0 or 1."
   ]
  },
  {
   "cell_type": "markdown",
   "metadata": {
    "tags": []
   },
   "source": [
    "### Pseudo Residual ($r_{i,m}$)"
   ]
  },
  {
   "cell_type": "code",
   "execution_count": 7,
   "metadata": {},
   "outputs": [
    {
     "data": {
      "text/html": [
       "<div>\n",
       "<style scoped>\n",
       "    .dataframe tbody tr th:only-of-type {\n",
       "        vertical-align: middle;\n",
       "    }\n",
       "\n",
       "    .dataframe tbody tr th {\n",
       "        vertical-align: top;\n",
       "    }\n",
       "\n",
       "    .dataframe thead th {\n",
       "        text-align: right;\n",
       "    }\n",
       "</style>\n",
       "<table border=\"1\" class=\"dataframe\">\n",
       "  <thead>\n",
       "    <tr style=\"text-align: right;\">\n",
       "      <th></th>\n",
       "      <th>LikesPopcorn</th>\n",
       "      <th>Age</th>\n",
       "      <th>FavColor</th>\n",
       "      <th>LovesTroll2</th>\n",
       "      <th>ini_leaf_val</th>\n",
       "      <th>initial_probs</th>\n",
       "      <th>pseudo_residual1</th>\n",
       "    </tr>\n",
       "  </thead>\n",
       "  <tbody>\n",
       "    <tr>\n",
       "      <th>0</th>\n",
       "      <td>yes</td>\n",
       "      <td>12</td>\n",
       "      <td>Blue</td>\n",
       "      <td>1</td>\n",
       "      <td>0.693147</td>\n",
       "      <td>0.666667</td>\n",
       "      <td>0.333333</td>\n",
       "    </tr>\n",
       "    <tr>\n",
       "      <th>1</th>\n",
       "      <td>yes</td>\n",
       "      <td>19</td>\n",
       "      <td>Green</td>\n",
       "      <td>1</td>\n",
       "      <td>0.693147</td>\n",
       "      <td>0.666667</td>\n",
       "      <td>0.333333</td>\n",
       "    </tr>\n",
       "    <tr>\n",
       "      <th>2</th>\n",
       "      <td>no</td>\n",
       "      <td>44</td>\n",
       "      <td>Blue</td>\n",
       "      <td>0</td>\n",
       "      <td>0.693147</td>\n",
       "      <td>0.666667</td>\n",
       "      <td>-0.666667</td>\n",
       "    </tr>\n",
       "    <tr>\n",
       "      <th>3</th>\n",
       "      <td>yes</td>\n",
       "      <td>87</td>\n",
       "      <td>Red</td>\n",
       "      <td>0</td>\n",
       "      <td>0.693147</td>\n",
       "      <td>0.666667</td>\n",
       "      <td>-0.666667</td>\n",
       "    </tr>\n",
       "    <tr>\n",
       "      <th>4</th>\n",
       "      <td>no</td>\n",
       "      <td>32</td>\n",
       "      <td>Green</td>\n",
       "      <td>1</td>\n",
       "      <td>0.693147</td>\n",
       "      <td>0.666667</td>\n",
       "      <td>0.333333</td>\n",
       "    </tr>\n",
       "    <tr>\n",
       "      <th>5</th>\n",
       "      <td>no</td>\n",
       "      <td>14</td>\n",
       "      <td>Blue</td>\n",
       "      <td>1</td>\n",
       "      <td>0.693147</td>\n",
       "      <td>0.666667</td>\n",
       "      <td>0.333333</td>\n",
       "    </tr>\n",
       "  </tbody>\n",
       "</table>\n",
       "</div>"
      ],
      "text/plain": [
       "  LikesPopcorn Age FavColor LovesTroll2  ini_leaf_val  initial_probs  \\\n",
       "0          yes  12     Blue           1      0.693147       0.666667   \n",
       "1          yes  19    Green           1      0.693147       0.666667   \n",
       "2           no  44     Blue           0      0.693147       0.666667   \n",
       "3          yes  87      Red           0      0.693147       0.666667   \n",
       "4           no  32    Green           1      0.693147       0.666667   \n",
       "5           no  14     Blue           1      0.693147       0.666667   \n",
       "\n",
       "  pseudo_residual1  \n",
       "0         0.333333  \n",
       "1         0.333333  \n",
       "2        -0.666667  \n",
       "3        -0.666667  \n",
       "4         0.333333  \n",
       "5         0.333333  "
      ]
     },
     "execution_count": 7,
     "metadata": {},
     "output_type": "execute_result"
    }
   ],
   "source": [
    "pseudo_residual = y - probs\n",
    "\n",
    "df[\"pseudo_residual1\"] = pseudo_residual\n",
    "df"
   ]
  },
  {
   "cell_type": "markdown",
   "metadata": {},
   "source": [
    "### Building regression tree to predict residuals\n",
    "\n",
    "Yes, so this is different from other algorithms that we are building the regression tree to predict residuals and not the target values."
   ]
  },
  {
   "cell_type": "code",
   "execution_count": 8,
   "metadata": {},
   "outputs": [],
   "source": [
    "from mightypy.ml.tree_models import DecisionTreeRegressor"
   ]
  },
  {
   "cell_type": "code",
   "execution_count": 9,
   "metadata": {},
   "outputs": [],
   "source": [
    "model_tree = DecisionTreeRegressor(max_depth=2)\n",
    "\n",
    "model_tree.train(\n",
    "    X=X, y=pseudo_residual, feature_name=headers[:-1], target_name=headers[-1]\n",
    ")"
   ]
  },
  {
   "cell_type": "code",
   "execution_count": 10,
   "metadata": {},
   "outputs": [
    {
     "name": "stdout",
     "output_type": "stream",
     "text": [
      "|-Is FavColor == Green ? | variance :0.22222222222222224\n",
      "|---> True:\n",
      "  |--  Predict : [0.33333333333333337 0.33333333333333337]\n",
      "|---> False:\n",
      "  |--Is Age >= 87 ? | variance :0.25\n",
      "  |----> True:\n",
      "    |---  Predict : [-0.6666666666666666]\n",
      "  |----> False:\n",
      "    |---Is LikesPopcorn == yes ? | variance :0.22222222222222224\n",
      "    |-----> True:\n",
      "      |----  Predict : [0.33333333333333337]\n",
      "    |-----> False:\n",
      "      |----  Predict : [-0.6666666666666666 0.33333333333333337]\n"
     ]
    }
   ],
   "source": [
    "model_tree.print_tree(mean_preds=False)"
   ]
  },
  {
   "cell_type": "code",
   "execution_count": 11,
   "metadata": {},
   "outputs": [
    {
     "data": {
      "text/plain": [
       "array([[array([0.33333333333333337], dtype=object)],\n",
       "       [array([0.33333333333333337, 0.33333333333333337], dtype=object)],\n",
       "       [array([-0.6666666666666666, 0.33333333333333337], dtype=object)],\n",
       "       [array([-0.6666666666666666], dtype=object)],\n",
       "       [array([0.33333333333333337, 0.33333333333333337], dtype=object)],\n",
       "       [array([-0.6666666666666666, 0.33333333333333337], dtype=object)]],\n",
       "      dtype=object)"
      ]
     },
     "execution_count": 11,
     "metadata": {},
     "output_type": "execute_result"
    }
   ],
   "source": [
    "predicted_residuals = model_tree.predict(X, False)\n",
    "predicted_residuals"
   ]
  },
  {
   "cell_type": "markdown",
   "metadata": {},
   "source": [
    "\\begin{align}\n",
    "\\gamma_{j, m} &= \\frac{\\partial L(y, p)}{\\partial p} =  \\sum \\frac{y_i - p_i}{p_i (1-p_i)}\\\\\n",
    "\\gamma_{j, m} &= \\frac{\\sum{Residual_i}}{\\sum{prev prob_i} \\times (1 - prev prob_i)}\n",
    "\\end{align}\n",
    "\n",
    "\n",
    "\\begin{align}\n",
    "&\\text{ but when we are taking about tree regions, and lets assume we have leaf with mulitple values.}\\\\\n",
    "&\\text{ then this calculation turns out}\\\\\n",
    "\\gamma_{j, m} &= \\frac{{Residual_1 + Residual_2}}{[{prev prob_1} \\times (1 - prev prob_1)] + [{prev prob_2} \\times (1 - prev prob_2)]}\\\\\n",
    "&\\text{ now if they are part of same leaf then prev probability will be same for both of them,}\\\\\n",
    "&\\text{  then denominator actually becomes average of residuals}\\\\\n",
    "\\gamma_{j, m} &= \\frac{\\sum{Residual_i}}{n * {prev prob_i} \\times (1 - prev prob_i)}\\\\\n",
    "&\\text{ where n is number of values in a leaf}\n",
    "\\end{align}\n",
    "\n",
    "\n",
    "```\n",
    "                                  ________\n",
    "                                 |Question|\n",
    "                                 |________|\n",
    "                                /          \\\n",
    "                       ________/            \\________\n",
    "                      |___1  __|            |__2 3 4_| \n",
    "```"
   ]
  },
  {
   "cell_type": "markdown",
   "metadata": {},
   "source": [
    "so based on my decision tree regression model I can simply take the mean predictions instead of getting individual values in a leaf"
   ]
  },
  {
   "cell_type": "code",
   "execution_count": 12,
   "metadata": {},
   "outputs": [
    {
     "name": "stdout",
     "output_type": "stream",
     "text": [
      "|-Is FavColor == Green ? | variance :0.22222222222222224\n",
      "|---> True:\n",
      "  |--  Predict : 0.33333333333333337\n",
      "|---> False:\n",
      "  |--Is Age >= 87 ? | variance :0.25\n",
      "  |----> True:\n",
      "    |---  Predict : -0.6666666666666666\n",
      "  |----> False:\n",
      "    |---Is LikesPopcorn == yes ? | variance :0.22222222222222224\n",
      "    |-----> True:\n",
      "      |----  Predict : 0.33333333333333337\n",
      "    |-----> False:\n",
      "      |----  Predict : -0.16666666666666663\n"
     ]
    },
    {
     "data": {
      "text/plain": [
       "array([[0.33333333333333337],\n",
       "       [0.33333333333333337],\n",
       "       [-0.16666666666666663],\n",
       "       [-0.6666666666666666],\n",
       "       [0.33333333333333337],\n",
       "       [-0.16666666666666663]], dtype=object)"
      ]
     },
     "execution_count": 12,
     "metadata": {},
     "output_type": "execute_result"
    }
   ],
   "source": [
    "model_tree.print_tree(mean_preds=True)\n",
    "predicted_residuals = model_tree.predict(X, True)\n",
    "predicted_residuals"
   ]
  },
  {
   "cell_type": "code",
   "execution_count": 13,
   "metadata": {},
   "outputs": [
    {
     "data": {
      "text/html": [
       "<div>\n",
       "<style scoped>\n",
       "    .dataframe tbody tr th:only-of-type {\n",
       "        vertical-align: middle;\n",
       "    }\n",
       "\n",
       "    .dataframe tbody tr th {\n",
       "        vertical-align: top;\n",
       "    }\n",
       "\n",
       "    .dataframe thead th {\n",
       "        text-align: right;\n",
       "    }\n",
       "</style>\n",
       "<table border=\"1\" class=\"dataframe\">\n",
       "  <thead>\n",
       "    <tr style=\"text-align: right;\">\n",
       "      <th></th>\n",
       "      <th>LikesPopcorn</th>\n",
       "      <th>Age</th>\n",
       "      <th>FavColor</th>\n",
       "      <th>LovesTroll2</th>\n",
       "      <th>ini_leaf_val</th>\n",
       "      <th>initial_probs</th>\n",
       "      <th>pseudo_residual1</th>\n",
       "      <th>tree_output1</th>\n",
       "    </tr>\n",
       "  </thead>\n",
       "  <tbody>\n",
       "    <tr>\n",
       "      <th>0</th>\n",
       "      <td>yes</td>\n",
       "      <td>12</td>\n",
       "      <td>Blue</td>\n",
       "      <td>1</td>\n",
       "      <td>0.693147</td>\n",
       "      <td>0.666667</td>\n",
       "      <td>0.333333</td>\n",
       "      <td>1.5</td>\n",
       "    </tr>\n",
       "    <tr>\n",
       "      <th>1</th>\n",
       "      <td>yes</td>\n",
       "      <td>19</td>\n",
       "      <td>Green</td>\n",
       "      <td>1</td>\n",
       "      <td>0.693147</td>\n",
       "      <td>0.666667</td>\n",
       "      <td>0.333333</td>\n",
       "      <td>1.5</td>\n",
       "    </tr>\n",
       "    <tr>\n",
       "      <th>2</th>\n",
       "      <td>no</td>\n",
       "      <td>44</td>\n",
       "      <td>Blue</td>\n",
       "      <td>0</td>\n",
       "      <td>0.693147</td>\n",
       "      <td>0.666667</td>\n",
       "      <td>-0.666667</td>\n",
       "      <td>-0.75</td>\n",
       "    </tr>\n",
       "    <tr>\n",
       "      <th>3</th>\n",
       "      <td>yes</td>\n",
       "      <td>87</td>\n",
       "      <td>Red</td>\n",
       "      <td>0</td>\n",
       "      <td>0.693147</td>\n",
       "      <td>0.666667</td>\n",
       "      <td>-0.666667</td>\n",
       "      <td>-3</td>\n",
       "    </tr>\n",
       "    <tr>\n",
       "      <th>4</th>\n",
       "      <td>no</td>\n",
       "      <td>32</td>\n",
       "      <td>Green</td>\n",
       "      <td>1</td>\n",
       "      <td>0.693147</td>\n",
       "      <td>0.666667</td>\n",
       "      <td>0.333333</td>\n",
       "      <td>1.5</td>\n",
       "    </tr>\n",
       "    <tr>\n",
       "      <th>5</th>\n",
       "      <td>no</td>\n",
       "      <td>14</td>\n",
       "      <td>Blue</td>\n",
       "      <td>1</td>\n",
       "      <td>0.693147</td>\n",
       "      <td>0.666667</td>\n",
       "      <td>0.333333</td>\n",
       "      <td>-0.75</td>\n",
       "    </tr>\n",
       "  </tbody>\n",
       "</table>\n",
       "</div>"
      ],
      "text/plain": [
       "  LikesPopcorn Age FavColor LovesTroll2  ini_leaf_val  initial_probs  \\\n",
       "0          yes  12     Blue           1      0.693147       0.666667   \n",
       "1          yes  19    Green           1      0.693147       0.666667   \n",
       "2           no  44     Blue           0      0.693147       0.666667   \n",
       "3          yes  87      Red           0      0.693147       0.666667   \n",
       "4           no  32    Green           1      0.693147       0.666667   \n",
       "5           no  14     Blue           1      0.693147       0.666667   \n",
       "\n",
       "  pseudo_residual1 tree_output1  \n",
       "0         0.333333          1.5  \n",
       "1         0.333333          1.5  \n",
       "2        -0.666667        -0.75  \n",
       "3        -0.666667           -3  \n",
       "4         0.333333          1.5  \n",
       "5         0.333333        -0.75  "
      ]
     },
     "execution_count": 13,
     "metadata": {},
     "output_type": "execute_result"
    }
   ],
   "source": [
    "tree_output = predicted_residuals / (probs * (1 - probs))\n",
    "df[\"tree_output1\"] = tree_output\n",
    "df"
   ]
  },
  {
   "cell_type": "markdown",
   "metadata": {},
   "source": [
    "### Chaining predicted results with earlier results"
   ]
  },
  {
   "cell_type": "code",
   "execution_count": 14,
   "metadata": {},
   "outputs": [
    {
     "data": {
      "text/html": [
       "<div>\n",
       "<style scoped>\n",
       "    .dataframe tbody tr th:only-of-type {\n",
       "        vertical-align: middle;\n",
       "    }\n",
       "\n",
       "    .dataframe tbody tr th {\n",
       "        vertical-align: top;\n",
       "    }\n",
       "\n",
       "    .dataframe thead th {\n",
       "        text-align: right;\n",
       "    }\n",
       "</style>\n",
       "<table border=\"1\" class=\"dataframe\">\n",
       "  <thead>\n",
       "    <tr style=\"text-align: right;\">\n",
       "      <th></th>\n",
       "      <th>LikesPopcorn</th>\n",
       "      <th>Age</th>\n",
       "      <th>FavColor</th>\n",
       "      <th>LovesTroll2</th>\n",
       "      <th>ini_leaf_val</th>\n",
       "      <th>initial_probs</th>\n",
       "      <th>pseudo_residual1</th>\n",
       "      <th>tree_output1</th>\n",
       "      <th>predictions1</th>\n",
       "    </tr>\n",
       "  </thead>\n",
       "  <tbody>\n",
       "    <tr>\n",
       "      <th>0</th>\n",
       "      <td>yes</td>\n",
       "      <td>12</td>\n",
       "      <td>Blue</td>\n",
       "      <td>1</td>\n",
       "      <td>0.693147</td>\n",
       "      <td>0.666667</td>\n",
       "      <td>0.333333</td>\n",
       "      <td>1.5</td>\n",
       "      <td>0.816667</td>\n",
       "    </tr>\n",
       "    <tr>\n",
       "      <th>1</th>\n",
       "      <td>yes</td>\n",
       "      <td>19</td>\n",
       "      <td>Green</td>\n",
       "      <td>1</td>\n",
       "      <td>0.693147</td>\n",
       "      <td>0.666667</td>\n",
       "      <td>0.333333</td>\n",
       "      <td>1.5</td>\n",
       "      <td>0.816667</td>\n",
       "    </tr>\n",
       "    <tr>\n",
       "      <th>2</th>\n",
       "      <td>no</td>\n",
       "      <td>44</td>\n",
       "      <td>Blue</td>\n",
       "      <td>0</td>\n",
       "      <td>0.693147</td>\n",
       "      <td>0.666667</td>\n",
       "      <td>-0.666667</td>\n",
       "      <td>-0.75</td>\n",
       "      <td>0.591667</td>\n",
       "    </tr>\n",
       "    <tr>\n",
       "      <th>3</th>\n",
       "      <td>yes</td>\n",
       "      <td>87</td>\n",
       "      <td>Red</td>\n",
       "      <td>0</td>\n",
       "      <td>0.693147</td>\n",
       "      <td>0.666667</td>\n",
       "      <td>-0.666667</td>\n",
       "      <td>-3</td>\n",
       "      <td>0.366667</td>\n",
       "    </tr>\n",
       "    <tr>\n",
       "      <th>4</th>\n",
       "      <td>no</td>\n",
       "      <td>32</td>\n",
       "      <td>Green</td>\n",
       "      <td>1</td>\n",
       "      <td>0.693147</td>\n",
       "      <td>0.666667</td>\n",
       "      <td>0.333333</td>\n",
       "      <td>1.5</td>\n",
       "      <td>0.816667</td>\n",
       "    </tr>\n",
       "    <tr>\n",
       "      <th>5</th>\n",
       "      <td>no</td>\n",
       "      <td>14</td>\n",
       "      <td>Blue</td>\n",
       "      <td>1</td>\n",
       "      <td>0.693147</td>\n",
       "      <td>0.666667</td>\n",
       "      <td>0.333333</td>\n",
       "      <td>-0.75</td>\n",
       "      <td>0.591667</td>\n",
       "    </tr>\n",
       "  </tbody>\n",
       "</table>\n",
       "</div>"
      ],
      "text/plain": [
       "  LikesPopcorn Age FavColor LovesTroll2  ini_leaf_val  initial_probs  \\\n",
       "0          yes  12     Blue           1      0.693147       0.666667   \n",
       "1          yes  19    Green           1      0.693147       0.666667   \n",
       "2           no  44     Blue           0      0.693147       0.666667   \n",
       "3          yes  87      Red           0      0.693147       0.666667   \n",
       "4           no  32    Green           1      0.693147       0.666667   \n",
       "5           no  14     Blue           1      0.693147       0.666667   \n",
       "\n",
       "  pseudo_residual1 tree_output1 predictions1  \n",
       "0         0.333333          1.5     0.816667  \n",
       "1         0.333333          1.5     0.816667  \n",
       "2        -0.666667        -0.75     0.591667  \n",
       "3        -0.666667           -3     0.366667  \n",
       "4         0.333333          1.5     0.816667  \n",
       "5         0.333333        -0.75     0.591667  "
      ]
     },
     "execution_count": 14,
     "metadata": {},
     "output_type": "execute_result"
    }
   ],
   "source": [
    "learning_rate = 0.1\n",
    "\n",
    "predictions = probs + (learning_rate * tree_output)\n",
    "\n",
    "df[\"predictions1\"] = predictions\n",
    "\n",
    "df"
   ]
  },
  {
   "cell_type": "markdown",
   "metadata": {},
   "source": [
    "### Repeating for next tree"
   ]
  },
  {
   "cell_type": "code",
   "execution_count": 67,
   "metadata": {},
   "outputs": [
    {
     "ename": "TypeError",
     "evalue": "loop of ufunc does not support argument 0 of type float which has no callable exp method",
     "output_type": "error",
     "traceback": [
      "\u001b[0;31m---------------------------------------------------------------------------\u001b[0m",
      "\u001b[0;31mAttributeError\u001b[0m                            Traceback (most recent call last)",
      "\u001b[0;31mAttributeError\u001b[0m: 'float' object has no attribute 'exp'",
      "\nThe above exception was the direct cause of the following exception:\n",
      "\u001b[0;31mTypeError\u001b[0m                                 Traceback (most recent call last)",
      "\u001b[0;32m<ipython-input-67-974572c91fc1>\u001b[0m in \u001b[0;36m<module>\u001b[0;34m\u001b[0m\n\u001b[0;32m----> 1\u001b[0;31m \u001b[0mprobs\u001b[0m \u001b[0;34m=\u001b[0m \u001b[0mnp\u001b[0m\u001b[0;34m.\u001b[0m\u001b[0mexp\u001b[0m\u001b[0;34m(\u001b[0m\u001b[0mpredictions\u001b[0m\u001b[0;34m)\u001b[0m \u001b[0;34m/\u001b[0m \u001b[0;34m(\u001b[0m\u001b[0;36m1\u001b[0m \u001b[0;34m+\u001b[0m \u001b[0mnp\u001b[0m\u001b[0;34m.\u001b[0m\u001b[0mexp\u001b[0m\u001b[0;34m(\u001b[0m\u001b[0mpredictions\u001b[0m\u001b[0;34m)\u001b[0m\u001b[0;34m)\u001b[0m\u001b[0;34m\u001b[0m\u001b[0;34m\u001b[0m\u001b[0m\n\u001b[0m",
      "\u001b[0;31mTypeError\u001b[0m: loop of ufunc does not support argument 0 of type float which has no callable exp method"
     ]
    }
   ],
   "source": [
    "probs = np.exp(predictions) / (1 + np.exp(predictions))"
   ]
  },
  {
   "cell_type": "code",
   "execution_count": 15,
   "metadata": {},
   "outputs": [],
   "source": [
    "predictions = np.array(predictions, dtype=\"float\")\n",
    "probs = np.exp(predictions) / (1 + np.exp(predictions))"
   ]
  },
  {
   "cell_type": "code",
   "execution_count": 16,
   "metadata": {},
   "outputs": [
    {
     "data": {
      "text/html": [
       "<div>\n",
       "<style scoped>\n",
       "    .dataframe tbody tr th:only-of-type {\n",
       "        vertical-align: middle;\n",
       "    }\n",
       "\n",
       "    .dataframe tbody tr th {\n",
       "        vertical-align: top;\n",
       "    }\n",
       "\n",
       "    .dataframe thead th {\n",
       "        text-align: right;\n",
       "    }\n",
       "</style>\n",
       "<table border=\"1\" class=\"dataframe\">\n",
       "  <thead>\n",
       "    <tr style=\"text-align: right;\">\n",
       "      <th></th>\n",
       "      <th>LikesPopcorn</th>\n",
       "      <th>Age</th>\n",
       "      <th>FavColor</th>\n",
       "      <th>LovesTroll2</th>\n",
       "      <th>ini_leaf_val</th>\n",
       "      <th>initial_probs</th>\n",
       "      <th>pseudo_residual1</th>\n",
       "      <th>tree_output1</th>\n",
       "      <th>predictions1</th>\n",
       "      <th>prob1</th>\n",
       "    </tr>\n",
       "  </thead>\n",
       "  <tbody>\n",
       "    <tr>\n",
       "      <th>0</th>\n",
       "      <td>yes</td>\n",
       "      <td>12</td>\n",
       "      <td>Blue</td>\n",
       "      <td>1</td>\n",
       "      <td>0.693147</td>\n",
       "      <td>0.666667</td>\n",
       "      <td>0.333333</td>\n",
       "      <td>1.5</td>\n",
       "      <td>0.816667</td>\n",
       "      <td>0.693528</td>\n",
       "    </tr>\n",
       "    <tr>\n",
       "      <th>1</th>\n",
       "      <td>yes</td>\n",
       "      <td>19</td>\n",
       "      <td>Green</td>\n",
       "      <td>1</td>\n",
       "      <td>0.693147</td>\n",
       "      <td>0.666667</td>\n",
       "      <td>0.333333</td>\n",
       "      <td>1.5</td>\n",
       "      <td>0.816667</td>\n",
       "      <td>0.693528</td>\n",
       "    </tr>\n",
       "    <tr>\n",
       "      <th>2</th>\n",
       "      <td>no</td>\n",
       "      <td>44</td>\n",
       "      <td>Blue</td>\n",
       "      <td>0</td>\n",
       "      <td>0.693147</td>\n",
       "      <td>0.666667</td>\n",
       "      <td>-0.666667</td>\n",
       "      <td>-0.75</td>\n",
       "      <td>0.591667</td>\n",
       "      <td>0.643747</td>\n",
       "    </tr>\n",
       "    <tr>\n",
       "      <th>3</th>\n",
       "      <td>yes</td>\n",
       "      <td>87</td>\n",
       "      <td>Red</td>\n",
       "      <td>0</td>\n",
       "      <td>0.693147</td>\n",
       "      <td>0.666667</td>\n",
       "      <td>-0.666667</td>\n",
       "      <td>-3</td>\n",
       "      <td>0.366667</td>\n",
       "      <td>0.590653</td>\n",
       "    </tr>\n",
       "    <tr>\n",
       "      <th>4</th>\n",
       "      <td>no</td>\n",
       "      <td>32</td>\n",
       "      <td>Green</td>\n",
       "      <td>1</td>\n",
       "      <td>0.693147</td>\n",
       "      <td>0.666667</td>\n",
       "      <td>0.333333</td>\n",
       "      <td>1.5</td>\n",
       "      <td>0.816667</td>\n",
       "      <td>0.693528</td>\n",
       "    </tr>\n",
       "    <tr>\n",
       "      <th>5</th>\n",
       "      <td>no</td>\n",
       "      <td>14</td>\n",
       "      <td>Blue</td>\n",
       "      <td>1</td>\n",
       "      <td>0.693147</td>\n",
       "      <td>0.666667</td>\n",
       "      <td>0.333333</td>\n",
       "      <td>-0.75</td>\n",
       "      <td>0.591667</td>\n",
       "      <td>0.643747</td>\n",
       "    </tr>\n",
       "  </tbody>\n",
       "</table>\n",
       "</div>"
      ],
      "text/plain": [
       "  LikesPopcorn Age FavColor LovesTroll2  ini_leaf_val  initial_probs  \\\n",
       "0          yes  12     Blue           1      0.693147       0.666667   \n",
       "1          yes  19    Green           1      0.693147       0.666667   \n",
       "2           no  44     Blue           0      0.693147       0.666667   \n",
       "3          yes  87      Red           0      0.693147       0.666667   \n",
       "4           no  32    Green           1      0.693147       0.666667   \n",
       "5           no  14     Blue           1      0.693147       0.666667   \n",
       "\n",
       "  pseudo_residual1 tree_output1 predictions1     prob1  \n",
       "0         0.333333          1.5     0.816667  0.693528  \n",
       "1         0.333333          1.5     0.816667  0.693528  \n",
       "2        -0.666667        -0.75     0.591667  0.643747  \n",
       "3        -0.666667           -3     0.366667  0.590653  \n",
       "4         0.333333          1.5     0.816667  0.693528  \n",
       "5         0.333333        -0.75     0.591667  0.643747  "
      ]
     },
     "execution_count": 16,
     "metadata": {},
     "output_type": "execute_result"
    }
   ],
   "source": [
    "df[\"prob1\"] = probs\n",
    "df"
   ]
  },
  {
   "cell_type": "code",
   "execution_count": 70,
   "metadata": {},
   "outputs": [
    {
     "data": {
      "text/html": [
       "<div>\n",
       "<style scoped>\n",
       "    .dataframe tbody tr th:only-of-type {\n",
       "        vertical-align: middle;\n",
       "    }\n",
       "\n",
       "    .dataframe tbody tr th {\n",
       "        vertical-align: top;\n",
       "    }\n",
       "\n",
       "    .dataframe thead th {\n",
       "        text-align: right;\n",
       "    }\n",
       "</style>\n",
       "<table border=\"1\" class=\"dataframe\">\n",
       "  <thead>\n",
       "    <tr style=\"text-align: right;\">\n",
       "      <th></th>\n",
       "      <th>LikesPopcorn</th>\n",
       "      <th>Age</th>\n",
       "      <th>FavColor</th>\n",
       "      <th>LovesTroll2</th>\n",
       "      <th>ini_leaf_val</th>\n",
       "      <th>initial_probs</th>\n",
       "      <th>pseudo_residual1</th>\n",
       "      <th>tree_output1</th>\n",
       "      <th>predictions1</th>\n",
       "      <th>prob1</th>\n",
       "      <th>pseudo_residual2</th>\n",
       "      <th>tree_output2</th>\n",
       "      <th>predictions2</th>\n",
       "      <th>prob2</th>\n",
       "    </tr>\n",
       "  </thead>\n",
       "  <tbody>\n",
       "    <tr>\n",
       "      <th>0</th>\n",
       "      <td>yes</td>\n",
       "      <td>12</td>\n",
       "      <td>Blue</td>\n",
       "      <td>1</td>\n",
       "      <td>0.693147</td>\n",
       "      <td>0.666667</td>\n",
       "      <td>0.333333</td>\n",
       "      <td>1.5</td>\n",
       "      <td>0.816667</td>\n",
       "      <td>0.693528</td>\n",
       "      <td>0.306472</td>\n",
       "      <td>1.4419</td>\n",
       "      <td>0.837719</td>\n",
       "      <td>0.697984</td>\n",
       "    </tr>\n",
       "    <tr>\n",
       "      <th>1</th>\n",
       "      <td>yes</td>\n",
       "      <td>19</td>\n",
       "      <td>Green</td>\n",
       "      <td>1</td>\n",
       "      <td>0.693147</td>\n",
       "      <td>0.666667</td>\n",
       "      <td>0.333333</td>\n",
       "      <td>1.5</td>\n",
       "      <td>0.816667</td>\n",
       "      <td>0.693528</td>\n",
       "      <td>0.306472</td>\n",
       "      <td>1.4419</td>\n",
       "      <td>0.837719</td>\n",
       "      <td>0.697984</td>\n",
       "    </tr>\n",
       "    <tr>\n",
       "      <th>2</th>\n",
       "      <td>no</td>\n",
       "      <td>44</td>\n",
       "      <td>Blue</td>\n",
       "      <td>0</td>\n",
       "      <td>0.693147</td>\n",
       "      <td>0.666667</td>\n",
       "      <td>-0.666667</td>\n",
       "      <td>-0.75</td>\n",
       "      <td>0.591667</td>\n",
       "      <td>0.643747</td>\n",
       "      <td>-0.643747</td>\n",
       "      <td>-0.626797</td>\n",
       "      <td>0.581068</td>\n",
       "      <td>0.641313</td>\n",
       "    </tr>\n",
       "    <tr>\n",
       "      <th>3</th>\n",
       "      <td>yes</td>\n",
       "      <td>87</td>\n",
       "      <td>Red</td>\n",
       "      <td>0</td>\n",
       "      <td>0.693147</td>\n",
       "      <td>0.666667</td>\n",
       "      <td>-0.666667</td>\n",
       "      <td>-3</td>\n",
       "      <td>0.366667</td>\n",
       "      <td>0.590653</td>\n",
       "      <td>-0.590653</td>\n",
       "      <td>-2.44292</td>\n",
       "      <td>0.346362</td>\n",
       "      <td>0.585735</td>\n",
       "    </tr>\n",
       "    <tr>\n",
       "      <th>4</th>\n",
       "      <td>no</td>\n",
       "      <td>32</td>\n",
       "      <td>Green</td>\n",
       "      <td>1</td>\n",
       "      <td>0.693147</td>\n",
       "      <td>0.666667</td>\n",
       "      <td>0.333333</td>\n",
       "      <td>1.5</td>\n",
       "      <td>0.816667</td>\n",
       "      <td>0.693528</td>\n",
       "      <td>0.306472</td>\n",
       "      <td>1.4419</td>\n",
       "      <td>0.837719</td>\n",
       "      <td>0.697984</td>\n",
       "    </tr>\n",
       "    <tr>\n",
       "      <th>5</th>\n",
       "      <td>no</td>\n",
       "      <td>14</td>\n",
       "      <td>Blue</td>\n",
       "      <td>1</td>\n",
       "      <td>0.693147</td>\n",
       "      <td>0.666667</td>\n",
       "      <td>0.333333</td>\n",
       "      <td>-0.75</td>\n",
       "      <td>0.591667</td>\n",
       "      <td>0.643747</td>\n",
       "      <td>0.356253</td>\n",
       "      <td>-0.626797</td>\n",
       "      <td>0.581068</td>\n",
       "      <td>0.641313</td>\n",
       "    </tr>\n",
       "  </tbody>\n",
       "</table>\n",
       "</div>"
      ],
      "text/plain": [
       "  LikesPopcorn Age FavColor LovesTroll2  ini_leaf_val  initial_probs  \\\n",
       "0          yes  12     Blue           1      0.693147       0.666667   \n",
       "1          yes  19    Green           1      0.693147       0.666667   \n",
       "2           no  44     Blue           0      0.693147       0.666667   \n",
       "3          yes  87      Red           0      0.693147       0.666667   \n",
       "4           no  32    Green           1      0.693147       0.666667   \n",
       "5           no  14     Blue           1      0.693147       0.666667   \n",
       "\n",
       "  pseudo_residual1 tree_output1 predictions1     prob1 pseudo_residual2  \\\n",
       "0         0.333333          1.5     0.816667  0.693528         0.306472   \n",
       "1         0.333333          1.5     0.816667  0.693528         0.306472   \n",
       "2        -0.666667        -0.75     0.591667  0.643747        -0.643747   \n",
       "3        -0.666667           -3     0.366667  0.590653        -0.590653   \n",
       "4         0.333333          1.5     0.816667  0.693528         0.306472   \n",
       "5         0.333333        -0.75     0.591667  0.643747         0.356253   \n",
       "\n",
       "  tree_output2  predictions2     prob2  \n",
       "0       1.4419      0.837719  0.697984  \n",
       "1       1.4419      0.837719  0.697984  \n",
       "2    -0.626797      0.581068  0.641313  \n",
       "3     -2.44292      0.346362  0.585735  \n",
       "4       1.4419      0.837719  0.697984  \n",
       "5    -0.626797      0.581068  0.641313  "
      ]
     },
     "execution_count": 70,
     "metadata": {},
     "output_type": "execute_result"
    }
   ],
   "source": [
    "pseudo_residual = y - probs\n",
    "\n",
    "df[\"pseudo_residual2\"] = pseudo_residual\n",
    "\n",
    "model_tree = DecisionTreeRegressor(max_depth=2)\n",
    "\n",
    "model_tree.train(\n",
    "    X=X, y=pseudo_residual, feature_name=headers[:-1], target_name=headers[-1]\n",
    ")\n",
    "\n",
    "predicted_residuals = model_tree.predict(X, True)\n",
    "\n",
    "tree_output = predicted_residuals / (probs * (1 - probs))\n",
    "df[\"tree_output2\"] = tree_output\n",
    "\n",
    "\n",
    "predictions = probs + (learning_rate * tree_output)\n",
    "predictions = np.array(predictions, dtype=\"float\")\n",
    "df[\"predictions2\"] = predictions\n",
    "\n",
    "probs = np.exp(predictions) / (1 + np.exp(predictions))\n",
    "\n",
    "df[\"prob2\"] = probs\n",
    "\n",
    "df"
   ]
  }
 ],
 "metadata": {
  "kernelspec": {
   "display_name": "venv",
   "language": "python",
   "name": "python3"
  },
  "language_info": {
   "codemirror_mode": {
    "name": "ipython",
    "version": 3
   },
   "file_extension": ".py",
   "mimetype": "text/x-python",
   "name": "python",
   "nbconvert_exporter": "python",
   "pygments_lexer": "ipython3",
   "version": "3.10.13"
  },
  "toc-showtags": false
 },
 "nbformat": 4,
 "nbformat_minor": 4
}
