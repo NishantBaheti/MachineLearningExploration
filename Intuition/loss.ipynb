{
 "cells": [
  {
   "cell_type": "markdown",
   "id": "0c2c1dae-3c81-44c2-87b9-f8bc89b2e26e",
   "metadata": {},
   "source": [
    "# Loss Functions"
   ]
  },
  {
   "cell_type": "markdown",
   "id": "46cd9530-dc83-426b-a691-4ee7712c8ed3",
   "metadata": {},
   "source": [
    "## References \n",
    "\n",
    "- https://en.wikipedia.org/wiki/Loss_functions_for_classification\n",
    "- https://en.wikipedia.org/wiki/Hinge_loss\n",
    "- https://www.cs.cornell.edu/courses/cs4780/2018fa/lectures/lecturenote10.html"
   ]
  },
  {
   "cell_type": "code",
   "execution_count": 1,
   "id": "5a63d336-272e-4636-92da-5d8fdd052203",
   "metadata": {},
   "outputs": [],
   "source": [
    "import numpy as np\n",
    "from sklearn import metrics\n",
    "\n",
    "import matplotlib.pyplot as plt\n",
    "\n",
    "plt.style.use(\"fivethirtyeight\")"
   ]
  },
  {
   "cell_type": "markdown",
   "id": "bc7bd940-9cef-42c0-a3e2-d354b3060764",
   "metadata": {},
   "source": [
    "## Loss vs Cost Function\n",
    "\n",
    "\\begin{align}\n",
    "\\text{Cost Function } J(h_w(X), y) = \\frac{1}{N} \\sum_{i=1}^{N} L(h_w(x_i), y_i)\n",
    "\\end{align}"
   ]
  },
  {
   "cell_type": "markdown",
   "id": "65ddb8ee-310d-4fb5-bb8b-6a69a784c4a7",
   "metadata": {},
   "source": [
    "## Classification Loss"
   ]
  },
  {
   "cell_type": "markdown",
   "id": "5042cf75-493d-44da-b234-6b90df675685",
   "metadata": {},
   "source": [
    "### Hinge Loss\n",
    "\n",
    "\\begin{align}\n",
    "L(h_w(x_i), y_i) = \\max(1 - h_w(x_i) y_i, 0)^p\n",
    "\\end{align}\n",
    "\n",
    "| p | Usecase | \n",
    "|-|-|\n",
    "| p = 1 | SVM |\n",
    "| p = 2 | Squared Loss SVM |\n",
    "\n",
    "* Generally used for Standard SVM"
   ]
  },
  {
   "cell_type": "code",
   "execution_count": 23,
   "id": "6bc6a438-431b-46d9-8276-790423ab0d53",
   "metadata": {},
   "outputs": [],
   "source": [
    "def hinge_loss(y_true, y_pred, p):\n",
    "    return np.power(np.max(np.c_[1 - (y_true * y_pred), np.zeros_like(y_true)], axis=1), p)"
   ]
  },
  {
   "cell_type": "markdown",
   "id": "192d94d9-c748-4e29-8a88-8cab27bc329a",
   "metadata": {},
   "source": [
    "Correct classification"
   ]
  },
  {
   "cell_type": "code",
   "execution_count": 29,
   "id": "8c4b5e2c-d68e-44f4-8402-b73f6d3b2484",
   "metadata": {},
   "outputs": [
    {
     "data": {
      "text/plain": [
       "(array([0]), array([0]))"
      ]
     },
     "execution_count": 29,
     "metadata": {},
     "output_type": "execute_result"
    }
   ],
   "source": [
    "hinge_loss(-1, -1, 1), hinge_loss(-1, -1, 2)"
   ]
  },
  {
   "cell_type": "markdown",
   "id": "1778640c-7985-4d10-94be-6296e87a0468",
   "metadata": {},
   "source": [
    "Incorrect Classification"
   ]
  },
  {
   "cell_type": "code",
   "execution_count": 31,
   "id": "1f242192-7155-4cda-be8f-fac329d532c2",
   "metadata": {},
   "outputs": [
    {
     "data": {
      "text/plain": [
       "(array([2]), array([2]))"
      ]
     },
     "execution_count": 31,
     "metadata": {},
     "output_type": "execute_result"
    }
   ],
   "source": [
    "hinge_loss(-1, 1, 1), hinge_loss(1, -1, 1)"
   ]
  },
  {
   "cell_type": "code",
   "execution_count": 41,
   "id": "a19431db-67a4-48b7-9ae8-f3f7941d8b9e",
   "metadata": {},
   "outputs": [
    {
     "data": {
      "text/plain": [
       "(0.4444444444444444, 0.4444444444444444)"
      ]
     },
     "execution_count": 41,
     "metadata": {},
     "output_type": "execute_result"
    }
   ],
   "source": [
    "y_true = np.array([1, -1, 1, -1, 1, -1, 1, -1, 1])\n",
    "y_pred = np.array([-1, -1, 1, -1, 1, -1, -1, -1, 1])\n",
    "\n",
    "metrics.hinge_loss(y_pred, y_true), hinge_loss(y_true, y_pred, 1).mean()"
   ]
  },
  {
   "cell_type": "code",
   "execution_count": 42,
   "id": "7991beaf-4318-4a5d-8398-26056517c201",
   "metadata": {},
   "outputs": [
    {
     "data": {
      "text/plain": [
       "(0.0, 2.0)"
      ]
     },
     "execution_count": 42,
     "metadata": {},
     "output_type": "execute_result"
    }
   ],
   "source": [
    "metrics.hinge_loss([-1], [-1]), metrics.hinge_loss([-1], [1])"
   ]
  },
  {
   "cell_type": "markdown",
   "id": "bfbce6d9-b637-4145-b22c-94a6f452a714",
   "metadata": {},
   "source": [
    "### Log Loss\n",
    "\n",
    "\\begin{align}\n",
    "L(h_w(x_i), y_i) = \\log(1 + e^{- y_i  h_w(x_i)})\n",
    "\\end{align}\n",
    "\n",
    "* Used for Logistic Regression"
   ]
  },
  {
   "cell_type": "code",
   "execution_count": 43,
   "id": "22f1cf73-b79a-4aa5-89bc-8f5c26767fdb",
   "metadata": {},
   "outputs": [],
   "source": [
    "def logistic_loss(y_true, y_pred):\n",
    "    return np.log(1 + np.exp(-(y_true * y_pred)))\n",
    "\n",
    "def log_loss(y_true, y_pred):\n",
    "    return ((y_true * np.log(y_pred)) + ((1 - y_true) * np.log(1 - y_pred)))"
   ]
  },
  {
   "cell_type": "markdown",
   "id": "52a4bb73-af8a-4534-8818-52227f632199",
   "metadata": {},
   "source": [
    "Correct classification"
   ]
  },
  {
   "cell_type": "code",
   "execution_count": 45,
   "id": "779bc9c2-e25d-4f57-97ec-81627460ca39",
   "metadata": {},
   "outputs": [
    {
     "data": {
      "text/plain": [
       "(0.31326168751822286, 0.31326168751822286)"
      ]
     },
     "execution_count": 45,
     "metadata": {},
     "output_type": "execute_result"
    }
   ],
   "source": [
    "logistic_loss(-1, -1), logistic_loss(1, 1)"
   ]
  },
  {
   "cell_type": "markdown",
   "id": "dcdea43c-654d-4607-bb48-be9d71fe41b3",
   "metadata": {},
   "source": [
    "Incorrect Classification"
   ]
  },
  {
   "cell_type": "code",
   "execution_count": 46,
   "id": "47159c1b-2389-4782-b592-d460d56c3b8d",
   "metadata": {},
   "outputs": [
    {
     "data": {
      "text/plain": [
       "(1.3132616875182228, 1.3132616875182228)"
      ]
     },
     "execution_count": 46,
     "metadata": {},
     "output_type": "execute_result"
    }
   ],
   "source": [
    "logistic_loss(-1, 1), logistic_loss(1, -1)"
   ]
  },
  {
   "cell_type": "code",
   "execution_count": 55,
   "id": "f1157310-d1d7-485e-942d-3605194e5a44",
   "metadata": {},
   "outputs": [
    {
     "data": {
      "text/plain": [
       "0.535483909740445"
      ]
     },
     "execution_count": 55,
     "metadata": {},
     "output_type": "execute_result"
    }
   ],
   "source": [
    "y_true = np.array([1, -1, 1, -1, 1, -1, 1, -1, 1])\n",
    "y_pred = np.array([-1, -1, 1, -1, 1, -1, -1, -1, 1])\n",
    "\n",
    "logistic_loss(y_true, y_pred).mean()"
   ]
  },
  {
   "cell_type": "markdown",
   "id": "61211c60-9a89-4782-b6eb-0cafa2df2f4a",
   "metadata": {},
   "source": [
    "### Exponential Loss\n",
    "\n",
    "\\begin{align}\n",
    "L(h_w(x_i), y_i) = e^{-h_w(x_i) y_i} \n",
    "\\end{align}\n",
    "\n",
    "* Adaboost\n",
    "* Very aggressive, Loss of misprediction increases exponentially"
   ]
  },
  {
   "cell_type": "code",
   "execution_count": 56,
   "id": "7d1a12d6-3fea-4c62-9f9c-561477b3ec2a",
   "metadata": {},
   "outputs": [],
   "source": [
    "def exp_loss(y_true, y_pred):\n",
    "    return np.exp(-(y_pred * y_true))"
   ]
  },
  {
   "cell_type": "markdown",
   "id": "6e859165-6012-4bfc-91b1-0ebb5e45f5a6",
   "metadata": {},
   "source": [
    "Correct classification"
   ]
  },
  {
   "cell_type": "code",
   "execution_count": 57,
   "id": "1283ba39-57bf-481d-a131-06054c736b18",
   "metadata": {},
   "outputs": [
    {
     "data": {
      "text/plain": [
       "(0.36787944117144233, 0.36787944117144233)"
      ]
     },
     "execution_count": 57,
     "metadata": {},
     "output_type": "execute_result"
    }
   ],
   "source": [
    "exp_loss(-1, -1), exp_loss(1, 1)"
   ]
  },
  {
   "cell_type": "markdown",
   "id": "5b60c2cf-729f-4cfc-9509-10c4dd14578b",
   "metadata": {},
   "source": [
    "Incorrect Classification"
   ]
  },
  {
   "cell_type": "code",
   "execution_count": 58,
   "id": "a5116cf3-c617-4bf5-8b73-2bc132274689",
   "metadata": {},
   "outputs": [
    {
     "data": {
      "text/plain": [
       "(2.718281828459045, 2.718281828459045)"
      ]
     },
     "execution_count": 58,
     "metadata": {},
     "output_type": "execute_result"
    }
   ],
   "source": [
    "exp_loss(-1, 1), exp_loss(1, -1)"
   ]
  },
  {
   "cell_type": "code",
   "execution_count": 59,
   "id": "3c1c451e-131b-466d-b474-2c43b743f8fc",
   "metadata": {},
   "outputs": [
    {
     "data": {
      "text/plain": [
       "0.8901910827909096"
      ]
     },
     "execution_count": 59,
     "metadata": {},
     "output_type": "execute_result"
    }
   ],
   "source": [
    "y_true = np.array([1, -1, 1, -1, 1, -1, 1, -1, 1])\n",
    "y_pred = np.array([-1, -1, 1, -1, 1, -1, -1, -1, 1])\n",
    "\n",
    "exp_loss(y_true, y_pred).mean()"
   ]
  },
  {
   "cell_type": "markdown",
   "id": "ab10b622-6814-4d4a-a4ab-ffdabf8d27ec",
   "metadata": {},
   "source": [
    "### Zero-One Loss\n",
    "\n",
    "\\begin{align}\n",
    "L(h_w(x_i), y_i) &= \\delta(sign({h_w(x_i)) \\ne y_i}) \\\\ \\\\\n",
    "\\delta &= \\begin{cases} 1 & \\text{if } sign(h_w(x_i)) \\ne y_i \\text{ i.e. missclassification}\\\\ \\\\ 0 & \\text{otherwise} \\end{cases}\n",
    "\\end{align}\n",
    "\n",
    "\n",
    "* Actual Classification loss"
   ]
  },
  {
   "cell_type": "code",
   "execution_count": 60,
   "id": "e099009a-ff31-4ee7-a1df-02048bb58e70",
   "metadata": {},
   "outputs": [],
   "source": [
    "def zero_one_loss(y_true, y_pred):\n",
    "    return np.int32(np.sign(y_pred) != y_true)"
   ]
  },
  {
   "cell_type": "markdown",
   "id": "4436447e-2621-4ba2-a274-474cb278371f",
   "metadata": {},
   "source": [
    "Correct classification"
   ]
  },
  {
   "cell_type": "code",
   "execution_count": 61,
   "id": "15865ad8-cb73-4d94-bc6e-ef606f480875",
   "metadata": {},
   "outputs": [
    {
     "data": {
      "text/plain": [
       "(0, 0)"
      ]
     },
     "execution_count": 61,
     "metadata": {},
     "output_type": "execute_result"
    }
   ],
   "source": [
    "zero_one_loss(-1, -1), zero_one_loss(1, 1)"
   ]
  },
  {
   "cell_type": "markdown",
   "id": "b3b642f7-64d0-439e-828f-6b312b1eb1e1",
   "metadata": {},
   "source": [
    "Incorrect Classification"
   ]
  },
  {
   "cell_type": "code",
   "execution_count": 62,
   "id": "f55b8dc0-5000-4b85-82b5-8b783fecf7d0",
   "metadata": {},
   "outputs": [
    {
     "data": {
      "text/plain": [
       "(1, 1)"
      ]
     },
     "execution_count": 62,
     "metadata": {},
     "output_type": "execute_result"
    }
   ],
   "source": [
    "zero_one_loss(-1, 1), zero_one_loss(-1, 1)"
   ]
  },
  {
   "cell_type": "code",
   "execution_count": 63,
   "id": "2dd3ad7a-0deb-40d5-94d0-15b0e5c04d64",
   "metadata": {},
   "outputs": [
    {
     "data": {
      "text/plain": [
       "0.2222222222222222"
      ]
     },
     "execution_count": 63,
     "metadata": {},
     "output_type": "execute_result"
    }
   ],
   "source": [
    "y_true = np.array([1, -1, 1, -1, 1, -1, 1, -1, 1])\n",
    "y_pred = np.array([-1, -1, 1, -1, 1, -1, -1, -1, 1])\n",
    "\n",
    "zero_one_loss(y_true, y_pred).mean()"
   ]
  },
  {
   "cell_type": "markdown",
   "id": "48ed4397-8154-4d7c-b888-e13043c49630",
   "metadata": {},
   "source": [
    "### Graphical Representation"
   ]
  },
  {
   "cell_type": "code",
   "execution_count": 70,
   "id": "dfc300fe-3cc8-41a2-ab0c-7c5c5173eb00",
   "metadata": {},
   "outputs": [
    {
     "data": {
      "image/png": "[encoded data removed]",
      "text/plain": [
       "<Figure size 360x360 with 1 Axes>"
      ]
     },
     "metadata": {
      "needs_background": "light"
     },
     "output_type": "display_data"
    }
   ],
   "source": [
    "n_samples = 100\n",
    "\n",
    "x = np.linspace(-2, 2, n_samples)\n",
    "y = np.ones_like(x)\n",
    "\n",
    "fig, ax = plt.subplots(1, 1, figsize=(5, 5))\n",
    "\n",
    "ax.plot(x, logistic_loss(x, y), label='Logistic Loss')\n",
    "ax.plot(x, exp_loss(x, y), label='Exponential Loss')\n",
    "ax.plot(np.int32(x), zero_one_loss(y, x), label='Zero-One Loss')\n",
    "ax.plot(x, hinge_loss(x, y, 1), label='Hinge Loss')\n",
    "\n",
    "plt.legend()\n",
    "plt.show()"
   ]
  },
  {
   "cell_type": "markdown",
   "id": "108f4158-05cf-4fea-b45d-7e1f1be85586",
   "metadata": {},
   "source": [
    "## Regression Loss"
   ]
  },
  {
   "cell_type": "markdown",
   "id": "5b0e6498-2c02-4388-889d-02c680ee96fc",
   "metadata": {},
   "source": [
    "### Squared Loss\n",
    "\n",
    "\\begin{align}\n",
    "L(h_w(x_i), y_i) &= (h_w(x_i) - y_i)^2\n",
    "\\end{align}\n",
    "\n",
    "* also known as `Ordinary Least Square`\n",
    "* estimates mean label\n",
    "* Differenciable easily\n",
    "* affected by noisy data"
   ]
  },
  {
   "cell_type": "code",
   "execution_count": 17,
   "id": "ee752d71-b2be-4b95-93ae-cc39b44b22ae",
   "metadata": {},
   "outputs": [],
   "source": [
    "def squared_loss(y_true, y_pred):\n",
    "    return np.square(y_pred - y_true)"
   ]
  },
  {
   "cell_type": "code",
   "execution_count": 72,
   "id": "fa3a914c-675f-43f4-bec5-ee6c8fab76b0",
   "metadata": {},
   "outputs": [
    {
     "data": {
      "text/plain": [
       "(0.05666666666666679, 0.05666666666666679)"
      ]
     },
     "execution_count": 72,
     "metadata": {},
     "output_type": "execute_result"
    }
   ],
   "source": [
    "y_true = np.array([12, 11, 10, 12.3, 11.2, 10.3])\n",
    "y_pred = np.array([11.9, 11, 9.6, 12, 11, 10.1])\n",
    "\n",
    "squared_loss(y_true, y_pred).mean(), metrics.mean_squared_error(y_true, y_pred)"
   ]
  },
  {
   "cell_type": "markdown",
   "id": "e897defc-d951-4672-9df0-f26097c549dc",
   "metadata": {},
   "source": [
    "### Absolute Loss\n",
    "\n",
    "\\begin{align}\n",
    "L(h_w(x_i), y_i) &= |h_w(x_i) - y_i|\n",
    "\\end{align}\n",
    "\n",
    "\n",
    "* Estimates median label\n",
    "* Less sensitive to noise"
   ]
  },
  {
   "cell_type": "code",
   "execution_count": 73,
   "id": "d4ebe552-7fd0-4a93-98b0-c6d5bb5af75c",
   "metadata": {},
   "outputs": [],
   "source": [
    "def absolute_loss(y_true, y_pred):\n",
    "    return np.abs(y_pred - y_true)"
   ]
  },
  {
   "cell_type": "code",
   "execution_count": 74,
   "id": "fef919a6-8a22-4d3e-8ede-c9a2aad9b18a",
   "metadata": {},
   "outputs": [
    {
     "data": {
      "text/plain": [
       "(0.20000000000000018, 0.20000000000000018)"
      ]
     },
     "execution_count": 74,
     "metadata": {},
     "output_type": "execute_result"
    }
   ],
   "source": [
    "y_true = np.array([12, 11, 10, 12.3, 11.2, 10.3])\n",
    "y_pred = np.array([11.9, 11, 9.6, 12, 11, 10.1])\n",
    "\n",
    "absolute_loss(y_true, y_pred).mean(), metrics.mean_absolute_error(y_true, y_pred)"
   ]
  },
  {
   "attachments": {},
   "cell_type": "markdown",
   "id": "6ec2a4e8-448c-4af9-9e79-534c3290364c",
   "metadata": {},
   "source": [
    "<!-- ### Huber Loss\n",
    "\n",
    "\n",
    "\n",
    "\n",
    "def huber_loss(y_true, y_pred):\n",
    "    pass -->"
   ]
  },
  {
   "cell_type": "markdown",
   "id": "7f89da55-f6c1-4e65-8de1-900c90ca5fd8",
   "metadata": {},
   "source": [
    "### Graphical Representation"
   ]
  },
  {
   "cell_type": "code",
   "execution_count": 84,
   "id": "fd30ad5b-ccb1-4d50-99e2-001c3a65098e",
   "metadata": {},
   "outputs": [
    {
     "data": {
      "image/png": "[encoded data removed]",
      "text/plain": [
       "<Figure size 360x360 with 1 Axes>"
      ]
     },
     "metadata": {
      "needs_background": "light"
     },
     "output_type": "display_data"
    }
   ],
   "source": [
    "n_samples = 50\n",
    "\n",
    "x = np.linspace(-3, 3, n_samples)\n",
    "y = np.zeros_like(x)\n",
    "\n",
    "fig, ax = plt.subplots(1, 1, figsize=(5, 5))\n",
    "\n",
    "ax.plot(x, squared_loss(x, y), label='Squared Loss')\n",
    "ax.plot(x, absolute_loss(x, y), label='Absolute Loss')\n",
    "\n",
    "plt.legend()\n",
    "plt.show()"
   ]
  },
  {
   "cell_type": "code",
   "execution_count": null,
   "id": "18fa2236-f424-4488-afc5-c2ba4f41f841",
   "metadata": {},
   "outputs": [],
   "source": []
  }
 ],
 "metadata": {
  "kernelspec": {
   "display_name": "py39",
   "language": "python",
   "name": "py39"
  },
  "language_info": {
   "codemirror_mode": {
    "name": "ipython",
    "version": 3
   },
   "file_extension": ".py",
   "mimetype": "text/x-python",
   "name": "python",
   "nbconvert_exporter": "python",
   "pygments_lexer": "ipython3",
   "version": "3.9.1"
  }
 },
 "nbformat": 4,
 "nbformat_minor": 5
}
