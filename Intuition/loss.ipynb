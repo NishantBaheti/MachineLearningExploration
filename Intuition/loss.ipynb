{
 "cells": [
  {
   "cell_type": "markdown",
   "id": "0c2c1dae-3c81-44c2-87b9-f8bc89b2e26e",
   "metadata": {},
   "source": [
    "# Loss"
   ]
  },
  {
   "cell_type": "markdown",
   "id": "46cd9530-dc83-426b-a691-4ee7712c8ed3",
   "metadata": {},
   "source": [
    "### References \n",
    "\n",
    "- https://en.wikipedia.org/wiki/Loss_functions_for_classification\n",
    "- https://en.wikipedia.org/wiki/Hinge_loss\n",
    "- https://www.cs.cornell.edu/courses/cs4780/2018fa/lectures/lecturenote10.html"
   ]
  },
  {
   "cell_type": "code",
   "execution_count": 1,
   "id": "5a63d336-272e-4636-92da-5d8fdd052203",
   "metadata": {},
   "outputs": [],
   "source": [
    "import numpy as np\n",
    "from sklearn import metrics"
   ]
  },
  {
   "cell_type": "markdown",
   "id": "65ddb8ee-310d-4fb5-bb8b-6a69a784c4a7",
   "metadata": {},
   "source": [
    "## Classification Loss"
   ]
  },
  {
   "cell_type": "code",
   "execution_count": 12,
   "id": "4f47a790-3159-4b0a-8684-d990b90ef2ca",
   "metadata": {},
   "outputs": [],
   "source": [
    "y_true = np.array([1, -1, 1, -1, 1, -1, 1, -1, 1])\n",
    "y_pred = np.array([-1, -1, 1, -1, 1, -1, -1, -1, 1])"
   ]
  },
  {
   "cell_type": "markdown",
   "id": "5042cf75-493d-44da-b234-6b90df675685",
   "metadata": {},
   "source": [
    "### Hinge Loss\n",
    "\n",
    "\\begin{align}\n",
    "L(h_w(x_i, y_i)) = \\max(1 - h_w(x_i) y_i, 0)^p\n",
    "\\end{align}\n",
    "\n",
    "| p | Usecase | \n",
    "|-|-|\n",
    "| p = 1 | SVM |\n",
    "| p = 2 | Squared Loss SVM |"
   ]
  },
  {
   "cell_type": "code",
   "execution_count": 13,
   "id": "6bc6a438-431b-46d9-8276-790423ab0d53",
   "metadata": {},
   "outputs": [],
   "source": [
    "def hinge_loss(y_true, y_pred, p):\n",
    "    return np.power(np.max(np.c_[1 - (y_true * y_pred), np.zeros_like(y_true)], axis=1), p).mean()"
   ]
  },
  {
   "cell_type": "code",
   "execution_count": 14,
   "id": "8c4b5e2c-d68e-44f4-8402-b73f6d3b2484",
   "metadata": {},
   "outputs": [
    {
     "data": {
      "text/plain": [
       "0.4444444444444444"
      ]
     },
     "execution_count": 14,
     "metadata": {},
     "output_type": "execute_result"
    }
   ],
   "source": [
    "hinge_loss(y_true, y_pred, 1)"
   ]
  },
  {
   "cell_type": "code",
   "execution_count": 15,
   "id": "1f242192-7155-4cda-be8f-fac329d532c2",
   "metadata": {},
   "outputs": [
    {
     "data": {
      "text/plain": [
       "0.8888888888888888"
      ]
     },
     "execution_count": 15,
     "metadata": {},
     "output_type": "execute_result"
    }
   ],
   "source": [
    "hinge_loss(y_true, y_pred, 2)"
   ]
  },
  {
   "cell_type": "code",
   "execution_count": 16,
   "id": "63704b02-02f1-4982-a0ad-80855a1862fc",
   "metadata": {},
   "outputs": [
    {
     "data": {
      "text/plain": [
       "0.4444444444444444"
      ]
     },
     "execution_count": 16,
     "metadata": {},
     "output_type": "execute_result"
    }
   ],
   "source": [
    "metrics.hinge_loss(y_pred, y_true)"
   ]
  },
  {
   "cell_type": "markdown",
   "id": "bfbce6d9-b637-4145-b22c-94a6f452a714",
   "metadata": {},
   "source": [
    "### Log Loss\n",
    "\n",
    "\\begin{align}\n",
    "L(h_w(x_i, y_i)) = \\log(1 + e^{- y_i  h_w(x_i)})\n",
    "\\end{align}\n",
    "\n",
    "* Used for Logistic Regression"
   ]
  },
  {
   "cell_type": "code",
   "execution_count": 50,
   "id": "22f1cf73-b79a-4aa5-89bc-8f5c26767fdb",
   "metadata": {},
   "outputs": [],
   "source": [
    "def logistic_loss(y_true, y_pred):\n",
    "    return np.log(1 + np.exp(-(y_true * y_pred))).mean()\n",
    "\n",
    "def log_loss(y_true, y_pred):\n",
    "    return ((y_true * np.log(y_pred)) + ((1 - y_true) * np.log(1 - y_pred))).mean()"
   ]
  },
  {
   "cell_type": "code",
   "execution_count": 51,
   "id": "9e4b9c5e-67a2-4204-8545-6cbf4b314159",
   "metadata": {},
   "outputs": [
    {
     "data": {
      "text/plain": [
       "0.535483909740445"
      ]
     },
     "execution_count": 51,
     "metadata": {},
     "output_type": "execute_result"
    }
   ],
   "source": [
    "logistic_loss(y_true, y_pred)"
   ]
  },
  {
   "cell_type": "code",
   "execution_count": 57,
   "id": "f1157310-d1d7-485e-942d-3605194e5a44",
   "metadata": {},
   "outputs": [
    {
     "data": {
      "text/plain": [
       "7.6752836433134854"
      ]
     },
     "execution_count": 57,
     "metadata": {},
     "output_type": "execute_result"
    }
   ],
   "source": [
    "metrics.log_loss(y_true, y_pred, labels=[1, -1], normalize=True)"
   ]
  },
  {
   "cell_type": "markdown",
   "id": "61211c60-9a89-4782-b6eb-0cafa2df2f4a",
   "metadata": {},
   "source": [
    "### Exponential Loss\n",
    "\n",
    "\\begin{align}\n",
    "L(h_w(x_i, y_i)) = e^{-h_w(x_i) y_i} \n",
    "\\end{align}\n",
    "\n",
    "* Adaboost"
   ]
  },
  {
   "cell_type": "code",
   "execution_count": 47,
   "id": "7d1a12d6-3fea-4c62-9f9c-561477b3ec2a",
   "metadata": {},
   "outputs": [],
   "source": [
    "def exp_loss(y_true, y_pred):\n",
    "    return np.exp(-(y_pred * y_true)).mean()"
   ]
  },
  {
   "cell_type": "code",
   "execution_count": 48,
   "id": "3c1c451e-131b-466d-b474-2c43b743f8fc",
   "metadata": {},
   "outputs": [
    {
     "data": {
      "text/plain": [
       "0.8901910827909096"
      ]
     },
     "execution_count": 48,
     "metadata": {},
     "output_type": "execute_result"
    }
   ],
   "source": [
    "exp_loss(y_true, y_pred)"
   ]
  },
  {
   "cell_type": "markdown",
   "id": "ab10b622-6814-4d4a-a4ab-ffdabf8d27ec",
   "metadata": {},
   "source": [
    "### Zero-One Loss\n",
    "\n",
    "\\begin{align}\n",
    "L(h_w(x_i, y_i)) = \\delta(sign({h_w(x_i)) \\ne y_i})\n",
    "\\end{align}"
   ]
  },
  {
   "cell_type": "markdown",
   "id": "108f4158-05cf-4fea-b45d-7e1f1be85586",
   "metadata": {},
   "source": [
    "## Regression Loss"
   ]
  },
  {
   "cell_type": "markdown",
   "id": "5b0e6498-2c02-4388-889d-02c680ee96fc",
   "metadata": {},
   "source": [
    "### Squared Loss\n",
    "\n",
    "\\begin{align}\n",
    "L(h_w(x_i), y_i) &= (h_w(x_i) - y_i)^2\n",
    "\\end{align}"
   ]
  },
  {
   "cell_type": "code",
   "execution_count": 17,
   "id": "ee752d71-b2be-4b95-93ae-cc39b44b22ae",
   "metadata": {},
   "outputs": [],
   "source": [
    "def squared_loss(y_true, y_pred):\n",
    "    return np.square(y_pred - y_true)"
   ]
  },
  {
   "cell_type": "markdown",
   "id": "e897defc-d951-4672-9df0-f26097c549dc",
   "metadata": {},
   "source": [
    "### Absolute Loss\n",
    "\n",
    "\\begin{align}\n",
    "L(h_w(x_i), y_i) &= (h_w(x_i) - y_i)^2\n",
    "\\end{align}"
   ]
  },
  {
   "cell_type": "code",
   "execution_count": 18,
   "id": "d4ebe552-7fd0-4a93-98b0-c6d5bb5af75c",
   "metadata": {},
   "outputs": [],
   "source": [
    "def absolute_loss(y_true, y_pred):\n",
    "    return np.abs(y_pred - y_true)"
   ]
  },
  {
   "cell_type": "markdown",
   "id": "37b2e6bc-21fe-485c-bce6-87554311f531",
   "metadata": {},
   "source": [
    "<!-- ### Huber Loss ### Log Cosh -->"
   ]
  }
 ],
 "metadata": {
  "kernelspec": {
   "display_name": "Python 3 (ipykernel)",
   "language": "python",
   "name": "python3"
  },
  "language_info": {
   "codemirror_mode": {
    "name": "ipython",
    "version": 3
   },
   "file_extension": ".py",
   "mimetype": "text/x-python",
   "name": "python",
   "nbconvert_exporter": "python",
   "pygments_lexer": "ipython3",
   "version": "3.9.1"
  }
 },
 "nbformat": 4,
 "nbformat_minor": 5
}
