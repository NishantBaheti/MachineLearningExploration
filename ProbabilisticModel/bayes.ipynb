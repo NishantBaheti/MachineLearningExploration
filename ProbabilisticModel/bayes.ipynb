{
 "cells": [
  {
   "cell_type": "markdown",
   "id": "dbba87a9-a788-4bd0-a325-918e7105d93b",
   "metadata": {},
   "source": [
    "# Bayes Estimation"
   ]
  },
  {
   "cell_type": "markdown",
   "id": "d84e4fb5-4882-40db-affb-7c9f7d6a7f4e",
   "metadata": {},
   "source": [
    "## References\n",
    "\n",
    "- https://www.cs.cornell.edu/courses/cs4780/2018fa/lectures/lecturenote05.html"
   ]
  },
  {
   "cell_type": "markdown",
   "id": "53d557ea-d751-4d89-b69c-f0a2929e0191",
   "metadata": {},
   "source": [
    "## Naive Bayes\n",
    "\n",
    "\\begin{align}\n",
    "    P(Y=y | X=x) &= \\frac{P(X=x | Y=y) P(Y=y)}{P(X=x)}\\\\\n",
    "    \\\\\n",
    "    &\\text{Where } \\\\\n",
    "    P(X=x | Y=y) &= \\prod_{\\alpha=1}^{d} P([X]_\\alpha = x_\\alpha| Y = y)\n",
    "\\end{align}\n",
    "\n",
    "\n",
    "- Naively assumes that all the features used are independently distrubuted variables given the label Y.\n",
    "- for example given that there is an email where all the words are independent given the label spam/ham."
   ]
  },
  {
   "cell_type": "markdown",
   "id": "1e9e13da-4f72-4163-8ced-7bbfd5a6582e",
   "metadata": {},
   "source": [
    "## Bayes Classifier\n",
    "\n",
    "\\begin{align*}\n",
    "    h(\\vec{x}) &= {argmax\\atop{y}} \\frac{P(\\vec{x} | y) P(y)}{z}\\\\\n",
    "    \\\\\n",
    "    &= {argmax\\atop{y}} P(y) \\prod_{\\alpha} P([\\vec{X}]_\\alpha | y)\\\\\n",
    "    \\\\\n",
    "    &= {argmax\\atop{y}} ( log(P(y) + \\sum_\\alpha log P([\\vec{X}]_\\alpha | y))\n",
    "\\end{align*}\n",
    "\n",
    "\n",
    "P.S. - In computer science we dont prefer multiplying probabilities due to muliple reasons(see reference section). Hence we take log and convert multiplication to addition."
   ]
  },
  {
   "cell_type": "code",
   "execution_count": null,
   "id": "202743bf-77de-4f50-8c2d-30b2ccb0c2a6",
   "metadata": {},
   "outputs": [],
   "source": []
  }
 ],
 "metadata": {
  "kernelspec": {
   "display_name": "py39",
   "language": "python",
   "name": "py39"
  },
  "language_info": {
   "codemirror_mode": {
    "name": "ipython",
    "version": 3
   },
   "file_extension": ".py",
   "mimetype": "text/x-python",
   "name": "python",
   "nbconvert_exporter": "python",
   "pygments_lexer": "ipython3",
   "version": "3.9.1"
  }
 },
 "nbformat": 4,
 "nbformat_minor": 5
}
