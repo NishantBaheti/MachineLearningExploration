{
 "cells": [
  {
   "cell_type": "markdown",
   "id": "dbba87a9-a788-4bd0-a325-918e7105d93b",
   "metadata": {},
   "source": [
    "# Bayes Estimation"
   ]
  },
  {
   "cell_type": "code",
   "execution_count": 1,
   "id": "d66b740e-7a67-45ff-b916-aae97de5bda5",
   "metadata": {},
   "outputs": [],
   "source": [
    "import numpy as np\n",
    "import pandas as pd\n",
    "\n",
    "import matplotlib.pyplot as plt\n",
    "import seaborn as sns\n",
    "\n",
    "plt.style.use('fivethirtyeight')"
   ]
  },
  {
   "cell_type": "markdown",
   "id": "d84e4fb5-4882-40db-affb-7c9f7d6a7f4e",
   "metadata": {},
   "source": [
    "## References\n",
    "\n",
    "- https://www.cs.cornell.edu/courses/cs4780/2018fa/lectures/lecturenote05.html"
   ]
  },
  {
   "cell_type": "code",
   "execution_count": 22,
   "id": "795d582d-bc17-4515-b60a-cbca14b0314b",
   "metadata": {},
   "outputs": [
    {
     "data": {
      "text/html": [
       "<div>\n",
       "<style scoped>\n",
       "    .dataframe tbody tr th:only-of-type {\n",
       "        vertical-align: middle;\n",
       "    }\n",
       "\n",
       "    .dataframe tbody tr th {\n",
       "        vertical-align: top;\n",
       "    }\n",
       "\n",
       "    .dataframe thead th {\n",
       "        text-align: right;\n",
       "    }\n",
       "</style>\n",
       "<table border=\"1\" class=\"dataframe\">\n",
       "  <thead>\n",
       "    <tr style=\"text-align: right;\">\n",
       "      <th></th>\n",
       "      <th>label</th>\n",
       "      <th>text</th>\n",
       "      <th>flag</th>\n",
       "    </tr>\n",
       "  </thead>\n",
       "  <tbody>\n",
       "    <tr>\n",
       "      <th>2541</th>\n",
       "      <td>ham</td>\n",
       "      <td>They said if its gonna snow, it will start aro...</td>\n",
       "      <td>0</td>\n",
       "    </tr>\n",
       "    <tr>\n",
       "      <th>868</th>\n",
       "      <td>spam</td>\n",
       "      <td>PRIVATE! Your 2003 Account Statement for 07808...</td>\n",
       "      <td>1</td>\n",
       "    </tr>\n",
       "    <tr>\n",
       "      <th>1328</th>\n",
       "      <td>spam</td>\n",
       "      <td>Ur balance is now £500. Ur next question is: W...</td>\n",
       "      <td>1</td>\n",
       "    </tr>\n",
       "    <tr>\n",
       "      <th>2663</th>\n",
       "      <td>spam</td>\n",
       "      <td>Hello darling how are you today? I would love ...</td>\n",
       "      <td>1</td>\n",
       "    </tr>\n",
       "    <tr>\n",
       "      <th>4303</th>\n",
       "      <td>ham</td>\n",
       "      <td>Aiyar hard 2 type. U later free then tell me t...</td>\n",
       "      <td>0</td>\n",
       "    </tr>\n",
       "  </tbody>\n",
       "</table>\n",
       "</div>"
      ],
      "text/plain": [
       "     label                                               text  flag\n",
       "2541   ham  They said if its gonna snow, it will start aro...     0\n",
       "868   spam  PRIVATE! Your 2003 Account Statement for 07808...     1\n",
       "1328  spam  Ur balance is now £500. Ur next question is: W...     1\n",
       "2663  spam  Hello darling how are you today? I would love ...     1\n",
       "4303   ham  Aiyar hard 2 type. U later free then tell me t...     0"
      ]
     },
     "execution_count": 22,
     "metadata": {},
     "output_type": "execute_result"
    }
   ],
   "source": [
    "df = pd.read_csv('/opt/datasetsRepo/smsspamcollection/SMSSpamCollection', sep='\\t', names=['label', 'text'])\n",
    "\n",
    "df['flag'] = df['label'].map({ \"ham\" : 0, \"spam\" : 1})\n",
    "\n",
    "dataset = pd.concat([ \n",
    "    df.query('flag == 1').sample(50), \n",
    "    df.query('flag == 0').sample(50) \n",
    "], axis = 0).sample(frac=1)\n",
    "\n",
    "dataset.head()"
   ]
  },
  {
   "cell_type": "markdown",
   "id": "53d557ea-d751-4d89-b69c-f0a2929e0191",
   "metadata": {},
   "source": [
    "## Naive Bayes\n",
    "\n",
    "\\begin{align}\n",
    "    P(Y=y | X=x) &= \\frac{P(X=x | Y=y) P(Y=y)}{P(X=x)}\\\\\n",
    "    \\\\\n",
    "    &\\text{Where } \\\\\n",
    "    P(X=x | Y=y) &= \\prod_{\\alpha=1}^{d} P([X]_\\alpha = x_\\alpha| Y = y)\n",
    "\\end{align}\n",
    "\n",
    "\n",
    "- Naively assumes that all the features used are independently distrubuted variables given the label Y.\n",
    "- for example given that there is an email where all the words are independent given the label spam/ham."
   ]
  },
  {
   "cell_type": "markdown",
   "id": "1e9e13da-4f72-4163-8ced-7bbfd5a6582e",
   "metadata": {},
   "source": [
    "## Bayes Classifier\n",
    "\n",
    "\\begin{align*}\n",
    "    h(\\vec{x}) &= {argmax\\atop{y}} \\frac{P(\\vec{x} | y) P(y)}{z}\\\\\n",
    "    \\\\\n",
    "    &= {argmax\\atop{y}} P(y) \\prod_{\\alpha} P([\\vec{X}]_\\alpha | y)\\\\\n",
    "    \\\\\n",
    "    &= {argmax\\atop{y}} ( log(P(y) + \\sum_\\alpha log P([\\vec{X}]_\\alpha | y))\n",
    "\\end{align*}\n",
    "\n",
    "\n",
    "P.S. - In computer science we dont prefer multiplying probabilities due to muliple reasons(see reference section). Hence we take log and convert multiplication to addition."
   ]
  }
 ],
 "metadata": {
  "kernelspec": {
   "display_name": "py39",
   "language": "python",
   "name": "py39"
  },
  "language_info": {
   "codemirror_mode": {
    "name": "ipython",
    "version": 3
   },
   "file_extension": ".py",
   "mimetype": "text/x-python",
   "name": "python",
   "nbconvert_exporter": "python",
   "pygments_lexer": "ipython3",
   "version": "3.9.1"
  }
 },
 "nbformat": 4,
 "nbformat_minor": 5
}
