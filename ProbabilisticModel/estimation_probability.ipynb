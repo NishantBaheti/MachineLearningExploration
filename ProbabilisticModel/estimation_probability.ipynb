{
 "cells": [
  {
   "cell_type": "markdown",
   "id": "8a9ca9e3-67de-451b-9951-737c4c444731",
   "metadata": {},
   "source": [
    "# Estimating Probabilities\n",
    "\n",
    "## References\n",
    "\n",
    "- https://www.cs.cornell.edu/courses/cs4780/2018fa/lectures/lecturenote04.html\n",
    "\n",
    "\n",
    "## Intro\n",
    "\n",
    "P(X, Y) distribution P of data X & Y.\n",
    "\n",
    "* When we estimate P(X, Y) = P(X|Y) P(Y) = P(Y|X) P(X), called **Generative Learning**.\n",
    "* When we only estimate P(Y|X) directly, called **Discriminative Learning**.\n",
    "\n",
    "\n"
   ]
  },
  {
   "cell_type": "markdown",
   "id": "e4c0c266-eed8-4a6c-b4d7-d74a2032a8e0",
   "metadata": {},
   "source": [
    "`WIP`"
   ]
  }
 ],
 "metadata": {
  "kernelspec": {
   "display_name": "py39",
   "language": "python",
   "name": "py39"
  },
  "language_info": {
   "codemirror_mode": {
    "name": "ipython",
    "version": 3
   },
   "file_extension": ".py",
   "mimetype": "text/x-python",
   "name": "python",
   "nbconvert_exporter": "python",
   "pygments_lexer": "ipython3",
   "version": "3.9.1"
  }
 },
 "nbformat": 4,
 "nbformat_minor": 5
}
