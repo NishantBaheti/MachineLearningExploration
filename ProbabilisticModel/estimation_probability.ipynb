{
 "cells": [
  {
   "cell_type": "markdown",
   "id": "4da9e41a-897b-4321-9e7c-e77c1e1ee531",
   "metadata": {},
   "source": [
    "# Probability Estimation"
   ]
  },
  {
   "cell_type": "markdown",
   "id": "645f4252-f90a-499d-95b0-5927dd6b8b41",
   "metadata": {},
   "source": [
    "## References\n",
    "\n",
    "- https://www.cs.cornell.edu/courses/cs4780/2018fa/lectures/lecturenote04.html\n",
    "- https://en.wikipedia.org/wiki/Bayes%27_theorem\n",
    "- https://www.cs.cornell.edu/courses/cs4780/2018fa/lectures/lecturenote05.html\n",
    "- https://en.wikipedia.org/wiki/Log_probability"
   ]
  },
  {
   "cell_type": "code",
   "execution_count": 1,
   "id": "cc608ba3-01d3-4b31-a953-152c292763cf",
   "metadata": {},
   "outputs": [],
   "source": [
    "import numpy as np\n",
    "import pandas as pd\n",
    "\n",
    "import matplotlib.pyplot as plt\n",
    "import seaborn as sns\n",
    "\n",
    "plt.style.use('fivethirtyeight')"
   ]
  },
  {
   "cell_type": "markdown",
   "id": "e2d1eb81-8403-4f2f-ab21-1981124927eb",
   "metadata": {},
   "source": [
    "## Intro\n",
    "\n",
    "P(X, Y) distribution P of data X & Y.\n",
    "\n",
    "* When we estimate P(X, Y) = P(X|Y) P(Y) = P(Y|X) P(X), called **Generative Learning**.\n",
    "* When we only estimate P(Y|X) directly, called **Discriminative Learning**."
   ]
  },
  {
   "cell_type": "markdown",
   "id": "84c180f6-62fb-4d41-a957-5467309ea717",
   "metadata": {},
   "source": [
    "**Scenario** Coin Toss\n",
    "\n",
    "Probability of getting heads P(H), when the coin is not a perfect one?\n",
    "\n",
    "number of tosses = 10\n",
    "\n",
    "10 samples are collected from tosses, D = { H, H, T, T, H, T, H, T, T, T }\n",
    "\n",
    "here $n_H$ = 4 and $n_T$ = 6, hence\n",
    "\n",
    "$P(H) \\approx \\frac{n_H}{n_H + n_T} = \\frac{4}{4 + 6} = 0.4$\n",
    "\n",
    "lets try to derive it..."
   ]
  },
  {
   "cell_type": "markdown",
   "id": "6f0f8e11-9b33-4997-86e2-2a9f53bab8bf",
   "metadata": {},
   "source": [
    "## Maximum Likelihood Estimation(MLE)\n",
    "\n",
    "Estimation mentioned above in the scenario is actually **Maximum Likelihood Estimation**. P(H) is estimation of likelihood of getting heads.\n",
    "\n",
    "Steps for MLE-\n",
    "\n",
    "1. Modeling assumption about the type of distribution data is coming from.\n",
    "2. fitting the distribution parameter so that the sample/data observed is likely as possible.\n",
    "\n",
    "for coin toss example the distribution observed is binomial distribution {0, 1}. binom distribution has two parameters n and $\\theta$.\n",
    "\n",
    "\\begin{align}\n",
    "b(x;n,\\theta) &= \\binom{n}{x}{\\theta^x}{(1-\\theta)}^{(n-x)}\\\\\n",
    "\\\\\n",
    "where \\\\\n",
    "n &= \\text{number of random events}\\\\\n",
    "\\theta &= \\text{probability of the event x}\n",
    "\\end{align}\n",
    "\n",
    "in the scenario's context\n",
    "\n",
    "\\begin{align}\n",
    "P(D;\\theta) &= \\binom{n_H + n_T}{n_H}{\\theta^{n_H}}{(1-\\theta)}^{(n-n_H)}\\\\\n",
    "\\\\\n",
    "where \\\\\n",
    "n &= \\text{number of independent bernoulli(binary) random events}\\\\\n",
    "\\theta &= \\text{probability of heads coming up} = P(H)\n",
    "\\end{align}\n",
    "\n",
    "This translates to find a distribution $P(D|\\theta)$ which has two parameters n and $\\theta$ and it captures the distribution of n independent bernoulli random events(that generates random 0 and 1 ) such that $\\theta$ is the probability of the coin coming up with heads."
   ]
  },
  {
   "cell_type": "markdown",
   "id": "645a2177-b1a8-4815-98ed-a062a6051a8f",
   "metadata": {},
   "source": [
    "**Principle**\n",
    "\n",
    "find $\\hat{\\theta}$ to maximize the likelihood of the data, $P(D;\\theta)$:\n",
    "    \n",
    "$\\hat{\\theta}_{MLE} = {argmax\\atop{\\theta}} P(D; \\theta)$\n",
    "\n",
    "to maximize the value from a equation generally the derivative of the equation is solved while equating it to 0.\n",
    "\n",
    "two steps to solve above equation\n",
    "\n",
    "1. apply log to the function (In computer science we dont prefer multiplying probabilities due to muliple reasons(see reference section). Hence we take log and convert multiplication to addition.)\n",
    "2. calculate derivative of equation and equate it to 0."
   ]
  },
  {
   "cell_type": "markdown",
   "id": "f9b9311a-862c-44e3-b818-fc2c82b645e6",
   "metadata": {},
   "source": [
    "\\begin{align}\n",
    "\\hat{\\theta}_{MLE} &= {argmax\\atop{\\theta}} P(D; \\theta)\\\\\n",
    "                   &= {argmax\\atop{\\theta}} \\binom{n_H + n_T}{n_H}{\\theta^{n_H}}{(1-\\theta)}^{(n_T)}\\\\\n",
    "                   &= {argmax\\atop{\\theta}} \\log{[ \\binom{n_H + n_T}{n_H}{\\theta^{n_H}}{(1-\\theta)}^{(n_T)}]}\\\\\n",
    "                   &= {argmax\\atop{\\theta}} \\log{[ \\binom{n_H + n_T}{n_H} ]} + \\log{[\\theta^{n_H}]} + \\log{[(1-\\theta)^{n_T}]}\\\\\n",
    "                   &\\downarrow \\frac{\\partial}{\\partial \\theta}\\text{ calculate derivative}\\\\\n",
    "\\frac{n_H}{\\theta} + \\frac{n_T}{1 - \\theta} &= 0\\\\\n",
    "\\hat{\\theta} &= \\frac{n_H}{n_H + n_T}\\\\\n",
    "\\\\\n",
    "\\text{where } \\theta \\in [0, 1]\n",
    "\\end{align}"
   ]
  },
  {
   "cell_type": "code",
   "execution_count": 2,
   "id": "5560af94-8378-43e0-a909-4bc5931838c2",
   "metadata": {},
   "outputs": [],
   "source": [
    "np.random.seed(0)"
   ]
  },
  {
   "cell_type": "code",
   "execution_count": 3,
   "id": "f7efce3d-0cd2-4e12-8e56-8880f95cf233",
   "metadata": {},
   "outputs": [
    {
     "data": {
      "text/plain": [
       "array(['T', 'H', 'H', 'T', 'H', 'H', 'H', 'H', 'H', 'H', 'H', 'T', 'T',\n",
       "       'H', 'T', 'T', 'T', 'T', 'T', 'H', 'T', 'H', 'H', 'T', 'T', 'H',\n",
       "       'H', 'H', 'H', 'T', 'H', 'T', 'H', 'T', 'H', 'H', 'T', 'H', 'H',\n",
       "       'T', 'T', 'H', 'T', 'H', 'H', 'H', 'H', 'H', 'T', 'H'], dtype='<U1')"
      ]
     },
     "execution_count": 3,
     "metadata": {},
     "output_type": "execute_result"
    }
   ],
   "source": [
    "events = [ \"T\", \"H\" ]\n",
    "\n",
    "n_events = 50\n",
    "D = np.random.choice(events, n_events)\n",
    "\n",
    "D"
   ]
  },
  {
   "cell_type": "code",
   "execution_count": 4,
   "id": "5d19060d-d8af-4a85-bad9-82896b22bc19",
   "metadata": {},
   "outputs": [],
   "source": [
    "from scipy.stats import binom"
   ]
  },
  {
   "cell_type": "code",
   "execution_count": 5,
   "id": "084a2476-2183-408d-bf46-5d992abc805d",
   "metadata": {},
   "outputs": [
    {
     "data": {
      "text/plain": [
       "{'H': 30, 'T': 20}"
      ]
     },
     "execution_count": 5,
     "metadata": {},
     "output_type": "execute_result"
    }
   ],
   "source": [
    "n = dict(zip(*np.unique(D, return_counts=True)))\n",
    "n"
   ]
  },
  {
   "cell_type": "code",
   "execution_count": 6,
   "id": "f1e41018-e902-437d-99d6-0f36f53ec299",
   "metadata": {},
   "outputs": [
    {
     "data": {
      "text/plain": [
       "0.6"
      ]
     },
     "execution_count": 6,
     "metadata": {},
     "output_type": "execute_result"
    }
   ],
   "source": [
    "theta = n['H']/(n['H'] + n['T'])\n",
    "theta"
   ]
  },
  {
   "cell_type": "code",
   "execution_count": 7,
   "id": "ac664004-d8d4-40d7-a992-779953c6237d",
   "metadata": {},
   "outputs": [],
   "source": [
    "binom_distribution = binom(n=n_events, p=theta)"
   ]
  },
  {
   "cell_type": "code",
   "execution_count": 8,
   "id": "7ae143f4-af01-4c7a-b96f-8312a534d3be",
   "metadata": {},
   "outputs": [],
   "source": [
    "x = np.arange(binom_distribution.ppf(0.01), binom_distribution.ppf(0.99))"
   ]
  },
  {
   "cell_type": "code",
   "execution_count": 9,
   "id": "c35bdff6-5127-457f-baac-1b0c5abbed48",
   "metadata": {},
   "outputs": [
    {
     "data": {
      "image/png": "[encoded data removed]",
      "text/plain": [
       "<Figure size 720x360 with 2 Axes>"
      ]
     },
     "metadata": {
      "needs_background": "light"
     },
     "output_type": "display_data"
    }
   ],
   "source": [
    "fig, ax = plt.subplots(1, 2, figsize=(10, 5))\n",
    "\n",
    "ax[0].plot(x, binom_distribution.pmf(x), 'ko', label='pmf')\n",
    "# ax[0].plot(x, binom_distribution.cdf(x), '--', label='cdf')\n",
    "ax[0].vlines(x, 0, binom_distribution.pmf(x), colors='b', lw=5, alpha=0.5)\n",
    "ax[0].legend()\n",
    "\n",
    "ax[1].hist(binom_distribution.rvs(1000), label='rvs', edgecolor='white', bins=10, density=False)\n",
    "ax[1].legend()\n",
    "\n",
    "plt.show()"
   ]
  },
  {
   "cell_type": "markdown",
   "id": "931b49a0-a15e-4e51-a1eb-7b5f639ab556",
   "metadata": {},
   "source": [
    "Likelihood of getting 56 heads in 100 coin toss trials have the highest probability with 56% success rate. Hence the above plot represents maximum likelihood estimation of getting a head(success event) out of 100 trials with success rate of 56%, number of successes on x axis and probability of success on y axis."
   ]
  },
  {
   "cell_type": "code",
   "execution_count": 10,
   "id": "332a50cf-53bd-4db2-a6c6-dc19ba09cac0",
   "metadata": {},
   "outputs": [
    {
     "data": {
      "text/plain": [
       "0.6"
      ]
     },
     "execution_count": 10,
     "metadata": {},
     "output_type": "execute_result"
    }
   ],
   "source": [
    "theta"
   ]
  },
  {
   "cell_type": "markdown",
   "id": "a73eed01-f6b5-422c-a1b4-dc8dc2b00206",
   "metadata": {},
   "source": [
    "This could be unreasonable, when\n",
    "\n",
    "1. we only have heads, less number of observations(less data)\n",
    "2. easily can overfit if data is not enough"
   ]
  },
  {
   "cell_type": "markdown",
   "id": "0d9f0a45-481c-4401-9b83-aeae5611143a",
   "metadata": {},
   "source": [
    "**Scenario** coin toss with prior knowledge\n",
    "\n",
    "Lets assume we already know that the $\\theta$ should be close to 0.5, and the size of sample is small.\n",
    "\n",
    "To fix the results we can\n",
    "\n",
    "\\begin{align*}\n",
    "\\hat{\\theta} &= \\frac{n_H + m}{n_H + n_T + 2m}\n",
    "\\end{align*}"
   ]
  },
  {
   "cell_type": "markdown",
   "id": "43cef7f0-dd85-4e23-aee6-19ddf65a791d",
   "metadata": {},
   "source": [
    "m = number of heads/tails to the data, as prior belief, that these are pseudo trials already done and obsevations are added directly."
   ]
  },
  {
   "cell_type": "code",
   "execution_count": 11,
   "id": "9c3aee40-912f-486c-8e53-c8adeb0b920e",
   "metadata": {},
   "outputs": [
    {
     "name": "stdout",
     "output_type": "stream",
     "text": [
      "m : 0  theta : 0.6\n",
      "m : 10  theta : 0.5714285714285714\n",
      "m : 20  theta : 0.5555555555555556\n",
      "m : 30  theta : 0.5454545454545454\n",
      "m : 40  theta : 0.5384615384615384\n",
      "m : 50  theta : 0.5333333333333333\n",
      "m : 60  theta : 0.5294117647058824\n",
      "m : 70  theta : 0.5263157894736842\n",
      "m : 80  theta : 0.5238095238095238\n",
      "m : 90  theta : 0.5217391304347826\n",
      "m : 100  theta : 0.52\n"
     ]
    }
   ],
   "source": [
    "for m in range(0, 101, 10):\n",
    "    theta = (n['H'] + m)/(n['H'] + n['T'] + 2*m)\n",
    "    print(\"m :\", m, \" theta :\", theta)"
   ]
  },
  {
   "cell_type": "markdown",
   "id": "50e77b1c-afc8-4667-a508-9de94f9734df",
   "metadata": {},
   "source": [
    "if n is too large, then this change will be insignificant but for smaller n it will drive the results closer to our hunch. It is called smoothing. We will derive formally in next topics."
   ]
  },
  {
   "cell_type": "markdown",
   "id": "c6e53c49-8d7b-42f6-941b-57a9250efeb8",
   "metadata": {},
   "source": [
    "## Naive Bayes\n",
    "\n",
    "\\begin{align}\n",
    "P(Y=y | X=x) &= \\frac{P(X=x | Y=y) P(Y=y)}{P(X=x)}\\\\\n",
    "\\\\\n",
    "&\\text{Where } \\\\\n",
    "P(X=x | Y=y) &= \\prod_{\\alpha=1}^{d} P([X]_\\alpha = x_\\alpha| Y = y)\n",
    "\\end{align}\n",
    "\n",
    "\n",
    "- Naively assumes that all the features used are independently distrubuted variables given the label Y.\n",
    "- for example given that there is an email where all the words are independent given the label spam/ham."
   ]
  },
  {
   "cell_type": "markdown",
   "id": "ca71e812-dfed-4cac-989b-5b0e6a91640a",
   "metadata": {},
   "source": [
    "## Bayes Classifier\n",
    "\n",
    "\\begin{align*}\n",
    "h(\\vec{x}) &= {argmax\\atop{y}} \\frac{P(\\vec{x} | y) P(y)}{z}\\\\\n",
    "\\\\\n",
    "&= {argmax\\atop{y}} P(y) \\prod_{\\alpha} P([\\vec{X}]_\\alpha | y)\\\\\n",
    "\\\\\n",
    "&= {argmax\\atop{y}} ( log(P(y) + \\sum_\\alpha log P([\\vec{X}]_\\alpha | y))\n",
    "\\end{align*}\n",
    "\n",
    "\n",
    "P.S. - In computer science we dont prefer multiplying probabilities due to muliple reasons(see reference section). Hence we take log and convert multiplication to addition."
   ]
  },
  {
   "cell_type": "markdown",
   "id": "7c923c65-8660-4bfc-9c93-2c5f716970a5",
   "metadata": {},
   "source": [
    "## The Bayesian Way\n",
    "\n",
    "In bayesian statistics we can consider $\\theta$ is a random variable, drawn from $P(\\theta)$, and IT IS NOT ASSOCIATED WITH AN EVENT FROM SAMPLE SPACE. We can't do that in frequentist statistics. Hence in bayesian statistics we are allowed to have prior belief about $\\theta$.\n",
    "\n",
    "From Bayes rule we can look at \n",
    "\n",
    "\\begin{align*}\n",
    "& P(\\theta | D) = \\frac{P(D | \\theta)p(\\theta)}{p(D)}\\\\\n",
    "\\end{align*}\n",
    "\n",
    "where\n",
    "\n",
    "$P(\\theta)$ is the **prior** knowledge, prior distribution over the parameter $\\theta$, before we see any data.\n",
    "\n",
    "$P(D | \\theta)$ is the **likelihood** of the data given the parameter $\\theta$.\n",
    "\n",
    "$P(\\theta | D)$ is the **posterior** distribution over the parameter $\\theta$, **after** we have observed the data.\n",
    "\n",
    "\n",
    "\\begin{align*}\n",
    "P(\\theta) &= \\frac{\\theta^{\\alpha - 1} (1 - \\theta)^{\\beta - 1}}{B(\\alpha, \\beta)}\\\\\n",
    "\\\\\n",
    "P(\\theta | D) &\\propto P(D | \\theta) P(\\theta)\\\\\n",
    "P(\\theta | D) &\\propto \\binom{n_H + n_T}{n_H} \\theta^{n_H} (1 - \\theta)^{n_T} \\theta^{\\alpha - 1} ( 1 - \\theta)^{\\beta - 1}\n",
    "\\end{align*}"
   ]
  },
  {
   "cell_type": "markdown",
   "id": "e797d8a8-3811-4ce6-9253-dce8161293fd",
   "metadata": {
    "tags": []
   },
   "source": [
    "## Maximum A Posteriori Probability Estimation(MAP)\n",
    "\n",
    "MAP Principle : find $\\hat{\\theta}$ that maximinzes the posterior distribution $P(\\theta | D)$\n",
    "\n",
    "\\begin{align*}\n",
    "\\hat{\\theta} &= {argmax\\atop{\\theta}} P(\\theta | D)\\\\\n",
    "\\hat{\\theta} &= {argmax\\atop{\\theta}} \\binom{n_H + n_T}{n_H} \\theta^{n_H} (1 - \\theta)^{n_T} \\theta^{\\alpha - 1} ( 1 - \\theta)^{\\beta - 1}\\\\\n",
    "             &\\downarrow \\text{ apply log and }\\frac{\\partial}{\\partial \\theta}\\\\\n",
    "             &= {argmax\\atop{\\theta}} n_H \\log(\\theta) + n_T \\log(1 - \\theta) + (\\alpha - 1) \\log(\\theta) + (\\beta - 1) \\log(1 - \\theta) \\\\\n",
    "             &=\\frac{n_H + \\alpha - 1}{n_H + n_T + (\\alpha - 1) + (\\beta - 1)}\n",
    "\\end{align*}\n",
    "\n",
    "\n",
    "Please Note -\n",
    "\n",
    "- MLE and MAP are identical with $\\alpha - 1$ hallucinated heads and $\\beta - 1$ hallucinated tails, that translates to our prior beiefs\n",
    "- if n is really large then MAP becomes MLE, $\\alpha - 1$ and $\\beta - 1$ become irrelevant compared to large $n_H$ and $n_T$\n",
    "- MAP can be a really great esitmator if tf prior belief is available and accurate\n",
    "- if n is small, then MAP can be wrong if prior belief is not accurate.\n",
    "- in essence $\\alpha - 1$ and $\\beta - 1$ are corrections based on prior expertise/ belief/ knowledge in the results of probabiliy estimation if n is small. these corrections are based on situational assumptions and can be wrong if assumptions do not match."
   ]
  },
  {
   "cell_type": "markdown",
   "id": "686c56aa-2c6f-4f1b-86af-e078141d73fe",
   "metadata": {},
   "source": [
    "## Bayesian Statisics vs Frequentist Statisitcs\n"
   ]
  },
  {
   "cell_type": "markdown",
   "id": "121b4ab6-c541-4632-9dd3-662da40bfc7d",
   "metadata": {},
   "source": [
    "\\begin{array} { |c|c| } \n",
    "    \\hline\n",
    "    Bayesian & Frequentist \\\\\n",
    "    \\hline\\hline\n",
    "    MAP & MLE \\\\\n",
    "    P(D | \\theta) & P(D ; \\theta) \\\\\n",
    "    \\text{allows }\\theta\\text{ to be a random variable } & \\text{ doesn't allow }\\theta\\text{ to be a random variable in fact }\\theta\\text{ is purely a model parameter} \\\\\n",
    "    \\hline\n",
    "\\end{array}"
   ]
  },
  {
   "cell_type": "markdown",
   "id": "763de8da-4bc6-4fe7-9718-3dd5620b0fe6",
   "metadata": {},
   "source": [
    "## Connecting this to ML\n",
    "\n",
    "\n",
    "In supervised ML we are provided with data D, we train the model with its parameters $\\theta$, this model is used to generate predictions for $x_t$\n",
    "\n",
    "\n",
    "**MLE** : $P(y|x_t ; \\theta) \\rightarrow \\text{ Learning }\\theta = argmax_{\\theta} P(D; \\theta)$, $\\theta$ is purely a model parameter.\n",
    "\n",
    "**MAP** : $P(y|x_t ; \\theta) \\rightarrow \\text{ Learning }\\theta = argmax_{\\theta} P(\\theta | D) \\propto P(D | \\theta)P(\\theta)$, Here $\\theta$ is a random variable.\n",
    "\n",
    "**True Bayesian Approach** : $P(y|X=x_t) = \\int_{0}^{\\theta} P(y| \\theta) p(\\theta | D) d\\theta$ , our prediction takes all possible models into account."
   ]
  }
 ],
 "metadata": {
  "kernelspec": {
   "display_name": "py39",
   "language": "python",
   "name": "py39"
  },
  "language_info": {
   "codemirror_mode": {
    "name": "ipython",
    "version": 3
   },
   "file_extension": ".py",
   "mimetype": "text/x-python",
   "name": "python",
   "nbconvert_exporter": "python",
   "pygments_lexer": "ipython3",
   "version": "3.9.1"
  }
 },
 "nbformat": 4,
 "nbformat_minor": 5
}
