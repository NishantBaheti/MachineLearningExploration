{
 "cells": [
  {
   "cell_type": "markdown",
   "id": "4da9e41a-897b-4321-9e7c-e77c1e1ee531",
   "metadata": {},
   "source": [
    "# Probabilities Estimation"
   ]
  },
  {
   "cell_type": "markdown",
   "id": "75c79c03-0c68-4a20-9927-f2007ceac841",
   "metadata": {},
   "source": [
    "`WIP`"
   ]
  },
  {
   "cell_type": "markdown",
   "id": "645f4252-f90a-499d-95b0-5927dd6b8b41",
   "metadata": {},
   "source": [
    "## References\n",
    "\n",
    "- https://www.cs.cornell.edu/courses/cs4780/2018fa/lectures/lecturenote04.html\n",
    "- https://en.wikipedia.org/wiki/Bayes%27_theorem\n",
    "- https://www.cs.cornell.edu/courses/cs4780/2018fa/lectures/lecturenote05.html"
   ]
  },
  {
   "cell_type": "markdown",
   "id": "e2d1eb81-8403-4f2f-ab21-1981124927eb",
   "metadata": {},
   "source": [
    "## Intro\n",
    "\n",
    "P(X, Y) distribution P of data X & Y.\n",
    "\n",
    "* When we estimate P(X, Y) = P(X|Y) P(Y) = P(Y|X) P(X), called **Generative Learning**.\n",
    "* When we only estimate P(Y|X) directly, called **Discriminative Learning**."
   ]
  },
  {
   "cell_type": "markdown",
   "id": "edaffdbe-4bd7-4af3-baa7-19140ff2b4e8",
   "metadata": {},
   "source": [
    "## Maximum Likelihood Estimation(MLE)\n",
    "\n",
    "## Maximum A Posteriori Probability Estimation(MAP)"
   ]
  },
  {
   "cell_type": "markdown",
   "id": "f28dccec-f58e-4c4b-b1ad-10b611e4eef0",
   "metadata": {},
   "source": [
    "## Naive Bayes"
   ]
  },
  {
   "cell_type": "markdown",
   "id": "1ac7e3cb-42f3-45d8-b8b1-9f7ae48101f9",
   "metadata": {},
   "source": [
    "\\begin{align}\n",
    "    P(Y=y | X=x) &= \\frac{P(X=x | Y=y) P(Y=y)}{P(X=x)}\\\\\n",
    "    \\\\\n",
    "    &\\text{Where } \\\\\n",
    "    P(X=x | Y=y) &= \\prod_{\\alpha=1}^{d} P([X]_\\alpha = x_\\alpha| Y = y)\n",
    "\\end{align}\n",
    "\n",
    "\n",
    "- Naively assumes that all the features used are independently distrubuted variables given the label Y.\n",
    "- for example given that there is an email where all the words are independent given the label spam/ham."
   ]
  },
  {
   "cell_type": "markdown",
   "id": "5fcb0628-6d9b-46d4-a698-e5e1ad807f41",
   "metadata": {},
   "source": [
    "## Bayes Classifier\n",
    "\n"
   ]
  }
 ],
 "metadata": {
  "kernelspec": {
   "display_name": "py39",
   "language": "python",
   "name": "py39"
  },
  "language_info": {
   "codemirror_mode": {
    "name": "ipython",
    "version": 3
   },
   "file_extension": ".py",
   "mimetype": "text/x-python",
   "name": "python",
   "nbconvert_exporter": "python",
   "pygments_lexer": "ipython3",
   "version": "3.9.1"
  }
 },
 "nbformat": 4,
 "nbformat_minor": 5
}
