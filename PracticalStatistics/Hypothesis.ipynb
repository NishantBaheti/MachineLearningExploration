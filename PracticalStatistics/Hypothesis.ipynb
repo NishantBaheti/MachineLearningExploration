{
 "cells": [
  {
   "cell_type": "markdown",
   "metadata": {},
   "source": [
    "# Experiments & Testing "
   ]
  },
  {
   "cell_type": "code",
   "execution_count": 1,
   "metadata": {},
   "outputs": [],
   "source": [
    "import numpy as np\n",
    "import pandas as pd \n",
    "import matplotlib.pyplot as plt\n",
    "import seaborn as sns"
   ]
  },
  {
   "cell_type": "markdown",
   "metadata": {},
   "source": [
    "                       Start\n",
    "                         |\n",
    "                         v\n",
    "                Formulate Hypothesises\n",
    "                         |\n",
    "                         v\n",
    "      Formulate analysis plan and Design Experiment \n",
    "                         |\n",
    "                         v\n",
    "                    Analyze data \n",
    "                         |\n",
    "                         v\n",
    "                 Interpret Results \n",
    "                         |\n",
    "                         v\n",
    "                        End "
   ]
  },
  {
   "cell_type": "markdown",
   "metadata": {},
   "source": [
    "## A/B test"
   ]
  },
  {
   "cell_type": "markdown",
   "metadata": {},
   "source": [
    "**Treatment** activity in which drug, price, etc. exposed to a subject.\n",
    "\n",
    "**Subjects** participants in treatment.\n",
    "\n",
    "**Treatment Group** group of subjects exposed to treatment. \n",
    "\n",
    "**Control Group** group of subjects not exposed to treatment.\n",
    "\n",
    "**Randomization** randomly selecting subjects to put in groups.\n",
    "\n",
    "**test statistics** the metric used to measure the effect of the treatment."
   ]
  },
  {
   "cell_type": "markdown",
   "metadata": {},
   "source": [
    "In A/B test an experiment is established, two groups for a treatment, one group will follow up on existing/standard treatment or no treatment called **Control group**, and the other one will follow up on new treatment called **Treatment Group**"
   ]
  },
  {
   "cell_type": "markdown",
   "metadata": {},
   "source": [
    "Generally the difference between the groups\n",
    "\n",
    "* The effect of the different treatments.\n",
    "* because of randomness, by luck subjects are assigned to which group for results to perform better.(or better performing subjects concentrated in A or B)"
   ]
  },
  {
   "cell_type": "markdown",
   "metadata": {},
   "source": [
    "So now what *test statistics* or metrics to compare groups A or B. Most common is binary.(buy or not-buy, click or not-clicked, fraud or no-fraud)\n",
    "\n",
    "I am gonna take a very non-medical example to understand this. So there are two advertisements(types of ads) on a website and we are trying to test with group of people, randomly 90 people selected for ad A and randomly 90 people selected for ad B , whether they will click or not click on the ad.\n",
    "\n",
    "so we have this kind of metrics as result of the experiment.\n",
    "    \n",
    "                 |   \n",
    "        Outcome  |   Advert A     Advert B\n",
    "        _________|__________________________\n",
    "        click    |\n",
    "                 |\n",
    "        no-click |\n",
    "        "
   ]
  },
  {
   "cell_type": "code",
   "execution_count": 2,
   "metadata": {},
   "outputs": [],
   "source": [
    "actions = np.array(['no-click','click'])"
   ]
  },
  {
   "cell_type": "code",
   "execution_count": 3,
   "metadata": {},
   "outputs": [
    {
     "data": {
      "text/html": [
       "<div>\n",
       "<style scoped>\n",
       "    .dataframe tbody tr th:only-of-type {\n",
       "        vertical-align: middle;\n",
       "    }\n",
       "\n",
       "    .dataframe tbody tr th {\n",
       "        vertical-align: top;\n",
       "    }\n",
       "\n",
       "    .dataframe thead th {\n",
       "        text-align: right;\n",
       "    }\n",
       "</style>\n",
       "<table border=\"1\" class=\"dataframe\">\n",
       "  <thead>\n",
       "    <tr style=\"text-align: right;\">\n",
       "      <th></th>\n",
       "      <th>Advert A</th>\n",
       "      <th>Advert B</th>\n",
       "    </tr>\n",
       "  </thead>\n",
       "  <tbody>\n",
       "    <tr>\n",
       "      <th>0</th>\n",
       "      <td>click</td>\n",
       "      <td>click</td>\n",
       "    </tr>\n",
       "    <tr>\n",
       "      <th>1</th>\n",
       "      <td>click</td>\n",
       "      <td>click</td>\n",
       "    </tr>\n",
       "    <tr>\n",
       "      <th>2</th>\n",
       "      <td>click</td>\n",
       "      <td>no-click</td>\n",
       "    </tr>\n",
       "    <tr>\n",
       "      <th>3</th>\n",
       "      <td>click</td>\n",
       "      <td>click</td>\n",
       "    </tr>\n",
       "    <tr>\n",
       "      <th>4</th>\n",
       "      <td>click</td>\n",
       "      <td>click</td>\n",
       "    </tr>\n",
       "  </tbody>\n",
       "</table>\n",
       "</div>"
      ],
      "text/plain": [
       "  Advert A  Advert B\n",
       "0    click     click\n",
       "1    click     click\n",
       "2    click  no-click\n",
       "3    click     click\n",
       "4    click     click"
      ]
     },
     "execution_count": 3,
     "metadata": {},
     "output_type": "execute_result"
    }
   ],
   "source": [
    "np.random.seed(0)\n",
    "\n",
    "group_A = np.random.choice(actions,size=90, p=[0.4,0.6]) # have to give some bias to generate some sided choices\n",
    "group_B = np.random.choice(actions,size=90, p=[0.2,0.8])\n",
    "\n",
    "df = pd.DataFrame()\n",
    "df['Advert A'] = group_A\n",
    "df['Advert B'] = group_B\n",
    "\n",
    "df.head()"
   ]
  },
  {
   "cell_type": "code",
   "execution_count": 4,
   "metadata": {},
   "outputs": [
    {
     "data": {
      "text/html": [
       "<div>\n",
       "<style scoped>\n",
       "    .dataframe tbody tr th:only-of-type {\n",
       "        vertical-align: middle;\n",
       "    }\n",
       "\n",
       "    .dataframe tbody tr th {\n",
       "        vertical-align: top;\n",
       "    }\n",
       "\n",
       "    .dataframe thead th {\n",
       "        text-align: right;\n",
       "    }\n",
       "</style>\n",
       "<table border=\"1\" class=\"dataframe\">\n",
       "  <thead>\n",
       "    <tr style=\"text-align: right;\">\n",
       "      <th></th>\n",
       "      <th>Advert A</th>\n",
       "      <th>Advert B</th>\n",
       "    </tr>\n",
       "  </thead>\n",
       "  <tbody>\n",
       "    <tr>\n",
       "      <th>click</th>\n",
       "      <td>55</td>\n",
       "      <td>73</td>\n",
       "    </tr>\n",
       "    <tr>\n",
       "      <th>no-click</th>\n",
       "      <td>35</td>\n",
       "      <td>17</td>\n",
       "    </tr>\n",
       "  </tbody>\n",
       "</table>\n",
       "</div>"
      ],
      "text/plain": [
       "          Advert A  Advert B\n",
       "click           55        73\n",
       "no-click        35        17"
      ]
     },
     "execution_count": 4,
     "metadata": {},
     "output_type": "execute_result"
    }
   ],
   "source": [
    "result_df = pd.DataFrame()\n",
    "\n",
    "result_df['Advert A'] = df['Advert A'].value_counts()\n",
    "result_df['Advert B'] = df['Advert B'].value_counts()\n",
    "\n",
    "result_df"
   ]
  },
  {
   "cell_type": "code",
   "execution_count": 5,
   "metadata": {},
   "outputs": [
    {
     "data": {
      "image/png": "[encoded data removed]",
      "text/plain": [
       "<Figure size 720x360 with 2 Axes>"
      ]
     },
     "metadata": {
      "needs_background": "light"
     },
     "output_type": "display_data"
    }
   ],
   "source": [
    "fig, ax = plt.subplots(1,2,figsize=(10,5))\n",
    "\n",
    "ax[0].hist(df['Advert A'],color='g')\n",
    "ax[0].set_title('Advert A')\n",
    "ax[0].set_ylim((0,90))\n",
    "\n",
    "ax[1].hist(df['Advert B'],color='c')\n",
    "ax[1].set_title('Advert B')\n",
    "ax[1].set_ylim((0,90))\n",
    "\n",
    "plt.show()"
   ]
  },
  {
   "cell_type": "markdown",
   "metadata": {},
   "source": [
    "`normally as a data scientist the question I have in my mind while using A/B testing that\n",
    "which ad performed better?` "
   ]
  },
  {
   "cell_type": "markdown",
   "metadata": {},
   "source": [
    "## Hypothesis Test/ Significance Test\n",
    "\n",
    "**The purpose is to learn whether random chance might be responsible for an observed effect**"
   ]
  },
  {
   "cell_type": "markdown",
   "metadata": {},
   "source": [
    "### Null Hypothesis ($H_0$)\n",
    "\n",
    "- The hypothesis that chance is to blame.\n",
    "- To check whether claim is applicable or not \n",
    "- States that there is no significant difference between a set of a variable \n",
    "- in simple words everything is same or equal\n",
    "\n",
    "\n",
    "By why do we need this? So lets say for A/B tseting we have randomly selected people for control and treatment group. After introducing randomness in the experiment it is okay to assume that any similarity in the groups is completely by chance. But to idenitify this similarity between groups we need a baseline assumption that there is a similarity/ equivalency to be measured. This baseline assumption is Null hypothesis(eg. both of the groups have equal mean height.$\\mu_1 = \\mu_2$). And to clarify that there is no similarity Null Hypothesis has to be rejected with test statisitcs."
   ]
  },
  {
   "cell_type": "markdown",
   "metadata": {},
   "source": [
    "### Alternate Hypothesis ($H_1$ / $H_a$)\n",
    "- to challenge currently accepted state of knowledge\n",
    "- more precisely states that there is a significant difference between a set of a variable\n",
    "- counterpoint to the null hypothesis.\n",
    "\n",
    "\n",
    "`Null Hypothesis and Alternate Hypothesis are mutually exclusive`"
   ]
  },
  {
   "cell_type": "markdown",
   "metadata": {},
   "source": [
    "###  Steps for Hypothesis Testing  \n",
    "- Define Hypothesis H0,Ha\n",
    "- Select test statistics whose probability distribution function can be found under the Null Hypothesis\n",
    "- Collect data \n",
    "- Compute test statistics and calculate p-value under null hypothesis\n",
    "- Reject Null Hyppthsis if p-value is lower then predetermined significance value"
   ]
  },
  {
   "cell_type": "markdown",
   "metadata": {},
   "source": [
    "## Types of tests\n",
    "\n",
    "| Type of test | Description |\n",
    "|-|-|\n",
    "| One tailed/ One way | Region of rejection is only on one side of sampling distribution |\n",
    "| Two tailed/ Two way | Region of rejection is on both sides of sampling distribution |"
   ]
  },
  {
   "cell_type": "markdown",
   "metadata": {},
   "source": [
    "## Resampling\n",
    "\n",
    "Repeatedly sampling values from the observed data, with a general goal of assessing random variability in a statistic. It is used to improve machine learning models accuracy.\n",
    "\n",
    "There are two types of resampling processes\n",
    "1. bootstrap\n",
    "1. permutation tests"
   ]
  },
  {
   "cell_type": "markdown",
   "metadata": {},
   "source": [
    "### Permutation Tests\n",
    "\n",
    "**permute** => to change the order of a set of values.\n",
    "\n",
    "The first step in a permutation test of the hypothesis is to combine the results from groups A and B. \n",
    "This is an idea of the null hypthosis that the treatments to which the groups were exposed do not differ. Then we draw up resample groups from the combined set and do the tests, and then see how much they differ.\n",
    "\n",
    "> Permutation test include without replacement resampling\n",
    "\n",
    "#### Process\n",
    "1. Combine the results from the different groups\n",
    "1. Shuffle, then random draw without replacement resample of the same size a group A.\n",
    "1. From remaining data, randomly draw without replacement resample of the same size a group B.\n",
    "1. Do the same for rest if the groups involved in initial combination.\n",
    "1. Calculate the same statistic calculated for original sample, calculate it for new samples, record it. here we have completed one permutation iteration.\n",
    "1. Repeat above steps R times, to yield a permutation distribution.\n",
    "\n",
    "\n",
    "- Now we have 2 types of entities\n",
    "    - observed difference\n",
    "    - permutation differences\n",
    "\n",
    "\n",
    "- 2 scenarios\n",
    "    - observed differences are within the set of permutation differences. then conclusion is observed difference is within the range what chance(permutation) would produce.\n",
    "    - observed differences are outside most of the permutation differences then we conclude that random chance is not possible and difference is statistically significant.\n",
    "    \n",
    "This **statistically significant** term comes around very often, so what does it represents as mean of these words are very simple to interpret."
   ]
  },
  {
   "cell_type": "code",
   "execution_count": 88,
   "metadata": {},
   "outputs": [
    {
     "data": {
      "text/plain": [
       "(array([182,  57, 127, 202, 261, 205,  19, 221, 287, 252,  97,  80,  98,\n",
       "        203,  49]),\n",
       " array([102, 189, 103, 180,  40,  87, 280, 130, 258, 212, 114, 192, 258,\n",
       "        162, 162, 280, 200, 142,  47,  46, 217]))"
      ]
     },
     "execution_count": 88,
     "metadata": {},
     "output_type": "execute_result"
    }
   ],
   "source": [
    "np.random.seed(0)\n",
    "\n",
    "A_size = 15\n",
    "B_size = 21\n",
    "total_size = A_size + B_size\n",
    "A = np.random.randint(low=10, high=300, size=(A_size,))\n",
    "B = np.random.randint(low=15, high=300, size=(B_size,))\n",
    "\n",
    "A, B"
   ]
  },
  {
   "cell_type": "code",
   "execution_count": 89,
   "metadata": {},
   "outputs": [
    {
     "data": {
      "image/png": "[encoded data removed]",
      "text/plain": [
       "<Figure size 504x504 with 1 Axes>"
      ]
     },
     "metadata": {
      "needs_background": "light"
     },
     "output_type": "display_data"
    }
   ],
   "source": [
    "fig, ax = plt.subplots(1,1,figsize=(7,7))\n",
    "ax.boxplot(\n",
    "    x=[A,B], \n",
    "    vert=False, \n",
    "    labels=['Page A','Page B']\n",
    ")\n",
    "ax.set_xlabel(\"time in seconds\")\n",
    "ax.grid()\n",
    "plt.show()"
   ]
  },
  {
   "cell_type": "code",
   "execution_count": 161,
   "metadata": {},
   "outputs": [
    {
     "data": {
      "text/plain": [
       "5.952380952380963"
      ]
     },
     "execution_count": 161,
     "metadata": {},
     "output_type": "execute_result"
    }
   ],
   "source": [
    "B.mean() - A.mean()"
   ]
  },
  {
   "cell_type": "code",
   "execution_count": 156,
   "metadata": {},
   "outputs": [
    {
     "data": {
      "text/plain": [
       "array([182,  57, 127, 202, 261, 205,  19, 221, 287, 252,  97,  80,  98,\n",
       "       203,  49, 102, 189, 103, 180,  40,  87, 280, 130, 258, 212, 114,\n",
       "       192, 258, 162, 162, 280, 200, 142,  47,  46, 217])"
      ]
     },
     "execution_count": 156,
     "metadata": {},
     "output_type": "execute_result"
    }
   ],
   "source": [
    "combines = np.hstack((A,B))\n",
    "combines"
   ]
  },
  {
   "cell_type": "code",
   "execution_count": 172,
   "metadata": {},
   "outputs": [],
   "source": [
    "statistics = []\n",
    "R = 1000\n",
    "for i in range(R):\n",
    "    A_resample = np.random.choice(combines,size=A_size,replace=False)\n",
    "    B_resample = np.array([i for i in combines if i not in A_resample])\n",
    "\n",
    "    statistics.append(B_resample.mean() - A_resample.mean())"
   ]
  },
  {
   "cell_type": "code",
   "execution_count": 185,
   "metadata": {},
   "outputs": [
    {
     "data": {
      "image/png": "[encoded data removed]",
      "text/plain": [
       "<Figure size 432x288 with 1 Axes>"
      ]
     },
     "metadata": {
      "needs_background": "light"
     },
     "output_type": "display_data"
    }
   ],
   "source": [
    "fig, ax = plt.subplots(1,1)\n",
    "ax.axvline(B.mean() - A.mean(), color='k', label='Observed difference')\n",
    "ax.hist(statistics,alpha=0.7, label='permutation diff distribution')\n",
    "\n",
    "ax.legend()\n",
    "plt.show()"
   ]
  },
  {
   "cell_type": "markdown",
   "metadata": {},
   "source": [
    "So the Observed Difference is within the range of chance variations, thus is **`not statistically significant`**."
   ]
  },
  {
   "cell_type": "markdown",
   "metadata": {},
   "source": [
    "### Bootstrap\n",
    "\n",
    "Resampling with relacement.\n",
    "\n",
    "#### Process\n",
    "1. Combine the results from the different groups\n",
    "1. Shuffle, then random draw with replacement resample of the same size a group A.\n",
    "1. From remaining data, randomly draw with replacement resample of the same size a group B.\n",
    "1. Do the same for rest if the groups involved in initial combination.\n",
    "1. Calculate the same statistic calculated for original sample, calculate it for new samples, record it. here we have completed one permutation iteration.\n",
    "1. Repeat above steps R times, to yield a permutation distribution.\n"
   ]
  },
  {
   "cell_type": "code",
   "execution_count": 186,
   "metadata": {},
   "outputs": [
    {
     "data": {
      "text/plain": [
       "(array([182,  57, 127, 202, 261, 205,  19, 221, 287, 252,  97,  80,  98,\n",
       "        203,  49]),\n",
       " array([102, 189, 103, 180,  40,  87, 280, 130, 258, 212, 114, 192, 258,\n",
       "        162, 162, 280, 200, 142,  47,  46, 217]))"
      ]
     },
     "execution_count": 186,
     "metadata": {},
     "output_type": "execute_result"
    }
   ],
   "source": [
    "np.random.seed(0)\n",
    "\n",
    "A_size = 15\n",
    "B_size = 21\n",
    "total_size = A_size + B_size\n",
    "A = np.random.randint(low=10, high=300, size=(A_size,))\n",
    "B = np.random.randint(low=15, high=300, size=(B_size,))\n",
    "\n",
    "A, B"
   ]
  },
  {
   "cell_type": "code",
   "execution_count": 187,
   "metadata": {},
   "outputs": [
    {
     "data": {
      "image/png": "[encoded data removed]",
      "text/plain": [
       "<Figure size 504x504 with 1 Axes>"
      ]
     },
     "metadata": {
      "needs_background": "light"
     },
     "output_type": "display_data"
    }
   ],
   "source": [
    "fig, ax = plt.subplots(1,1,figsize=(7,7))\n",
    "ax.boxplot(\n",
    "    x=[A,B], \n",
    "    vert=False, \n",
    "    labels=['Page A','Page B']\n",
    ")\n",
    "ax.set_xlabel(\"time in seconds\")\n",
    "ax.grid()\n",
    "plt.show()"
   ]
  },
  {
   "cell_type": "code",
   "execution_count": 188,
   "metadata": {},
   "outputs": [
    {
     "data": {
      "text/plain": [
       "5.952380952380963"
      ]
     },
     "execution_count": 188,
     "metadata": {},
     "output_type": "execute_result"
    }
   ],
   "source": [
    "B.mean() - A.mean()"
   ]
  },
  {
   "cell_type": "code",
   "execution_count": 189,
   "metadata": {},
   "outputs": [
    {
     "data": {
      "text/plain": [
       "array([182,  57, 127, 202, 261, 205,  19, 221, 287, 252,  97,  80,  98,\n",
       "       203,  49, 102, 189, 103, 180,  40,  87, 280, 130, 258, 212, 114,\n",
       "       192, 258, 162, 162, 280, 200, 142,  47,  46, 217])"
      ]
     },
     "execution_count": 189,
     "metadata": {},
     "output_type": "execute_result"
    }
   ],
   "source": [
    "combines = np.hstack((A,B))\n",
    "combines"
   ]
  },
  {
   "cell_type": "code",
   "execution_count": 190,
   "metadata": {},
   "outputs": [],
   "source": [
    "statistics = []\n",
    "R = 1000\n",
    "for i in range(R):\n",
    "    A_resample = np.random.choice(combines,size=A_size,replace=True)\n",
    "    B_resample = np.random.choice(combines,size=B_size,replace=True)\n",
    "\n",
    "    statistics.append(B_resample.mean() - A_resample.mean())"
   ]
  },
  {
   "cell_type": "code",
   "execution_count": 191,
   "metadata": {},
   "outputs": [
    {
     "data": {
      "image/png": "[encoded data removed]",
      "text/plain": [
       "<Figure size 432x288 with 1 Axes>"
      ]
     },
     "metadata": {
      "needs_background": "light"
     },
     "output_type": "display_data"
    }
   ],
   "source": [
    "fig, ax = plt.subplots(1,1)\n",
    "ax.axvline(B.mean() - A.mean(), color='k', label='Observed difference')\n",
    "ax.hist(statistics,alpha=0.7, label='permutation diff distribution')\n",
    "\n",
    "ax.legend()\n",
    "plt.show()"
   ]
  },
  {
   "cell_type": "markdown",
   "metadata": {},
   "source": [
    "So the Observed Difference is within the range of chance variations, thus is **`not statistically significant`**."
   ]
  },
  {
   "cell_type": "markdown",
   "metadata": {},
   "source": [
    "## Statisitcal Significance\n",
    "\n",
    "This is the point where we'll understanding this topic.\n",
    "Statisitians needs to measure results of an experiment, for that it is required to check whether results of the experiments are more extreme than a random chance might provide. If the result is outside the limits of chance variation then it is said to be `statisitcally significant`"
   ]
  },
  {
   "cell_type": "markdown",
   "metadata": {},
   "source": [
    "### Decision rules \n",
    "- p-value\n",
    "- region of acceptance "
   ]
  },
  {
   "cell_type": "markdown",
   "metadata": {},
   "source": [
    "### P Value\n",
    "\n",
    "- measure of test statistics significance for that `null hypothesis` is true.\n",
    "- like p-value is the probability of observing another mean value that is at least as extreme as the value found from the sample data.(still not clear to me)\n",
    "- this should mean a test is done for proof of hypothesis, results are observed that if p_value is greater than the significance level( similar observations) then Null Hypothesis is accepted else rejected (not similar observations).\n",
    "\n",
    "\n",
    "| The P-value interpretation table ||\n",
    "|-|-|\n",
    "| Less than 0.01 | strong evidence against Null Hypothesis, very statistically significant |\n",
    "| 0.01 to 0.05 | Some evidence against Null Hypothesis, statistically significant | \n",
    "| Greater than 0.05 | Insufficient evidence against Null Hypothesis | \n"
   ]
  },
  {
   "cell_type": "code",
   "execution_count": 2,
   "metadata": {},
   "outputs": [],
   "source": [
    "from scipy import stats"
   ]
  },
  {
   "cell_type": "code",
   "execution_count": 13,
   "metadata": {},
   "outputs": [
    {
     "name": "stderr",
     "output_type": "stream",
     "text": [
      "/home/nishant/anaconda3/lib/python3.8/site-packages/seaborn/distributions.py:2619: FutureWarning: `distplot` is a deprecated function and will be removed in a future version. Please adapt your code to use either `displot` (a figure-level function with similar flexibility) or `histplot` (an axes-level function for histograms).\n",
      "  warnings.warn(msg, FutureWarning)\n"
     ]
    },
    {
     "data": {
      "image/png": "[encoded data removed]",
      "text/plain": [
       "<Figure size 720x504 with 1 Axes>"
      ]
     },
     "metadata": {
      "needs_background": "light"
     },
     "output_type": "display_data"
    }
   ],
   "source": [
    "np.random.seed(0)\n",
    "\n",
    "mu = 0\n",
    "sigma = 1\n",
    "number_of_records = 10000\n",
    "observe_data = [-1.5,2.5]\n",
    "\n",
    "p_value = 0.05\n",
    "data = np.random.normal(loc=mu,scale=sigma,size=number_of_records)\n",
    "mean = np.mean(data)\n",
    "median = np.median(data)\n",
    "std_dev = np.std(data)\n",
    "\n",
    "\n",
    "left_bound = -4\n",
    "left_side = stats.norm.ppf(q=p_value/4)\n",
    "\n",
    "right_side = -stats.norm.ppf(q=p_value/4)\n",
    "right_bound = 4\n",
    "\n",
    "fig = plt.figure(figsize=(10,7))\n",
    "ax = fig.add_subplot(1,1,1)\n",
    "\n",
    "\n",
    "sns.distplot(data,bins=20,norm_hist=True)\n",
    "\n",
    "ax.axvline(mean,label=\"mean\",c='b',lw=4)\n",
    "ax.axvline(median,label=\"median\",c=\"r\")\n",
    "\n",
    "\n",
    "for od in observe_data:\n",
    "    \n",
    "    pdf_score = stats.norm.pdf(od)\n",
    "    ax.vlines(od,ymin=0,ymax=pdf_score,color='k',lw=4,alpha=0.7)\n",
    "    ax.plot(od,pdf_score,'k',marker='o',ms=10,label=od)\n",
    "    \n",
    "    x_ticks = np.append(ax.get_xticks(), od)\n",
    "    ax.set_xticks(x_ticks)\n",
    "\n",
    "\n",
    "ax.axvspan(left_bound, left_side, alpha=0.7, color='grey')\n",
    "ax.axvspan(right_side, right_bound, alpha=0.7, color='grey')\n",
    "\n",
    "\n",
    "ax.plot(left_side,p_value/2,'r',marker='o',ms=10)\n",
    "ax.vlines(left_side,0,p_value/2,color='r',lw=3)\n",
    "\n",
    "\n",
    "ax.plot(right_side,p_value/2,'r',marker='o',ms=10)\n",
    "ax.vlines(right_side,0,p_value/2,color='r',lw=3)\n",
    "\n",
    "\n",
    "ax.axhline(p_value/2,c='k',lw=0.5)\n",
    "y_ticks = np.append(ax.get_yticks(), p_value/2)\n",
    "ax.set_yticks(y_ticks)\n",
    "\n",
    "ax.legend()\n",
    "plt.show()"
   ]
  },
  {
   "cell_type": "markdown",
   "metadata": {},
   "source": [
    "- Grey part is showing combined 0.05 % of the data\n",
    "- blue part is showing rest 95% of the data\n",
    "- like -1.5 is in the most population (p > 0.05)(accept null hypothesis)\n",
    "- 2.5 is in the grey area , out of significance level (p_value < 0.05) (reject null hypothesis)\n"
   ]
  },
  {
   "cell_type": "markdown",
   "metadata": {},
   "source": [
    "### Decision Errors \n",
    "\n",
    "| Type 1 ($\\alpha$) | Type 2 ($\\beta$) |\n",
    "| -------------------------------------------------------------------- | ------------------------------------------------ |\n",
    "| Occurs when a researcher rejects the Null Hypothesis when it is true | Fails to reject the hypothesis when it is false |\n",
    "| False Positive | False Negative |\n",
    "| Significance Level : probability of commiting a Type 1 error | Power Of Test : probability of not commiting a Type 2 error |"
   ]
  },
  {
   "cell_type": "markdown",
   "metadata": {},
   "source": [
    "## Tests \n",
    "\n",
    "The methods used for performing t-test are shown below.\n",
    "\n",
    "|||\n",
    "|-|-|\n",
    "| stats.ttest_1samp | Tests if the mean of a population is a given value. |\n",
    "| stats.ttest_ind | Tests if the means of two independent samples are equal. |\n",
    "| stats.ttest_rel | Tests if the means of two paired samples are equal. |"
   ]
  },
  {
   "cell_type": "markdown",
   "metadata": {},
   "source": [
    "### Example \n",
    "- Normally estimation for mean and variance of sample is made and test statistics is calculated  \n",
    "- if population variance is identified, it is reasonable to consider that test statisics is normally distributed\n",
    "- if variance is unknown, sample variance is used and test statistics follows t distribution\n",
    "\n",
    "`To Be Done`"
   ]
  }
 ],
 "metadata": {
  "kernelspec": {
   "display_name": "Python 3.8.3 64-bit ('anaconda3': conda)",
   "language": "python",
   "name": "python38364bitanaconda3conda5a21e7c9305747559a413d7622491a2e"
  },
  "language_info": {
   "codemirror_mode": {
    "name": "ipython",
    "version": 3
   },
   "file_extension": ".py",
   "mimetype": "text/x-python",
   "name": "python",
   "nbconvert_exporter": "python",
   "pygments_lexer": "ipython3",
   "version": "3.8.3"
  }
 },
 "nbformat": 4,
 "nbformat_minor": 4
}
