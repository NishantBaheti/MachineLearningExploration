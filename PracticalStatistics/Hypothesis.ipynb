{
 "cells": [
  {
   "cell_type": "markdown",
   "metadata": {},
   "source": [
    "# Experiments & Testing \n",
    "\n",
    "References \n",
    "\n",
    "[Practical Statistics for Data Scientists](https://www.oreilly.com/library/view/practical-statistics-for/9781491952955/)\n",
    "\n",
    "[The ASA Statement on p-Values: Context, Process, and Purpose](https://www.tandfonline.com/doi/full/10.1080/00031305.2016.1154108)"
   ]
  },
  {
   "cell_type": "code",
   "execution_count": 1,
   "metadata": {},
   "outputs": [],
   "source": [
    "import numpy as np\n",
    "import pandas as pd \n",
    "import matplotlib.pyplot as plt\n",
    "import seaborn as sns"
   ]
  },
  {
   "cell_type": "markdown",
   "metadata": {},
   "source": [
    "                       Start\n",
    "                         |\n",
    "                         v\n",
    "                Formulate Hypothesises\n",
    "                         |\n",
    "                         v\n",
    "      Formulate analysis plan and Design Experiment \n",
    "                         |\n",
    "                         v\n",
    "                    Analyze data \n",
    "                         |\n",
    "                         v\n",
    "                 Interpret Results \n",
    "                         |\n",
    "                         v\n",
    "                        End "
   ]
  },
  {
   "cell_type": "markdown",
   "metadata": {},
   "source": [
    "## A/B test"
   ]
  },
  {
   "cell_type": "markdown",
   "metadata": {},
   "source": [
    "**Treatment** activity in which drug, price, etc. exposed to a subject.\n",
    "\n",
    "**Subjects** participants in treatment.\n",
    "\n",
    "**Treatment Group** group of subjects exposed to treatment. \n",
    "\n",
    "**Control Group** group of subjects not exposed to treatment.\n",
    "\n",
    "**Randomization** randomly selecting subjects to put in groups.\n",
    "\n",
    "**test statistics** the metric used to measure the effect of the treatment."
   ]
  },
  {
   "cell_type": "markdown",
   "metadata": {},
   "source": [
    "In A/B test an experiment is established, two groups for a treatment, one group will follow up on existing/standard treatment or no treatment called **Control group**, and the other one will follow up on new treatment called **Treatment Group**"
   ]
  },
  {
   "cell_type": "markdown",
   "metadata": {},
   "source": [
    "Generally the difference between the groups\n",
    "\n",
    "* The effect of the different treatments.\n",
    "* because of randomness, by luck subjects are assigned to which group for results to perform better.(or better performing subjects concentrated in A or B)"
   ]
  },
  {
   "cell_type": "markdown",
   "metadata": {},
   "source": [
    "So now what *test statistics* or metrics to compare groups A or B. Most common is binary.(buy or not-buy, click or not-clicked, fraud or no-fraud)\n",
    "\n",
    "I am gonna take a very non-medical example to understand this. So there are two advertisements(types of ads) on a website and we are trying to test with group of people, randomly 90 people selected for ad A and randomly 90 people selected for ad B , whether they will click or not click on the ad.\n",
    "\n",
    "so we have this kind of metrics as result of the experiment.\n",
    "    \n",
    "                 |   \n",
    "        Outcome  |   Advert A     Advert B\n",
    "        _________|__________________________\n",
    "        click    |\n",
    "                 |\n",
    "        no-click |\n",
    "        "
   ]
  },
  {
   "cell_type": "code",
   "execution_count": 2,
   "metadata": {},
   "outputs": [],
   "source": [
    "actions = np.array(['no-click','click'])"
   ]
  },
  {
   "cell_type": "code",
   "execution_count": 3,
   "metadata": {},
   "outputs": [
    {
     "data": {
      "text/html": [
       "<div>\n",
       "<style scoped>\n",
       "    .dataframe tbody tr th:only-of-type {\n",
       "        vertical-align: middle;\n",
       "    }\n",
       "\n",
       "    .dataframe tbody tr th {\n",
       "        vertical-align: top;\n",
       "    }\n",
       "\n",
       "    .dataframe thead th {\n",
       "        text-align: right;\n",
       "    }\n",
       "</style>\n",
       "<table border=\"1\" class=\"dataframe\">\n",
       "  <thead>\n",
       "    <tr style=\"text-align: right;\">\n",
       "      <th></th>\n",
       "      <th>Advert A</th>\n",
       "      <th>Advert B</th>\n",
       "    </tr>\n",
       "  </thead>\n",
       "  <tbody>\n",
       "    <tr>\n",
       "      <th>0</th>\n",
       "      <td>click</td>\n",
       "      <td>click</td>\n",
       "    </tr>\n",
       "    <tr>\n",
       "      <th>1</th>\n",
       "      <td>click</td>\n",
       "      <td>click</td>\n",
       "    </tr>\n",
       "    <tr>\n",
       "      <th>2</th>\n",
       "      <td>click</td>\n",
       "      <td>no-click</td>\n",
       "    </tr>\n",
       "    <tr>\n",
       "      <th>3</th>\n",
       "      <td>click</td>\n",
       "      <td>click</td>\n",
       "    </tr>\n",
       "    <tr>\n",
       "      <th>4</th>\n",
       "      <td>click</td>\n",
       "      <td>click</td>\n",
       "    </tr>\n",
       "  </tbody>\n",
       "</table>\n",
       "</div>"
      ],
      "text/plain": [
       "  Advert A  Advert B\n",
       "0    click     click\n",
       "1    click     click\n",
       "2    click  no-click\n",
       "3    click     click\n",
       "4    click     click"
      ]
     },
     "execution_count": 3,
     "metadata": {},
     "output_type": "execute_result"
    }
   ],
   "source": [
    "np.random.seed(0)\n",
    "\n",
    "group_A = np.random.choice(actions,size=90, p=[0.4,0.6]) # have to give some bias to generate some sided choices\n",
    "group_B = np.random.choice(actions,size=90, p=[0.2,0.8])\n",
    "\n",
    "df = pd.DataFrame()\n",
    "df['Advert A'] = group_A\n",
    "df['Advert B'] = group_B\n",
    "\n",
    "df.head()"
   ]
  },
  {
   "cell_type": "code",
   "execution_count": 4,
   "metadata": {},
   "outputs": [
    {
     "data": {
      "text/html": [
       "<div>\n",
       "<style scoped>\n",
       "    .dataframe tbody tr th:only-of-type {\n",
       "        vertical-align: middle;\n",
       "    }\n",
       "\n",
       "    .dataframe tbody tr th {\n",
       "        vertical-align: top;\n",
       "    }\n",
       "\n",
       "    .dataframe thead th {\n",
       "        text-align: right;\n",
       "    }\n",
       "</style>\n",
       "<table border=\"1\" class=\"dataframe\">\n",
       "  <thead>\n",
       "    <tr style=\"text-align: right;\">\n",
       "      <th></th>\n",
       "      <th>Advert A</th>\n",
       "      <th>Advert B</th>\n",
       "    </tr>\n",
       "  </thead>\n",
       "  <tbody>\n",
       "    <tr>\n",
       "      <th>click</th>\n",
       "      <td>55</td>\n",
       "      <td>73</td>\n",
       "    </tr>\n",
       "    <tr>\n",
       "      <th>no-click</th>\n",
       "      <td>35</td>\n",
       "      <td>17</td>\n",
       "    </tr>\n",
       "  </tbody>\n",
       "</table>\n",
       "</div>"
      ],
      "text/plain": [
       "          Advert A  Advert B\n",
       "click           55        73\n",
       "no-click        35        17"
      ]
     },
     "execution_count": 4,
     "metadata": {},
     "output_type": "execute_result"
    }
   ],
   "source": [
    "result_df = pd.DataFrame()\n",
    "\n",
    "result_df['Advert A'] = df['Advert A'].value_counts()\n",
    "result_df['Advert B'] = df['Advert B'].value_counts()\n",
    "\n",
    "result_df"
   ]
  },
  {
   "cell_type": "code",
   "execution_count": 5,
   "metadata": {},
   "outputs": [
    {
     "data": {
      "image/png": "[encoded data removed]",
      "text/plain": [
       "<Figure size 720x360 with 2 Axes>"
      ]
     },
     "metadata": {
      "needs_background": "light"
     },
     "output_type": "display_data"
    }
   ],
   "source": [
    "fig, ax = plt.subplots(1,2,figsize=(10,5))\n",
    "\n",
    "ax[0].hist(df['Advert A'],color='g')\n",
    "ax[0].set_title('Advert A')\n",
    "ax[0].set_ylim((0,90))\n",
    "\n",
    "ax[1].hist(df['Advert B'],color='c')\n",
    "ax[1].set_title('Advert B')\n",
    "ax[1].set_ylim((0,90))\n",
    "\n",
    "plt.show()"
   ]
  },
  {
   "cell_type": "markdown",
   "metadata": {},
   "source": [
    "`normally as a data scientist the question I have in my mind while using A/B testing that\n",
    "which ad performed better?` "
   ]
  },
  {
   "cell_type": "markdown",
   "metadata": {},
   "source": [
    "## Hypothesis Test/ Significance Test\n",
    "\n",
    "**The purpose is to learn whether random chance might be responsible for an observed effect**"
   ]
  },
  {
   "cell_type": "markdown",
   "metadata": {},
   "source": [
    "### Test Statisitcs\n",
    "\n",
    "Metric for difference or effect of interest from test."
   ]
  },
  {
   "cell_type": "markdown",
   "metadata": {},
   "source": [
    "### Null Hypothesis ($H_0$)\n",
    "\n",
    "- The hypothesis that chance is to blame.\n",
    "- To check whether claim is applicable or not \n",
    "- States that there is no significant difference between a set of a variable \n",
    "- in simple words everything is same or equal\n",
    "\n",
    "\n",
    "By why do we need this? So lets say for A/B tseting we have randomly selected people for control and treatment group. After introducing randomness in the experiment it is okay to assume that any similarity in the groups is completely by chance. But to idenitify this similarity between groups we need a baseline assumption that there is a similarity/ equivalency to be measured. This baseline assumption is Null hypothesis(eg. both of the groups have equal mean height.$\\mu_1 = \\mu_2$). And to clarify that there is no similarity Null Hypothesis has to be rejected with test statisitcs."
   ]
  },
  {
   "cell_type": "markdown",
   "metadata": {},
   "source": [
    "### Alternate Hypothesis ($H_1$ / $H_a$)\n",
    "- to challenge currently accepted state of knowledge\n",
    "- more precisely states that there is a significant difference between a set of a variable\n",
    "- counterpoint to the null hypothesis.\n",
    "\n",
    "\n",
    "`Null Hypothesis and Alternate Hypothesis are mutually exclusive`"
   ]
  },
  {
   "cell_type": "markdown",
   "metadata": {},
   "source": [
    "###  Steps for Hypothesis Testing  \n",
    "- Define Hypothesis H0,Ha\n",
    "- Select test statistics whose probability distribution function can be found under the Null Hypothesis\n",
    "- Collect data \n",
    "- Compute test statistics and calculate p-value under null hypothesis\n",
    "- Reject Null Hyppthsis if p-value is lower then predetermined significance value"
   ]
  },
  {
   "cell_type": "markdown",
   "metadata": {},
   "source": [
    "## Types of tests\n",
    "\n",
    "| Type of test | Description |\n",
    "|-|-|\n",
    "| One tailed/ One way | Region of rejection is only on one side of sampling distribution |\n",
    "| Two tailed/ Two way | Region of rejection is on both sides of sampling distribution |"
   ]
  },
  {
   "cell_type": "markdown",
   "metadata": {},
   "source": [
    "## Resampling\n",
    "\n",
    "Repeatedly sampling values from the observed data, with a general goal of assessing random variability in a statistic. It is used to improve machine learning models accuracy.\n",
    "\n",
    "There are two types of resampling processes\n",
    "1. bootstrap\n",
    "1. permutation tests"
   ]
  },
  {
   "cell_type": "markdown",
   "metadata": {},
   "source": [
    "### Permutation Tests\n",
    "\n",
    "**permute** => to change the order of a set of values.\n",
    "\n",
    "The first step in a permutation test of the hypothesis is to combine the results from groups A and B. \n",
    "This is an idea of the null hypthosis that the treatments to which the groups were exposed do not differ. Then we draw up resample groups from the combined set and do the tests, and then see how much they differ.\n",
    "\n",
    "> Permutation test include without replacement resampling\n",
    "\n",
    "#### Process\n",
    "1. Combine the results from the different groups\n",
    "1. Shuffle, then random draw without replacement resample of the same size a group A.\n",
    "1. From remaining data, randomly draw without replacement resample of the same size a group B.\n",
    "1. Do the same for rest if the groups involved in initial combination.\n",
    "1. Calculate the same statistic calculated for original sample, calculate it for new samples, record it. here we have completed one permutation iteration.\n",
    "1. Repeat above steps R times, to yield a permutation distribution.\n",
    "\n",
    "\n",
    "- Now we have 2 types of entities\n",
    "    - observed difference\n",
    "    - permutation differences\n",
    "\n",
    "\n",
    "- 2 scenarios\n",
    "    - observed differences are within the set of permutation differences. then conclusion is observed difference is within the range what chance(permutation) would produce.\n",
    "    - observed differences are outside most of the permutation differences then we conclude that random chance is not possible and difference is statistically significant.\n",
    "    \n",
    "This **statistically significant** term comes around very often, so what does it represents as mean of these words are very simple to interpret."
   ]
  },
  {
   "cell_type": "code",
   "execution_count": 6,
   "metadata": {},
   "outputs": [
    {
     "data": {
      "text/plain": [
       "(array([182,  57, 127, 202, 261, 205,  19, 221, 287, 252,  97,  80,  98,\n",
       "        203,  49]),\n",
       " array([102, 189, 103, 180,  40,  87, 280, 130, 258, 212, 114, 192, 258,\n",
       "        162, 162, 280, 200, 142,  47,  46, 217]))"
      ]
     },
     "execution_count": 6,
     "metadata": {},
     "output_type": "execute_result"
    }
   ],
   "source": [
    "np.random.seed(0)\n",
    "\n",
    "A_size = 15\n",
    "B_size = 21\n",
    "total_size = A_size + B_size\n",
    "A = np.random.randint(low=10, high=300, size=(A_size,))\n",
    "B = np.random.randint(low=15, high=300, size=(B_size,))\n",
    "\n",
    "A, B"
   ]
  },
  {
   "cell_type": "code",
   "execution_count": 7,
   "metadata": {},
   "outputs": [
    {
     "data": {
      "image/png": "[encoded data removed]",
      "text/plain": [
       "<Figure size 504x504 with 1 Axes>"
      ]
     },
     "metadata": {
      "needs_background": "light"
     },
     "output_type": "display_data"
    }
   ],
   "source": [
    "fig, ax = plt.subplots(1,1,figsize=(7,7))\n",
    "ax.boxplot(\n",
    "    x=[A,B], \n",
    "    vert=False, \n",
    "    labels=['Page A','Page B']\n",
    ")\n",
    "ax.set_xlabel(\"time in seconds\")\n",
    "ax.grid()\n",
    "plt.show()"
   ]
  },
  {
   "cell_type": "code",
   "execution_count": 8,
   "metadata": {},
   "outputs": [
    {
     "data": {
      "text/plain": [
       "5.952380952380963"
      ]
     },
     "execution_count": 8,
     "metadata": {},
     "output_type": "execute_result"
    }
   ],
   "source": [
    "B.mean() - A.mean()"
   ]
  },
  {
   "cell_type": "code",
   "execution_count": 9,
   "metadata": {},
   "outputs": [
    {
     "data": {
      "text/plain": [
       "array([182,  57, 127, 202, 261, 205,  19, 221, 287, 252,  97,  80,  98,\n",
       "       203,  49, 102, 189, 103, 180,  40,  87, 280, 130, 258, 212, 114,\n",
       "       192, 258, 162, 162, 280, 200, 142,  47,  46, 217])"
      ]
     },
     "execution_count": 9,
     "metadata": {},
     "output_type": "execute_result"
    }
   ],
   "source": [
    "combines = np.hstack((A,B))\n",
    "combines"
   ]
  },
  {
   "cell_type": "code",
   "execution_count": 10,
   "metadata": {},
   "outputs": [],
   "source": [
    "statistics = []\n",
    "R = 1000\n",
    "for i in range(R):\n",
    "    A_resample = np.random.choice(combines,size=A_size,replace=False)\n",
    "    B_resample = np.array([i for i in combines if i not in A_resample])\n",
    "\n",
    "    statistics.append(B_resample.mean() - A_resample.mean())"
   ]
  },
  {
   "cell_type": "code",
   "execution_count": 11,
   "metadata": {},
   "outputs": [
    {
     "data": {
      "image/png": "[encoded data removed]",
      "text/plain": [
       "<Figure size 432x288 with 1 Axes>"
      ]
     },
     "metadata": {
      "needs_background": "light"
     },
     "output_type": "display_data"
    }
   ],
   "source": [
    "fig, ax = plt.subplots(1,1)\n",
    "ax.axvline(B.mean() - A.mean(), color='k', label='Observed difference')\n",
    "ax.hist(statistics,alpha=0.7, label='permutation diff distribution')\n",
    "\n",
    "ax.legend()\n",
    "plt.show()"
   ]
  },
  {
   "cell_type": "markdown",
   "metadata": {},
   "source": [
    "So the Observed Difference is within the range of chance variations, thus is **`not statistically significant`**."
   ]
  },
  {
   "cell_type": "markdown",
   "metadata": {},
   "source": [
    "### Bootstrap\n",
    "\n",
    "Resampling with relacement.\n",
    "\n",
    "#### Process\n",
    "1. Combine the results from the different groups\n",
    "1. Shuffle, then random draw with replacement resample of the same size a group A.\n",
    "1. From remaining data, randomly draw with replacement resample of the same size a group B.\n",
    "1. Do the same for rest if the groups involved in initial combination.\n",
    "1. Calculate the same statistic calculated for original sample, calculate it for new samples, record it. here we have completed one permutation iteration.\n",
    "1. Repeat above steps R times, to yield a permutation distribution.\n"
   ]
  },
  {
   "cell_type": "code",
   "execution_count": 12,
   "metadata": {},
   "outputs": [
    {
     "data": {
      "text/plain": [
       "(array([182,  57, 127, 202, 261, 205,  19, 221, 287, 252,  97,  80,  98,\n",
       "        203,  49]),\n",
       " array([102, 189, 103, 180,  40,  87, 280, 130, 258, 212, 114, 192, 258,\n",
       "        162, 162, 280, 200, 142,  47,  46, 217]))"
      ]
     },
     "execution_count": 12,
     "metadata": {},
     "output_type": "execute_result"
    }
   ],
   "source": [
    "np.random.seed(0)\n",
    "\n",
    "A_size = 15\n",
    "B_size = 21\n",
    "total_size = A_size + B_size\n",
    "A = np.random.randint(low=10, high=300, size=(A_size,))\n",
    "B = np.random.randint(low=15, high=300, size=(B_size,))\n",
    "\n",
    "A, B"
   ]
  },
  {
   "cell_type": "code",
   "execution_count": 13,
   "metadata": {},
   "outputs": [
    {
     "data": {
      "image/png": "[encoded data removed]",
      "text/plain": [
       "<Figure size 504x504 with 1 Axes>"
      ]
     },
     "metadata": {
      "needs_background": "light"
     },
     "output_type": "display_data"
    }
   ],
   "source": [
    "fig, ax = plt.subplots(1,1,figsize=(7,7))\n",
    "ax.boxplot(\n",
    "    x=[A,B], \n",
    "    vert=False, \n",
    "    labels=['Page A','Page B']\n",
    ")\n",
    "ax.set_xlabel(\"time in seconds\")\n",
    "ax.grid()\n",
    "plt.show()"
   ]
  },
  {
   "cell_type": "code",
   "execution_count": 14,
   "metadata": {},
   "outputs": [
    {
     "data": {
      "text/plain": [
       "5.952380952380963"
      ]
     },
     "execution_count": 14,
     "metadata": {},
     "output_type": "execute_result"
    }
   ],
   "source": [
    "B.mean() - A.mean()"
   ]
  },
  {
   "cell_type": "code",
   "execution_count": 15,
   "metadata": {},
   "outputs": [
    {
     "data": {
      "text/plain": [
       "array([182,  57, 127, 202, 261, 205,  19, 221, 287, 252,  97,  80,  98,\n",
       "       203,  49, 102, 189, 103, 180,  40,  87, 280, 130, 258, 212, 114,\n",
       "       192, 258, 162, 162, 280, 200, 142,  47,  46, 217])"
      ]
     },
     "execution_count": 15,
     "metadata": {},
     "output_type": "execute_result"
    }
   ],
   "source": [
    "combines = np.hstack((A,B))\n",
    "combines"
   ]
  },
  {
   "cell_type": "code",
   "execution_count": 16,
   "metadata": {},
   "outputs": [],
   "source": [
    "statistics = []\n",
    "R = 1000\n",
    "for i in range(R):\n",
    "    A_resample = np.random.choice(combines,size=A_size,replace=True)\n",
    "    B_resample = np.random.choice(combines,size=B_size,replace=True)\n",
    "\n",
    "    statistics.append(B_resample.mean() - A_resample.mean())"
   ]
  },
  {
   "cell_type": "code",
   "execution_count": 17,
   "metadata": {},
   "outputs": [
    {
     "data": {
      "image/png": "[encoded data removed]",
      "text/plain": [
       "<Figure size 432x288 with 1 Axes>"
      ]
     },
     "metadata": {
      "needs_background": "light"
     },
     "output_type": "display_data"
    }
   ],
   "source": [
    "fig, ax = plt.subplots(1,1)\n",
    "ax.axvline(B.mean() - A.mean(), color='k', label='Observed difference')\n",
    "ax.hist(statistics,alpha=0.7, label='bootstrap diff distribution')\n",
    "\n",
    "ax.legend()\n",
    "plt.show()"
   ]
  },
  {
   "cell_type": "markdown",
   "metadata": {},
   "source": [
    "So the Observed Difference is within the range of chance variations, thus is **`not statistically significant`**."
   ]
  },
  {
   "cell_type": "markdown",
   "metadata": {},
   "source": [
    "## Statisitcal Significance\n",
    "\n",
    "This is the point where we'll understanding this topic.\n",
    "Statisitians needs to measure results of an experiment, for that it is required to check whether results of the experiments are more extreme than a random chance might provide. If the result is outside the limits of chance variation then it is said to be `statisitcally significant`"
   ]
  },
  {
   "cell_type": "markdown",
   "metadata": {},
   "source": [
    "### P Value\n",
    "\n",
    "- simply observational results are not very precise for statisitcal significance.\n",
    "- `It can be understood with the frequency in which the chance model is produces result more extreme than the observed result.`\n",
    "- measure of statisitcal significance for that `null hypothesis` is true.\n",
    "- we are talking about a chance model that includes a null hypothesis, the p-value is probability of getting the results within limits or extreme (what are these limits, we'll see them in next topic).\n"
   ]
  },
  {
   "cell_type": "markdown",
   "metadata": {},
   "source": [
    "In this case we can calculate p-value from the permutation test we had earlier using permutation distribution differences and observed difference.\n",
    "and get the mean of number of times when the permutation (chance possibility) differences are greater than or equal to observed difference."
   ]
  },
  {
   "cell_type": "code",
   "execution_count": 18,
   "metadata": {},
   "outputs": [
    {
     "name": "stdout",
     "output_type": "stream",
     "text": [
      "p-value 0.257\n"
     ]
    }
   ],
   "source": [
    "np.random.seed(0)\n",
    "\n",
    "A_size = 15\n",
    "B_size = 21\n",
    "total_size = A_size + B_size\n",
    "A = np.random.randint(low=10, high=300, size=(A_size,))\n",
    "B = np.random.randint(low=10, high=300, size=(B_size,))\n",
    "\n",
    "combines = np.hstack((A,B))\n",
    "\n",
    "statistics = []\n",
    "R = 1000\n",
    "for i in range(R):\n",
    "    A_resample = np.random.choice(combines,size=A_size,replace=True)\n",
    "    B_resample = np.random.choice(combines,size=B_size,replace=True)\n",
    "\n",
    "    statistics.append(B_resample.mean() - A_resample.mean())\n",
    "    \n",
    "obs_diffs = B.mean() - A.mean()\n",
    "perm_diffs = np.array(statistics)\n",
    "\n",
    "\n",
    "print(\"p-value\", np.mean(perm_diffs >= obs_diffs))"
   ]
  },
  {
   "cell_type": "markdown",
   "metadata": {},
   "source": [
    "so the result here is 0.257 or 25.7% times we'll achieve the same results with chance variation."
   ]
  },
  {
   "cell_type": "code",
   "execution_count": 19,
   "metadata": {},
   "outputs": [
    {
     "data": {
      "image/png": "[encoded data removed]",
      "text/plain": [
       "<Figure size 432x288 with 1 Axes>"
      ]
     },
     "metadata": {
      "needs_background": "light"
     },
     "output_type": "display_data"
    }
   ],
   "source": [
    "fig, ax = plt.subplots(1,1)\n",
    "ax.axvline(obs_diffs, color='k', label='Observed difference')\n",
    "ax.hist(perm_diffs,alpha=0.7, label='perm diff distribution')\n",
    "\n",
    "ax.legend()\n",
    "plt.show()"
   ]
  },
  {
   "cell_type": "markdown",
   "metadata": {
    "tags": []
   },
   "source": [
    "### alpha\n",
    "\n",
    "But what is the parameter for `unusualness`. How do we decide that we have a thershold/ limit for unusualness.\n",
    "\n",
    "This thershold is specified earlier, like in case of null hypothesis case more extreme than 5%. and this threshold is called `alpha`.\n",
    "\n",
    "Typically alpha values(significance level) are 5% or 1%.\n",
    "\n",
    "probability threshold of 'unusualness' that chance results must cross to be statistically significant.\n",
    "\n",
    "\n",
    "> A good question here is given a chance model, what is the probability that results are extreme ?\n",
    "\n",
    "\n",
    "\n",
    "\n",
    "| p-val vs alpha | interpretation |\n",
    "|-|-|\n",
    "| Less than 0.01 | strong evidence against Null Hypothesis, very statistically significant |\n",
    "| 0.01 to 0.05 | Some evidence against Null Hypothesis, statistically significant | \n",
    "| Greater than 0.05 | Insufficient evidence against Null Hypothesis | \n"
   ]
  },
  {
   "cell_type": "markdown",
   "metadata": {},
   "source": [
    "Below example is something I cooked up for this understanding. This may change later."
   ]
  },
  {
   "cell_type": "code",
   "execution_count": 20,
   "metadata": {},
   "outputs": [
    {
     "name": "stderr",
     "output_type": "stream",
     "text": [
      "/home/nishant/anaconda3/lib/python3.8/site-packages/seaborn/distributions.py:2619: FutureWarning: `distplot` is a deprecated function and will be removed in a future version. Please adapt your code to use either `displot` (a figure-level function with similar flexibility) or `histplot` (an axes-level function for histograms).\n",
      "  warnings.warn(msg, FutureWarning)\n"
     ]
    },
    {
     "data": {
      "image/png": "[encoded data removed]",
      "text/plain": [
       "<Figure size 720x504 with 1 Axes>"
      ]
     },
     "metadata": {
      "needs_background": "light"
     },
     "output_type": "display_data"
    }
   ],
   "source": [
    "from scipy import stats\n",
    "np.random.seed(0)\n",
    "\n",
    "mu, sigma, n_records  = 0, 1, 100 \n",
    "test_results = [-1.5,2.5]\n",
    "\n",
    "alpha = 0.05 # 5%\n",
    "data = np.random.normal(loc=mu,scale=sigma,size=n_records)\n",
    "mean, median, std_dev  = np.mean(data), np.median(data), np.std(data)\n",
    "\n",
    "#######################################################\n",
    "# left_bound -- left_side -- right_side -- right_bound\n",
    "left_bound = -4\n",
    "left_side = stats.norm.ppf(q=alpha/4)\n",
    "\n",
    "right_side = -stats.norm.ppf(q=alpha/4)\n",
    "right_bound = 4\n",
    "\n",
    "fig = plt.figure(figsize=(10,7))\n",
    "ax = fig.add_subplot(1,1,1)\n",
    "sns.distplot(data,bins=20,norm_hist=True)\n",
    "\n",
    "ax.axvline(mean,label=\"mean\",c='b',lw=4)\n",
    "ax.axvline(median,label=\"median\",c=\"r\")\n",
    "\n",
    "for od in test_results:    \n",
    "    pdf_score = stats.norm.pdf(od)\n",
    "    ax.vlines(od,ymin=0,ymax=pdf_score,color='k',lw=4,alpha=0.7)\n",
    "    ax.axhline(pdf_score,color='k',ls='--')\n",
    "    ax.plot(od,pdf_score,'k',marker='o',ms=10,label=f\"test-statistc = {od}\")\n",
    "    x_ticks = np.append(ax.get_xticks(), od)\n",
    "    y_ticks = np.append(ax.get_yticks(), pdf_score)\n",
    "    ax.set_xticks(x_ticks)\n",
    "    ax.set_yticks(y_ticks)\n",
    "\n",
    "\n",
    "ax.axvspan(left_bound, left_side, alpha=0.7, color='grey')\n",
    "ax.axvspan(right_side, right_bound, alpha=0.7, color='grey')\n",
    "\n",
    "ax.plot(left_side,alpha/2,'r',marker='o',ms=10)\n",
    "ax.vlines(left_side,0,alpha/2,color='r',lw=3)\n",
    "\n",
    "\n",
    "ax.plot(right_side,alpha/2,'r',marker='o',ms=10)\n",
    "ax.vlines(right_side,0,alpha/2,color='r',lw=3)\n",
    "\n",
    "\n",
    "ax.axhline(alpha/2,c='r')\n",
    "y_ticks = np.append(ax.get_yticks(), alpha/2)\n",
    "ax.set_yticks(y_ticks)\n",
    "\n",
    "ax.legend()\n",
    "plt.show()"
   ]
  },
  {
   "cell_type": "markdown",
   "metadata": {},
   "source": [
    "| test-statistics | p-value |\n",
    "|-|-|\n",
    "| -1.5 | 0.1295 |\n",
    "| 2.5 | 0.0175 |"
   ]
  },
  {
   "cell_type": "markdown",
   "metadata": {},
   "source": [
    "- Grey part is showing combined 5% of the data\n",
    "- blue part is showing rest 95% of the data\n",
    "- like test-statisitc -1.5 is in the most population, p-value greater than significance level alpha (p > 0.05)(accept null hypothesis)\n",
    "- and test-statistics 2.5 is in the grey area , p-value less then significance value (p_value < 0.05). making result statisitcally significant against chance variation(reject null hypothesis)"
   ]
  },
  {
   "cell_type": "markdown",
   "metadata": {},
   "source": [
    "### Decision Errors \n",
    "\n",
    "| Type 1 error | Type 2 error |\n",
    "| -------------------------------------------------------------------- | ------------------------------------------------ |\n",
    "| Mistakenly concluding an affect is real(when it is due to chance) | Mistakenly concluding an affect is due to chance(when it is real) |\n",
    "| Occurs when a researcher rejects the Null Hypothesis when it is true | Fails to reject the hypothesis when it is false |\n",
    "| False Positive | False Negative |\n",
    "| Significance Level : probability of commiting a Type 1 error | Power Of Test : probability of not commiting a Type 2 error |"
   ]
  },
  {
   "cell_type": "markdown",
   "metadata": {},
   "source": [
    "----------------"
   ]
  },
  {
   "cell_type": "markdown",
   "metadata": {},
   "source": [
    "## Statistical Tests "
   ]
  },
  {
   "cell_type": "markdown",
   "metadata": {},
   "source": [
    "## t-Tests\n",
    "\n",
    "> t-test generally applies when test statistic would follow a normal distribution. \n",
    "\n",
    "`t-statisitc` : standardized version of test statistics.\n",
    "\n",
    "`t-distribution` : reference distribution from which observed t-statistic is compared. more details here [Student's t-distribution](https://machinelearningexploration.readthedocs.io/en/latest/PracticalStatistics/Distributions.html#Student's-t-distribition)\n",
    "\n",
    "[t-test wiki](https://en.wikipedia.org/wiki/Student%27s_t-test)"
   ]
  },
  {
   "cell_type": "markdown",
   "metadata": {},
   "source": [
    "1. Normally estimation for mean and variance of sample is made and test statistics is calculated  \n",
    "1. if population variance is identified, it is reasonable to consider that test statisics is normally distributed\n",
    "1. if population variance is unknown, sample variance is used and test statistics follows t distribution\n",
    "\n",
    "`parent population doesn't need to be normally distributed but population of sample means assumed to be normal.`"
   ]
  },
  {
   "cell_type": "markdown",
   "metadata": {},
   "source": [
    "### One Sample"
   ]
  },
  {
   "cell_type": "markdown",
   "metadata": {},
   "source": [
    "\\begin{align}\n",
    "    t-statisitic &= \\frac{\\bar{x} - \\mu_0}{\\frac{s}{\\sqrt{n}}}\\\\\n",
    "    \\bar{x} &= \\text{sample mean}&\\\\\n",
    "    \\mu_0 &= \\text{population mean}&\\\\\n",
    "    s &= \\text{sample standard deviation}&\\\\\n",
    "    n &= \\text{sample size}&\\\\\n",
    "    \\text{degree of freedom} &= n - 1&\\\\\n",
    "\\end{align}"
   ]
  },
  {
   "cell_type": "code",
   "execution_count": 21,
   "metadata": {},
   "outputs": [],
   "source": [
    "from scipy.stats import ttest_1samp,norm,t"
   ]
  },
  {
   "cell_type": "code",
   "execution_count": 22,
   "metadata": {},
   "outputs": [
    {
     "name": "stdout",
     "output_type": "stream",
     "text": [
      "Calculate the T-test for the mean of ONE group of scores.\n",
      "\n",
      "    This is a two-sided test for the null hypothesis that the expected value\n",
      "    (mean) of a sample of independent observations `a` is equal to the given\n",
      "    population mean, `popmean`.\n",
      "\n",
      "    \n"
     ]
    }
   ],
   "source": [
    "print(ttest_1samp.__doc__[:250])"
   ]
  },
  {
   "cell_type": "markdown",
   "metadata": {},
   "source": [
    "Null Hypothesis $H_0$ = mean of the random sample is 5.0, $\\mu = \\mu_0$\\\n",
    "Alternate Hypothesis $H_a$ = mean of the random sample is not 5.0, $\\mu \\ne \\mu_0$"
   ]
  },
  {
   "cell_type": "markdown",
   "metadata": {},
   "source": [
    "let significance level is 5% and confidence interval is 95%. \n",
    "\n",
    "considering it is a two-tailed test then $\\alpha$ = 0.025 (2.5 / 100)"
   ]
  },
  {
   "cell_type": "code",
   "execution_count": 23,
   "metadata": {},
   "outputs": [],
   "source": [
    "alpha = 0.025 "
   ]
  },
  {
   "cell_type": "markdown",
   "metadata": {},
   "source": [
    "generating data"
   ]
  },
  {
   "cell_type": "code",
   "execution_count": 24,
   "metadata": {},
   "outputs": [],
   "source": [
    "mu = 5.0 # population average\n",
    "sigma = 10 #scale parameter -> std dev -> root(var)\n",
    "n = 100 #number of observations\n",
    "rng = np.random.default_rng() #random number generator"
   ]
  },
  {
   "cell_type": "code",
   "execution_count": 25,
   "metadata": {},
   "outputs": [],
   "source": [
    "rvs = norm.rvs(loc=mu, scale=sigma, size=(n,), random_state=0)"
   ]
  },
  {
   "cell_type": "markdown",
   "metadata": {},
   "source": [
    "assuming that the population is normally distributed and we have a variance.\n",
    "\n",
    "now lets perform test"
   ]
  },
  {
   "cell_type": "code",
   "execution_count": 26,
   "metadata": {},
   "outputs": [],
   "source": [
    "test_statistic, pvalue = ttest_1samp(rvs,popmean=5.0)"
   ]
  },
  {
   "cell_type": "code",
   "execution_count": 27,
   "metadata": {},
   "outputs": [
    {
     "data": {
      "text/plain": [
       "0.5904283402851683"
      ]
     },
     "execution_count": 27,
     "metadata": {},
     "output_type": "execute_result"
    }
   ],
   "source": [
    "test_statistic"
   ]
  },
  {
   "cell_type": "code",
   "execution_count": 28,
   "metadata": {},
   "outputs": [
    {
     "data": {
      "text/plain": [
       "0.5562489158694683"
      ]
     },
     "execution_count": 28,
     "metadata": {},
     "output_type": "execute_result"
    }
   ],
   "source": [
    "pvalue"
   ]
  },
  {
   "cell_type": "markdown",
   "metadata": {},
   "source": [
    "now if pvalue is greater than $alpha$, then it is still in confidence level, which means our observation is usual and there is no statistical significance. Null hypothesis is accepted.\n",
    "\n",
    "else the obsevation is not usual, hence statistical significant result ann Null Hypothesis is rejected."
   ]
  },
  {
   "cell_type": "code",
   "execution_count": 29,
   "metadata": {},
   "outputs": [
    {
     "data": {
      "text/plain": [
       "True"
      ]
     },
     "execution_count": 29,
     "metadata": {},
     "output_type": "execute_result"
    }
   ],
   "source": [
    "pvalue > alpha"
   ]
  },
  {
   "cell_type": "markdown",
   "metadata": {},
   "source": [
    "`Null hypothesis is accepted.`"
   ]
  },
  {
   "cell_type": "markdown",
   "metadata": {},
   "source": [
    "### Two Samples Unpaired"
   ]
  },
  {
   "cell_type": "markdown",
   "metadata": {},
   "source": [
    "`This is as straight forward explanation as it can be.`\n",
    "\n",
    "The t-test quantifies the difference between the arithmetic means of the two samples. The p-value quantifies the probability of observing as or more extreme values assuming the null hypothesis, that the samples are drawn from populations with the same population means, is true. A p-value larger than a chosen threshold (e.g. 5% or 1%) indicates that our observation is not so unlikely to have occurred by chance. Therefore, we do not reject the null hypothesis of equal population means. If the p-value is smaller than our threshold, then we have evidence against the null hypothesis of equal population means.\n",
    "\n",
    "from this doc - https://docs.scipy.org/doc/scipy/reference/generated/scipy.stats.ttest_ind.html"
   ]
  },
  {
   "cell_type": "code",
   "execution_count": 30,
   "metadata": {},
   "outputs": [],
   "source": [
    "from scipy.stats import ttest_ind"
   ]
  },
  {
   "cell_type": "markdown",
   "metadata": {},
   "source": [
    "#### Equal sample sizes and variance\n",
    "\\begin{align}\n",
    "    t-statisitic &= \\frac{\\bar{X_1} - \\bar{X_2}}{S_p\\sqrt{\\frac{2}{n}}}\\\\\n",
    "    \\text{where } S_p &= \\sqrt{\\frac{S_{X_1}^2 + S_{X_2}^2}{2}}\\\\\n",
    "    \\bar{X_1} &= \\text{sample 1 mean}&\\\\\n",
    "    \\bar{X_2} &= \\text{sample 2 mean}&\\\\\n",
    "    S_{X_1} &= \\text{sample 1 standard deviation}&\\\\\n",
    "    S_{X_2} &= \\text{sample 2 standard deviation}&\\\\\n",
    "    n &= \\text{sample size}&\\\\\n",
    "    \\text{degree of freedom} &= n - 1&\\\\\n",
    "\\end{align}"
   ]
  },
  {
   "cell_type": "code",
   "execution_count": 99,
   "metadata": {},
   "outputs": [],
   "source": [
    "rvs1 = norm.rvs(loc=5, scale=10, size=500, random_state=0)\n",
    "rvs2 = norm.rvs(loc=5, scale=10, size=500, random_state=10)\n",
    "\n",
    "test_statistic, pvalue = ttest_ind(rvs1, rvs2,equal_var=True)"
   ]
  },
  {
   "cell_type": "code",
   "execution_count": 100,
   "metadata": {},
   "outputs": [
    {
     "data": {
      "text/plain": [
       "array([[1.       , 0.0190992],\n",
       "       [0.0190992, 1.       ]])"
      ]
     },
     "execution_count": 100,
     "metadata": {},
     "output_type": "execute_result"
    }
   ],
   "source": [
    "np.corrcoef(rvs1, rvs2)"
   ]
  },
  {
   "cell_type": "code",
   "execution_count": 32,
   "metadata": {},
   "outputs": [
    {
     "data": {
      "text/plain": [
       "-0.9157617644799356"
      ]
     },
     "execution_count": 32,
     "metadata": {},
     "output_type": "execute_result"
    }
   ],
   "source": [
    "test_statistic"
   ]
  },
  {
   "cell_type": "code",
   "execution_count": 33,
   "metadata": {},
   "outputs": [
    {
     "data": {
      "text/plain": [
       "0.3600130785859019"
      ]
     },
     "execution_count": 33,
     "metadata": {},
     "output_type": "execute_result"
    }
   ],
   "source": [
    "pvalue"
   ]
  },
  {
   "cell_type": "markdown",
   "metadata": {
    "tags": []
   },
   "source": [
    "#### Equal or unequal sample sizes, similar variances\n",
    "\\begin{align}\n",
    "    t-statisitic &= \\frac{\\bar{X_1} - \\bar{X_2}}{S_p\\sqrt{\\frac{1}{n_1} + \\frac{1}{n_2}}}\\\\\n",
    "    \\text{where Pooled variance } S_p &= \\sqrt{\\frac{(n_1 - 1)S_{X_1}^2 + (n_2 - 1)S_{X_2}^2}{n_1 + n_2 - 2}}\\\\\n",
    "    \\bar{X_1} &= \\text{sample 1 mean}&\\\\\n",
    "    \\bar{X_2} &= \\text{sample 2 mean}&\\\\\n",
    "    S_{X_1} &= \\text{sample 1 standard deviation}&\\\\\n",
    "    S_{X_2} &= \\text{sample 2 standard deviation}&\\\\\n",
    "    n_1 &= \\text{sample 1 size}&\\\\\n",
    "    n_2 &= \\text{sample 2 size}&\\\\\n",
    "\\end{align}"
   ]
  },
  {
   "cell_type": "markdown",
   "metadata": {},
   "source": [
    "equal size data"
   ]
  },
  {
   "cell_type": "code",
   "execution_count": 44,
   "metadata": {},
   "outputs": [],
   "source": [
    "rvs1 = norm.rvs(loc=5, scale=10, size=500, random_state=0)\n",
    "rvs2 = norm.rvs(loc=5, scale=10, size=500, random_state=10)"
   ]
  },
  {
   "cell_type": "markdown",
   "metadata": {},
   "source": [
    "Now lets create an unequal size data "
   ]
  },
  {
   "cell_type": "code",
   "execution_count": 48,
   "metadata": {},
   "outputs": [],
   "source": [
    "rvs3 = norm.rvs(loc=5, scale=10, size=100, random_state=10)"
   ]
  },
  {
   "cell_type": "markdown",
   "metadata": {},
   "source": [
    "test for equal size data"
   ]
  },
  {
   "cell_type": "code",
   "execution_count": 49,
   "metadata": {},
   "outputs": [
    {
     "data": {
      "text/plain": [
       "Ttest_indResult(statistic=-0.9615234228970171, pvalue=0.33667767624405587)"
      ]
     },
     "execution_count": 49,
     "metadata": {},
     "output_type": "execute_result"
    }
   ],
   "source": [
    "ttest_ind(rvs1, rvs2, equal_var=True)"
   ]
  },
  {
   "cell_type": "markdown",
   "metadata": {},
   "source": [
    "test for `unequal` size data"
   ]
  },
  {
   "cell_type": "code",
   "execution_count": 52,
   "metadata": {},
   "outputs": [
    {
     "data": {
      "text/plain": [
       "Ttest_indResult(statistic=-0.9615234228970171, pvalue=0.33667767624405587)"
      ]
     },
     "execution_count": 52,
     "metadata": {},
     "output_type": "execute_result"
    }
   ],
   "source": [
    "ttest_ind(rvs1, rvs3, equal_var=True) \n",
    "#without trimming the results are not 100% correct, as data1 and data2 are not same size."
   ]
  },
  {
   "cell_type": "markdown",
   "metadata": {},
   "source": [
    "https://en.wikipedia.org/wiki/Welch%27s_t-test\n",
    "\n",
    "https://www.real-statistics.com/students-t-distribution/problems-data-t-tests/yuen-welchs-test/"
   ]
  },
  {
   "cell_type": "code",
   "execution_count": 54,
   "metadata": {},
   "outputs": [
    {
     "data": {
      "text/plain": [
       "Ttest_indResult(statistic=-0.9948307819225728, pvalue=0.32049049729267687)"
      ]
     },
     "execution_count": 54,
     "metadata": {},
     "output_type": "execute_result"
    }
   ],
   "source": [
    "ttest_ind(rvs1, rvs3, trim=0.2)"
   ]
  },
  {
   "cell_type": "markdown",
   "metadata": {},
   "source": [
    "#### Equal or unequal sample sizes, unequal variances\n",
    "\n",
    "\\begin{align}\n",
    "    t-statisitic &= \\frac{\\bar{X_1} - \\bar{X_2}}{S_{\\bar{\\Delta}}}\\\\\n",
    "    \\text{where } S_{\\bar{\\Delta}} &= \\sqrt{\\frac{S_1^2}{n_1} + \\frac{S_2^2}{n_2}}\\\\\n",
    "    \\bar{X_1} &= \\text{sample 1 mean}&\\\\\n",
    "    \\bar{X_2} &= \\text{sample 2 mean}&\\\\\n",
    "    S_1 &= \\text{sample 1 standard deviation}&\\\\\n",
    "    S_2 &= \\text{sample 2 standard deviation}&\\\\\n",
    "    n_1 &= \\text{sample 1 size}&\\\\\n",
    "    n_2 &= \\text{sample 2 size}&\\\\\n",
    "\\end{align}\n",
    "\n",
    "https://en.wikipedia.org/wiki/Welch%27s_t-test"
   ]
  },
  {
   "cell_type": "code",
   "execution_count": 55,
   "metadata": {},
   "outputs": [],
   "source": [
    "rvs1 = norm.rvs(loc=5, scale=10, size=500, random_state=0)\n",
    "rvs2 = norm.rvs(loc=5, scale=20, size=500, random_state=10)"
   ]
  },
  {
   "cell_type": "code",
   "execution_count": 56,
   "metadata": {},
   "outputs": [],
   "source": [
    "rvs3 = norm.rvs(loc=5, scale=20, size=100, random_state=10)"
   ]
  },
  {
   "cell_type": "markdown",
   "metadata": {},
   "source": [
    "What if we use the same config of the function"
   ]
  },
  {
   "cell_type": "code",
   "execution_count": 57,
   "metadata": {},
   "outputs": [
    {
     "data": {
      "text/plain": [
       "Ttest_indResult(statistic=-0.9127612874020155, pvalue=0.3616586927805526)"
      ]
     },
     "execution_count": 57,
     "metadata": {},
     "output_type": "execute_result"
    }
   ],
   "source": [
    "ttest_ind(rvs1, rvs2, equal_var=False)"
   ]
  },
  {
   "cell_type": "markdown",
   "metadata": {},
   "source": [
    "Now with proper configs"
   ]
  },
  {
   "cell_type": "code",
   "execution_count": 58,
   "metadata": {},
   "outputs": [
    {
     "data": {
      "text/plain": [
       "Ttest_indResult(statistic=-0.9127612874020156, pvalue=0.3615885407125987)"
      ]
     },
     "execution_count": 58,
     "metadata": {},
     "output_type": "execute_result"
    }
   ],
   "source": [
    "ttest_ind(rvs1, rvs2, equal_var=True)"
   ]
  },
  {
   "cell_type": "markdown",
   "metadata": {},
   "source": [
    "So if we dont mention that variances are different then this function underestimates pvalue."
   ]
  },
  {
   "cell_type": "markdown",
   "metadata": {},
   "source": [
    "Now with `unequal` sized data"
   ]
  },
  {
   "cell_type": "code",
   "execution_count": 59,
   "metadata": {},
   "outputs": [
    {
     "data": {
      "text/plain": [
       "Ttest_indResult(statistic=-1.4564816906088165, pvalue=0.14613596903375511)"
      ]
     },
     "execution_count": 59,
     "metadata": {},
     "output_type": "execute_result"
    }
   ],
   "source": [
    "ttest_ind(rvs1, rvs3, equal_var=True, trim=0.2)"
   ]
  },
  {
   "cell_type": "markdown",
   "metadata": {},
   "source": [
    "#### Working Example"
   ]
  },
  {
   "cell_type": "code",
   "execution_count": 60,
   "metadata": {},
   "outputs": [],
   "source": [
    "from sklearn.datasets import load_iris"
   ]
  },
  {
   "cell_type": "code",
   "execution_count": 62,
   "metadata": {},
   "outputs": [
    {
     "data": {
      "text/html": [
       "<div>\n",
       "<style scoped>\n",
       "    .dataframe tbody tr th:only-of-type {\n",
       "        vertical-align: middle;\n",
       "    }\n",
       "\n",
       "    .dataframe tbody tr th {\n",
       "        vertical-align: top;\n",
       "    }\n",
       "\n",
       "    .dataframe thead th {\n",
       "        text-align: right;\n",
       "    }\n",
       "</style>\n",
       "<table border=\"1\" class=\"dataframe\">\n",
       "  <thead>\n",
       "    <tr style=\"text-align: right;\">\n",
       "      <th></th>\n",
       "      <th>sepal length (cm)</th>\n",
       "      <th>sepal width (cm)</th>\n",
       "      <th>petal length (cm)</th>\n",
       "      <th>petal width (cm)</th>\n",
       "      <th>target</th>\n",
       "    </tr>\n",
       "  </thead>\n",
       "  <tbody>\n",
       "    <tr>\n",
       "      <th>0</th>\n",
       "      <td>5.1</td>\n",
       "      <td>3.5</td>\n",
       "      <td>1.4</td>\n",
       "      <td>0.2</td>\n",
       "      <td>0</td>\n",
       "    </tr>\n",
       "    <tr>\n",
       "      <th>1</th>\n",
       "      <td>4.9</td>\n",
       "      <td>3.0</td>\n",
       "      <td>1.4</td>\n",
       "      <td>0.2</td>\n",
       "      <td>0</td>\n",
       "    </tr>\n",
       "    <tr>\n",
       "      <th>2</th>\n",
       "      <td>4.7</td>\n",
       "      <td>3.2</td>\n",
       "      <td>1.3</td>\n",
       "      <td>0.2</td>\n",
       "      <td>0</td>\n",
       "    </tr>\n",
       "    <tr>\n",
       "      <th>3</th>\n",
       "      <td>4.6</td>\n",
       "      <td>3.1</td>\n",
       "      <td>1.5</td>\n",
       "      <td>0.2</td>\n",
       "      <td>0</td>\n",
       "    </tr>\n",
       "    <tr>\n",
       "      <th>4</th>\n",
       "      <td>5.0</td>\n",
       "      <td>3.6</td>\n",
       "      <td>1.4</td>\n",
       "      <td>0.2</td>\n",
       "      <td>0</td>\n",
       "    </tr>\n",
       "    <tr>\n",
       "      <th>...</th>\n",
       "      <td>...</td>\n",
       "      <td>...</td>\n",
       "      <td>...</td>\n",
       "      <td>...</td>\n",
       "      <td>...</td>\n",
       "    </tr>\n",
       "    <tr>\n",
       "      <th>145</th>\n",
       "      <td>6.7</td>\n",
       "      <td>3.0</td>\n",
       "      <td>5.2</td>\n",
       "      <td>2.3</td>\n",
       "      <td>2</td>\n",
       "    </tr>\n",
       "    <tr>\n",
       "      <th>146</th>\n",
       "      <td>6.3</td>\n",
       "      <td>2.5</td>\n",
       "      <td>5.0</td>\n",
       "      <td>1.9</td>\n",
       "      <td>2</td>\n",
       "    </tr>\n",
       "    <tr>\n",
       "      <th>147</th>\n",
       "      <td>6.5</td>\n",
       "      <td>3.0</td>\n",
       "      <td>5.2</td>\n",
       "      <td>2.0</td>\n",
       "      <td>2</td>\n",
       "    </tr>\n",
       "    <tr>\n",
       "      <th>148</th>\n",
       "      <td>6.2</td>\n",
       "      <td>3.4</td>\n",
       "      <td>5.4</td>\n",
       "      <td>2.3</td>\n",
       "      <td>2</td>\n",
       "    </tr>\n",
       "    <tr>\n",
       "      <th>149</th>\n",
       "      <td>5.9</td>\n",
       "      <td>3.0</td>\n",
       "      <td>5.1</td>\n",
       "      <td>1.8</td>\n",
       "      <td>2</td>\n",
       "    </tr>\n",
       "  </tbody>\n",
       "</table>\n",
       "<p>150 rows × 5 columns</p>\n",
       "</div>"
      ],
      "text/plain": [
       "     sepal length (cm)  sepal width (cm)  petal length (cm)  petal width (cm)  \\\n",
       "0                  5.1               3.5                1.4               0.2   \n",
       "1                  4.9               3.0                1.4               0.2   \n",
       "2                  4.7               3.2                1.3               0.2   \n",
       "3                  4.6               3.1                1.5               0.2   \n",
       "4                  5.0               3.6                1.4               0.2   \n",
       "..                 ...               ...                ...               ...   \n",
       "145                6.7               3.0                5.2               2.3   \n",
       "146                6.3               2.5                5.0               1.9   \n",
       "147                6.5               3.0                5.2               2.0   \n",
       "148                6.2               3.4                5.4               2.3   \n",
       "149                5.9               3.0                5.1               1.8   \n",
       "\n",
       "     target  \n",
       "0         0  \n",
       "1         0  \n",
       "2         0  \n",
       "3         0  \n",
       "4         0  \n",
       "..      ...  \n",
       "145       2  \n",
       "146       2  \n",
       "147       2  \n",
       "148       2  \n",
       "149       2  \n",
       "\n",
       "[150 rows x 5 columns]"
      ]
     },
     "execution_count": 62,
     "metadata": {},
     "output_type": "execute_result"
    }
   ],
   "source": [
    "dataset = load_iris()\n",
    "\n",
    "df = pd.DataFrame(dataset.get('data'),columns=dataset.get('feature_names'))\n",
    "df['target'] = dataset.get('target')\n",
    "\n",
    "df"
   ]
  },
  {
   "cell_type": "code",
   "execution_count": 87,
   "metadata": {},
   "outputs": [],
   "source": [
    "X1 = df[df['target'] == 0]['sepal length (cm)'].values #flower 1\n",
    "X2 = df[df['target'] == 1]['sepal length (cm)'].values #flower 2"
   ]
  },
  {
   "cell_type": "code",
   "execution_count": 91,
   "metadata": {},
   "outputs": [
    {
     "data": {
      "text/plain": [
       "(5.006, 0.12176400000000002)"
      ]
     },
     "execution_count": 91,
     "metadata": {},
     "output_type": "execute_result"
    }
   ],
   "source": [
    "X1.mean(),np.var(X1)"
   ]
  },
  {
   "cell_type": "code",
   "execution_count": 92,
   "metadata": {},
   "outputs": [
    {
     "data": {
      "text/plain": [
       "(5.936, 0.261104)"
      ]
     },
     "execution_count": 92,
     "metadata": {},
     "output_type": "execute_result"
    }
   ],
   "source": [
    "X2.mean(),np.var(X2)"
   ]
  },
  {
   "cell_type": "markdown",
   "metadata": {},
   "source": [
    "Variances are different"
   ]
  },
  {
   "cell_type": "markdown",
   "metadata": {},
   "source": [
    "Are they independent ?\n"
   ]
  },
  {
   "cell_type": "code",
   "execution_count": 93,
   "metadata": {},
   "outputs": [
    {
     "data": {
      "text/plain": [
       "array([[ 1.        , -0.08084973],\n",
       "       [-0.08084973,  1.        ]])"
      ]
     },
     "execution_count": 93,
     "metadata": {},
     "output_type": "execute_result"
    }
   ],
   "source": [
    "np.corrcoef(X1, X2)"
   ]
  },
  {
   "cell_type": "markdown",
   "metadata": {},
   "source": [
    "Pearson Correlation Coeff is very low. We can run an independent test."
   ]
  },
  {
   "cell_type": "code",
   "execution_count": 94,
   "metadata": {},
   "outputs": [
    {
     "data": {
      "text/plain": [
       "(-10.52098626754911, 3.746742613983842e-17)"
      ]
     },
     "execution_count": 94,
     "metadata": {},
     "output_type": "execute_result"
    }
   ],
   "source": [
    "test_statistic, pvalue = ttest_ind(X1, X2, equal_var=False)\n",
    "test_statistic, pvalue"
   ]
  },
  {
   "cell_type": "code",
   "execution_count": 95,
   "metadata": {},
   "outputs": [
    {
     "data": {
      "text/plain": [
       "False"
      ]
     },
     "execution_count": 95,
     "metadata": {},
     "output_type": "execute_result"
    }
   ],
   "source": [
    "pvalue > 0.05"
   ]
  },
  {
   "cell_type": "markdown",
   "metadata": {},
   "source": [
    "Statistically Significant Result"
   ]
  },
  {
   "cell_type": "markdown",
   "metadata": {},
   "source": [
    "### Two Samples Paired\n",
    "\n",
    "https://en.wikipedia.org/wiki/Student%27s_t-test#Dependent_t-test_for_paired_samples"
   ]
  },
  {
   "cell_type": "code",
   "execution_count": 96,
   "metadata": {},
   "outputs": [],
   "source": [
    "from scipy.stats import ttest_rel"
   ]
  },
  {
   "cell_type": "code",
   "execution_count": 97,
   "metadata": {},
   "outputs": [],
   "source": [
    "rvs1 = stats.norm.rvs(loc=5, scale=10, size=500, random_state=0)\n",
    "rvs2 = (stats.norm.rvs(loc=5, scale=10, size=500, random_state=0)+ stats.norm.rvs(scale=0.2, size=500, random_state=10))"
   ]
  },
  {
   "cell_type": "code",
   "execution_count": 98,
   "metadata": {},
   "outputs": [
    {
     "data": {
      "text/plain": [
       "array([[1.        , 0.99982077],\n",
       "       [0.99982077, 1.        ]])"
      ]
     },
     "execution_count": 98,
     "metadata": {},
     "output_type": "execute_result"
    }
   ],
   "source": [
    "np.corrcoef(rvs1,rvs2)"
   ]
  },
  {
   "cell_type": "markdown",
   "metadata": {},
   "source": [
    "Correlation Coeffecient is too high (Close to 1)"
   ]
  },
  {
   "cell_type": "code",
   "execution_count": null,
   "metadata": {},
   "outputs": [
    {
     "data": {
      "text/plain": [
       "Ttest_relResult(statistic=-0.9246210365702174, pvalue=0.3556099757586745)"
      ]
     },
     "execution_count": 101,
     "metadata": {},
     "output_type": "execute_result"
    }
   ],
   "source": [
    "ttest_rel(rvs1,rvs2)"
   ]
  },
  {
   "cell_type": "markdown",
   "metadata": {},
   "source": [
    "## Multiple Tests"
   ]
  },
  {
   "cell_type": "markdown",
   "metadata": {},
   "source": [
    "Multiple tests notion extends on the thought `If you torture the data long enough, it will confess.`\n",
    "\n",
    "**Type 1 error** - Mistakenly concluding that result is statistically significant. \n",
    "\n",
    "**False discovery rate** - In multiple tests, rate of making Type 1 error.\n",
    "\n",
    "**Overfitting** - fitting the noise."
   ]
  },
  {
   "cell_type": "markdown",
   "metadata": {},
   "source": [
    "Explanation from the book -\n",
    "\n",
    "lets say that we have 20 predictor variables and 1 target. \n",
    "So if we try to perform hypothesis test on these variables then there is good chance that one predictor will turn out to be `(falsely)` statistically significant. And it is called Type 1 error. \n",
    "\n",
    "alpha significance level is 0.05. So, the probability that one will test correctly statistically significant is 0.95. \n",
    "then all 20 will test correctly statistically significant is 0.95 x 0.95 x ... x 0.95^20"
   ]
  },
  {
   "cell_type": "code",
   "execution_count": 1,
   "metadata": {},
   "outputs": [
    {
     "data": {
      "text/plain": [
       "0.3584859224085419"
      ]
     },
     "execution_count": 1,
     "metadata": {},
     "output_type": "execute_result"
    }
   ],
   "source": [
    "0.95**20"
   ]
  },
  {
   "cell_type": "markdown",
   "metadata": {},
   "source": [
    "Then the probability that at least one predictor will test falsely statistically significant is \n",
    "\n",
    "1 - (prob all will be significant correctly)"
   ]
  },
  {
   "cell_type": "code",
   "execution_count": 2,
   "metadata": {},
   "outputs": [
    {
     "data": {
      "text/plain": [
       "0.6415140775914581"
      ]
     },
     "execution_count": 2,
     "metadata": {},
     "output_type": "execute_result"
    }
   ],
   "source": [
    "1 - 0.95**20"
   ]
  },
  {
   "cell_type": "markdown",
   "metadata": {},
   "source": [
    "64%.. thats something."
   ]
  },
  {
   "cell_type": "markdown",
   "metadata": {},
   "source": [
    "## Chi-squared($\\chi^2$) test (pearson's)"
   ]
  },
  {
   "cell_type": "markdown",
   "metadata": {},
   "source": [
    "A measure of the extent to which some observed data is different from expected value.\n",
    "\n",
    "Working with categorical distribution and comparison between `Observed data` and `Calculated data`.\n",
    "\n",
    "\n",
    "Goodness of fit test & test for independence"
   ]
  },
  {
   "cell_type": "code",
   "execution_count": 1,
   "metadata": {},
   "outputs": [],
   "source": [
    "import numpy as np\n",
    "import pandas as pd"
   ]
  },
  {
   "cell_type": "markdown",
   "metadata": {},
   "source": [
    "\n",
    "**Null Hypothesis** : There is no relation between the marital status and educational qualification.\n",
    "\n",
    "**Alternate Hypothesis** : There is a significance relation between marital \n",
    "status and educational qualification.\n",
    "\n",
    "**significance level** ($\\alpha$) = 0.05 (95%)"
   ]
  },
  {
   "cell_type": "markdown",
   "metadata": {},
   "source": [
    "**Observed Values**"
   ]
  },
  {
   "cell_type": "code",
   "execution_count": 2,
   "metadata": {},
   "outputs": [
    {
     "data": {
      "text/html": [
       "<div>\n",
       "<style scoped>\n",
       "    .dataframe tbody tr th:only-of-type {\n",
       "        vertical-align: middle;\n",
       "    }\n",
       "\n",
       "    .dataframe tbody tr th {\n",
       "        vertical-align: top;\n",
       "    }\n",
       "\n",
       "    .dataframe thead th {\n",
       "        text-align: right;\n",
       "    }\n",
       "</style>\n",
       "<table border=\"1\" class=\"dataframe\">\n",
       "  <thead>\n",
       "    <tr style=\"text-align: right;\">\n",
       "      <th></th>\n",
       "      <th>middle school</th>\n",
       "      <th>high school</th>\n",
       "      <th>bachelors</th>\n",
       "      <th>masters</th>\n",
       "      <th>phd</th>\n",
       "    </tr>\n",
       "  </thead>\n",
       "  <tbody>\n",
       "    <tr>\n",
       "      <th>never married</th>\n",
       "      <td>18</td>\n",
       "      <td>36</td>\n",
       "      <td>21</td>\n",
       "      <td>9</td>\n",
       "      <td>6</td>\n",
       "    </tr>\n",
       "    <tr>\n",
       "      <th>married</th>\n",
       "      <td>12</td>\n",
       "      <td>36</td>\n",
       "      <td>45</td>\n",
       "      <td>36</td>\n",
       "      <td>21</td>\n",
       "    </tr>\n",
       "    <tr>\n",
       "      <th>divorced</th>\n",
       "      <td>6</td>\n",
       "      <td>9</td>\n",
       "      <td>9</td>\n",
       "      <td>3</td>\n",
       "      <td>3</td>\n",
       "    </tr>\n",
       "    <tr>\n",
       "      <th>widowed</th>\n",
       "      <td>3</td>\n",
       "      <td>9</td>\n",
       "      <td>9</td>\n",
       "      <td>6</td>\n",
       "      <td>3</td>\n",
       "    </tr>\n",
       "  </tbody>\n",
       "</table>\n",
       "</div>"
      ],
      "text/plain": [
       "               middle school  high school  bachelors  masters  phd\n",
       "never married             18           36         21        9    6\n",
       "married                   12           36         45       36   21\n",
       "divorced                   6            9          9        3    3\n",
       "widowed                    3            9          9        6    3"
      ]
     },
     "execution_count": 2,
     "metadata": {},
     "output_type": "execute_result"
    }
   ],
   "source": [
    "obs_data = np.array([\n",
    "    [18, 36, 21, 9, 6],\n",
    "    [12, 36, 45, 36, 21],\n",
    "    [6, 9, 9, 3, 3],\n",
    "    [3, 9, 9, 6, 3]\n",
    "])\n",
    "obs_df = pd.DataFrame(obs_data,columns=['middle school','high school','bachelors','masters','phd'])\n",
    "obs_df.index = ['never married','married','divorced','widowed']\n",
    "obs_df"
   ]
  },
  {
   "cell_type": "code",
   "execution_count": 3,
   "metadata": {},
   "outputs": [],
   "source": [
    "cont_table = obs_df.copy()"
   ]
  },
  {
   "cell_type": "code",
   "execution_count": 4,
   "metadata": {},
   "outputs": [
    {
     "data": {
      "text/html": [
       "<div>\n",
       "<style scoped>\n",
       "    .dataframe tbody tr th:only-of-type {\n",
       "        vertical-align: middle;\n",
       "    }\n",
       "\n",
       "    .dataframe tbody tr th {\n",
       "        vertical-align: top;\n",
       "    }\n",
       "\n",
       "    .dataframe thead th {\n",
       "        text-align: right;\n",
       "    }\n",
       "</style>\n",
       "<table border=\"1\" class=\"dataframe\">\n",
       "  <thead>\n",
       "    <tr style=\"text-align: right;\">\n",
       "      <th></th>\n",
       "      <th>middle school</th>\n",
       "      <th>high school</th>\n",
       "      <th>bachelors</th>\n",
       "      <th>masters</th>\n",
       "      <th>phd</th>\n",
       "      <th>columns_total</th>\n",
       "    </tr>\n",
       "  </thead>\n",
       "  <tbody>\n",
       "    <tr>\n",
       "      <th>never married</th>\n",
       "      <td>18</td>\n",
       "      <td>36</td>\n",
       "      <td>21</td>\n",
       "      <td>9</td>\n",
       "      <td>6</td>\n",
       "      <td>90</td>\n",
       "    </tr>\n",
       "    <tr>\n",
       "      <th>married</th>\n",
       "      <td>12</td>\n",
       "      <td>36</td>\n",
       "      <td>45</td>\n",
       "      <td>36</td>\n",
       "      <td>21</td>\n",
       "      <td>150</td>\n",
       "    </tr>\n",
       "    <tr>\n",
       "      <th>divorced</th>\n",
       "      <td>6</td>\n",
       "      <td>9</td>\n",
       "      <td>9</td>\n",
       "      <td>3</td>\n",
       "      <td>3</td>\n",
       "      <td>30</td>\n",
       "    </tr>\n",
       "    <tr>\n",
       "      <th>widowed</th>\n",
       "      <td>3</td>\n",
       "      <td>9</td>\n",
       "      <td>9</td>\n",
       "      <td>6</td>\n",
       "      <td>3</td>\n",
       "      <td>30</td>\n",
       "    </tr>\n",
       "  </tbody>\n",
       "</table>\n",
       "</div>"
      ],
      "text/plain": [
       "               middle school  high school  bachelors  masters  phd  \\\n",
       "never married             18           36         21        9    6   \n",
       "married                   12           36         45       36   21   \n",
       "divorced                   6            9          9        3    3   \n",
       "widowed                    3            9          9        6    3   \n",
       "\n",
       "               columns_total  \n",
       "never married             90  \n",
       "married                  150  \n",
       "divorced                  30  \n",
       "widowed                   30  "
      ]
     },
     "execution_count": 4,
     "metadata": {},
     "output_type": "execute_result"
    }
   ],
   "source": [
    "cont_table['columns_total'] = cont_table.values.sum(axis=1)\n",
    "cont_table"
   ]
  },
  {
   "cell_type": "code",
   "execution_count": 5,
   "metadata": {},
   "outputs": [
    {
     "data": {
      "text/html": [
       "<div>\n",
       "<style scoped>\n",
       "    .dataframe tbody tr th:only-of-type {\n",
       "        vertical-align: middle;\n",
       "    }\n",
       "\n",
       "    .dataframe tbody tr th {\n",
       "        vertical-align: top;\n",
       "    }\n",
       "\n",
       "    .dataframe thead th {\n",
       "        text-align: right;\n",
       "    }\n",
       "</style>\n",
       "<table border=\"1\" class=\"dataframe\">\n",
       "  <thead>\n",
       "    <tr style=\"text-align: right;\">\n",
       "      <th></th>\n",
       "      <th>middle school</th>\n",
       "      <th>high school</th>\n",
       "      <th>bachelors</th>\n",
       "      <th>masters</th>\n",
       "      <th>phd</th>\n",
       "      <th>columns_total</th>\n",
       "    </tr>\n",
       "  </thead>\n",
       "  <tbody>\n",
       "    <tr>\n",
       "      <th>rows_total</th>\n",
       "      <td>39</td>\n",
       "      <td>90</td>\n",
       "      <td>84</td>\n",
       "      <td>54</td>\n",
       "      <td>33</td>\n",
       "      <td>300</td>\n",
       "    </tr>\n",
       "  </tbody>\n",
       "</table>\n",
       "</div>"
      ],
      "text/plain": [
       "            middle school  high school  bachelors  masters  phd  columns_total\n",
       "rows_total             39           90         84       54   33            300"
      ]
     },
     "execution_count": 5,
     "metadata": {},
     "output_type": "execute_result"
    }
   ],
   "source": [
    "rows_total = pd.DataFrame(cont_table.values.sum(axis=0).reshape(1,-1), columns=cont_table.columns)\n",
    "rows_total.index = ['rows_total']\n",
    "\n",
    "rows_total"
   ]
  },
  {
   "cell_type": "code",
   "execution_count": 6,
   "metadata": {},
   "outputs": [
    {
     "data": {
      "text/html": [
       "<div>\n",
       "<style scoped>\n",
       "    .dataframe tbody tr th:only-of-type {\n",
       "        vertical-align: middle;\n",
       "    }\n",
       "\n",
       "    .dataframe tbody tr th {\n",
       "        vertical-align: top;\n",
       "    }\n",
       "\n",
       "    .dataframe thead th {\n",
       "        text-align: right;\n",
       "    }\n",
       "</style>\n",
       "<table border=\"1\" class=\"dataframe\">\n",
       "  <thead>\n",
       "    <tr style=\"text-align: right;\">\n",
       "      <th></th>\n",
       "      <th>middle school</th>\n",
       "      <th>high school</th>\n",
       "      <th>bachelors</th>\n",
       "      <th>masters</th>\n",
       "      <th>phd</th>\n",
       "      <th>columns_total</th>\n",
       "    </tr>\n",
       "  </thead>\n",
       "  <tbody>\n",
       "    <tr>\n",
       "      <th>never married</th>\n",
       "      <td>18</td>\n",
       "      <td>36</td>\n",
       "      <td>21</td>\n",
       "      <td>9</td>\n",
       "      <td>6</td>\n",
       "      <td>90</td>\n",
       "    </tr>\n",
       "    <tr>\n",
       "      <th>married</th>\n",
       "      <td>12</td>\n",
       "      <td>36</td>\n",
       "      <td>45</td>\n",
       "      <td>36</td>\n",
       "      <td>21</td>\n",
       "      <td>150</td>\n",
       "    </tr>\n",
       "    <tr>\n",
       "      <th>divorced</th>\n",
       "      <td>6</td>\n",
       "      <td>9</td>\n",
       "      <td>9</td>\n",
       "      <td>3</td>\n",
       "      <td>3</td>\n",
       "      <td>30</td>\n",
       "    </tr>\n",
       "    <tr>\n",
       "      <th>widowed</th>\n",
       "      <td>3</td>\n",
       "      <td>9</td>\n",
       "      <td>9</td>\n",
       "      <td>6</td>\n",
       "      <td>3</td>\n",
       "      <td>30</td>\n",
       "    </tr>\n",
       "    <tr>\n",
       "      <th>rows_total</th>\n",
       "      <td>39</td>\n",
       "      <td>90</td>\n",
       "      <td>84</td>\n",
       "      <td>54</td>\n",
       "      <td>33</td>\n",
       "      <td>300</td>\n",
       "    </tr>\n",
       "  </tbody>\n",
       "</table>\n",
       "</div>"
      ],
      "text/plain": [
       "               middle school  high school  bachelors  masters  phd  \\\n",
       "never married             18           36         21        9    6   \n",
       "married                   12           36         45       36   21   \n",
       "divorced                   6            9          9        3    3   \n",
       "widowed                    3            9          9        6    3   \n",
       "rows_total                39           90         84       54   33   \n",
       "\n",
       "               columns_total  \n",
       "never married             90  \n",
       "married                  150  \n",
       "divorced                  30  \n",
       "widowed                   30  \n",
       "rows_total               300  "
      ]
     },
     "execution_count": 6,
     "metadata": {},
     "output_type": "execute_result"
    }
   ],
   "source": [
    "cont_table = cont_table.append(rows_total)\n",
    "cont_table"
   ]
  },
  {
   "cell_type": "markdown",
   "metadata": {},
   "source": [
    "What I did here ? I calculated rows total and columns total."
   ]
  },
  {
   "cell_type": "markdown",
   "metadata": {},
   "source": [
    "Expected Value Calculation - \n",
    "\n",
    "1. never married - middle school\n",
    "\n",
    "    $\\frac{90 \\times 39}{300} = 11.7$\n",
    "    \n",
    "1. married - high school\n",
    "    \n",
    "    $\\frac{90 \\times 90}{300} = 27$"
   ]
  },
  {
   "cell_type": "code",
   "execution_count": 7,
   "metadata": {},
   "outputs": [
    {
     "data": {
      "text/plain": [
       "array([[ 18,  36,  21,   9,   6,  90],\n",
       "       [ 12,  36,  45,  36,  21, 150],\n",
       "       [  6,   9,   9,   3,   3,  30],\n",
       "       [  3,   9,   9,   6,   3,  30],\n",
       "       [ 39,  90,  84,  54,  33, 300]])"
      ]
     },
     "execution_count": 7,
     "metadata": {},
     "output_type": "execute_result"
    }
   ],
   "source": [
    "x = cont_table.values\n",
    "x"
   ]
  },
  {
   "cell_type": "markdown",
   "metadata": {},
   "source": [
    "multiplying rows total and columns total and dividing by complete total."
   ]
  },
  {
   "cell_type": "code",
   "execution_count": 8,
   "metadata": {},
   "outputs": [
    {
     "data": {
      "text/plain": [
       "array([[11.7, 27. , 25.2, 16.2,  9.9],\n",
       "       [19.5, 45. , 42. , 27. , 16.5],\n",
       "       [ 3.9,  9. ,  8.4,  5.4,  3.3],\n",
       "       [ 3.9,  9. ,  8.4,  5.4,  3.3]])"
      ]
     },
     "execution_count": 8,
     "metadata": {},
     "output_type": "execute_result"
    }
   ],
   "source": [
    "exp_values = (x[:-1,[-1]] @ x[[-1],:-1]) / x[-1,-1]\n",
    "exp_values"
   ]
  },
  {
   "cell_type": "code",
   "execution_count": 9,
   "metadata": {},
   "outputs": [
    {
     "data": {
      "text/html": [
       "<div>\n",
       "<style scoped>\n",
       "    .dataframe tbody tr th:only-of-type {\n",
       "        vertical-align: middle;\n",
       "    }\n",
       "\n",
       "    .dataframe tbody tr th {\n",
       "        vertical-align: top;\n",
       "    }\n",
       "\n",
       "    .dataframe thead th {\n",
       "        text-align: right;\n",
       "    }\n",
       "</style>\n",
       "<table border=\"1\" class=\"dataframe\">\n",
       "  <thead>\n",
       "    <tr style=\"text-align: right;\">\n",
       "      <th></th>\n",
       "      <th>middle school</th>\n",
       "      <th>high school</th>\n",
       "      <th>bachelors</th>\n",
       "      <th>masters</th>\n",
       "      <th>phd</th>\n",
       "    </tr>\n",
       "  </thead>\n",
       "  <tbody>\n",
       "    <tr>\n",
       "      <th>never married</th>\n",
       "      <td>11.7</td>\n",
       "      <td>27.0</td>\n",
       "      <td>25.2</td>\n",
       "      <td>16.2</td>\n",
       "      <td>9.9</td>\n",
       "    </tr>\n",
       "    <tr>\n",
       "      <th>married</th>\n",
       "      <td>19.5</td>\n",
       "      <td>45.0</td>\n",
       "      <td>42.0</td>\n",
       "      <td>27.0</td>\n",
       "      <td>16.5</td>\n",
       "    </tr>\n",
       "    <tr>\n",
       "      <th>divorced</th>\n",
       "      <td>3.9</td>\n",
       "      <td>9.0</td>\n",
       "      <td>8.4</td>\n",
       "      <td>5.4</td>\n",
       "      <td>3.3</td>\n",
       "    </tr>\n",
       "    <tr>\n",
       "      <th>widowed</th>\n",
       "      <td>3.9</td>\n",
       "      <td>9.0</td>\n",
       "      <td>8.4</td>\n",
       "      <td>5.4</td>\n",
       "      <td>3.3</td>\n",
       "    </tr>\n",
       "  </tbody>\n",
       "</table>\n",
       "</div>"
      ],
      "text/plain": [
       "               middle school  high school  bachelors  masters   phd\n",
       "never married           11.7         27.0       25.2     16.2   9.9\n",
       "married                 19.5         45.0       42.0     27.0  16.5\n",
       "divorced                 3.9          9.0        8.4      5.4   3.3\n",
       "widowed                  3.9          9.0        8.4      5.4   3.3"
      ]
     },
     "execution_count": 9,
     "metadata": {},
     "output_type": "execute_result"
    }
   ],
   "source": [
    "exp_df = pd.DataFrame(\n",
    "    exp_values,\n",
    "    columns=['middle school','high school','bachelors','masters','phd']\n",
    ")\n",
    "exp_df.index = obs_df.index\n",
    "exp_df"
   ]
  },
  {
   "cell_type": "code",
   "execution_count": 10,
   "metadata": {},
   "outputs": [
    {
     "data": {
      "text/html": [
       "<div>\n",
       "<style scoped>\n",
       "    .dataframe tbody tr th:only-of-type {\n",
       "        vertical-align: middle;\n",
       "    }\n",
       "\n",
       "    .dataframe tbody tr th {\n",
       "        vertical-align: top;\n",
       "    }\n",
       "\n",
       "    .dataframe thead th {\n",
       "        text-align: right;\n",
       "    }\n",
       "</style>\n",
       "<table border=\"1\" class=\"dataframe\">\n",
       "  <thead>\n",
       "    <tr style=\"text-align: right;\">\n",
       "      <th></th>\n",
       "      <th>middle school</th>\n",
       "      <th>high school</th>\n",
       "      <th>bachelors</th>\n",
       "      <th>masters</th>\n",
       "      <th>phd</th>\n",
       "    </tr>\n",
       "  </thead>\n",
       "  <tbody>\n",
       "    <tr>\n",
       "      <th>never married</th>\n",
       "      <td>18</td>\n",
       "      <td>36</td>\n",
       "      <td>21</td>\n",
       "      <td>9</td>\n",
       "      <td>6</td>\n",
       "    </tr>\n",
       "    <tr>\n",
       "      <th>married</th>\n",
       "      <td>12</td>\n",
       "      <td>36</td>\n",
       "      <td>45</td>\n",
       "      <td>36</td>\n",
       "      <td>21</td>\n",
       "    </tr>\n",
       "    <tr>\n",
       "      <th>divorced</th>\n",
       "      <td>6</td>\n",
       "      <td>9</td>\n",
       "      <td>9</td>\n",
       "      <td>3</td>\n",
       "      <td>3</td>\n",
       "    </tr>\n",
       "    <tr>\n",
       "      <th>widowed</th>\n",
       "      <td>3</td>\n",
       "      <td>9</td>\n",
       "      <td>9</td>\n",
       "      <td>6</td>\n",
       "      <td>3</td>\n",
       "    </tr>\n",
       "  </tbody>\n",
       "</table>\n",
       "</div>"
      ],
      "text/plain": [
       "               middle school  high school  bachelors  masters  phd\n",
       "never married             18           36         21        9    6\n",
       "married                   12           36         45       36   21\n",
       "divorced                   6            9          9        3    3\n",
       "widowed                    3            9          9        6    3"
      ]
     },
     "execution_count": 10,
     "metadata": {},
     "output_type": "execute_result"
    }
   ],
   "source": [
    "obs_df"
   ]
  },
  {
   "cell_type": "markdown",
   "metadata": {},
   "source": [
    "$\\text{pearson residual } R = \\frac{observed - expected}{\\sqrt{expected}} $\n",
    "\n",
    "$\\chi^2 = \\sum_{i=0}^{r \\times c} \\frac{(observed - expected)^2} {expected}$"
   ]
  },
  {
   "cell_type": "code",
   "execution_count": 13,
   "metadata": {},
   "outputs": [
    {
     "data": {
      "text/html": [
       "<div>\n",
       "<style scoped>\n",
       "    .dataframe tbody tr th:only-of-type {\n",
       "        vertical-align: middle;\n",
       "    }\n",
       "\n",
       "    .dataframe tbody tr th {\n",
       "        vertical-align: top;\n",
       "    }\n",
       "\n",
       "    .dataframe thead th {\n",
       "        text-align: right;\n",
       "    }\n",
       "</style>\n",
       "<table border=\"1\" class=\"dataframe\">\n",
       "  <thead>\n",
       "    <tr style=\"text-align: right;\">\n",
       "      <th></th>\n",
       "      <th>middle school</th>\n",
       "      <th>high school</th>\n",
       "      <th>bachelors</th>\n",
       "      <th>masters</th>\n",
       "      <th>phd</th>\n",
       "    </tr>\n",
       "  </thead>\n",
       "  <tbody>\n",
       "    <tr>\n",
       "      <th>never married</th>\n",
       "      <td>3.392308</td>\n",
       "      <td>3.0</td>\n",
       "      <td>0.700000</td>\n",
       "      <td>3.200000</td>\n",
       "      <td>1.536364</td>\n",
       "    </tr>\n",
       "    <tr>\n",
       "      <th>married</th>\n",
       "      <td>2.884615</td>\n",
       "      <td>1.8</td>\n",
       "      <td>0.214286</td>\n",
       "      <td>3.000000</td>\n",
       "      <td>1.227273</td>\n",
       "    </tr>\n",
       "    <tr>\n",
       "      <th>divorced</th>\n",
       "      <td>1.130769</td>\n",
       "      <td>0.0</td>\n",
       "      <td>0.042857</td>\n",
       "      <td>1.066667</td>\n",
       "      <td>0.027273</td>\n",
       "    </tr>\n",
       "    <tr>\n",
       "      <th>widowed</th>\n",
       "      <td>0.207692</td>\n",
       "      <td>0.0</td>\n",
       "      <td>0.042857</td>\n",
       "      <td>0.066667</td>\n",
       "      <td>0.027273</td>\n",
       "    </tr>\n",
       "  </tbody>\n",
       "</table>\n",
       "</div>"
      ],
      "text/plain": [
       "               middle school  high school  bachelors   masters       phd\n",
       "never married       3.392308          3.0   0.700000  3.200000  1.536364\n",
       "married             2.884615          1.8   0.214286  3.000000  1.227273\n",
       "divorced            1.130769          0.0   0.042857  1.066667  0.027273\n",
       "widowed             0.207692          0.0   0.042857  0.066667  0.027273"
      ]
     },
     "execution_count": 13,
     "metadata": {},
     "output_type": "execute_result"
    }
   ],
   "source": [
    "result = np.square(obs_df - exp_df) / exp_df\n",
    "\n",
    "result"
   ]
  },
  {
   "cell_type": "code",
   "execution_count": 18,
   "metadata": {},
   "outputs": [
    {
     "data": {
      "text/plain": [
       "23.56689976689977"
      ]
     },
     "execution_count": 18,
     "metadata": {},
     "output_type": "execute_result"
    }
   ],
   "source": [
    "chi2 = result.values.sum()\n",
    "chi2"
   ]
  },
  {
   "cell_type": "markdown",
   "metadata": {},
   "source": [
    "### Degrees of freedom \n",
    "\n",
    "$dof = (r- 1) \\times (c - 1)$"
   ]
  },
  {
   "cell_type": "code",
   "execution_count": 19,
   "metadata": {},
   "outputs": [
    {
     "data": {
      "text/plain": [
       "12"
      ]
     },
     "execution_count": 19,
     "metadata": {},
     "output_type": "execute_result"
    }
   ],
   "source": [
    "r,c = obs_data.shape\n",
    "\n",
    "dof = (r-1) * (c-1)\n",
    "dof"
   ]
  },
  {
   "cell_type": "markdown",
   "metadata": {},
   "source": [
    "### Chi-2 table\n",
    "\n",
    "<iframe src='https://people.richland.edu/james/lecture/m170/tbl-chi.html' width='100%'></iframe>"
   ]
  },
  {
   "cell_type": "code",
   "execution_count": 20,
   "metadata": {},
   "outputs": [],
   "source": [
    "alpha = 0.05\n",
    "\n",
    "chi2_tab = 21.026"
   ]
  },
  {
   "cell_type": "code",
   "execution_count": 21,
   "metadata": {},
   "outputs": [
    {
     "data": {
      "text/plain": [
       "True"
      ]
     },
     "execution_count": 21,
     "metadata": {},
     "output_type": "execute_result"
    }
   ],
   "source": [
    "chi2 > chi2_tab"
   ]
  },
  {
   "cell_type": "markdown",
   "metadata": {},
   "source": [
    "### Scipy chi2 contingency"
   ]
  },
  {
   "cell_type": "code",
   "execution_count": 23,
   "metadata": {},
   "outputs": [],
   "source": [
    "from scipy.stats import chi2_contingency"
   ]
  },
  {
   "cell_type": "code",
   "execution_count": 28,
   "metadata": {},
   "outputs": [],
   "source": [
    "chi2_cal, p_value, dof, exp_table = chi2_contingency(observed=obs_data)"
   ]
  },
  {
   "cell_type": "code",
   "execution_count": 29,
   "metadata": {},
   "outputs": [
    {
     "data": {
      "text/plain": [
       "(23.56689976689977, 0.023281019557072378, 12)"
      ]
     },
     "execution_count": 29,
     "metadata": {},
     "output_type": "execute_result"
    }
   ],
   "source": [
    "chi2_cal, p_value, dof"
   ]
  },
  {
   "cell_type": "code",
   "execution_count": 30,
   "metadata": {},
   "outputs": [
    {
     "data": {
      "text/html": [
       "<div>\n",
       "<style scoped>\n",
       "    .dataframe tbody tr th:only-of-type {\n",
       "        vertical-align: middle;\n",
       "    }\n",
       "\n",
       "    .dataframe tbody tr th {\n",
       "        vertical-align: top;\n",
       "    }\n",
       "\n",
       "    .dataframe thead th {\n",
       "        text-align: right;\n",
       "    }\n",
       "</style>\n",
       "<table border=\"1\" class=\"dataframe\">\n",
       "  <thead>\n",
       "    <tr style=\"text-align: right;\">\n",
       "      <th></th>\n",
       "      <th>middle school</th>\n",
       "      <th>high school</th>\n",
       "      <th>bachelors</th>\n",
       "      <th>masters</th>\n",
       "      <th>phd</th>\n",
       "    </tr>\n",
       "  </thead>\n",
       "  <tbody>\n",
       "    <tr>\n",
       "      <th>0</th>\n",
       "      <td>11.7</td>\n",
       "      <td>27.0</td>\n",
       "      <td>25.2</td>\n",
       "      <td>16.2</td>\n",
       "      <td>9.9</td>\n",
       "    </tr>\n",
       "    <tr>\n",
       "      <th>1</th>\n",
       "      <td>19.5</td>\n",
       "      <td>45.0</td>\n",
       "      <td>42.0</td>\n",
       "      <td>27.0</td>\n",
       "      <td>16.5</td>\n",
       "    </tr>\n",
       "    <tr>\n",
       "      <th>2</th>\n",
       "      <td>3.9</td>\n",
       "      <td>9.0</td>\n",
       "      <td>8.4</td>\n",
       "      <td>5.4</td>\n",
       "      <td>3.3</td>\n",
       "    </tr>\n",
       "    <tr>\n",
       "      <th>3</th>\n",
       "      <td>3.9</td>\n",
       "      <td>9.0</td>\n",
       "      <td>8.4</td>\n",
       "      <td>5.4</td>\n",
       "      <td>3.3</td>\n",
       "    </tr>\n",
       "  </tbody>\n",
       "</table>\n",
       "</div>"
      ],
      "text/plain": [
       "   middle school  high school  bachelors  masters   phd\n",
       "0           11.7         27.0       25.2     16.2   9.9\n",
       "1           19.5         45.0       42.0     27.0  16.5\n",
       "2            3.9          9.0        8.4      5.4   3.3\n",
       "3            3.9          9.0        8.4      5.4   3.3"
      ]
     },
     "execution_count": 30,
     "metadata": {},
     "output_type": "execute_result"
    }
   ],
   "source": [
    "pd.DataFrame(exp_table, columns=obs_df.columns)"
   ]
  },
  {
   "cell_type": "code",
   "execution_count": 34,
   "metadata": {},
   "outputs": [
    {
     "data": {
      "text/plain": [
       "(0.05, 0.023281019557072378, True)"
      ]
     },
     "execution_count": 34,
     "metadata": {},
     "output_type": "execute_result"
    }
   ],
   "source": [
    "alpha, p_value, alpha > p_value"
   ]
  },
  {
   "cell_type": "markdown",
   "metadata": {},
   "source": [
    "## ANOVA\n",
    "\n",
    "If we have multiple groups with numeric data, statistical procedure that tests for statistically significant difference amoung the groups is called `analysis of variance` or ANOVA.\n",
    "\n",
    "\n",
    "Pairwise comparison - hyp test(like of means) between two groups amoung multiple groups.\n",
    "\n",
    "Omnibus test - take all the groups and perform a single hyp test for overall variance among multiple group means.\n",
    "\n",
    "Sum of Squares (SS) - Deviations from some average value\n",
    "- Difference among the groups, called the treatment effect(TR)\n",
    "- Difference within the groups, called error (E)\n",
    "\n",
    "Total SS (SSTO) = SSTR + SSE\n",
    "\n",
    "Mean Squares (MS) = $\\frac{SS}{degree of freedom}$\n",
    "\n",
    "\n",
    "- Assumptions \n",
    "    - sample is randomly selected from populations and randomly assigned to each of the treatment groups, each observation is thus independent of any other observation - randomness and independence.\n",
    "    \n",
    "    - Population is considered normally distribution.\n",
    "    \n",
    "\n",
    "F-Statistic = $\\frac{MSTR}{MSE} \\sim F_{c-1, n-c}$\n",
    "\n",
    "c = number of groups"
   ]
  },
  {
   "cell_type": "markdown",
   "metadata": {},
   "source": [
    "### One-Way ANOVA\n",
    "\n",
    "| Source of Variation | d.f. | SS | MS | F | P-value | F-crit |\n",
    "|-|-|-|-|-|-|-|\n",
    "| Between Groups | c-1 | SSTR | MSTR | F= MSTR/MSE | p | $F_\\alpha$ |\n",
    "| Within Groups | n-c | SSE | MSE ||||\n",
    "| Total | n-1 | SSTO |||||\n",
    "\n",
    "TODO"
   ]
  },
  {
   "cell_type": "markdown",
   "metadata": {},
   "source": [
    "### Two-Way ANOVA\n",
    "\n",
    "TODO"
   ]
  }
 ],
 "metadata": {
  "kernelspec": {
   "display_name": "Python 3.8.3 64-bit ('base': conda)",
   "language": "python",
   "name": "python383jvsc74a57bd0dba788e4a50ad11c3aca04f6a487ccbbf2decea49c956f88ab099965f16291a4"
  },
  "language_info": {
   "codemirror_mode": {
    "name": "ipython",
    "version": 3
   },
   "file_extension": ".py",
   "mimetype": "text/x-python",
   "name": "python",
   "nbconvert_exporter": "python",
   "pygments_lexer": "ipython3",
   "version": "3.8.3"
  }
 },
 "nbformat": 4,
 "nbformat_minor": 4
}
