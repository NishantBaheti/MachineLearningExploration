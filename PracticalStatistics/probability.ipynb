{
 "cells": [
  {
   "cell_type": "markdown",
   "metadata": {},
   "source": [
    "# Probability"
   ]
  },
  {
   "cell_type": "markdown",
   "metadata": {},
   "source": [
    "## References\n",
    "\n",
    "\n",
    "[khanacademy](https://www.youtube.com/user/khanacademy), [Stanford edu](https://stanford.edu/~shervine/teaching/cs-229/refresher-probabilities-statistics), [University of Toronto](http://www.utstat.toronto.edu/mikevans/jeffrosenthal/book.pdf), [Probabilty for Statistics and Machine Learning](https://www.amazon.in/Probability-Statistics-Machine-Learning-Fundamentals-ebook/dp/B00F5UGP0O)"
   ]
  },
  {
   "cell_type": "markdown",
   "metadata": {
    "toc-hr-collapsed": true
   },
   "source": [
    "\n",
    "## Definition \n",
    "\n",
    "Probability is the science of uncertainty. Probability is a universally accepted tool for expressing degrees of confidence or\n",
    "doubt about some proposition in the presence of incomplete information or uncertainty."
   ]
  },
  {
   "cell_type": "markdown",
   "metadata": {},
   "source": [
    "**Sample Space $\\Omega$** The set of all possible outcomes of an experiment is known as the sample space of the experiment ($\\xi$) and is denoted by S.\n",
    "\n",
    "**Event** E Let $\\Omega$ be the sample space of an experiment . Then any subset A of $\\Omega$, including the empty set $\\phi$ and the entire sample space $\\Omega$ is called an event.\n"
   ]
  },
  {
   "cell_type": "markdown",
   "metadata": {},
   "source": [
    "\\begin{align}\n",
    "    \\text{probability} = \\frac{\\text{# of possibilities that meet my conditions}}{\\text{# of equally likely possibilities}}\n",
    "\\end{align}"
   ]
  },
  {
   "cell_type": "markdown",
   "metadata": {},
   "source": [
    "Some very simple eamples of probability with single event\n",
    "\n",
    "1. tossing a fair coin once. (H, T)\n",
    "\n",
    "    - Probability of getting a head | p(H)= $\\frac{1}{2}$, Probability of getting a head and a tail | p(H or T)= 1 (duh..)\n",
    "    - Probability of getting a head and a tail | p(H and T)= 0 (mutually exclusive events)\n",
    "\n",
    "1. rolling a fair dice once. (1, 2, 3, 4, 5, 6)\n",
    "\n",
    "    - Probability of getting 2 | p(2)= $\\frac{1}{6}$\n",
    "    - p(2 or 6) = $\\frac{2}{6}$ = $\\frac{1}{3}$, p(even) = $\\frac{3}{6}$\n",
    "    - p(2 and 6) = 0 (mutually exclusive events)\n",
    "\n",
    "1. picking a card from a fair deck. cards=(A, K, Q, J, 10, ..., 2) suits=(hearts, spade, diamonds, clubs)\n",
    "\n",
    "    - p(J) = $\\frac{4}{52}$, p(hearts) = $\\frac{13}{52}$, p(J and hearts) = $\\frac{1}{52}$\n",
    "    - p(J or hearts) = $\\frac{4}{52} + \\frac{13}{52} - \\frac{1}{52}$ = $\\frac{16}{52}$ (1 event is common in both conditions -> J of hearts) = p(J) + p(hearts) - p(J and hearts)\n",
    "    \n",
    "1. we have a bag with 9 red, 2 blue, 3 green marbles.\n",
    "\n",
    "    - What is the probability of selecting a non-blue marble? - not blue = 9 red and 3 green = $\\frac{12}{14}$"
   ]
  },
  {
   "cell_type": "markdown",
   "metadata": {
    "tags": []
   },
   "source": [
    "## Conditional Probability & Independence\n",
    "\n",
    "When we have 2 events and they are dependent, like when one event occurs, it effects the possibility or beliefs of second event, then there is a factor of conditional probability.\n",
    "\n",
    "Let A, B be general events with respect to a sample space $\\Omega$ and P(A) > 0, the conditional probability of event B when given event A is \n",
    "\n",
    "\\begin{equation}\n",
    "    P(B|A) = \\frac{P(A \\cap B)}{P(A)}\n",
    "\\end{equation}"
   ]
  },
  {
   "cell_type": "markdown",
   "metadata": {
    "tags": []
   },
   "source": [
    "**Total Probability Formula**\\\n",
    "if we have bunch of events $A_1, A_2, A_3, ..., A_k$ part of a sample space $\\Omega$\n",
    "\n",
    "with condition\n",
    "\n",
    "$A_i \\cap A_j = \\phi$ for all $i \\ne j$ and \n",
    "\n",
    "$\\cup_{i=1}^{k}A_i = \\Omega$ and\n",
    "\n",
    "\n",
    "$0 \\lt P(A_i) \\lt 1$ then"
   ]
  },
  {
   "cell_type": "markdown",
   "metadata": {
    "tags": []
   },
   "source": [
    "\\begin{equation}\n",
    "    P(B) = \\sum_{i = 1}^{k} P(B|A_i)P(A_i)\n",
    "\\end{equation}"
   ]
  },
  {
   "cell_type": "markdown",
   "metadata": {
    "tags": []
   },
   "source": [
    "## Compound Probability"
   ]
  },
  {
   "cell_type": "markdown",
   "metadata": {},
   "source": [
    "$P(A \\text{ or } B) = P(A) + P(B) - P(A \\text{ and } B)$\n",
    "\n",
    "or \n",
    "\n",
    "$P(A \\cup B) = P(A) + P(B) - P(A \\cap B)$"
   ]
  }
 ],
 "metadata": {
  "kernelspec": {
   "display_name": "Python 3",
   "language": "python",
   "name": "python3"
  },
  "language_info": {
   "codemirror_mode": {
    "name": "ipython",
    "version": 3
   },
   "file_extension": ".py",
   "mimetype": "text/x-python",
   "name": "python",
   "nbconvert_exporter": "python",
   "pygments_lexer": "ipython3",
   "version": "3.8.3"
  }
 },
 "nbformat": 4,
 "nbformat_minor": 4
}
