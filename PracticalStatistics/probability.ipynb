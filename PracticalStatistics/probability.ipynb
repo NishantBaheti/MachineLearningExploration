{
 "cells": [
  {
   "cell_type": "markdown",
   "metadata": {},
   "source": [
    "# Probability"
   ]
  },
  {
   "cell_type": "code",
   "execution_count": 1,
   "metadata": {},
   "outputs": [],
   "source": [
    "import numpy as np\n",
    "import matplotlib.pyplot as plt"
   ]
  },
  {
   "cell_type": "code",
   "execution_count": 14,
   "metadata": {},
   "outputs": [],
   "source": [
    "plt.rcParams.update({\n",
    "    \"figure.figsize\" : (10,5)\n",
    "})"
   ]
  },
  {
   "cell_type": "markdown",
   "metadata": {},
   "source": [
    "## References\n",
    "\n",
    "\n",
    "[khanacademy](https://www.youtube.com/user/khanacademy), [Stanford edu](https://stanford.edu/~shervine/teaching/cs-229/refresher-probabilities-statistics), [University of Toronto](http://www.utstat.toronto.edu/mikevans/jeffrosenthal/book.pdf), [Probabilty for Statistics and Machine Learning](https://www.amazon.in/Probability-Statistics-Machine-Learning-Fundamentals-ebook/dp/B00F5UGP0O)"
   ]
  },
  {
   "cell_type": "markdown",
   "metadata": {
    "toc-hr-collapsed": true
   },
   "source": [
    "\n",
    "## Definition \n",
    "\n",
    "Probability is the science of uncertainty. Probability is a universally accepted tool for expressing degrees of confidence or\n",
    "doubt about some proposition in the presence of incomplete information or uncertainty."
   ]
  },
  {
   "cell_type": "markdown",
   "metadata": {},
   "source": [
    "## Infinite Series\n",
    "\n",
    "We can understand a series like a sequence of operations done till the success result is achieved.\n",
    "lets say success is achieved at Nth operation then N-1 operations are sequence of failures."
   ]
  },
  {
   "cell_type": "markdown",
   "metadata": {},
   "source": [
    "### Geometric Series\n",
    "\n",
    "- sum of a finite or infinite sequence of numbers with constant ratio between successive terms.\n",
    "- these events are discrete.\n",
    "\n",
    "\\begin{align}\n",
    "\\text{finite series } &= \\{1, r, r^{2}, ..., r^{n}\\}\\\\\n",
    "\\text{infinite series } &= \\{1, r, r^{2}, r^{3}, ... \\}\n",
    "\\end{align}\n",
    "\n",
    "\\begin{align}\n",
    "\\text{sum of finite series } &= 1 + r + r^{2} + ... + r^{n} = \\sum_{k=1}^{n} r^n = \\frac{1 - r^{n+1}}{1 - r}\\\\\n",
    "\\text{sum of infinite series } &= 1 + r + r^{2} + r^{3} + ... = \\sum_{k=1}^{\\infty} r^n =  \\frac{1}{1 - r}\n",
    "\\end{align}\n",
    "\n",
    "\n",
    "> below example is of probability of getting a head after N-1 operations."
   ]
  },
  {
   "cell_type": "code",
   "execution_count": 22,
   "metadata": {},
   "outputs": [
    {
     "data": {
      "image/png": "[encoded data removed]",
      "text/plain": [
       "<Figure size 720x360 with 1 Axes>"
      ]
     },
     "metadata": {
      "needs_background": "light"
     },
     "output_type": "display_data"
    }
   ],
   "source": [
    "k = np.arange(1, 20)\n",
    "r = 0.5\n",
    "\n",
    "x = np.power(r, k)\n",
    "cs = x.cumsum()\n",
    "\n",
    "plt.bar(k, x, label='geometric series')\n",
    "plt.plot(k, cs, 'k.-', label='cumulative sum')\n",
    "plt.xticks(k)\n",
    "plt.legend()\n",
    "plt.grid()"
   ]
  },
  {
   "cell_type": "markdown",
   "metadata": {},
   "source": [
    "first bar probability of getting a head on first toss 0.5, second bar proabability of getting one head on second toss(first toss was tail) 0.25,\n",
    "third bar probability of getting a head on third toss after 2 failures (tails) 0.125."
   ]
  },
  {
   "cell_type": "markdown",
   "metadata": {},
   "source": [
    "### Binomial Series\n",
    "\n",
    "\n",
    "Difference from Geometric Series is GS deals with dependent sequential operations and Binomial Series deals with unique independent operations done repeatedly.\n",
    "\n",
    "Like getting exactly one head if three coins are flipped or three independent operations of flipping coins and we look for all possible combinations for the event.\n",
    "\n",
    "\n",
    "\\begin{align}\n",
    "(a + b)^n &= \\sum_{k=0}^{n} {n \\choose k} a^{n-k} b^k\n",
    "\\end{align}\n",
    "\n",
    "\n",
    "\\begin{align}\n",
    "\\text{where }\n",
    "{n \\choose k} &= \\text{ n choose k } = \\frac{n!}{k!(n-k)!}\\\\\n",
    "a, b &= \\text{real numbers}\n",
    "\\end{align}"
   ]
  },
  {
   "cell_type": "code",
   "execution_count": 32,
   "metadata": {},
   "outputs": [
    {
     "data": {
      "text/plain": [
       "(45.0, 2.0)"
      ]
     },
     "execution_count": 32,
     "metadata": {},
     "output_type": "execute_result"
    }
   ],
   "source": [
    "from scipy.special import comb, factorial\n",
    "\n",
    "n = 10\n",
    "k = 2\n",
    "\n",
    "( \n",
    "    comb(n, k), # n choose k \n",
    "    factorial(k)\n",
    ")"
   ]
  },
  {
   "cell_type": "markdown",
   "metadata": {},
   "source": [
    "#### Pascal's Identity\n",
    "\n",
    "let n and k be positive integers, such that $k \\le n$\n",
    "\n",
    "\n",
    "\\begin{align}\n",
    "{n \\choose k} &+ {n \\choose k-1} = {n+1 \\choose k}\\\\\n",
    "\\text{or}\\\\\n",
    "{n \\choose k} &= {n-1 \\choose k-1} + {n-1 \\choose k}\n",
    "\\end{align}"
   ]
  },
  {
   "cell_type": "markdown",
   "metadata": {},
   "source": [
    "**Pascals Triangle**\n",
    "\n",
    "```\n",
    "                     1\n",
    "                     \n",
    "                 1       1\n",
    "                   \n",
    "             1       2       1\n",
    "             \n",
    "         1       3       3       1\n",
    "             __________\n",
    "     1      | 4      6 |      4       1\n",
    "            |  \\    /  |\n",
    " 1       5  |    10    | 10      5       1\n",
    "```"
   ]
  },
  {
   "cell_type": "markdown",
   "metadata": {},
   "source": [
    "\\begin{matrix}\n",
    "& 4   &&   && 6\\\\\n",
    "& & \\searrow  && \\swarrow\\\\\n",
    "& && 10\n",
    "\\end{matrix}"
   ]
  },
  {
   "cell_type": "markdown",
   "metadata": {},
   "source": [
    "## Spaces \n",
    "\n",
    "**Sample Space $\\Omega$** The set of all possible outcomes of an experiment is known as the sample space of the experiment ($\\xi$) and is denoted by S.\n",
    "\n",
    "**Event Space** E Let $\\Omega$ be the sample space of an experiment . Then any subset A of $\\Omega$, including the empty set $\\phi$ and the entire sample space $\\Omega$ is called an event.\n"
   ]
  },
  {
   "cell_type": "markdown",
   "metadata": {},
   "source": [
    "\\begin{align}\n",
    "\\text{probability} = \\frac{\\text{# of possibilities that meet my conditions}}{\\text{# of equally likely possibilities}}\n",
    "\\end{align}"
   ]
  },
  {
   "cell_type": "markdown",
   "metadata": {},
   "source": [
    "Some very simple eamples of probability with single event\n",
    "\n",
    "1. tossing a fair coin once. (H, T)\n",
    "\n",
    "    - Probability of getting a head | p(H)= $\\frac{1}{2}$, Probability of getting a head and a tail | p(H or T)= 1 (duh..)\n",
    "    - Probability of getting a head and a tail | p(H and T)= 0 (mutually exclusive events)\n",
    "\n",
    "1. rolling a fair dice once. (1, 2, 3, 4, 5, 6)\n",
    "\n",
    "    - Probability of getting 2 | p(2)= $\\frac{1}{6}$\n",
    "    - p(2 or 6) = $\\frac{2}{6}$ = $\\frac{1}{3}$, p(even) = $\\frac{3}{6}$\n",
    "    - p(2 and 6) = 0 (mutually exclusive events)\n",
    "\n",
    "1. picking a card from a fair deck. cards=(A, K, Q, J, 10, ..., 2) suits=(hearts, spade, diamonds, clubs)\n",
    "\n",
    "    - p(J) = $\\frac{4}{52}$, p(hearts) = $\\frac{13}{52}$, p(J and hearts) = $\\frac{1}{52}$\n",
    "    - p(J or hearts) = $\\frac{4}{52} + \\frac{13}{52} - \\frac{1}{52}$ = $\\frac{16}{52}$ (1 event is common in both conditions -> J of hearts) = p(J) + p(hearts) - p(J and hearts)\n",
    "    \n",
    "1. we have a bag with 9 red, 2 blue, 3 green marbles.\n",
    "\n",
    "    - What is the probability of selecting a non-blue marble? - not blue = 9 red and 3 green = $\\frac{12}{14}$"
   ]
  },
  {
   "cell_type": "markdown",
   "metadata": {
    "tags": []
   },
   "source": [
    "## Conditional Probability & Independence\n",
    "\n",
    "When we have 2 events and they are dependent, like when one event occurs, it effects the possibility or beliefs of second event, then there is a factor of conditional probability.\n",
    "\n",
    "Let A, B be general events with respect to a sample space $\\Omega$ and P(A) > 0, the conditional probability of event B when given event A is \n",
    "\n",
    "\\begin{equation}\n",
    "P(B|A) = \\frac{P(A \\cap B)}{P(A)}\n",
    "\\end{equation}"
   ]
  },
  {
   "cell_type": "markdown",
   "metadata": {
    "tags": []
   },
   "source": [
    "**Total Probability Formula**\\\n",
    "if we have bunch of events $A_1, A_2, A_3, ..., A_k$ part of a sample space $\\Omega$\n",
    "\n",
    "with condition\n",
    "\n",
    "$A_i \\cap A_j = \\phi$ for all $i \\ne j$ and \n",
    "\n",
    "$\\cup_{i=1}^{k}A_i = \\Omega$ and\n",
    "\n",
    "\n",
    "$0 \\lt P(A_i) \\lt 1$ then"
   ]
  },
  {
   "cell_type": "markdown",
   "metadata": {
    "tags": []
   },
   "source": [
    "\\begin{equation}\n",
    "P(B) = \\sum_{i = 1}^{k} P(B|A_i)P(A_i)\n",
    "\\end{equation}"
   ]
  },
  {
   "cell_type": "markdown",
   "metadata": {
    "tags": []
   },
   "source": [
    "## Compound Probability"
   ]
  },
  {
   "cell_type": "markdown",
   "metadata": {},
   "source": [
    "$P(A \\text{ or } B) = P(A) + P(B) - P(A \\text{ and } B)$\n",
    "\n",
    "or \n",
    "\n",
    "$P(A \\cup B) = P(A) + P(B) - P(A \\cap B)$"
   ]
  }
 ],
 "metadata": {
  "kernelspec": {
   "display_name": "Python 3.8.3 64-bit ('base': conda)",
   "language": "python",
   "name": "python383jvsc74a57bd0dba788e4a50ad11c3aca04f6a487ccbbf2decea49c956f88ab099965f16291a4"
  },
  "language_info": {
   "codemirror_mode": {
    "name": "ipython",
    "version": 3
   },
   "file_extension": ".py",
   "mimetype": "text/x-python",
   "name": "python",
   "nbconvert_exporter": "python",
   "pygments_lexer": "ipython3",
   "version": "3.8.3"
  }
 },
 "nbformat": 4,
 "nbformat_minor": 4
}
