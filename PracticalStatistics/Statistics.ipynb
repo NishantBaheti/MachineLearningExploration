{
 "cells": [
  {
   "cell_type": "markdown",
   "metadata": {},
   "source": [
    "# Statistics"
   ]
  },
  {
   "cell_type": "code",
   "execution_count": 1,
   "metadata": {},
   "outputs": [],
   "source": [
    "from scipy import stats \n",
    "import numpy as np \n",
    "import matplotlib.pyplot as plt \n",
    "from matplotlib import style"
   ]
  },
  {
   "cell_type": "markdown",
   "metadata": {},
   "source": [
    "## Type of data"
   ]
  },
  {
   "cell_type": "markdown",
   "metadata": {},
   "source": [
    "### Continuous\n",
    "\n",
    "Any value within an interval is acceptable. like float, interval"
   ]
  },
  {
   "cell_type": "code",
   "execution_count": 2,
   "metadata": {},
   "outputs": [
    {
     "data": {
      "text/plain": [
       "array([0.89199289, 0.18974373, 0.35415226, 0.97351519, 0.12765416,\n",
       "       0.68372835, 0.02201236, 0.81917095, 0.19423671, 0.07862826])"
      ]
     },
     "execution_count": 2,
     "metadata": {},
     "output_type": "execute_result"
    }
   ],
   "source": [
    "cv = np.random.random_sample(10) # continuous values \n",
    "cv"
   ]
  },
  {
   "cell_type": "markdown",
   "metadata": {},
   "source": [
    "### Discrete\n",
    "\n",
    "Only integers are acceptable. countables."
   ]
  },
  {
   "cell_type": "code",
   "execution_count": 3,
   "metadata": {},
   "outputs": [
    {
     "data": {
      "text/plain": [
       "array([3, 9, 7, 3, 1, 4, 1, 5, 0, 1])"
      ]
     },
     "execution_count": 3,
     "metadata": {},
     "output_type": "execute_result"
    }
   ],
   "source": [
    "dv = np.random.randint(0,10,10) # discrete values \n",
    "dv"
   ]
  },
  {
   "cell_type": "markdown",
   "metadata": {},
   "source": [
    "### Categorical"
   ]
  },
  {
   "cell_type": "markdown",
   "metadata": {},
   "source": [
    "#### Ordinal\n",
    "\n",
    "Categorical data with explicit ordering. Like encoded in a series"
   ]
  },
  {
   "cell_type": "code",
   "execution_count": 6,
   "metadata": {},
   "outputs": [
    {
     "data": {
      "text/plain": [
       "array([1, 2, 3, 4, 5])"
      ]
     },
     "execution_count": 6,
     "metadata": {},
     "output_type": "execute_result"
    }
   ],
   "source": [
    "np.array([1, 2, 3, 4, 5])"
   ]
  },
  {
   "cell_type": "markdown",
   "metadata": {},
   "source": [
    "#### Nominal\n",
    "\n",
    "specific set of values from a category. there is no ordering, counting."
   ]
  },
  {
   "cell_type": "code",
   "execution_count": 4,
   "metadata": {},
   "outputs": [
    {
     "data": {
      "text/plain": [
       "array(['apple', 'orange', 'grapes'], dtype='<U6')"
      ]
     },
     "execution_count": 4,
     "metadata": {},
     "output_type": "execute_result"
    }
   ],
   "source": [
    "np.array([\n",
    "    'apple',\n",
    "    'orange',\n",
    "    'grapes'\n",
    "])"
   ]
  },
  {
   "cell_type": "markdown",
   "metadata": {},
   "source": [
    "### Binary\n",
    "\n",
    "only two possible categories, like a switch."
   ]
  },
  {
   "cell_type": "code",
   "execution_count": 5,
   "metadata": {},
   "outputs": [
    {
     "data": {
      "text/plain": [
       "array([ True, False])"
      ]
     },
     "execution_count": 5,
     "metadata": {},
     "output_type": "execute_result"
    }
   ],
   "source": [
    "np.array([True, False])"
   ]
  },
  {
   "cell_type": "markdown",
   "metadata": {},
   "source": [
    "## Location Estimates"
   ]
  },
  {
   "cell_type": "markdown",
   "metadata": {},
   "source": [
    "### mean(average)"
   ]
  },
  {
   "cell_type": "markdown",
   "metadata": {},
   "source": [
    "$\\mu=\\frac{1}{m}\\sum_{i=1}^{m}X^{(i)}$"
   ]
  },
  {
   "cell_type": "code",
   "execution_count": 7,
   "metadata": {},
   "outputs": [
    {
     "data": {
      "text/plain": [
       "(array([3, 9, 7, 3, 1, 4, 1, 5, 0, 1]), 3.4)"
      ]
     },
     "execution_count": 7,
     "metadata": {},
     "output_type": "execute_result"
    }
   ],
   "source": [
    "dv,dv.mean()"
   ]
  },
  {
   "cell_type": "markdown",
   "metadata": {},
   "source": [
    "### trimmed mean\n",
    "\n",
    "sorted values are trimmed p values from edges,to remove extreme values for mean calculation.\n",
    "\n",
    "$\\mu = \\frac{\\sum_{i=p+1}^{m-p} X^{(i)}}{m - 2p}$"
   ]
  },
  {
   "cell_type": "code",
   "execution_count": 8,
   "metadata": {},
   "outputs": [
    {
     "data": {
      "text/plain": [
       "(array([0, 1, 1, 1, 3, 3, 4, 5, 7, 9]), 2.8333333333333335)"
      ]
     },
     "execution_count": 8,
     "metadata": {},
     "output_type": "execute_result"
    }
   ],
   "source": [
    "p = 2\n",
    "\n",
    "dv.sort()\n",
    "\n",
    "dv, dv[p : -p].mean()"
   ]
  },
  {
   "cell_type": "markdown",
   "metadata": {},
   "source": [
    "### weighted mean\n",
    "\n",
    "mean where weights are associated to the values."
   ]
  },
  {
   "cell_type": "markdown",
   "metadata": {},
   "source": [
    "$\\mu_w=\\frac{\\sum_{i=1}^{m} w^{(i)} X^{(i)}}{\\sum_{i=1}^{m}w^{(i)}}$"
   ]
  },
  {
   "cell_type": "code",
   "execution_count": 9,
   "metadata": {},
   "outputs": [
    {
     "data": {
      "text/plain": [
       "(array([0.14768283, 0.09564079, 0.52306769, 0.84237606, 0.78810103,\n",
       "        0.57874411, 0.32174323, 0.66985746, 0.13460187, 0.29245975]),\n",
       " array([2, 2, 2, 1, 1, 3, 3, 3, 1, 2]),\n",
       " 0.4296907736998545)"
      ]
     },
     "execution_count": 9,
     "metadata": {},
     "output_type": "execute_result"
    }
   ],
   "source": [
    "x = np.random.random_sample(10) \n",
    "w = np.random.randint(1,4,10)\n",
    "\n",
    "x, w, (x * w).sum() / w.sum()"
   ]
  },
  {
   "cell_type": "markdown",
   "metadata": {},
   "source": [
    "### median\n",
    "\n",
    "the value such that one-half of the data lies above and below.\n",
    "(like 50th percentile)\n",
    "\n",
    "why do we need median? It has less sensitive to data but still what value it can give. median only depends on the data that is located in the center of the sorted array.\n",
    "\n",
    "so lets take an example of comparing two sets of values of incomes of two regions. if one region has an outlier(very very very rich people). then mean will be a lot different then median. so to compare most common salaries of these two regions, mean will not give best results."
   ]
  },
  {
   "cell_type": "code",
   "execution_count": 10,
   "metadata": {},
   "outputs": [
    {
     "data": {
      "text/plain": [
       "array([0.53757752, 0.7827481 , 0.15776679, 0.96320138, 0.65593076,\n",
       "       0.28425294, 0.86473851, 0.26543403, 0.65567153, 0.05360534])"
      ]
     },
     "execution_count": 10,
     "metadata": {},
     "output_type": "execute_result"
    }
   ],
   "source": [
    "x = np.random.random_sample(10) \n",
    "x"
   ]
  },
  {
   "cell_type": "code",
   "execution_count": 11,
   "metadata": {},
   "outputs": [
    {
     "data": {
      "text/plain": [
       "([0.05360534323486421,\n",
       "  0.15776678761641993,\n",
       "  0.26543402879490063,\n",
       "  0.2842529377915659,\n",
       "  0.5375775215165531,\n",
       "  0.6556715328432633,\n",
       "  0.6559307577296513,\n",
       "  0.7827481023250105,\n",
       "  0.8647385063904016,\n",
       "  0.9632013818614619],\n",
       " 0.5966245271799082)"
      ]
     },
     "execution_count": 11,
     "metadata": {},
     "output_type": "execute_result"
    }
   ],
   "source": [
    "sorted(x), np.median(x)"
   ]
  },
  {
   "cell_type": "markdown",
   "metadata": {},
   "source": [
    "### mode\n",
    "\n",
    "The most commonly occurring category or value in a data set.\n",
    "`It is generally used for categorical dataset and not for numerical dataset.`"
   ]
  },
  {
   "cell_type": "code",
   "execution_count": 12,
   "metadata": {},
   "outputs": [],
   "source": [
    "categorical_data = np.array([\n",
    "    'apple',\n",
    "    'orange',\n",
    "    'mango',\n",
    "    'orange',\n",
    "    'orange',\n",
    "    'orange',\n",
    "    'mango',\n",
    "    'mango',\n",
    "    'mango'\n",
    "])"
   ]
  },
  {
   "cell_type": "code",
   "execution_count": 13,
   "metadata": {},
   "outputs": [],
   "source": [
    "from collections import Counter"
   ]
  },
  {
   "cell_type": "code",
   "execution_count": 14,
   "metadata": {},
   "outputs": [
    {
     "data": {
      "text/plain": [
       "Counter({'apple': 1, 'orange': 4, 'mango': 4})"
      ]
     },
     "execution_count": 14,
     "metadata": {},
     "output_type": "execute_result"
    }
   ],
   "source": [
    "category_counts = Counter(categorical_data)\n",
    "category_counts"
   ]
  },
  {
   "cell_type": "code",
   "execution_count": 15,
   "metadata": {},
   "outputs": [
    {
     "data": {
      "text/plain": [
       "Text(0, 0.5, 'Frequency')"
      ]
     },
     "execution_count": 15,
     "metadata": {},
     "output_type": "execute_result"
    },
    {
     "data": {
      "image/png": "[encoded data removed]",
      "text/plain": [
       "<Figure size 432x288 with 1 Axes>"
      ]
     },
     "metadata": {
      "needs_background": "light"
     },
     "output_type": "display_data"
    }
   ],
   "source": [
    "plt.bar(category_counts.keys(),category_counts.values())\n",
    "plt.title(\"Frequency Table\")\n",
    "plt.xlabel(\"category\")\n",
    "plt.ylabel(\"Frequency\")"
   ]
  },
  {
   "cell_type": "code",
   "execution_count": 16,
   "metadata": {},
   "outputs": [
    {
     "data": {
      "text/plain": [
       "Counter({'apple': 1, 'orange': 4, 'mango': 4})"
      ]
     },
     "execution_count": 16,
     "metadata": {},
     "output_type": "execute_result"
    }
   ],
   "source": [
    "category_counts"
   ]
  },
  {
   "cell_type": "code",
   "execution_count": 17,
   "metadata": {},
   "outputs": [
    {
     "data": {
      "image/png": "[encoded data removed]",
      "text/plain": [
       "<Figure size 432x288 with 1 Axes>"
      ]
     },
     "metadata": {},
     "output_type": "display_data"
    }
   ],
   "source": [
    "plt.pie(category_counts.values(),labels=category_counts.keys(),autopct='%1.1f%%')\n",
    "plt.show()"
   ]
  },
  {
   "cell_type": "code",
   "execution_count": 18,
   "metadata": {},
   "outputs": [
    {
     "data": {
      "text/plain": [
       "ModeResult(mode=array(['mango'], dtype='<U6'), count=array([4]))"
      ]
     },
     "execution_count": 18,
     "metadata": {},
     "output_type": "execute_result"
    }
   ],
   "source": [
    "stats.mode(categorical_data)"
   ]
  },
  {
   "cell_type": "markdown",
   "metadata": {},
   "source": [
    "## Variability Estimates\n",
    "\n",
    "variability or dispersion to signify whether the data values are tightly clustered or spread out."
   ]
  },
  {
   "cell_type": "markdown",
   "metadata": {},
   "source": [
    "### deviation\n",
    "\n",
    "difference between observed value and estimate of location."
   ]
  },
  {
   "cell_type": "markdown",
   "metadata": {},
   "source": [
    "### mean absolute deviation (MAD)\n",
    "\n",
    "$\\text{mean absolute deviation} = \\frac{\\sum{|x - \\bar{x}|}}{n}$\n",
    "\n",
    "like manhattan norm, l1-norm"
   ]
  },
  {
   "cell_type": "code",
   "execution_count": 19,
   "metadata": {},
   "outputs": [
    {
     "data": {
      "text/plain": [
       "array([0.83759275, 0.24713677, 0.67657454, 0.91774632, 0.14684808,\n",
       "       0.11503034, 0.39866997, 0.16149392, 0.72454432, 0.36130187])"
      ]
     },
     "execution_count": 19,
     "metadata": {},
     "output_type": "execute_result"
    }
   ],
   "source": [
    "x = np.random.random_sample(10) \n",
    "x"
   ]
  },
  {
   "cell_type": "code",
   "execution_count": 20,
   "metadata": {},
   "outputs": [
    {
     "data": {
      "text/plain": [
       "(array([0.83759275, 0.24713677, 0.67657454, 0.91774632, 0.14684808,\n",
       "        0.11503034, 0.39866997, 0.16149392, 0.72454432, 0.36130187]),\n",
       " 0.264336475362879)"
      ]
     },
     "execution_count": 20,
     "metadata": {},
     "output_type": "execute_result"
    }
   ],
   "source": [
    "x, np.abs(x - x.mean()).sum() / x.shape[0]"
   ]
  },
  {
   "cell_type": "markdown",
   "metadata": {},
   "source": [
    "### variance \n",
    "\n",
    "population variance $\\sigma^2 = \\frac{\\sum{(x - \\mu)^2}}{n}$\n",
    "\n",
    "sample variance $s^2 = \\frac{\\sum{(x - \\bar{x})^2}}{n-1}$\n"
   ]
  },
  {
   "cell_type": "markdown",
   "metadata": {},
   "source": [
    "Alternate formula\n",
    "\n",
    "\\begin{align}\n",
    "    \\Sigma{(x - \\mu)}^2 &= \\Sigma{(x^2 - 2 x \\mu + \\mu^2)}\\\\\n",
    "    &= \\Sigma{x^2} - 2 \\mu \\Sigma{x} + \\Sigma \\mu^2\\\\\n",
    "    \\because \\Sigma{x} = n\\mu\\\\\n",
    "    &= \\Sigma{x^2} - 2n \\mu^2 + \\mu^2 \\Sigma{1}\\\\\n",
    "    &= \\Sigma{x^2} - 2n \\mu^2 + n\\mu^2\\\\\n",
    "    \\Sigma{(x - \\mu)}^2 &= \\Sigma{x^2} - n \\mu^2\\\\\n",
    "    \\sigma^2 &= \\frac{\\sum{(x - \\mu)^2}}{n} = \\frac{\\Sigma{x^2}}{n} - \\mu^2\n",
    "\\end{align}"
   ]
  },
  {
   "cell_type": "markdown",
   "metadata": {},
   "source": [
    "average of squared difference of each datapoint from dataset's mean"
   ]
  },
  {
   "cell_type": "code",
   "execution_count": 21,
   "metadata": {},
   "outputs": [
    {
     "data": {
      "text/plain": [
       "([0, 1, 1, 1, 3, 3, 4, 5, 7, 9], 7.639999999999999, 7.639999999999999)"
      ]
     },
     "execution_count": 21,
     "metadata": {},
     "output_type": "execute_result"
    }
   ],
   "source": [
    "sorted(dv), dv.var(), np.square(dv - dv.mean()).sum() / dv.shape[0] #ddof = 0"
   ]
  },
  {
   "cell_type": "code",
   "execution_count": 22,
   "metadata": {},
   "outputs": [
    {
     "data": {
      "text/plain": [
       "(8.488888888888887, 8.488888888888887)"
      ]
     },
     "execution_count": 22,
     "metadata": {},
     "output_type": "execute_result"
    }
   ],
   "source": [
    "dv.var(ddof=1), np.square(dv - dv.mean()).sum() / (dv.shape[0] - 1) #ddof = 1"
   ]
  },
  {
   "cell_type": "markdown",
   "metadata": {
    "tags": []
   },
   "source": [
    "### degree of freedom(dof)\n",
    "\n",
    "degree of freedom describes freedomto vary. The number of observations in data that are free to vary while estimating statistical parameters.\n",
    "\n",
    "eg:- if there are 10 values and sum of all values = n * avg\\\n",
    "like avg = 3.5 and sum of all values = 35\n",
    "\n",
    "so with possibility that first value could vary and so on 9 values are free to vary but the 10th value is not free to vary because the sum should be 35.\n",
    "\n",
    "`10th value should be a specific number.`\n",
    "\n",
    "degree of freedom = number of observation - number of required relations among the observations"
   ]
  },
  {
   "cell_type": "markdown",
   "metadata": {},
   "source": [
    "In variance denominator is n-1 not n. But why though? generally n is too large so n or n-1 doesn't create much difference. \n",
    "\n",
    "but if we use n as denominator in variance formula, we are underestimating the true value of variance and std deviation in the population. Called **biased estimate**\n",
    "\n",
    "and if we use n-1 as denominator then standard deviation becomes an **unbiased estimate**\n"
   ]
  },
  {
   "cell_type": "markdown",
   "metadata": {},
   "source": [
    "### standard deviation \n",
    "\n",
    "standard deviation is easier to explain as it is on the same scale as the original data.\n",
    "\n",
    "\n",
    "population standard deviation $\\sigma = \\sqrt \\frac{\\sum{(x - \\mu)^2}}{n}$\n",
    "\n",
    "sample standard deviation $s = \\sqrt \\frac{\\sum{(x - \\bar{x})^2}}{n-1}$"
   ]
  },
  {
   "cell_type": "code",
   "execution_count": 23,
   "metadata": {},
   "outputs": [
    {
     "data": {
      "text/plain": [
       "(array([0, 1, 1, 1, 3, 3, 4, 5, 7, 9]), 2.7640549922170505)"
      ]
     },
     "execution_count": 23,
     "metadata": {},
     "output_type": "execute_result"
    }
   ],
   "source": [
    "## sqrt of variance \n",
    "dv, dv.std(ddof=0) # ddof = 0"
   ]
  },
  {
   "cell_type": "code",
   "execution_count": 24,
   "metadata": {},
   "outputs": [
    {
     "data": {
      "text/plain": [
       "(array([0, 1, 1, 1, 3, 3, 4, 5, 7, 9]), 2.913569784454954)"
      ]
     },
     "execution_count": 24,
     "metadata": {},
     "output_type": "execute_result"
    }
   ],
   "source": [
    "dv, dv.std(ddof=1) # ddof = 1"
   ]
  },
  {
   "cell_type": "markdown",
   "metadata": {},
   "source": [
    "### range (max - min)"
   ]
  },
  {
   "cell_type": "code",
   "execution_count": 25,
   "metadata": {},
   "outputs": [
    {
     "data": {
      "text/plain": [
       "(array([0, 1, 1, 1, 3, 3, 4, 5, 7, 9]), 9)"
      ]
     },
     "execution_count": 25,
     "metadata": {},
     "output_type": "execute_result"
    }
   ],
   "source": [
    "dv, np.ptp(dv)"
   ]
  },
  {
   "cell_type": "markdown",
   "metadata": {},
   "source": [
    "### percentile \n",
    "\n",
    "$Percentile = \\frac{rank of value(r_x)}{total values(N)} * 100$\n",
    "\n",
    "$r_x = \\frac{Percentile}{100} * {N}$\n"
   ]
  },
  {
   "cell_type": "code",
   "execution_count": 26,
   "metadata": {},
   "outputs": [
    {
     "data": {
      "text/plain": [
       "(array([0, 1, 1, 1, 3, 3, 4, 5, 7, 9]), 9)"
      ]
     },
     "execution_count": 26,
     "metadata": {},
     "output_type": "execute_result"
    }
   ],
   "source": [
    "## a value ,below which lies given the percentage of data points \n",
    "dv,np.percentile(dv,100,interpolation='lower')"
   ]
  },
  {
   "cell_type": "markdown",
   "metadata": {},
   "source": [
    "### Quartiles "
   ]
  },
  {
   "cell_type": "code",
   "execution_count": 27,
   "metadata": {},
   "outputs": [
    {
     "data": {
      "text/plain": [
       "(array([0, 1, 1, 1, 3, 3, 4, 5, 7, 9]), array([1, 3, 4]))"
      ]
     },
     "execution_count": 27,
     "metadata": {},
     "output_type": "execute_result"
    }
   ],
   "source": [
    "dv, np.percentile(dv,[25,50,75],interpolation='lower')"
   ]
  },
  {
   "cell_type": "markdown",
   "metadata": {},
   "source": [
    "### Inter Quartile Range (IQR) "
   ]
  },
  {
   "cell_type": "code",
   "execution_count": 28,
   "metadata": {},
   "outputs": [
    {
     "data": {
      "text/plain": [
       "(array([0, 1, 1, 1, 3, 3, 4, 5, 7, 9]), 3)"
      ]
     },
     "execution_count": 28,
     "metadata": {},
     "output_type": "execute_result"
    }
   ],
   "source": [
    "## difference between third quartile Q3 and first quartile Q1\n",
    "\n",
    "dv, stats.iqr(dv,rng=(25,75),interpolation=\"lower\")"
   ]
  },
  {
   "cell_type": "markdown",
   "metadata": {},
   "source": [
    "### skewness\n",
    "- majority of the data present on side of the distribution \n",
    "\n",
    "||||\n",
    "|-|-|-|\n",
    "| right skewed | positive value |\n",
    "| left skewed | negative value |\n",
    "| unskewed | zero |"
   ]
  },
  {
   "cell_type": "markdown",
   "metadata": {},
   "source": [
    "#### unskewed"
   ]
  },
  {
   "cell_type": "code",
   "execution_count": 29,
   "metadata": {},
   "outputs": [],
   "source": [
    "np.random.seed(0)"
   ]
  },
  {
   "cell_type": "code",
   "execution_count": 30,
   "metadata": {},
   "outputs": [],
   "source": [
    "ucv = stats.norm(0,1).rvs(10000)"
   ]
  },
  {
   "cell_type": "code",
   "execution_count": 31,
   "metadata": {},
   "outputs": [],
   "source": [
    "ucv.sort()\n",
    "pdf = stats.norm.pdf(ucv)"
   ]
  },
  {
   "cell_type": "code",
   "execution_count": 32,
   "metadata": {},
   "outputs": [
    {
     "data": {
      "image/png": "[encoded data removed]",
      "text/plain": [
       "<Figure size 432x288 with 1 Axes>"
      ]
     },
     "metadata": {
      "needs_background": "light"
     },
     "output_type": "display_data"
    }
   ],
   "source": [
    "plt.axvline(ucv.mean(),color='k')\n",
    "plt.plot(ucv,pdf)\n",
    "plt.hist(ucv,bins=20,density=True,alpha=0.7)\n",
    "plt.boxplot(ucv,vert=False)\n",
    "plt.show()"
   ]
  },
  {
   "cell_type": "code",
   "execution_count": 33,
   "metadata": {},
   "outputs": [
    {
     "data": {
      "text/plain": [
       "0.026634616738395525"
      ]
     },
     "execution_count": 33,
     "metadata": {},
     "output_type": "execute_result"
    }
   ],
   "source": [
    "## skewness\n",
    "stats.skew(ucv)"
   ]
  },
  {
   "cell_type": "markdown",
   "metadata": {},
   "source": [
    "#### left skewed"
   ]
  },
  {
   "cell_type": "code",
   "execution_count": 35,
   "metadata": {},
   "outputs": [],
   "source": [
    "scv = stats.skewnorm.rvs(4,size=10000)"
   ]
  },
  {
   "cell_type": "code",
   "execution_count": 36,
   "metadata": {},
   "outputs": [
    {
     "data": {
      "image/png": "[encoded data removed]",
      "text/plain": [
       "<Figure size 432x288 with 1 Axes>"
      ]
     },
     "metadata": {
      "needs_background": "light"
     },
     "output_type": "display_data"
    }
   ],
   "source": [
    "plt.axvline(scv.mean(),color='k')\n",
    "plt.hist(scv,bins=20,density=True,alpha=0.7)\n",
    "plt.boxplot(scv,vert=False)\n",
    "plt.show()"
   ]
  },
  {
   "cell_type": "code",
   "execution_count": 37,
   "metadata": {},
   "outputs": [
    {
     "data": {
      "text/plain": [
       "0.8179623055636133"
      ]
     },
     "execution_count": 37,
     "metadata": {},
     "output_type": "execute_result"
    }
   ],
   "source": [
    "## skewness\n",
    "stats.skew(scv)"
   ]
  },
  {
   "cell_type": "markdown",
   "metadata": {},
   "source": [
    "#### right skewed"
   ]
  },
  {
   "cell_type": "code",
   "execution_count": 38,
   "metadata": {},
   "outputs": [],
   "source": [
    "scv = stats.skewnorm.rvs(-4,size=10000)"
   ]
  },
  {
   "cell_type": "code",
   "execution_count": 39,
   "metadata": {},
   "outputs": [
    {
     "data": {
      "image/png": "[encoded data removed]",
      "text/plain": [
       "<Figure size 432x288 with 1 Axes>"
      ]
     },
     "metadata": {
      "needs_background": "light"
     },
     "output_type": "display_data"
    }
   ],
   "source": [
    "plt.axvline(scv.mean(),color='k')\n",
    "plt.hist(scv,bins=20,density=True,alpha=0.7)\n",
    "plt.boxplot(scv,vert=False)\n",
    "plt.show()"
   ]
  },
  {
   "cell_type": "code",
   "execution_count": 40,
   "metadata": {},
   "outputs": [
    {
     "data": {
      "text/plain": [
       "-0.8325460520764684"
      ]
     },
     "execution_count": 40,
     "metadata": {},
     "output_type": "execute_result"
    }
   ],
   "source": [
    "## skewness\n",
    "stats.skew(scv)"
   ]
  },
  {
   "cell_type": "markdown",
   "metadata": {},
   "source": [
    "### Kurtosis\n",
    "\n",
    "- indicates how much of data is concentrated around mean or shape of the probability distribution.\n",
    "- default Ficsher definition \n",
    "- can be changed to pearson \n"
   ]
  },
  {
   "cell_type": "code",
   "execution_count": 41,
   "metadata": {},
   "outputs": [],
   "source": [
    "ucv = stats.norm(0,1).rvs(10000)"
   ]
  },
  {
   "cell_type": "code",
   "execution_count": 42,
   "metadata": {},
   "outputs": [
    {
     "data": {
      "image/png": "[encoded data removed]",
      "text/plain": [
       "<Figure size 432x288 with 1 Axes>"
      ]
     },
     "metadata": {
      "needs_background": "light"
     },
     "output_type": "display_data"
    }
   ],
   "source": [
    "plt.axvline(ucv.mean(),color='k')\n",
    "plt.hist(ucv,bins=20,density=True,alpha=0.7)\n",
    "plt.boxplot(ucv,vert=False)\n",
    "plt.show()"
   ]
  },
  {
   "cell_type": "code",
   "execution_count": 43,
   "metadata": {},
   "outputs": [
    {
     "data": {
      "text/plain": [
       "0.016226092494214583"
      ]
     },
     "execution_count": 43,
     "metadata": {},
     "output_type": "execute_result"
    }
   ],
   "source": [
    "## kurtosis\n",
    "stats.kurtosis(ucv)"
   ]
  },
  {
   "cell_type": "markdown",
   "metadata": {},
   "source": [
    "## Multi Variate Analysis"
   ]
  },
  {
   "cell_type": "code",
   "execution_count": 52,
   "metadata": {},
   "outputs": [],
   "source": [
    "from sklearn.datasets import make_regression"
   ]
  },
  {
   "cell_type": "code",
   "execution_count": 56,
   "metadata": {},
   "outputs": [
    {
     "data": {
      "text/plain": [
       "((1000, 3), (1000,))"
      ]
     },
     "execution_count": 56,
     "metadata": {},
     "output_type": "execute_result"
    }
   ],
   "source": [
    "X, y = make_regression(n_samples=1000,n_features=3)\n",
    "\n",
    "X.shape, y.shape"
   ]
  },
  {
   "cell_type": "markdown",
   "metadata": {},
   "source": [
    "### hexbin"
   ]
  },
  {
   "cell_type": "code",
   "execution_count": 87,
   "metadata": {},
   "outputs": [
    {
     "data": {
      "image/png": "[encoded data removed]",
      "text/plain": [
       "<Figure size 432x288 with 1 Axes>"
      ]
     },
     "metadata": {
      "needs_background": "light"
     },
     "output_type": "display_data"
    }
   ],
   "source": [
    "plt.hexbin(X[...,0], y, gridsize = 20, cmap='Greens')\n",
    "plt.grid()"
   ]
  },
  {
   "cell_type": "markdown",
   "metadata": {},
   "source": [
    "### boxplot"
   ]
  },
  {
   "cell_type": "code",
   "execution_count": 90,
   "metadata": {},
   "outputs": [
    {
     "data": {
      "image/png": "[encoded data removed]",
      "text/plain": [
       "<Figure size 432x288 with 1 Axes>"
      ]
     },
     "metadata": {
      "needs_background": "light"
     },
     "output_type": "display_data"
    }
   ],
   "source": [
    "plt.boxplot(X)\n",
    "plt.show()"
   ]
  },
  {
   "cell_type": "markdown",
   "metadata": {},
   "source": [
    "### violinplot"
   ]
  },
  {
   "cell_type": "code",
   "execution_count": 100,
   "metadata": {},
   "outputs": [
    {
     "data": {
      "image/png": "[encoded data removed]",
      "text/plain": [
       "<Figure size 432x288 with 1 Axes>"
      ]
     },
     "metadata": {
      "needs_background": "light"
     },
     "output_type": "display_data"
    }
   ],
   "source": [
    "plt.violinplot(X,showmeans=True,showextrema=True,showmedians=True)\n",
    "plt.show()"
   ]
  }
 ],
 "metadata": {
  "kernelspec": {
   "display_name": "py39",
   "language": "python",
   "name": "py39"
  },
  "language_info": {
   "codemirror_mode": {
    "name": "ipython",
    "version": 3
   },
   "file_extension": ".py",
   "mimetype": "text/x-python",
   "name": "python",
   "nbconvert_exporter": "python",
   "pygments_lexer": "ipython3",
   "version": "3.9.1"
  },
  "toc-autonumbering": false,
  "toc-showcode": false,
  "toc-showmarkdowntxt": false,
  "toc-showtags": false
 },
 "nbformat": 4,
 "nbformat_minor": 4
}
