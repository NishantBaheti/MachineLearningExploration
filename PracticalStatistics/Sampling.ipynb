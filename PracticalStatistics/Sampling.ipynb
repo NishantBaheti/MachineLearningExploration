{
 "cells": [
  {
   "cell_type": "markdown",
   "metadata": {},
   "source": [
    "# Sampling"
   ]
  },
  {
   "cell_type": "markdown",
   "metadata": {},
   "source": [
    "## Sample\n",
    "\n",
    "A sample(n) is a subset of data from larger dataset generally called population(N)."
   ]
  },
  {
   "cell_type": "markdown",
   "metadata": {},
   "source": [
    "## Random Sampling \n",
    "\n",
    "- Select Items randomly from population, either with or without replacement(no duplicates: something is selected in sample then probability of that value to be selected again is 0).\n",
    "- Random choice.\n",
    "- A process in which each available member of the population being sampled has an equal chance of being chosen for the sample at each draw."
   ]
  },
  {
   "cell_type": "code",
   "execution_count": 1,
   "metadata": {},
   "outputs": [],
   "source": [
    "import numpy as np\n",
    "import pandas as pd\n",
    "import matplotlib.pyplot as plt \n",
    "import seaborn as sns\n",
    "from matplotlib import animation\n",
    "from IPython import display\n",
    "import warnings\n",
    "warnings.filterwarnings('ignore')\n",
    "%matplotlib inline"
   ]
  },
  {
   "cell_type": "code",
   "execution_count": 2,
   "metadata": {},
   "outputs": [
    {
     "data": {
      "text/plain": [
       "array([23, 56, 12, 17])"
      ]
     },
     "execution_count": 2,
     "metadata": {},
     "output_type": "execute_result"
    }
   ],
   "source": [
    "## selected randomly \n",
    "\n",
    "np.random.choice([12,11,56,23,10,5,17,50,30],4,replace=False)"
   ]
  },
  {
   "cell_type": "code",
   "execution_count": 3,
   "metadata": {},
   "outputs": [
    {
     "data": {
      "text/plain": [
       "array([23, 12,  5, 11])"
      ]
     },
     "execution_count": 3,
     "metadata": {},
     "output_type": "execute_result"
    }
   ],
   "source": [
    "np.random.choice([12,11,56,23,10,5,17,50,30],4,replace=True)"
   ]
  },
  {
   "cell_type": "markdown",
   "metadata": {},
   "source": [
    "> Data quality in data science involves completeness,\n",
    "consistency of format, cleanliness, and accuracy of individual data points.\n",
    "Statistics adds the notion of representativeness"
   ]
  },
  {
   "cell_type": "markdown",
   "metadata": {},
   "source": [
    "## Sampling Bias\n",
    "\n",
    "when sample is selected in nonrandom way from a large population.\n",
    "A sample that misrepresents the population.\n",
    "\n",
    "\n",
    "### Self Selection Bias \n",
    "\n",
    "> In real world lets take movie review or reviews in general. People volunteerly going and giving review to a particular, creates a bias in statistical results. Because the reviewers are not randomly selected, these reviewers are generally who dislikes the item or belong to a group already or generally writes review for every item, selected themselves creating **self selection bias**."
   ]
  },
  {
   "cell_type": "markdown",
   "metadata": {},
   "source": [
    "### Statistical Bias\n",
    " \n",
    "> Statisitcal bias refers to sampling error that are produced by sampling process. like gun shooting at a target. conceptually is should generate a random errors(doesn't the target). \n",
    "\n",
    "Bias occurs when measurements or observations are systematically in error because they are not\n",
    "representative of the full population."
   ]
  },
  {
   "cell_type": "markdown",
   "metadata": {},
   "source": [
    "**Unbiased data examples**"
   ]
  },
  {
   "cell_type": "code",
   "execution_count": 4,
   "metadata": {},
   "outputs": [
    {
     "data": {
      "text/plain": [
       "<matplotlib.collections.PathCollection at 0x7f337865d490>"
      ]
     },
     "execution_count": 4,
     "metadata": {},
     "output_type": "execute_result"
    },
    {
     "data": {
      "image/png": "[encoded data removed]",
      "text/plain": [
       "<Figure size 432x288 with 1 Axes>"
      ]
     },
     "metadata": {
      "needs_background": "light"
     },
     "output_type": "display_data"
    }
   ],
   "source": [
    "unbiased_data = np.random.normal(scale=1,size=(50,2))\n",
    "\n",
    "plt.xlim(-2,2)\n",
    "plt.ylim(-2,2)\n",
    "plt.axhline(0,color='k',lw=2)\n",
    "plt.axvline(0,color='k',lw=2)\n",
    "plt.title(\"unbiased\")\n",
    "plt.scatter(unbiased_data[...,0],unbiased_data[...,1],marker='x')\n"
   ]
  },
  {
   "cell_type": "markdown",
   "metadata": {},
   "source": [
    "**Biased data examples**"
   ]
  },
  {
   "cell_type": "code",
   "execution_count": 5,
   "metadata": {},
   "outputs": [
    {
     "data": {
      "text/plain": [
       "<matplotlib.collections.PathCollection at 0x7f33764f1b80>"
      ]
     },
     "execution_count": 5,
     "metadata": {},
     "output_type": "execute_result"
    },
    {
     "data": {
      "image/png": "[encoded data removed]",
      "text/plain": [
       "<Figure size 432x288 with 1 Axes>"
      ]
     },
     "metadata": {
      "needs_background": "light"
     },
     "output_type": "display_data"
    }
   ],
   "source": [
    "biased_data = np.random.normal(size=(50,2)) + 0.7\n",
    "\n",
    "plt.xlim(-3,3)\n",
    "plt.ylim(-3,3)\n",
    "plt.axhline(0,color='k',lw=2)\n",
    "plt.axvline(0,color='k',lw=2)\n",
    "plt.title(\"biased\")\n",
    "plt.scatter(biased_data[...,0],biased_data[...,1],marker='x')"
   ]
  },
  {
   "cell_type": "markdown",
   "metadata": {},
   "source": [
    "### Selection Bias\n",
    "\n",
    "> selectively choosing data- consciously or unconsciously, that it leads to misleading conclusion."
   ]
  },
  {
   "cell_type": "markdown",
   "metadata": {},
   "source": [
    "## Random Seeding \n",
    "\n",
    "- To get random choice generated but has to be generated everytime has to be same for peer checking or to generate same results. Get same randomly generated sequence everytime if seed value is determined.\n",
    "- **SEED** is a value sets initial state of random number generator.\n"
   ]
  },
  {
   "cell_type": "code",
   "execution_count": 6,
   "metadata": {},
   "outputs": [
    {
     "data": {
      "text/plain": [
       "0.5434049417909654"
      ]
     },
     "execution_count": 6,
     "metadata": {},
     "output_type": "execute_result"
    }
   ],
   "source": [
    "## It will generate same random number everytime \n",
    "np.random.seed(100)\n",
    "np.random.rand()"
   ]
  },
  {
   "cell_type": "markdown",
   "metadata": {},
   "source": [
    "## Random Variable\n",
    "\n",
    "- A set of all possible outcomes of a random experiment is called <b>SAMPLE SPACE</b>\n",
    "- probability of all outcomes : Probability Distribution\n",
    "- Random Variable maps to one of the outcomes of the sample space."
   ]
  },
  {
   "cell_type": "markdown",
   "metadata": {
    "tags": []
   },
   "source": [
    "## Standard Error of Mean (SEM)\n",
    "\n",
    "Standard error explains variability in the sampling distribution.\n",
    "\n",
    "Standard Error (SE): $\\frac{s}{\\sqrt{n}}$\n",
    "\n",
    "$s = \\sqrt{\\frac{\\sum{(x - \\bar{x})^2}}{n-1}}$\n",
    "\n",
    "s = Standard Deviation\\\n",
    "n = number of samples\n",
    "\n",
    "- SE decreases as sample size increases.\n",
    "$SE \\propto \\frac{1}{\\sqrt{n}}$\n",
    "\n",
    "- To calculate take a sample from population calculate mean, standard deviation and standard error and repeat with another sample.\n",
    "    > but this is statistically wasteful. But turns out it is not necessary to create a new sample everytime instead `bootstrap` resampling can be used. It has become a standard way to estimate standard error(doesn't rely on Central limit theorem)\n",
    "    \n",
    "    \n",
    "**Standard deviation calculates variability of individual data point and Standard error measures variability of a sample metric.**"
   ]
  },
  {
   "cell_type": "markdown",
   "metadata": {},
   "source": [
    "`MEASURE OF SPREAD of population is standard deviation and for a sample of that population is standard error.`\n",
    "\n",
    "> Then it would make sense that standard error(spread of the data from mean) would decrease with the increase of sample size."
   ]
  },
  {
   "cell_type": "code",
   "execution_count": 7,
   "metadata": {},
   "outputs": [],
   "source": [
    "import numpy as np"
   ]
  },
  {
   "cell_type": "code",
   "execution_count": 8,
   "metadata": {},
   "outputs": [],
   "source": [
    "from scipy.stats import sem"
   ]
  },
  {
   "cell_type": "code",
   "execution_count": 9,
   "metadata": {},
   "outputs": [],
   "source": [
    "n = 1000\n",
    "x = np.random.normal(size=(n,))"
   ]
  },
  {
   "cell_type": "markdown",
   "metadata": {},
   "source": [
    "$SE = \\frac{\\sigma}{\\sqrt{n}}$"
   ]
  },
  {
   "cell_type": "code",
   "execution_count": 10,
   "metadata": {},
   "outputs": [
    {
     "data": {
      "text/plain": [
       "0.032288264878170665"
      ]
     },
     "execution_count": 10,
     "metadata": {},
     "output_type": "execute_result"
    }
   ],
   "source": [
    "x.std(ddof=1) / np.sqrt(n)"
   ]
  },
  {
   "cell_type": "code",
   "execution_count": 11,
   "metadata": {},
   "outputs": [
    {
     "data": {
      "text/plain": [
       "0.032288264878170665"
      ]
     },
     "execution_count": 11,
     "metadata": {},
     "output_type": "execute_result"
    }
   ],
   "source": [
    "sem(x,ddof=1)"
   ]
  },
  {
   "cell_type": "markdown",
   "metadata": {
    "tags": []
   },
   "source": [
    "## Bootstrap\n",
    "\n",
    "Drawing additional `samples with replacement` from sample itself(basically resampling) and recalculate the statistics. This procedure is called bootstrap. \n",
    "\n",
    "> Bootstrap is replicating the original sample many times creating  a hypothetical population that it just contains information of original sample but larger.\n",
    "\n",
    "> In practice we dont create replicas of the samples again and again. We just replace observations after each draw from the original sample. in this way probability for each observation to be drawn from the original sample remains same and bootstrap process can choose duplicates also.\n",
    "\n",
    "### Bootstrap resampling of the mean\n",
    "1. Draw a sample, put it in record.\n",
    "1. Replace sample values and repeat it k times.\n",
    "1. Record the mean of k resampled values.\n",
    "1. Repeat the process 1-3 n times.\n",
    "1. now after these n iterations with results\n",
    "   1. Calculate std dev and this estimates samples mean SE.\n",
    "   1. produce distribution\n",
    "   1. find confidence interval"
   ]
  },
  {
   "cell_type": "code",
   "execution_count": 12,
   "metadata": {},
   "outputs": [],
   "source": [
    "np.random.seed(61231601)\n",
    "sample_size = 100\n",
    "sigma = 10\n",
    "samples = sigma * np.random.normal(size=sample_size) "
   ]
  },
  {
   "cell_type": "code",
   "execution_count": 13,
   "metadata": {},
   "outputs": [
    {
     "data": {
      "text/plain": [
       "0.9475540244306867"
      ]
     },
     "execution_count": 13,
     "metadata": {},
     "output_type": "execute_result"
    }
   ],
   "source": [
    "sem(samples,ddof=1)"
   ]
  },
  {
   "cell_type": "code",
   "execution_count": 14,
   "metadata": {},
   "outputs": [
    {
     "data": {
      "text/plain": [
       "((100, 500),\n",
       " array([[  1.81379872,   1.81379872,   7.6665007 , ...,  -4.79558175,\n",
       "           6.41084335, -12.59266908],\n",
       "        [ -8.79617236,   2.67480667,  -8.84956233, ...,   9.72528953,\n",
       "           6.14659115,  -9.90189598],\n",
       "        [-11.6105251 ,  10.26199316,  10.26486663, ...,   7.6665007 ,\n",
       "           0.60544452, -15.83255565],\n",
       "        ...,\n",
       "        [  5.83951234,   7.6665007 ,  -2.31220875, ...,  -8.79617236,\n",
       "         -15.83255565,   5.83951234],\n",
       "        [ -3.77794243,  15.65287132,  12.31191552, ...,  -3.33820583,\n",
       "          13.05346981,   4.74494356],\n",
       "        [ -0.29176448,   1.62285529,   8.36999405, ...,   1.62285529,\n",
       "          -9.90189598,  -0.22032539]]))"
      ]
     },
     "execution_count": 14,
     "metadata": {},
     "output_type": "execute_result"
    }
   ],
   "source": [
    "k = 100\n",
    "n = 500\n",
    "\n",
    "resamples = np.random.choice(samples,size=(k,n),replace=True)\n",
    "\n",
    "resamples.shape, resamples"
   ]
  },
  {
   "cell_type": "code",
   "execution_count": 15,
   "metadata": {},
   "outputs": [
    {
     "data": {
      "text/plain": [
       "(0.36559828947867506, 0.43441337621942355)"
      ]
     },
     "execution_count": 15,
     "metadata": {},
     "output_type": "execute_result"
    }
   ],
   "source": [
    "samples.mean(), resamples.mean(axis=1).mean()"
   ]
  },
  {
   "cell_type": "code",
   "execution_count": 16,
   "metadata": {},
   "outputs": [
    {
     "data": {
      "image/png": "[encoded data removed]",
      "text/plain": [
       "<Figure size 432x288 with 1 Axes>"
      ]
     },
     "metadata": {
      "needs_background": "light"
     },
     "output_type": "display_data"
    }
   ],
   "source": [
    "ax = plt.subplot(111)\n",
    "\n",
    "ax.axvline(samples.mean(), ls='--', label='sample mean')\n",
    "sns.distplot(samples, label=\"samples\",ax=ax)\n",
    "\n",
    "sns.distplot(resamples, label=\"resamples\", ax=ax)\n",
    "ax.axvline(resamples.mean(axis=1).mean(), ls='-.', label=\"resample mean\")\n",
    "\n",
    "plt.legend()\n",
    "plt.show()"
   ]
  },
  {
   "cell_type": "markdown",
   "metadata": {},
   "source": [
    "## Confidence Intervals"
   ]
  },
  {
   "cell_type": "markdown",
   "metadata": {},
   "source": [
    "**Confidence level** the percentage/ limits of confidence intervals, expected to contain statistic of interest of the population\n",
    "\n",
    "**Coverage level** How much data it needs to cover.\n",
    "\n",
    "It is the interval that encloses the central x% of the bootstrap sampling distribution of sample statistic.\n",
    "\n",
    "\n",
    "$CI = \\bar{x} \\pm z \\frac{s}{\\sqrt{n}}$\n",
    "\n",
    "z = confidence level value"
   ]
  },
  {
   "cell_type": "code",
   "execution_count": 17,
   "metadata": {},
   "outputs": [
    {
     "data": {
      "text/plain": [
       "<AxesSubplot:ylabel='Density'>"
      ]
     },
     "execution_count": 17,
     "metadata": {},
     "output_type": "execute_result"
    },
    {
     "data": {
      "image/png": "[encoded data removed]",
      "text/plain": [
       "<Figure size 432x288 with 1 Axes>"
      ]
     },
     "metadata": {
      "needs_background": "light"
     },
     "output_type": "display_data"
    }
   ],
   "source": [
    "n = 100\n",
    "samples = np.random.normal(scale=0.1,size=n) \n",
    "\n",
    "R = 200\n",
    "resamples = np.random.choice(samples,size=(k,R),replace=True)\n",
    "\n",
    "sns.distplot(resamples)"
   ]
  }
 ],
 "metadata": {
  "kernelspec": {
   "display_name": "py39",
   "language": "python",
   "name": "py39"
  },
  "language_info": {
   "codemirror_mode": {
    "name": "ipython",
    "version": 3
   },
   "file_extension": ".py",
   "mimetype": "text/x-python",
   "name": "python",
   "nbconvert_exporter": "python",
   "pygments_lexer": "ipython3",
   "version": "3.9.1"
  }
 },
 "nbformat": 4,
 "nbformat_minor": 4
}
