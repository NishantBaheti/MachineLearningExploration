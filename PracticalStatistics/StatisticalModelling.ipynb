{
 "cells": [
  {
   "cell_type": "markdown",
   "metadata": {},
   "source": [
    "# Statsmodels"
   ]
  },
  {
   "cell_type": "markdown",
   "metadata": {},
   "source": [
    "- Mathematical equation which explains the relationship between dependent variable (Y) and independent variable(X).\n",
    "          \n",
    "          Y = f(X)\n",
    "          \n",
    "- Due to uncertainy in result and noise the equation is\n",
    "            \n",
    "          Y = f(X) + e\n",
    "          \n",
    "          "
   ]
  },
  {
   "cell_type": "markdown",
   "metadata": {},
   "source": [
    "## Linear Models\n",
    "- Y = θ0 + θ1 * X1 + θ2 * X2 + ... + θn * Xn\n",
    "- Y = θ0 + θ1 * X + θ2 * X^2 + ... + θn * X^n\n",
    "- Y = θ0 + θ1 * sin(X1) + θ2 * cos(X2)"
   ]
  },
  {
   "cell_type": "markdown",
   "metadata": {},
   "source": [
    "## Linear Regression\n",
    "\n",
    "    Y = θ0 + θ1 * X + e\n",
    "\n",
    "    θ0, θ1 = Coefficient \n",
    "    e = normally distributed residual error \n",
    "    \n",
    "- Linear Regression model assumes that residuals are independent and normally distributed\n",
    "- Model is fitted to the data using ordinary least squares approach"
   ]
  },
  {
   "cell_type": "markdown",
   "metadata": {},
   "source": [
    "## Non-Linear Models\n",
    "- Most of the cases, the non-linear models are generalized to linear models\n",
    "- Binomial Regresson, Poisson Regression \n"
   ]
  },
  {
   "cell_type": "markdown",
   "metadata": {},
   "source": [
    "## Design Matrices \n",
    "- Once the model is chosen design metrices are constructed.\n",
    "    Y = XB + e\n",
    "\n",
    "| Variable | Description | \n",
    "| -------- | ----------- |\n",
    "| Y | vector/matrix of dependent variable | \n",
    "| X | vector/matrix of independent variable | \n",
    "| B | vector/matrix of coefficient | \n",
    "| e | residual error | \n"
   ]
  },
  {
   "cell_type": "markdown",
   "metadata": {},
   "source": [
    "## Creating a Model \n",
    "\n",
    "### using statsmodel library\n",
    "- OLS (oridinart least squares)\n",
    "- GLM (genralized linear model)\n",
    "- WLS (weighted least squares)\n",
    "- ols\n",
    "- glm \n",
    "- wls\n",
    "\n",
    "        Uppercase names take design metrices as args \n",
    "        Lowercase names take Patsy formulas and dataframes as args \n",
    "        \n",
    "## Fitting a Model \n",
    "- fitting method returns a model object for futher methods, attributes and coefficient matrix for analysis\n",
    "\n",
    "## View Model Summary\n",
    "- Describe the fit description of the model in text. \n",
    "\n",
    "<hr>"
   ]
  },
  {
   "cell_type": "markdown",
   "metadata": {},
   "source": [
    "\n",
    "## Construct Design Matrices \n",
    "\n",
    "Y = θ0 + θ1 * X1 + θ2 * X2 + θ3 * X1 * X2"
   ]
  },
  {
   "cell_type": "markdown",
   "metadata": {},
   "source": [
    "## Design Matrix with Numpy"
   ]
  },
  {
   "cell_type": "code",
   "execution_count": 1,
   "metadata": {},
   "outputs": [
    {
     "name": "stdout",
     "output_type": "stream",
     "text": [
      "[[1]\n",
      " [2]\n",
      " [3]\n",
      " [4]\n",
      " [5]]\n",
      "[[  1.   6.  11.  66.]\n",
      " [  1.   7.  12.  84.]\n",
      " [  1.   8.  13. 104.]\n",
      " [  1.   9.  14. 126.]\n",
      " [  1.  10.  15. 150.]]\n"
     ]
    }
   ],
   "source": [
    "import numpy as np \n",
    "\n",
    "Y = np.array([1,2,3,4,5]).reshape(-1,1)\n",
    "\n",
    "x1 = np.array([6,7,8,9,10])\n",
    "x2 = np.array([11,12,13,14,15])\n",
    "\n",
    "X = np.vstack([np.ones(5), x1, x2, x1*x2]).T \n",
    "\n",
    "print(Y)\n",
    "print(X)"
   ]
  },
  {
   "cell_type": "markdown",
   "metadata": {},
   "source": [
    "## Design Matrix with patsy \n",
    "\n",
    "- allows defining a model easily \n",
    "- constructs relevant design matrices (patsy.dmatrices)\n",
    "- takes a formula in string form as arg and a dictionary like object with data arrays for resoponse variables \n",
    "\n",
    "![image](https://patsy.readthedocs.io/en/v0.1.0/_images/formula-structure.png)\n",
    "\n",
    "                             ~\n",
    "                          /    \\ \n",
    "                         Y     +\n",
    "                             /   \\\n",
    "                            1     +\n",
    "                                /   \\\n",
    "                               x1    +\n",
    "                                   /   \\\n",
    "                                 x2     *\n",
    "                                      /   \\\n",
    "                                    x1    x2\n",
    "                                    \n",
    "                                    \n",
    "- 'y ~ np.log(x1)': Often numpy functions can be used to transform terms in the expression.\n",
    "- 'y ~ I(x1 + x2)': I is the identify function, used to escape arithmetic expressions and are evaluated.\n",
    "- 'y ~ C(x1)': Treats the variable x1 as a categorical variable."
   ]
  },
  {
   "cell_type": "code",
   "execution_count": 2,
   "metadata": {},
   "outputs": [
    {
     "name": "stdout",
     "output_type": "stream",
     "text": [
      "[[1.]\n",
      " [2.]\n",
      " [3.]\n",
      " [4.]\n",
      " [5.]]\n",
      "[[  1.   6.  11.  66.]\n",
      " [  1.   7.  12.  84.]\n",
      " [  1.   8.  13. 104.]\n",
      " [  1.   9.  14. 126.]\n",
      " [  1.  10.  15. 150.]]\n"
     ]
    }
   ],
   "source": [
    "import patsy \n",
    "\n",
    "y = np.array([1, 2, 3, 4, 5])\n",
    "x1 = np.array([6, 7, 8, 9, 10])\n",
    "x2 = np.array([11, 12, 13, 14, 15])\n",
    "data = {\n",
    "    'Y' : Y,\n",
    "    'x1' : x1,\n",
    "    'x2' : x2,\n",
    "}\n",
    "\n",
    "equation = 'Y ~ 1 + x1 + x2 + x1*x2'\n",
    "\n",
    "Y, X = patsy.dmatrices(equation, data)\n",
    "\n",
    "print(Y)\n",
    "print(X)"
   ]
  },
  {
   "cell_type": "markdown",
   "metadata": {},
   "source": [
    "### load popular datasets from statsmodels "
   ]
  },
  {
   "cell_type": "code",
   "execution_count": 3,
   "metadata": {},
   "outputs": [
    {
     "data": {
      "text/plain": [
       "<class 'statsmodels.datasets.utils.Dataset'>"
      ]
     },
     "execution_count": 3,
     "metadata": {},
     "output_type": "execute_result"
    }
   ],
   "source": [
    "import statsmodels.api as sm \n",
    "dataset = sm.datasets.cancer.load()\n",
    "# dataset = sm.datasets.cancer.load_pandas()\n",
    "dataset"
   ]
  },
  {
   "cell_type": "markdown",
   "metadata": {},
   "source": [
    "<hr/> \n",
    "\n",
    "## Linear Model Creation using statsmodels\n",
    "### Using inbuilt <b> Icecream </b> dataset "
   ]
  },
  {
   "cell_type": "code",
   "execution_count": 4,
   "metadata": {},
   "outputs": [
    {
     "data": {
      "text/html": [
       "<div>\n",
       "<style scoped>\n",
       "    .dataframe tbody tr th:only-of-type {\n",
       "        vertical-align: middle;\n",
       "    }\n",
       "\n",
       "    .dataframe tbody tr th {\n",
       "        vertical-align: top;\n",
       "    }\n",
       "\n",
       "    .dataframe thead th {\n",
       "        text-align: right;\n",
       "    }\n",
       "</style>\n",
       "<table border=\"1\" class=\"dataframe\">\n",
       "  <thead>\n",
       "    <tr style=\"text-align: right;\">\n",
       "      <th></th>\n",
       "      <th>cons</th>\n",
       "      <th>income</th>\n",
       "      <th>price</th>\n",
       "      <th>temp</th>\n",
       "    </tr>\n",
       "  </thead>\n",
       "  <tbody>\n",
       "    <tr>\n",
       "      <th>0</th>\n",
       "      <td>0.386</td>\n",
       "      <td>78</td>\n",
       "      <td>0.270</td>\n",
       "      <td>41</td>\n",
       "    </tr>\n",
       "    <tr>\n",
       "      <th>1</th>\n",
       "      <td>0.374</td>\n",
       "      <td>79</td>\n",
       "      <td>0.282</td>\n",
       "      <td>56</td>\n",
       "    </tr>\n",
       "    <tr>\n",
       "      <th>2</th>\n",
       "      <td>0.393</td>\n",
       "      <td>81</td>\n",
       "      <td>0.277</td>\n",
       "      <td>63</td>\n",
       "    </tr>\n",
       "    <tr>\n",
       "      <th>3</th>\n",
       "      <td>0.425</td>\n",
       "      <td>80</td>\n",
       "      <td>0.280</td>\n",
       "      <td>68</td>\n",
       "    </tr>\n",
       "    <tr>\n",
       "      <th>4</th>\n",
       "      <td>0.406</td>\n",
       "      <td>76</td>\n",
       "      <td>0.272</td>\n",
       "      <td>69</td>\n",
       "    </tr>\n",
       "  </tbody>\n",
       "</table>\n",
       "</div>"
      ],
      "text/plain": [
       "    cons  income  price  temp\n",
       "0  0.386      78  0.270    41\n",
       "1  0.374      79  0.282    56\n",
       "2  0.393      81  0.277    63\n",
       "3  0.425      80  0.280    68\n",
       "4  0.406      76  0.272    69"
      ]
     },
     "execution_count": 4,
     "metadata": {},
     "output_type": "execute_result"
    }
   ],
   "source": [
    "import statsmodels.api as sm\n",
    "\n",
    "icecream = sm.datasets.get_rdataset(\"Icecream\",\"Ecdat\")\n",
    "\n",
    "dataset = icecream.data\n",
    "dataset.head()"
   ]
  },
  {
   "cell_type": "code",
   "execution_count": 5,
   "metadata": {},
   "outputs": [
    {
     "name": "stdout",
     "output_type": "stream",
     "text": [
      "                            OLS Regression Results                            \n",
      "==============================================================================\n",
      "Dep. Variable:                   cons   R-squared:                       0.633\n",
      "Model:                            OLS   Adj. R-squared:                  0.606\n",
      "Method:                 Least Squares   F-statistic:                     23.27\n",
      "Date:                Thu, 15 Oct 2020   Prob (F-statistic):           1.34e-06\n",
      "Time:                        21:53:43   Log-Likelihood:                 54.607\n",
      "No. Observations:                  30   AIC:                            -103.2\n",
      "Df Residuals:                      27   BIC:                            -99.01\n",
      "Df Model:                           2                                         \n",
      "Covariance Type:            nonrobust                                         \n",
      "==============================================================================\n",
      "                 coef    std err          t      P>|t|      [0.025      0.975]\n",
      "------------------------------------------------------------------------------\n",
      "Intercept      0.5966      0.258      2.309      0.029       0.067       1.127\n",
      "price         -1.4018      0.925     -1.515      0.141      -3.300       0.496\n",
      "temp           0.0030      0.000      6.448      0.000       0.002       0.004\n",
      "==============================================================================\n",
      "Omnibus:                        0.991   Durbin-Watson:                   0.656\n",
      "Prob(Omnibus):                  0.609   Jarque-Bera (JB):                0.220\n",
      "Skew:                          -0.107   Prob(JB):                        0.896\n",
      "Kurtosis:                       3.361   Cond. No.                     6.58e+03\n",
      "==============================================================================\n",
      "\n",
      "Warnings:\n",
      "[1] Standard Errors assume that the covariance matrix of the errors is correctly specified.\n",
      "[2] The condition number is large, 6.58e+03. This might indicate that there are\n",
      "strong multicollinearity or other numerical problems.\n"
     ]
    }
   ],
   "source": [
    "import statsmodels.formula.api as smf \n",
    "\n",
    "linearModel1 = smf.ols('cons ~ price + temp',dataset)\n",
    "\n",
    "fitModel1 = linearModel1.fit()\n",
    "\n",
    "print(fitModel1.summary())"
   ]
  },
  {
   "cell_type": "code",
   "execution_count": 6,
   "metadata": {},
   "outputs": [
    {
     "name": "stdout",
     "output_type": "stream",
     "text": [
      "                            OLS Regression Results                            \n",
      "==============================================================================\n",
      "Dep. Variable:                   cons   R-squared:                       0.702\n",
      "Model:                            OLS   Adj. R-squared:                  0.680\n",
      "Method:                 Least Squares   F-statistic:                     31.81\n",
      "Date:                Thu, 15 Oct 2020   Prob (F-statistic):           7.96e-08\n",
      "Time:                        21:53:43   Log-Likelihood:                 57.742\n",
      "No. Observations:                  30   AIC:                            -109.5\n",
      "Df Residuals:                      27   BIC:                            -105.3\n",
      "Df Model:                           2                                         \n",
      "Covariance Type:            nonrobust                                         \n",
      "==============================================================================\n",
      "                 coef    std err          t      P>|t|      [0.025      0.975]\n",
      "------------------------------------------------------------------------------\n",
      "Intercept     -0.1132      0.108     -1.045      0.305      -0.335       0.109\n",
      "income         0.0035      0.001      3.017      0.006       0.001       0.006\n",
      "temp           0.0035      0.000      7.963      0.000       0.003       0.004\n",
      "==============================================================================\n",
      "Omnibus:                        2.264   Durbin-Watson:                   1.003\n",
      "Prob(Omnibus):                  0.322   Jarque-Bera (JB):                1.094\n",
      "Skew:                           0.386   Prob(JB):                        0.579\n",
      "Kurtosis:                       3.528   Cond. No.                     1.56e+03\n",
      "==============================================================================\n",
      "\n",
      "Warnings:\n",
      "[1] Standard Errors assume that the covariance matrix of the errors is correctly specified.\n",
      "[2] The condition number is large, 1.56e+03. This might indicate that there are\n",
      "strong multicollinearity or other numerical problems.\n"
     ]
    }
   ],
   "source": [
    "linearModel2 = smf.ols('cons ~ income + temp',dataset)\n",
    "\n",
    "fitModel2 = linearModel2.fit()\n",
    "\n",
    "print(fitModel2.summary())"
   ]
  },
  {
   "cell_type": "code",
   "execution_count": 7,
   "metadata": {},
   "outputs": [
    {
     "name": "stdout",
     "output_type": "stream",
     "text": [
      "                                 OLS Regression Results                                \n",
      "=======================================================================================\n",
      "Dep. Variable:                   cons   R-squared (uncentered):                   0.990\n",
      "Model:                            OLS   Adj. R-squared (uncentered):              0.990\n",
      "Method:                 Least Squares   F-statistic:                              1426.\n",
      "Date:                Thu, 15 Oct 2020   Prob (F-statistic):                    6.77e-29\n",
      "Time:                        21:53:43   Log-Likelihood:                          57.146\n",
      "No. Observations:                  30   AIC:                                     -110.3\n",
      "Df Residuals:                      28   BIC:                                     -107.5\n",
      "Df Model:                           2                                                  \n",
      "Covariance Type:            nonrobust                                                  \n",
      "==============================================================================\n",
      "                 coef    std err          t      P>|t|      [0.025      0.975]\n",
      "------------------------------------------------------------------------------\n",
      "income         0.0023      0.000      9.906      0.000       0.002       0.003\n",
      "temp           0.0033      0.000      8.571      0.000       0.003       0.004\n",
      "==============================================================================\n",
      "Omnibus:                        3.584   Durbin-Watson:                   0.887\n",
      "Prob(Omnibus):                  0.167   Jarque-Bera (JB):                2.089\n",
      "Skew:                           0.508   Prob(JB):                        0.352\n",
      "Kurtosis:                       3.798   Cond. No.                         6.45\n",
      "==============================================================================\n",
      "\n",
      "Warnings:\n",
      "[1] Standard Errors assume that the covariance matrix of the errors is correctly specified.\n"
     ]
    }
   ],
   "source": [
    "linearModel3 = smf.ols('cons ~ -1 + income + temp',dataset)\n",
    "\n",
    "fitModel3 = linearModel3.fit()\n",
    "\n",
    "print(fitModel3.summary())"
   ]
  },
  {
   "cell_type": "code",
   "execution_count": 8,
   "metadata": {},
   "outputs": [
    {
     "name": "stdout",
     "output_type": "stream",
     "text": [
      "                            OLS Regression Results                            \n",
      "==============================================================================\n",
      "Dep. Variable:             np.log(wt)   R-squared:                       0.806\n",
      "Model:                            OLS   Adj. R-squared:                  0.799\n",
      "Method:                 Least Squares   F-statistic:                     124.4\n",
      "Date:                Thu, 15 Oct 2020   Prob (F-statistic):           3.41e-12\n",
      "Time:                        21:53:48   Log-Likelihood:                 18.024\n",
      "No. Observations:                  32   AIC:                            -32.05\n",
      "Df Residuals:                      30   BIC:                            -29.12\n",
      "Df Model:                           1                                         \n",
      "Covariance Type:            nonrobust                                         \n",
      "===============================================================================\n",
      "                  coef    std err          t      P>|t|      [0.025      0.975]\n",
      "-------------------------------------------------------------------------------\n",
      "Intercept       3.9522      0.255     15.495      0.000       3.431       4.473\n",
      "np.log(mpg)    -0.9570      0.086    -11.152      0.000      -1.132      -0.782\n",
      "==============================================================================\n",
      "Omnibus:                        1.199   Durbin-Watson:                   1.625\n",
      "Prob(Omnibus):                  0.549   Jarque-Bera (JB):                1.159\n",
      "Skew:                           0.349   Prob(JB):                        0.560\n",
      "Kurtosis:                       2.381   Cond. No.                         33.5\n",
      "==============================================================================\n",
      "\n",
      "Warnings:\n",
      "[1] Standard Errors assume that the covariance matrix of the errors is correctly specified.\n"
     ]
    }
   ],
   "source": [
    "import statsmodels.api as sm \n",
    "import statsmodels.formula.api as smf \n",
    "import numpy as np \n",
    "df = sm.datasets.get_rdataset(\"mtcars\").data\n",
    "\n",
    "\n",
    "model = smf.ols('np.log(wt) ~ np.log(mpg)',df)\n",
    "trainedModel = model.fit()\n",
    "\n",
    "print(trainedModel.summary())\n"
   ]
  },
  {
   "cell_type": "markdown",
   "metadata": {},
   "source": [
    "<hr/>\n",
    "\n",
    "\n",
    "## Logistic Regression \n",
    "\n",
    "- Logit : Logistic Regression \n",
    "- MNLogit : Multinomial Logistic Regression\n",
    "- Poisson : Poisson Regression\n",
    "\n",
    "\n",
    "h<sub>θ</sub>( x ) = g( θ<sup>T</sup> * x ) \n",
    "\n",
    "y = θ<sup>T</sup> \n",
    "\n",
    "g(x) = 1 / ( 1 + e<sup>-y</sup> )\n",
    "\n"
   ]
  },
  {
   "cell_type": "code",
   "execution_count": 9,
   "metadata": {},
   "outputs": [
    {
     "name": "stdout",
     "output_type": "stream",
     "text": [
      "Optimization terminated successfully.\n",
      "         Current function value: 0.102818\n",
      "         Iterations 10\n",
      "                           Logit Regression Results                           \n",
      "==============================================================================\n",
      "Dep. Variable:                Species   No. Observations:                  100\n",
      "Model:                          Logit   Df Residuals:                       97\n",
      "Method:                           MLE   Df Model:                            2\n",
      "Date:                Thu, 15 Oct 2020   Pseudo R-squ.:                  0.8517\n",
      "Time:                        21:53:53   Log-Likelihood:                -10.282\n",
      "converged:                       True   LL-Null:                       -69.315\n",
      "Covariance Type:            nonrobust   LLR p-value:                 2.303e-26\n",
      "================================================================================\n",
      "                   coef    std err          z      P>|z|      [0.025      0.975]\n",
      "--------------------------------------------------------------------------------\n",
      "Intercept       45.2723     13.612      3.326      0.001      18.594      71.951\n",
      "Petal_Length    -5.7545      2.306     -2.496      0.013     -10.274      -1.235\n",
      "Petal_Width    -10.4467      3.756     -2.782      0.005     -17.808      -3.086\n",
      "================================================================================\n",
      "\n",
      "Possibly complete quasi-separation: A fraction 0.34 of observations can be\n",
      "perfectly predicted. This might indicate that there is complete\n",
      "quasi-separation. In this case some parameters will not be identified.\n",
      "*---- Test data and Predictions ----*\n"
     ]
    },
    {
     "data": {
      "text/html": [
       "<div>\n",
       "<style scoped>\n",
       "    .dataframe tbody tr th:only-of-type {\n",
       "        vertical-align: middle;\n",
       "    }\n",
       "\n",
       "    .dataframe tbody tr th {\n",
       "        vertical-align: top;\n",
       "    }\n",
       "\n",
       "    .dataframe thead th {\n",
       "        text-align: right;\n",
       "    }\n",
       "</style>\n",
       "<table border=\"1\" class=\"dataframe\">\n",
       "  <thead>\n",
       "    <tr style=\"text-align: right;\">\n",
       "      <th></th>\n",
       "      <th>Petal_Length</th>\n",
       "      <th>Petal_Width</th>\n",
       "      <th>rawSpecies</th>\n",
       "      <th>Species</th>\n",
       "    </tr>\n",
       "  </thead>\n",
       "  <tbody>\n",
       "    <tr>\n",
       "      <th>0</th>\n",
       "      <td>6.437427</td>\n",
       "      <td>0.075640</td>\n",
       "      <td>0.999412</td>\n",
       "      <td>1</td>\n",
       "    </tr>\n",
       "    <tr>\n",
       "      <th>1</th>\n",
       "      <td>6.710820</td>\n",
       "      <td>1.414629</td>\n",
       "      <td>0.000296</td>\n",
       "      <td>0</td>\n",
       "    </tr>\n",
       "    <tr>\n",
       "      <th>2</th>\n",
       "      <td>5.009607</td>\n",
       "      <td>1.536436</td>\n",
       "      <td>0.597176</td>\n",
       "      <td>1</td>\n",
       "    </tr>\n",
       "    <tr>\n",
       "      <th>3</th>\n",
       "      <td>5.885385</td>\n",
       "      <td>1.335874</td>\n",
       "      <td>0.072375</td>\n",
       "      <td>0</td>\n",
       "    </tr>\n",
       "    <tr>\n",
       "      <th>4</th>\n",
       "      <td>6.339593</td>\n",
       "      <td>0.180516</td>\n",
       "      <td>0.998998</td>\n",
       "      <td>1</td>\n",
       "    </tr>\n",
       "  </tbody>\n",
       "</table>\n",
       "</div>"
      ],
      "text/plain": [
       "   Petal_Length  Petal_Width  rawSpecies  Species\n",
       "0      6.437427     0.075640    0.999412        1\n",
       "1      6.710820     1.414629    0.000296        0\n",
       "2      5.009607     1.536436    0.597176        1\n",
       "3      5.885385     1.335874    0.072375        0\n",
       "4      6.339593     0.180516    0.998998        1"
      ]
     },
     "execution_count": 9,
     "metadata": {},
     "output_type": "execute_result"
    }
   ],
   "source": [
    "import statsmodels.api as sm \n",
    "import statsmodels.formula.api as smf \n",
    "import numpy as np\n",
    "import pandas as pd \n",
    "\n",
    "\n",
    "df = sm.datasets.get_rdataset('iris').data \n",
    "\n",
    "## logistic regression takes only two variables as target \n",
    "dfSubset = df[(df['Species'] == \"versicolor\") | (df['Species'] == \"virginica\")].copy()\n",
    "\n",
    "\n",
    "## preprocessing \n",
    "## label endoding manually \n",
    "\n",
    "dfSubset[\"Species\"] = dfSubset['Species'].map({\n",
    "    \"versicolor\" : 1,\n",
    "    \"virginica\" : 0\n",
    "})\n",
    "\n",
    "dfSubset.columns = [column.replace(\".\",\"_\") for column in dfSubset.columns]\n",
    "\n",
    "## Creating a model \n",
    "model = smf.logit('Species ~ Petal_Length + Petal_Width ', data = dfSubset)\n",
    "trainedModel = model.fit()\n",
    "\n",
    "print(trainedModel.summary())\n",
    "\n",
    "\n",
    "\n",
    "## Make Predictions \n",
    "dfTest = pd.DataFrame({\n",
    "    \"Petal_Length\" : np.random.randn(20) * 0.7 + 6,\n",
    "    \"Petal_Width\" : np.random.randn(20) * 0.7 + 1\n",
    "})\n",
    "\n",
    "\n",
    "dfTest['rawSpecies'] = trainedModel.predict(dfTest)\n",
    "dfTest['Species'] = dfTest.rawSpecies.apply(lambda x: 1 if x>0.5 else 0)\n",
    "\n",
    "print(\"*---- Test data and Predictions ----*\")\n",
    "dfTest.head()"
   ]
  },
  {
   "cell_type": "markdown",
   "metadata": {},
   "source": [
    "## Poisson Regression Model \n",
    "\n",
    "- Poisson regression is a generalized linear model form of regression analysis used to model count data and contingency tables. Poisson regression assumes the response variable Y has a Poisson distribution, and assumes the logarithm of its expected value can be modeled by a linear combination of unknown parameters. A Poisson regression model is sometimes known as a log-linear model, especially when used to model contingency tables.\n",
    "- describes a process where dependent variable refers to success count of many attempts and each attempt has a very low probability of success.\n",
    "\n"
   ]
  },
  {
   "cell_type": "code",
   "execution_count": 10,
   "metadata": {},
   "outputs": [
    {
     "name": "stdout",
     "output_type": "stream",
     "text": [
      "Optimization terminated successfully.\n",
      "         Current function value: 0.913761\n",
      "         Iterations 6\n",
      "                          Poisson Regression Results                          \n",
      "==============================================================================\n",
      "Dep. Variable:             num_awards   No. Observations:                  200\n",
      "Model:                        Poisson   Df Residuals:                      196\n",
      "Method:                           MLE   Df Model:                            3\n",
      "Date:                Thu, 15 Oct 2020   Pseudo R-squ.:                  0.2118\n",
      "Time:                        21:53:55   Log-Likelihood:                -182.75\n",
      "converged:                       True   LL-Null:                       -231.86\n",
      "Covariance Type:            nonrobust   LLR p-value:                 3.747e-21\n",
      "================================================================================\n",
      "                   coef    std err          z      P>|z|      [0.025      0.975]\n",
      "--------------------------------------------------------------------------------\n",
      "Intercept       -5.2471      0.658     -7.969      0.000      -6.538      -3.957\n",
      "C(prog)[T.2]     1.0839      0.358      3.025      0.002       0.382       1.786\n",
      "C(prog)[T.3]     0.3698      0.441      0.838      0.402      -0.495       1.234\n",
      "math             0.0702      0.011      6.619      0.000       0.049       0.091\n",
      "================================================================================\n"
     ]
    }
   ],
   "source": [
    "import pandas as pd \n",
    "import statsmodels.api as sm \n",
    "import statsmodels.formula.api as smf \n",
    "\n",
    "\n",
    "df = pd.read_csv(\"https://stats.idre.ucla.edu/stat/data/poisson_sim.csv\")\n",
    "\n",
    "\n",
    "model = smf.poisson('num_awards ~ math + C(prog)',data = df)\n",
    "trainedModel = model.fit()\n",
    "\n",
    "\n",
    "print(trainedModel.summary())"
   ]
  }
 ],
 "metadata": {
  "kernelspec": {
   "display_name": "Python 3.8.3 64-bit ('anaconda3': conda)",
   "language": "python",
   "name": "python38364bitanaconda3conda5a21e7c9305747559a413d7622491a2e"
  },
  "language_info": {
   "codemirror_mode": {
    "name": "ipython",
    "version": 3
   },
   "file_extension": ".py",
   "mimetype": "text/x-python",
   "name": "python",
   "nbconvert_exporter": "python",
   "pygments_lexer": "ipython3",
   "version": "3.8.3"
  }
 },
 "nbformat": 4,
 "nbformat_minor": 4
}
