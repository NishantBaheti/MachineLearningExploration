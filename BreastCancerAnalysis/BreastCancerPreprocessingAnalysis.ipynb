{
 "cells": [
  {
   "cell_type": "code",
   "execution_count": null,
   "metadata": {},
   "outputs": [],
   "source": [
    "datasetUrl = 'https://archive.ics.uci.edu/ml/machine-learning-databases/breast-cancer-wisconsin/wdbc.data'\n",
    "\n",
    "headers = ['gender','mean radius', \n",
    "'mean texture', 'mean perimeter', \n",
    "'mean area', 'mean smoothness', \n",
    "'mean compactness', 'mean concavity',\n",
    "'mean concave points', 'mean symmetry',\n",
    "'mean fractal dimension','radius error',\n",
    "'texture error','perimeter error',\n",
    "'area error', 'smoothness error',\n",
    "'compactness error','concavity error',\n",
    "'concave points error','symmetry error',\n",
    "'fractal dimension error','worst radius',\n",
    "'worst texture', 'worst perimeter', \n",
    "'worst area','worst smoothness', \n",
    "'worst compactness', 'worst concavity',\n",
    "'worst concave points','worst symmetry',\n",
    "'worst fractal dimension']"
   ]
  },
  {
   "cell_type": "code",
   "execution_count": null,
   "metadata": {},
   "outputs": [],
   "source": [
    "import pandas as pd\n",
    "\n",
    "\n",
    "cancerDf = pd.read_csv(datasetUrl, header= None)\n",
    "cancerDf = cancerDf.loc[:,1:]\n",
    "cancerDf.columns = headers\n"
   ]
  },
  {
   "cell_type": "markdown",
   "metadata": {},
   "source": [
    "### Preprocessing is a step, in which raw data is modified or transformed into a format, suitable for further downstream processing.\n",
    "\n",
    "scikit-learn provides many preprocessing utilities such as,\n",
    "- Standardization mean removal\n",
    "- Scaling\n",
    "- Normalization\n",
    "- Binarization\n",
    "- One Hot Encoding\n",
    "- Label Encoding\n",
    "- Imputation\n",
    "\n"
   ]
  },
  {
   "cell_type": "code",
   "execution_count": null,
   "metadata": {
    "tags": []
   },
   "outputs": [],
   "source": [
    "import matplotlib.pyplot as plt \n",
    "import seaborn as sns \n",
    "plt.rcParams.update({\n",
    "    \"figure.figsize\" : (16,8),\n",
    "    \"axes.grid\" : True\n",
    "})\n",
    "\n",
    "plt.style.use('dark_background')"
   ]
  },
  {
   "cell_type": "code",
   "execution_count": null,
   "metadata": {
    "tags": []
   },
   "outputs": [],
   "source": [
    "for column in cancerDf.iloc[:,1:].columns:\n",
    "    plt.plot(cancerDf[column],label=column)\n",
    "plt.legend(loc=\"upper right\",bbox_to_anchor=(1.3,1.0))\n",
    "plt.show()\n"
   ]
  },
  {
   "cell_type": "code",
   "execution_count": null,
   "metadata": {},
   "outputs": [],
   "source": [
    "import sklearn.preprocessing as ppUtil\n",
    "import numpy as np"
   ]
  },
  {
   "cell_type": "code",
   "execution_count": null,
   "metadata": {},
   "outputs": [],
   "source": [
    "## Standard Scaler Operaton \n",
    "data = cancerDf.iloc[:,1:]\n",
    "scaledData = pd.DataFrame(ppUtil.StandardScaler().fit_transform(data) , columns=data.columns)\n",
    "# plt.plot(data)\n",
    "for column in scaledData.columns:    \n",
    "    plt.plot(scaledData[column],label=column)\n",
    "plt.legend(loc=\"upper right\",bbox_to_anchor=(1.3,1.0))\n",
    "plt.show()\n",
    "\n",
    "sns.distplot(scaledData)\n",
    "plt.show()"
   ]
  },
  {
   "cell_type": "code",
   "execution_count": null,
   "metadata": {},
   "outputs": [],
   "source": [
    "## Min Max Scaler Operaton \n",
    "data = cancerDf.iloc[:,1:]\n",
    "\n",
    "### default is (0,1) but can be changed\n",
    "### MinMaxScaler(feature_range=(0,10))\n",
    "\n",
    "scaledData = pd.DataFrame(ppUtil.MinMaxScaler().fit_transform(data) , columns=data.columns)\n",
    "# plt.plot(data)\n",
    "for column in scaledData.columns:    \n",
    "    plt.plot(scaledData[column],label=column)\n",
    "plt.legend(loc=\"upper right\",bbox_to_anchor=(1.3,1.0))\n",
    "plt.show()\n",
    "\n",
    "sns.distplot(scaledData)\n",
    "plt.show()"
   ]
  },
  {
   "cell_type": "code",
   "execution_count": null,
   "metadata": {},
   "outputs": [],
   "source": [
    "## Max Abs Scaler Operaton \n",
    "data = cancerDf.iloc[:,1:]\n",
    "\n",
    "scaledData = pd.DataFrame(ppUtil.MaxAbsScaler().fit_transform(data) , columns=data.columns)\n",
    "# plt.plot(data)\n",
    "for column in scaledData.columns:    \n",
    "    plt.plot(scaledData[column],label=column) \n",
    "plt.legend(loc=\"upper right\",bbox_to_anchor=(1.3,1.0))\n",
    "plt.show()\n",
    "\n",
    "sns.distplot(scaledData)\n",
    "plt.show()"
   ]
  },
  {
   "cell_type": "code",
   "execution_count": null,
   "metadata": {},
   "outputs": [],
   "source": [
    "## Normalizer Operaton l1\n",
    "data = cancerDf.iloc[:,1:]\n",
    "\n",
    "scaledData = pd.DataFrame(ppUtil.Normalizer(norm=\"l1\").fit_transform(data) , columns=data.columns)\n",
    "# plt.plot(data)l\n",
    "for column in scaledData.columns:    \n",
    "    plt.plot(scaledData[column],label=column) \n",
    "plt.legend(loc=\"upper right\",bbox_to_anchor=(1.3,1.0))\n",
    "plt.show()\n",
    "\n",
    "sns.distplot(scaledData)\n",
    "plt.show()"
   ]
  },
  {
   "cell_type": "code",
   "execution_count": null,
   "metadata": {},
   "outputs": [],
   "source": [
    "## Normalizer Operaton l2\n",
    "data = cancerDf.iloc[:,1:]\n",
    "\n",
    "scaledData = pd.DataFrame(ppUtil.Normalizer(norm=\"l2\").fit_transform(data) , columns=data.columns)\n",
    "# plt.plot(data)l\n",
    "for column in scaledData.columns:    \n",
    "    plt.plot(scaledData[column],label=column) \n",
    "plt.legend(loc=\"upper right\",bbox_to_anchor=(1.3,1.0))\n",
    "plt.show()\n",
    "\n",
    "sns.distplot(scaledData)\n",
    "plt.show()"
   ]
  },
  {
   "cell_type": "code",
   "execution_count": null,
   "metadata": {},
   "outputs": [],
   "source": [
    "## Normalizer Operaton max\n",
    "data = cancerDf.iloc[:,1:]\n",
    "\n",
    "scaledData = pd.DataFrame(ppUtil.Normalizer(norm=\"max\").fit_transform(data) , columns=data.columns)\n",
    "# plt.plot(data)l\n",
    "for column in scaledData.columns:    \n",
    "    plt.plot(scaledData[column],label=column) \n",
    "plt.legend(loc=\"upper right\",bbox_to_anchor=(1.3,1.0))\n",
    "plt.show()\n",
    "\n",
    "sns.distplot(scaledData)\n",
    "plt.show()"
   ]
  },
  {
   "cell_type": "code",
   "execution_count": null,
   "metadata": {
    "tags": []
   },
   "outputs": [],
   "source": [
    "### One Hot Encoding \n",
    "\n",
    "data = cancerDf['gender'].values.reshape(-1,1)\n",
    "oneHotEncodedData = ppUtil.OneHotEncoder().fit(data).transform(data).toarray()\n",
    "\n",
    "print(oneHotEncodedData)"
   ]
  },
  {
   "cell_type": "code",
   "execution_count": null,
   "metadata": {
    "tags": []
   },
   "outputs": [],
   "source": [
    "### Label Encoding \n",
    "data = cancerDf['gender'].values.reshape(-1,1)\n",
    "labelEncodedData = ppUtil.LabelEncoder().fit(data).transform(data).reshape(-1,1)\n",
    "print(data,labelEncodedData)"
   ]
  },
  {
   "cell_type": "code",
   "execution_count": null,
   "metadata": {
    "tags": []
   },
   "outputs": [],
   "source": [
    "### Imputation \n",
    "from sklearn.impute import SimpleImputer as simp \n",
    "\n",
    "imputer = simp(missing_values=np.nan, strategy='mean')\n",
    "imputedData = imputer.fit(cancerDf['mean radius'].values.reshape(-1,1)).transform(cancerDf['mean radius'].values.reshape(-1,1))\n",
    "\n"
   ]
  }
 ],
 "metadata": {
  "kernelspec": {
   "display_name": "Python 3",
   "language": "python",
   "name": "python3"
  },
  "language_info": {
   "codemirror_mode": {
    "name": "ipython",
    "version": 3
   },
   "file_extension": ".py",
   "mimetype": "text/x-python",
   "name": "python",
   "nbconvert_exporter": "python",
   "pygments_lexer": "ipython3",
   "version": "3.8.5-final"
  }
 },
 "nbformat": 4,
 "nbformat_minor": 4
}