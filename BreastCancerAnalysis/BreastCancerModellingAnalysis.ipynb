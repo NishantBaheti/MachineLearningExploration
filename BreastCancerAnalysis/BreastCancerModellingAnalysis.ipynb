{
 "metadata": {
  "language_info": {
   "codemirror_mode": {
    "name": "ipython",
    "version": 3
   },
   "file_extension": ".py",
   "mimetype": "text/x-python",
   "name": "python",
   "nbconvert_exporter": "python",
   "pygments_lexer": "ipython3",
   "version": "3.8.5-final"
  },
  "orig_nbformat": 2
 },
 "nbformat": 4,
 "nbformat_minor": 2,
 "cells": [
  {
   "cell_type": "code",
   "execution_count": 5,
   "metadata": {},
   "outputs": [],
   "source": [
    "import numpy as np \n",
    "import pandas as pd \n",
    "import matplotlib.pyplot as plt \n",
    "import seaborn as sns \n",
    "plt.rcParams.update({\n",
    "    \"figure.figsize\" : (16,8),\n",
    "    \"axes.grid\" : True\n",
    "})\n",
    "\n",
    "plt.style.use('dark_background')\n",
    "\n",
    "from sklearn.model_selection import train_test_split\n",
    "import sklearn.preprocessing as ppUtil\n"
   ]
  },
  {
   "cell_type": "code",
   "execution_count": 26,
   "metadata": {
    "tags": []
   },
   "outputs": [],
   "source": [
    "## prepare dataset\n",
    "\n",
    "from sklearn.datasets import load_breast_cancer\n",
    "\n",
    "dataset = load_breast_cancer()\n",
    "xDF = pd.DataFrame(dataset.data,columns=dataset.feature_names)\n",
    "yDF = pd.DataFrame(dataset.target,columns=['target'])\n",
    "\n",
    "xTrain,xTest,yTrain,yTest = train_test_split(xDF.values,yDF.values,random_state = 42)"
   ]
  },
  {
   "cell_type": "code",
   "execution_count": 32,
   "metadata": {
    "tags": []
   },
   "outputs": [
    {
     "output_type": "stream",
     "name": "stdout",
     "text": "Training Accuracy : 0.9342723004694836\nTesting Accuracy : 0.965034965034965\n&lt;ipython-input-32-4d5221d03aa5&gt;:6: DataConversionWarning: A column-vector y was passed when a 1d array was expected. Please change the shape of y to (n_samples, ), for example using ravel().\n  knnModel = knnClassifier.fit(xTrain,yTrain)\n"
    }
   ],
   "source": [
    "## Nearest Neighbors Algorithm\n",
    "from sklearn.neighbors import KNeighborsClassifier\n",
    "\n",
    "knnClassifier = KNeighborsClassifier()\n",
    "\n",
    "knnModel = knnClassifier.fit(xTrain,yTrain)\n",
    "\n",
    "print(f\"Training Accuracy : {knnModel.score(xTrain,yTrain)}\")\n",
    "print(f\"Testing Accuracy : {knnModel.score(xTest,yTest)}\")"
   ]
  },
  {
   "cell_type": "code",
   "execution_count": 49,
   "metadata": {
    "tags": []
   },
   "outputs": [
    {
     "output_type": "stream",
     "name": "stdout",
     "text": "Training Accuracy : 0.9460093896713615\nTesting Accuracy : 0.916083916083916\n"
    }
   ],
   "source": [
    "## Decision Tree\n",
    "from sklearn.tree import DecisionTreeClassifier\n",
    "\n",
    "## Fine Tuning to overcome overfitting --> max_depth = 2\n",
    "dtClassifier = DecisionTreeClassifier(max_depth = 2)\n",
    "\n",
    "dtModel = dtClassifier.fit(xTrain,yTrain)\n",
    "\n",
    "print(f\"Training Accuracy : {dtModel.score(xTrain,yTrain)}\")\n",
    "print(f\"Testing Accuracy : {dtModel.score(xTest,yTest)}\")"
   ]
  },
  {
   "cell_type": "code",
   "execution_count": null,
   "metadata": {},
   "outputs": [],
   "source": [
    "dtClassifier."
   ]
  },
  {
   "cell_type": "markdown",
   "metadata": {},
   "source": [
    "### Ensemble Methods\n",
    "\n",
    "Ensemble methods combine predictions of other learning algorithms, to improve the generalization.\n",
    "\n",
    "Ensemble methods are two types:\n",
    "\n",
    "- Averaging Methods: They build several base estimators independently and finally average their predictions.\n",
    "        E.g.: Bagging Methods, Forests of randomised trees\n",
    "- Boosting Methods: They build base estimators sequentially and try to reduce the bias of the combined estimator.\n",
    "        E.g.: Adaboost, Gradient Tree Boosting\n",
    "\n"
   ]
  },
  {
   "cell_type": "code",
   "execution_count": 59,
   "metadata": {
    "tags": []
   },
   "outputs": [
    {
     "output_type": "stream",
     "name": "stderr",
     "text": "&lt;ipython-input-59-a0c6ba420db7&gt;:5: DataConversionWarning: A column-vector y was passed when a 1d array was expected. Please change the shape of y to (n_samples,), for example using ravel().\n  rfModel = rfClassifier.fit(xTrain,yTrain)\nTraining Accuracy : 1.0\nTesting Accuracy : 0.972027972027972\n"
    }
   ],
   "source": [
    "from sklearn.ensemble import RandomForestClassifier \n",
    "\n",
    "rfClassifier = RandomForestClassifier()\n",
    "\n",
    "rfModel = rfClassifier.fit(xTrain,yTrain)\n",
    "\n",
    "print(f\"Training Accuracy : {rfModel.score(xTrain,yTrain)}\")\n",
    "print(f\"Testing Accuracy : {rfModel.score(xTest,yTest)}\")"
   ]
  }
 ]
}