{
 "cells": [
  {
   "cell_type": "markdown",
   "metadata": {},
   "source": [
    "# Decision Tree Algorithm"
   ]
  },
  {
   "cell_type": "code",
   "execution_count": 2,
   "metadata": {},
   "outputs": [],
   "source": [
    "import numpy as np \n",
    "import pandas as pd \n",
    "import matplotlib.pyplot as plt \n",
    "import seaborn as sns\n",
    "\n",
    "%matplotlib inline"
   ]
  },
  {
   "cell_type": "code",
   "execution_count": 142,
   "metadata": {},
   "outputs": [],
   "source": [
    "def gini_impurity(y: np.ndarray):\n",
    "    \"\"\"\n",
    "    \n",
    "    \"\"\"\n",
    "    if len(y.shape) == 1:\n",
    "        y = y.copy().reshape(-1,1)\n",
    "    \n",
    "    sum_val = 0\n",
    "    classes = np.unique(y)\n",
    "    for cl in classes:\n",
    "        p = len(np.where(y == cl)[0])/ y.shape[0]\n",
    "        sum_val += p**2    \n",
    "    gini_score = 1 - sum_val\n",
    "    return gini_score\n",
    "\n",
    "def entropy(y: np.ndarray):\n",
    "    \"\"\"\n",
    "    \n",
    "    \"\"\"\n",
    "    if len(y.shape) == 1:\n",
    "        y = y.copy().reshape(-1,1)\n",
    "    \n",
    "    entropy_score = 0\n",
    "    classes = np.unique(y)\n",
    "    for cl in classes:\n",
    "        p = len(np.where(y == cl)[0])/ y.shape[0]\n",
    "        entropy = -p * np.log2(p)\n",
    "        entropy_score += entropy\n",
    "        \n",
    "    return entropy_score"
   ]
  },
  {
   "cell_type": "code",
   "execution_count": 149,
   "metadata": {},
   "outputs": [
    {
     "name": "stdout",
     "output_type": "stream",
     "text": [
      "0.4970414201183432 0.4970414201183432\n",
      "0.9957274520849255 0.9957274520849255\n"
     ]
    }
   ],
   "source": [
    "x = np.array([0,0,0,0,0,0,0,1,1,1,1,1,1]).reshape(-1,1)\n",
    "\n",
    "print(gini_impurity(x),gini_impurity(x[:,0]))\n",
    "\n",
    "print(entropy(x),entropy(x[:,0]))"
   ]
  },
  {
   "cell_type": "code",
   "execution_count": null,
   "metadata": {},
   "outputs": [],
   "source": []
  }
 ],
 "metadata": {
  "kernelspec": {
   "display_name": "Python 3",
   "language": "python",
   "name": "python3"
  },
  "language_info": {
   "codemirror_mode": {
    "name": "ipython",
    "version": 3
   },
   "file_extension": ".py",
   "mimetype": "text/x-python",
   "name": "python",
   "nbconvert_exporter": "python",
   "pygments_lexer": "ipython3",
   "version": "3.8.3"
  }
 },
 "nbformat": 4,
 "nbformat_minor": 4
}
